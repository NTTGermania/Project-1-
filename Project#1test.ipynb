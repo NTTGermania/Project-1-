{
 "cells": [
  {
   "cell_type": "markdown",
   "id": "df38b574",
   "metadata": {},
   "source": [
    "# Project 1: Languages Spoken in the Homes of Minnesota Public School Students\n",
    "\n",
    "## Contributors: Sam Espe, Yameena Khan, Maryam Osman, Nhan Tran (Group 7)\n",
    "\n",
    "## Notebook 1: Data Cleaning and Exploration"
   ]
  },
  {
   "cell_type": "markdown",
   "id": "f337711d",
   "metadata": {},
   "source": [
    "### Import dependencies"
   ]
  },
  {
   "cell_type": "code",
   "execution_count": 1,
   "id": "08af48f9",
   "metadata": {},
   "outputs": [],
   "source": [
    "import pandas as pd \n",
    "import numpy as np\n",
    "import matplotlib.pyplot as plt"
   ]
  },
  {
   "cell_type": "markdown",
   "id": "d40efce8",
   "metadata": {},
   "source": [
    "### Read and clean data: read in CSVs, rename columns, drop unnecessary columns, split off yearly summary"
   ]
  },
  {
   "cell_type": "code",
   "execution_count": 2,
   "id": "a107e5f1",
   "metadata": {},
   "outputs": [],
   "source": [
    "primary_home_language_2007 = \"data/2006-2007 Primary Home Language Totals.csv\"\n",
    "primary_home_language_2007_df = pd.read_csv(primary_home_language_2007)\n",
    "primary_home_language_2007_rename_df = primary_home_language_2007_df.rename(columns = { \"dat_yer\" : \"School Year\", \"district\" : \"District Name\", \"language\" : \"Language Name\", \"homprm_lng\": \"Home Primary Language\", \"k12count\" : \"Student Count\" , \"county\" : \"County Name\", \"stratanum\" : \"Strata Number\", \"strata\" : \"Strata Name\"})\n",
    "primary_home_language_2007_summary_df  = primary_home_language_2007_rename_df.drop(columns = [\"sub_cde\",\"dst_num\",\"dst_tye\",\"d_county\",\"eco_dev\"])\n",
    "#primary_home_language_2007_summary_df"
   ]
  },
  {
   "cell_type": "code",
   "execution_count": null,
   "id": "d6843b11",
   "metadata": {},
   "outputs": [],
   "source": [
    "\n",
    "                                             "
   ]
  },
  {
   "cell_type": "code",
   "execution_count": 3,
   "id": "c29d4788",
   "metadata": {},
   "outputs": [],
   "source": [
    "primary_home_language_2007_final_df = primary_home_language_2007_summary_df[~primary_home_language_2007_summary_df[\"Strata Number\"].isna()]\n",
    "#primary_home_language_2007_final_df"
   ]
  },
  {
   "cell_type": "code",
   "execution_count": 4,
   "id": "6c38226d",
   "metadata": {},
   "outputs": [
    {
     "data": {
      "text/html": [
       "<div>\n",
       "<style scoped>\n",
       "    .dataframe tbody tr th:only-of-type {\n",
       "        vertical-align: middle;\n",
       "    }\n",
       "\n",
       "    .dataframe tbody tr th {\n",
       "        vertical-align: top;\n",
       "    }\n",
       "\n",
       "    .dataframe thead th {\n",
       "        text-align: right;\n",
       "    }\n",
       "</style>\n",
       "<table border=\"1\" class=\"dataframe\">\n",
       "  <thead>\n",
       "    <tr style=\"text-align: right;\">\n",
       "      <th></th>\n",
       "      <th>School Year</th>\n",
       "      <th>District Name</th>\n",
       "      <th>Language Name</th>\n",
       "      <th>Home Primary Language</th>\n",
       "      <th>Student Count</th>\n",
       "    </tr>\n",
       "  </thead>\n",
       "  <tbody>\n",
       "    <tr>\n",
       "      <th>0</th>\n",
       "      <td>06-07</td>\n",
       "      <td>Statewide Totals</td>\n",
       "      <td>ADANGME</td>\n",
       "      <td>83</td>\n",
       "      <td>121</td>\n",
       "    </tr>\n",
       "    <tr>\n",
       "      <th>1</th>\n",
       "      <td>06-07</td>\n",
       "      <td>Statewide Totals</td>\n",
       "      <td>AFGHAN</td>\n",
       "      <td>60</td>\n",
       "      <td>21</td>\n",
       "    </tr>\n",
       "    <tr>\n",
       "      <th>2</th>\n",
       "      <td>06-07</td>\n",
       "      <td>Statewide Totals</td>\n",
       "      <td>AFRIKAANS</td>\n",
       "      <td>1</td>\n",
       "      <td>525</td>\n",
       "    </tr>\n",
       "    <tr>\n",
       "      <th>3</th>\n",
       "      <td>06-07</td>\n",
       "      <td>Statewide Totals</td>\n",
       "      <td>ALBANIAN</td>\n",
       "      <td>72</td>\n",
       "      <td>42</td>\n",
       "    </tr>\n",
       "    <tr>\n",
       "      <th>4</th>\n",
       "      <td>06-07</td>\n",
       "      <td>Statewide Totals</td>\n",
       "      <td>AMERICAN INDIAN</td>\n",
       "      <td>6</td>\n",
       "      <td>27</td>\n",
       "    </tr>\n",
       "    <tr>\n",
       "      <th>...</th>\n",
       "      <td>...</td>\n",
       "      <td>...</td>\n",
       "      <td>...</td>\n",
       "      <td>...</td>\n",
       "      <td>...</td>\n",
       "    </tr>\n",
       "    <tr>\n",
       "      <th>92</th>\n",
       "      <td>06-07</td>\n",
       "      <td>Statewide Totals</td>\n",
       "      <td>UZBEK</td>\n",
       "      <td>96</td>\n",
       "      <td>2</td>\n",
       "    </tr>\n",
       "    <tr>\n",
       "      <th>93</th>\n",
       "      <td>06-07</td>\n",
       "      <td>Statewide Totals</td>\n",
       "      <td>VIETNAMESE</td>\n",
       "      <td>51</td>\n",
       "      <td>3215</td>\n",
       "    </tr>\n",
       "    <tr>\n",
       "      <th>94</th>\n",
       "      <td>06-07</td>\n",
       "      <td>Statewide Totals</td>\n",
       "      <td>WOLOF</td>\n",
       "      <td>94</td>\n",
       "      <td>9</td>\n",
       "    </tr>\n",
       "    <tr>\n",
       "      <th>95</th>\n",
       "      <td>06-07</td>\n",
       "      <td>Statewide Totals</td>\n",
       "      <td>YAO</td>\n",
       "      <td>61</td>\n",
       "      <td>3</td>\n",
       "    </tr>\n",
       "    <tr>\n",
       "      <th>96</th>\n",
       "      <td>06-07</td>\n",
       "      <td>Statewide Totals</td>\n",
       "      <td>YORUBA</td>\n",
       "      <td>75</td>\n",
       "      <td>257</td>\n",
       "    </tr>\n",
       "  </tbody>\n",
       "</table>\n",
       "<p>97 rows × 5 columns</p>\n",
       "</div>"
      ],
      "text/plain": [
       "   School Year     District Name    Language Name  Home Primary Language  \\\n",
       "0        06-07  Statewide Totals          ADANGME                     83   \n",
       "1        06-07  Statewide Totals           AFGHAN                     60   \n",
       "2        06-07  Statewide Totals        AFRIKAANS                      1   \n",
       "3        06-07  Statewide Totals         ALBANIAN                     72   \n",
       "4        06-07  Statewide Totals  AMERICAN INDIAN                      6   \n",
       "..         ...               ...              ...                    ...   \n",
       "92       06-07  Statewide Totals            UZBEK                     96   \n",
       "93       06-07  Statewide Totals       VIETNAMESE                     51   \n",
       "94       06-07  Statewide Totals            WOLOF                     94   \n",
       "95       06-07  Statewide Totals              YAO                     61   \n",
       "96       06-07  Statewide Totals           YORUBA                     75   \n",
       "\n",
       "    Student Count  \n",
       "0             121  \n",
       "1              21  \n",
       "2             525  \n",
       "3              42  \n",
       "4              27  \n",
       "..            ...  \n",
       "92              2  \n",
       "93           3215  \n",
       "94              9  \n",
       "95              3  \n",
       "96            257  \n",
       "\n",
       "[97 rows x 5 columns]"
      ]
     },
     "execution_count": 4,
     "metadata": {},
     "output_type": "execute_result"
    }
   ],
   "source": [
    "language_summary_2007_df = primary_home_language_2007_summary_df[primary_home_language_2007_summary_df[\"Strata Number\"].isna()]\n",
    "language_summary_2007_final_df = language_summary_2007_df.drop(columns = {\"County Name\", \"Strata Number\", \"Strata Name\"}).reset_index(drop = True).dropna()\n",
    "language_summary_2007_final_df"
   ]
  },
  {
   "cell_type": "code",
   "execution_count": 5,
   "id": "64d92389",
   "metadata": {},
   "outputs": [],
   "source": [
    "primary_home_language_2008 = \"data/2007-2008 Primary Home Language Totals.csv\"\n",
    "primary_home_language_2008_df = pd.read_csv(primary_home_language_2008)\n",
    "primary_home_language_2008_rename_df = primary_home_language_2008_df.rename(columns = { \"fiscalYear\" : \"School Year\", \"districtName\" : \"District Name\", \"languageName\" : \"Language Name\", \"homePrimaryLanguage\": \"Home Primary Language\", \"enrollments\" : \"Student Count\" , \"CountyName\" : \"County Name\", \"strata\" : \"Strata Number\", \"startaName\" : \"Strata Name\"})\n",
    "primary_home_language_2008_summary_df = primary_home_language_2008_rename_df.drop(columns = {\"districtNumber\", \"districtType\", \"eco_dev_rgn\", \"countyCode\"})"
   ]
  },
  {
   "cell_type": "code",
   "execution_count": 6,
   "id": "436c4e36",
   "metadata": {},
   "outputs": [],
   "source": [
    "primary_home_language_2008_final_df = primary_home_language_2008_summary_df[~primary_home_language_2008_summary_df[\"Strata Number\"].isna()]\n",
    "#primary_home_language_2008_final_df "
   ]
  },
  {
   "cell_type": "code",
   "execution_count": 7,
   "id": "399fdfbd",
   "metadata": {},
   "outputs": [
    {
     "data": {
      "text/html": [
       "<div>\n",
       "<style scoped>\n",
       "    .dataframe tbody tr th:only-of-type {\n",
       "        vertical-align: middle;\n",
       "    }\n",
       "\n",
       "    .dataframe tbody tr th {\n",
       "        vertical-align: top;\n",
       "    }\n",
       "\n",
       "    .dataframe thead th {\n",
       "        text-align: right;\n",
       "    }\n",
       "</style>\n",
       "<table border=\"1\" class=\"dataframe\">\n",
       "  <thead>\n",
       "    <tr style=\"text-align: right;\">\n",
       "      <th></th>\n",
       "      <th>School Year</th>\n",
       "      <th>District Name</th>\n",
       "      <th>Language Name</th>\n",
       "      <th>Home Primary Language</th>\n",
       "      <th>Student Count</th>\n",
       "    </tr>\n",
       "  </thead>\n",
       "  <tbody>\n",
       "    <tr>\n",
       "      <th>0</th>\n",
       "      <td>07-08</td>\n",
       "      <td>STATEWIDE</td>\n",
       "      <td>SWEDISH</td>\n",
       "      <td>46</td>\n",
       "      <td>80</td>\n",
       "    </tr>\n",
       "    <tr>\n",
       "      <th>1</th>\n",
       "      <td>07-08</td>\n",
       "      <td>STATEWIDE</td>\n",
       "      <td>ROMANIAN</td>\n",
       "      <td>39</td>\n",
       "      <td>140</td>\n",
       "    </tr>\n",
       "    <tr>\n",
       "      <th>2</th>\n",
       "      <td>07-08</td>\n",
       "      <td>STATEWIDE</td>\n",
       "      <td>ARABIC</td>\n",
       "      <td>2</td>\n",
       "      <td>1301</td>\n",
       "    </tr>\n",
       "    <tr>\n",
       "      <th>3</th>\n",
       "      <td>07-08</td>\n",
       "      <td>STATEWIDE</td>\n",
       "      <td>HAUSA</td>\n",
       "      <td>66</td>\n",
       "      <td>33</td>\n",
       "    </tr>\n",
       "    <tr>\n",
       "      <th>4</th>\n",
       "      <td>07-08</td>\n",
       "      <td>STATEWIDE</td>\n",
       "      <td>SLOVAK</td>\n",
       "      <td>43</td>\n",
       "      <td>25</td>\n",
       "    </tr>\n",
       "    <tr>\n",
       "      <th>...</th>\n",
       "      <td>...</td>\n",
       "      <td>...</td>\n",
       "      <td>...</td>\n",
       "      <td>...</td>\n",
       "      <td>...</td>\n",
       "    </tr>\n",
       "    <tr>\n",
       "      <th>86</th>\n",
       "      <td>07-08</td>\n",
       "      <td>STATEWIDE</td>\n",
       "      <td>RWANDA/SOTHO/ZULU</td>\n",
       "      <td>93</td>\n",
       "      <td>18</td>\n",
       "    </tr>\n",
       "    <tr>\n",
       "      <th>87</th>\n",
       "      <td>07-08</td>\n",
       "      <td>STATEWIDE</td>\n",
       "      <td>OROMO</td>\n",
       "      <td>74</td>\n",
       "      <td>950</td>\n",
       "    </tr>\n",
       "    <tr>\n",
       "      <th>88</th>\n",
       "      <td>07-08</td>\n",
       "      <td>STATEWIDE</td>\n",
       "      <td>BALINESE/JAVANESE/SUNDANESE</td>\n",
       "      <td>86</td>\n",
       "      <td>13</td>\n",
       "    </tr>\n",
       "    <tr>\n",
       "      <th>89</th>\n",
       "      <td>07-08</td>\n",
       "      <td>STATEWIDE</td>\n",
       "      <td>TIBETAN</td>\n",
       "      <td>73</td>\n",
       "      <td>159</td>\n",
       "    </tr>\n",
       "    <tr>\n",
       "      <th>90</th>\n",
       "      <td>07-08</td>\n",
       "      <td>STATEWIDE</td>\n",
       "      <td>CAMBODIAN</td>\n",
       "      <td>5</td>\n",
       "      <td>1628</td>\n",
       "    </tr>\n",
       "  </tbody>\n",
       "</table>\n",
       "<p>91 rows × 5 columns</p>\n",
       "</div>"
      ],
      "text/plain": [
       "   School Year                        District Name  \\\n",
       "0        07-08  STATEWIDE                             \n",
       "1        07-08  STATEWIDE                             \n",
       "2        07-08  STATEWIDE                             \n",
       "3        07-08  STATEWIDE                             \n",
       "4        07-08  STATEWIDE                             \n",
       "..         ...                                  ...   \n",
       "86       07-08  STATEWIDE                             \n",
       "87       07-08  STATEWIDE                             \n",
       "88       07-08  STATEWIDE                             \n",
       "89       07-08  STATEWIDE                             \n",
       "90       07-08  STATEWIDE                             \n",
       "\n",
       "                                        Language Name  Home Primary Language  \\\n",
       "0                      SWEDISH                                            46   \n",
       "1                      ROMANIAN                                           39   \n",
       "2                      ARABIC                                              2   \n",
       "3                      HAUSA                                              66   \n",
       "4                      SLOVAK                                             43   \n",
       "..                                                ...                    ...   \n",
       "86          RWANDA/SOTHO/ZULU                                             93   \n",
       "87                     OROMO                                              74   \n",
       "88  BALINESE/JAVANESE/SUNDANESE                                           86   \n",
       "89                     TIBETAN                                            73   \n",
       "90                     CAMBODIAN                                           5   \n",
       "\n",
       "    Student Count  \n",
       "0              80  \n",
       "1             140  \n",
       "2            1301  \n",
       "3              33  \n",
       "4              25  \n",
       "..            ...  \n",
       "86             18  \n",
       "87            950  \n",
       "88             13  \n",
       "89            159  \n",
       "90           1628  \n",
       "\n",
       "[91 rows x 5 columns]"
      ]
     },
     "execution_count": 7,
     "metadata": {},
     "output_type": "execute_result"
    }
   ],
   "source": [
    "language_summary_2008_df = primary_home_language_2008_summary_df[primary_home_language_2008_summary_df[\"Strata Number\"].isna()]\n",
    "language_summary_2008_final_df = language_summary_2008_df.drop(columns = {\"County Name\", \"Strata Number\", \"Strata Name\"}).reset_index(drop = True).dropna()\n",
    "language_summary_2008_final_df"
   ]
  },
  {
   "cell_type": "code",
   "execution_count": 8,
   "id": "5999d5e5",
   "metadata": {},
   "outputs": [],
   "source": [
    "primary_home_language_2009 = \"data/2008-2009 Primary Home Language Totals.csv\"\n",
    "primary_home_language_2009_df = pd.read_csv(primary_home_language_2009)\n",
    "primary_home_language_2009_rename_df = primary_home_language_2009_df.rename(columns = {\"fiscalYear\" : \"School Year\", \"districtName\" : \"District Name\", \"languageName\" : \"Language Name\",\"homePrimaryLanguage\": \"Home Primary Language\", \"enrollments\" : \"Student Count\" , \"county\" : \"County\", \"CountyName\": \"County Name\", \"startaName\" : \"Strata Name\", \"strata\" : \"Strata Number\"})\n",
    "primary_home_language_2009_summary_df = primary_home_language_2009_rename_df.drop(columns = {\"districtNumber\", \"districtType\", \"eco_dev_rgn\", \"countyCode\"})\n",
    "#primary_home_language_2009_summary_df"
   ]
  },
  {
   "cell_type": "code",
   "execution_count": 9,
   "id": "046370da",
   "metadata": {},
   "outputs": [],
   "source": [
    "primary_home_language_2009_final_df = primary_home_language_2009_summary_df[~primary_home_language_2009_summary_df['Strata Number'].isnull()]\n",
    "#primary_home_language_2009_final_df"
   ]
  },
  {
   "cell_type": "code",
   "execution_count": 10,
   "id": "eaa50822",
   "metadata": {},
   "outputs": [],
   "source": [
    "language_summary_2009_df = primary_home_language_2009_summary_df[primary_home_language_2009_summary_df[\"Strata Number\"].isna()]\n",
    "language_summary_2009_final_df = language_summary_2009_df.drop(columns = {\"County Name\", \"Strata Number\", \"Strata Name\"}).reset_index(drop = True).dropna()\n",
    "#language_summary_2009_final_df"
   ]
  },
  {
   "cell_type": "code",
   "execution_count": 11,
   "id": "59f64ed4",
   "metadata": {},
   "outputs": [],
   "source": [
    "primary_home_language_2010 = \"data/2009-2010 Primary Home Language Totals.csv\"\n",
    "primary_home_language_2010_df = pd.read_csv(primary_home_language_2010)\n",
    "primary_home_language_2010_rename_df = primary_home_language_2010_df.rename(columns = {\"fiscalYear\" : \"School Year\", \"districtName\" : \"District Name\", \"languageName\" : \"Language Name\",\"homePrimaryLanguage\": \"Home Primary Language\", \"enrollments\" : \"Student Count\" , \"CountyName\" : \"County Name\", \"startaName\" : \"Strata Name\", \"strata\" : \"Strata Number\"})\n",
    "primary_home_language_2010_summary_df = primary_home_language_2010_rename_df.drop(columns = {\"districtNumber\", \"districtType\", \"eco_dev_rgn\", \"countyCode\"})\n",
    "#primary_home_language_2010_summary_df"
   ]
  },
  {
   "cell_type": "code",
   "execution_count": 12,
   "id": "bb80aece",
   "metadata": {},
   "outputs": [],
   "source": [
    "primary_home_language_2010_final_df = primary_home_language_2010_summary_df[~primary_home_language_2010_summary_df[\"Strata Number\"].isna()]\n",
    "#primary_home_language_2010_final_df"
   ]
  },
  {
   "cell_type": "code",
   "execution_count": 13,
   "id": "44e416bb",
   "metadata": {},
   "outputs": [],
   "source": [
    "language_summary_2010_df = primary_home_language_2010_summary_df[primary_home_language_2010_summary_df[\"Strata Number\"].isna()]\n",
    "language_summary_2010_final_df = language_summary_2010_df.drop(columns = {\"County Name\", \"Strata Number\", \"Strata Name\"}).reset_index(drop = True).dropna()\n",
    "#language_summary_2010_final_df"
   ]
  },
  {
   "cell_type": "code",
   "execution_count": 14,
   "id": "d11d07af",
   "metadata": {},
   "outputs": [],
   "source": [
    "primary_home_language_2011 = \"data/2010_2011 Primary Home Language Totals.csv\"\n",
    "primary_home_language_2011_df = pd.read_csv(primary_home_language_2011)\n",
    "primary_home_language_2011_rename_df = primary_home_language_2011_df.rename(columns = {\"fiscalYear\" : \"School Year\", \"districtName\" : \"District Name\", \"languageName\" : \"Language Name\",\"homePrimaryLanguage\": \"Home Primary Language\", \"enrollments\" : \"Student Count\" , \"CountyName\": \"County Name\", \"strataName\" : \"Strata Name\", \"strata\" : \"Strata Number\"})\n",
    "primary_home_language_2011_summary_df = primary_home_language_2011_rename_df.drop(columns = {\"districtNumber\", \"districtType\", \"eco_dev_rgn\", \"countyCode\"})\n",
    "#primary_home_language_2011_summary_df"
   ]
  },
  {
   "cell_type": "code",
   "execution_count": 15,
   "id": "f8675c3c",
   "metadata": {},
   "outputs": [],
   "source": [
    "primary_home_language_2011_final_df = primary_home_language_2011_summary_df[~primary_home_language_2011_summary_df[\"Strata Number\"].isna()]\n",
    "#primary_home_language_2011_final_df"
   ]
  },
  {
   "cell_type": "code",
   "execution_count": 16,
   "id": "a93b30c7",
   "metadata": {},
   "outputs": [],
   "source": [
    "language_summary_2011_df = primary_home_language_2011_summary_df[primary_home_language_2011_summary_df[\"Strata Number\"].isna()]\n",
    "language_summary_2011_final_df = language_summary_2011_df.drop(columns = {\"County Name\", \"Strata Number\", \"Strata Name\"}).reset_index(drop = True).dropna()\n",
    "#language_summary_2011_final_df"
   ]
  },
  {
   "cell_type": "code",
   "execution_count": 17,
   "id": "5bd446d5",
   "metadata": {},
   "outputs": [],
   "source": [
    "primary_home_language_2012 = \"data/2011-2012 Primary Home Language Totals.csv\"\n",
    "primary_home_language_2012_df = pd.read_csv(primary_home_language_2012)\n",
    "primary_home_language_2012_rename_df = primary_home_language_2012_df.rename(columns = {\"fiscalYear\" : \"School Year\", \"districtName\" : \"District Name\", \"languageName\" : \"Language Name\",\"homePrimaryLanguage\": \"Home Primary Language\", \"enrollments\" : \"Student Count\" , \"CountyName\": \"County Name\", \"strataName\" : \"Strata Name\", \"strata\" : \"Strata Number\"})\n",
    "primary_home_language_2012_summary_df = primary_home_language_2012_rename_df.drop(columns = {\"districtNumber\", \"districtType\", \"eco_dev_rgn\", \"countyCode\"})\n",
    "#primary_home_language_2012_summary_df"
   ]
  },
  {
   "cell_type": "code",
   "execution_count": 18,
   "id": "5f6e11f9",
   "metadata": {},
   "outputs": [],
   "source": [
    "primary_home_language_2012_final_df = primary_home_language_2012_summary_df[~primary_home_language_2012_summary_df[\"Strata Number\"].isna()]\n",
    "#primary_home_language_2012_final_df"
   ]
  },
  {
   "cell_type": "code",
   "execution_count": 19,
   "id": "d72480d4",
   "metadata": {},
   "outputs": [],
   "source": [
    "language_summary_2012_df = primary_home_language_2012_summary_df[primary_home_language_2012_summary_df[\"Strata Number\"].isna()]\n",
    "language_summary_2012_final_df = language_summary_2012_df.drop(columns = {\"County Name\", \"Strata Number\", \"Strata Name\"}).reset_index(drop=True).dropna()\n",
    "#language_summary_2012_final_df"
   ]
  },
  {
   "cell_type": "code",
   "execution_count": 20,
   "id": "fc6614dd",
   "metadata": {
    "scrolled": false
   },
   "outputs": [],
   "source": [
    "primary_home_language_2013 = \"data/2012-13 Primary Home Language Totals.csv\"\n",
    "primary_home_language_2013_df = pd.read_csv(primary_home_language_2013)\n",
    "primary_home_language_2013_rename_df = primary_home_language_2013_df.rename(columns = {\"Fiscal Year\" : \"School Year\", \"Strata\" : \"Strata Number\", \"Enrollments\" : \"Student Count\"})\n",
    "primary_home_language_2013_summary_df =  primary_home_language_2013_rename_df.drop(columns  = {\"District Number\",\"District Type\", \"County Code\", \"Economic Development Region\"})\n",
    "#primary_home_language_2013_summary_df"
   ]
  },
  {
   "cell_type": "code",
   "execution_count": 21,
   "id": "23936749",
   "metadata": {},
   "outputs": [],
   "source": [
    "primary_home_language_2013_final_df = primary_home_language_2013_summary_df[~primary_home_language_2013_summary_df[\"Strata Number\"].isna()]\n",
    "#primary_home_language_2013_final_df"
   ]
  },
  {
   "cell_type": "code",
   "execution_count": 22,
   "id": "be92ec07",
   "metadata": {},
   "outputs": [],
   "source": [
    "language_summary_2013_df = primary_home_language_2013_summary_df[primary_home_language_2013_summary_df[\"Strata Number\"].isna()]\n",
    "language_summary_2013_final_df = language_summary_2013_df.drop(columns = {\"County Name\", \"Strata Number\", \"Strata Name\"}).reset_index(drop=True).dropna()\n",
    "#language_summary_2013_final_df"
   ]
  },
  {
   "cell_type": "code",
   "execution_count": 23,
   "id": "be0d7a6a",
   "metadata": {},
   "outputs": [],
   "source": [
    "primary_home_language_2014 = \"data/2013-2014 Primary Home Language Totals.csv\"\n",
    "primary_home_language_2014_df = pd.read_csv(primary_home_language_2014)\n",
    "primary_home_language_2014_rename_df = primary_home_language_2014_df.rename(columns = {\"fiscalYear\" : \"School Year\", \"districtName\" : \"District Name\", \"languageName\" : \"Language Name\", \"homePrimaryLanguage\" : \"Home Primary Language\", \"enrollments\" : \"Student Count\", \"Country Name\" : \"Country Name\", \"strata\" : \"Strata Number\", \"strataName\" : \"Strata Name\"})\n",
    "primary_home_language_2014_summary_df = primary_home_language_2014_rename_df.drop(columns = {\"submissionCode\", \"districtType\", \"districtNumber\", \"countyCode\", \"CountyName\", \"eco_dev_rgn\"})\n",
    "#primary_home_language_2014_summary_df"
   ]
  },
  {
   "cell_type": "code",
   "execution_count": 24,
   "id": "5c053f40",
   "metadata": {},
   "outputs": [],
   "source": [
    "primary_home_language_2014_final_df = primary_home_language_2014_summary_df[~primary_home_language_2014_summary_df[\"Strata Number\"].isna()]\n",
    "#primary_home_language_2014_final_df"
   ]
  },
  {
   "cell_type": "code",
   "execution_count": 25,
   "id": "48a1295f",
   "metadata": {},
   "outputs": [],
   "source": [
    "language_summary_2014_df = primary_home_language_2014_summary_df[primary_home_language_2014_summary_df[\"Strata Number\"].isna()]\n",
    "language_summary_2014_final_df = language_summary_2014_df.drop(columns = {\"Strata Number\", \"Strata Name\"}).reset_index(drop=True).dropna()\n",
    "#language_summary_2014_final_df"
   ]
  },
  {
   "cell_type": "code",
   "execution_count": 26,
   "id": "a9ae9856",
   "metadata": {},
   "outputs": [],
   "source": [
    "primary_home_language_2015 = \"data/2014-2015 Primary Home Language Totals.csv\"\n",
    "primary_home_language_2015_df = pd.read_csv(primary_home_language_2015)\n",
    "primary_home_language_2015_rename_df = primary_home_language_2015_df.rename(columns = {\"fiscalYear\" : \"School Year\", \"districtName\" : \"District Name\", \"languageName\" : \"Language Name\", \"homePrimaryLanguage\" : \"Home Primary Language\", \"enrollments\" : \"Student Count\", \"Country Name\" : \"Country Name\", \"strata\" : \"Strata Number\", \"strataName\" : \"Strata Name\"})\n",
    "primary_home_language_2015_summary_df = primary_home_language_2015_rename_df.drop(columns = {\"submissionCode\", \"districtType\", \"districtNumber\", \"countyCode\", \"CountyName\", \"eco_dev_rgn\"})\n",
    "#primary_home_language_2015_summary_df"
   ]
  },
  {
   "cell_type": "code",
   "execution_count": 27,
   "id": "19b712ed",
   "metadata": {},
   "outputs": [],
   "source": [
    "primary_home_language_2015_final_df = primary_home_language_2015_summary_df[~primary_home_language_2015_summary_df[\"Strata Number\"].isna()]\n",
    "#primary_home_language_2015_final_df"
   ]
  },
  {
   "cell_type": "code",
   "execution_count": 28,
   "id": "a6aa8260",
   "metadata": {},
   "outputs": [],
   "source": [
    "language_summary_2015_df = primary_home_language_2015_summary_df[primary_home_language_2015_summary_df[\"Strata Number\"].isna()]\n",
    "language_summary_2015_final_df = language_summary_2015_df.drop(columns = {\"Strata Number\", \"Strata Name\"}).reset_index(drop=True).dropna()\n",
    "#language_summary_2015_final_df"
   ]
  },
  {
   "cell_type": "code",
   "execution_count": 29,
   "id": "151865ec",
   "metadata": {},
   "outputs": [],
   "source": [
    "primary_home_language_2016 = \"data/2015-2016 Primary Home Language Totals.csv\"\n",
    "primary_home_language_2016_df = pd.read_csv(primary_home_language_2016)\n",
    "primary_home_language_2016_rename_df = primary_home_language_2016_df.rename(columns = {\"fiscalYear\" : \"School Year\", \"districtName\" : \"District Name\", \"languageName\" : \"Language Name\", \"homePrimaryLanguage\" : \"Home Primary Language\", \"enrollments\" : \"Student Count\", \"Country Name\" : \"Country Name\", \"strata\" : \"Strata Number\", \"strataName\" : \"Strata Name\"})\n",
    "primary_home_language_2016_summary_df = primary_home_language_2016_rename_df.drop(columns = {\"submissionCode\", \"districtType\", \"districtNumber\", \"countyCode\", \"CountyName\", \"eco_dev_rgn\"})\n",
    "#primary_home_language_2016_summary_df"
   ]
  },
  {
   "cell_type": "code",
   "execution_count": 30,
   "id": "cf3db49e",
   "metadata": {},
   "outputs": [],
   "source": [
    "primary_home_language_2016_final_df = primary_home_language_2016_summary_df[~primary_home_language_2016_summary_df[\"Strata Number\"].isna()]\n",
    "#primary_home_language_2016_final_df"
   ]
  },
  {
   "cell_type": "code",
   "execution_count": 31,
   "id": "9b19e0a4",
   "metadata": {},
   "outputs": [],
   "source": [
    "language_summary_2016_df = primary_home_language_2016_summary_df[primary_home_language_2016_summary_df[\"Strata Number\"].isna()]\n",
    "language_summary_2016_final_df = language_summary_2016_df.drop(columns = {\"Strata Number\", \"Strata Name\"}).reset_index(drop=True).dropna()\n",
    "#language_summary_2016_final_df"
   ]
  },
  {
   "cell_type": "code",
   "execution_count": 32,
   "id": "58560fcb",
   "metadata": {},
   "outputs": [],
   "source": [
    "primary_home_language_2017 = \"data/2016-2017 Primary Home Language Totals.csv\"\n",
    "primary_home_language_2017_df = pd.read_csv(primary_home_language_2017)\n",
    "primary_home_language_2017_rename_df = primary_home_language_2017_df.rename(columns = {\"fiscalYear\" : \"School Year\", \"districtName\" : \"District Name\", \"languageName\" : \"Language Name\", \"homePrimaryLanguage\" : \"Home Primary Language\", \"enrollments\" : \"Student Count\", \"Country Name\" : \"Country Name\", \"strata\" : \"Strata Number\", \"strataName\" : \"Strata Name\"})\n",
    "primary_home_language_2017_summary_df = primary_home_language_2017_rename_df.drop(columns = {\"submissionCode\", \"districtType\", \"districtNumber\", \"countyCode\", \"CountyName\", \"eco_dev_rgn\"})\n",
    "#primary_home_language_2017_summary_df"
   ]
  },
  {
   "cell_type": "code",
   "execution_count": 33,
   "id": "bc2dd394",
   "metadata": {},
   "outputs": [],
   "source": [
    "primary_home_language_2017_final_df = primary_home_language_2017_summary_df[~primary_home_language_2017_summary_df[\"Strata Number\"].isna()]\n",
    "#primary_home_language_2017_final_df"
   ]
  },
  {
   "cell_type": "code",
   "execution_count": 34,
   "id": "40762755",
   "metadata": {},
   "outputs": [],
   "source": [
    "language_summary_2017_df = primary_home_language_2017_summary_df[primary_home_language_2017_summary_df[\"Strata Number\"].isna()]\n",
    "language_summary_2017_final_df = language_summary_2017_df.drop(columns = {\"Strata Number\", \"Strata Name\"}).reset_index(drop=True).dropna()\n",
    "#language_summary_2017_final_df"
   ]
  },
  {
   "cell_type": "code",
   "execution_count": 35,
   "id": "09b68b30",
   "metadata": {},
   "outputs": [],
   "source": [
    "primary_home_language_2018 = \"data/2017-18 Primary Home Language Totals.csv\"\n",
    "primary_home_language_2018_df = pd.read_csv(primary_home_language_2018)\n",
    "primary_home_language_2018_rename_df = primary_home_language_2018_df.rename(columns = {\"Fiscal Year\" : \"School Year\", \"Strata\" : \"Strata Number\", \"Enrollments\" : \"Student Count\"})\n",
    "primary_home_language_2018_summary_df =  primary_home_language_2018_rename_df.drop(columns  = {\"Submission Code\", \"District Number\",\"District Type\", \"County Code\", \"Economic Development Region\"})\n",
    "#primary_home_language_2018_summary_df"
   ]
  },
  {
   "cell_type": "code",
   "execution_count": 36,
   "id": "b5ce29f4",
   "metadata": {},
   "outputs": [],
   "source": [
    "primary_home_language_2018_final_df = primary_home_language_2018_summary_df[~primary_home_language_2018_summary_df[\"Strata Number\"].isna()]\n",
    "#primary_home_language_2018_final_df"
   ]
  },
  {
   "cell_type": "code",
   "execution_count": 37,
   "id": "c913f7e3",
   "metadata": {},
   "outputs": [],
   "source": [
    "language_summary_2018_df = primary_home_language_2018_summary_df[primary_home_language_2018_summary_df[\"Strata Number\"].isna()]\n",
    "language_summary_2018_final_df = language_summary_2018_df.drop(columns = {\"County Name\", \"Strata Number\", \"Strata Name\"}).reset_index(drop=True).dropna()\n",
    "#language_summary_2018_final_df"
   ]
  },
  {
   "cell_type": "code",
   "execution_count": 38,
   "id": "6d35bfc9",
   "metadata": {},
   "outputs": [],
   "source": [
    "primary_home_language_2019 = \"data/2018-19 Primary Home Language Totals.csv\"\n",
    "primary_home_language_2019_df = pd.read_csv(primary_home_language_2019)\n",
    "primary_home_language_2019_rename_df = primary_home_language_2019_df.rename(columns = {\"fiscalYear\" : \"School Year\", \"districtName\" : \"District Name\", \"languageName\" : \"Language Name\", \"homePrimaryLanguage\" : \"Home Primary Language\", \"enrollments\" : \"Student Count\", \"Country Name\" : \"Country Name\", \"strata\" : \"Strata Number\", \"strataName\" : \"Strata Name\"})\n",
    "primary_home_language_2019_summary_df = primary_home_language_2019_rename_df.drop(columns = {\"submissionCode\", \"districtType\", \"districtNumber\", \"countyCode\", \"CountyName\", \"eco_dev_rgn\"})\n",
    "#primary_home_language_2019_summary_df"
   ]
  },
  {
   "cell_type": "code",
   "execution_count": 39,
   "id": "4deb5b83",
   "metadata": {},
   "outputs": [],
   "source": [
    "primary_home_language_2019_final_df = primary_home_language_2019_summary_df[~primary_home_language_2019_summary_df[\"Strata Number\"].isna()]\n",
    "#primary_home_language_2019_final_df"
   ]
  },
  {
   "cell_type": "code",
   "execution_count": 40,
   "id": "dda969ad",
   "metadata": {},
   "outputs": [],
   "source": [
    "language_summary_2019_df = primary_home_language_2019_summary_df[primary_home_language_2019_summary_df[\"Strata Number\"].isna()]\n",
    "language_summary_2019_final_df = language_summary_2019_df.drop(columns = {\"Strata Number\", \"Strata Name\"}).reset_index(drop=True).dropna()\n",
    "#language_summary_2019_final_df"
   ]
  },
  {
   "cell_type": "code",
   "execution_count": 41,
   "id": "b0538de5",
   "metadata": {},
   "outputs": [],
   "source": [
    "primary_home_language_2020 = \"data/2019-20 Primary Home Language Totals.csv\"\n",
    "primary_home_language_2020_df = pd.read_csv(primary_home_language_2020)\n",
    "primary_home_language_2020_rename_df = primary_home_language_2020_df.rename(columns = {\"Fiscal Year\" : \"School Year\", \"Strata\" : \"Strata Number\", \"Enrollments\" : \"Student Count\"})\n",
    "primary_home_language_2020_summary_df =  primary_home_language_2020_rename_df.drop(columns  = {\"Submission Code\", \"District Number\",\"District Type\", \"County Code\", \"Economic Development Region\"})\n",
    "#primary_home_language_2020_summary_df"
   ]
  },
  {
   "cell_type": "code",
   "execution_count": 42,
   "id": "f9adfce7",
   "metadata": {},
   "outputs": [],
   "source": [
    "primary_home_language_2020_final_df = primary_home_language_2020_summary_df[~primary_home_language_2020_summary_df[\"Strata Number\"].isna()]\n",
    "#primary_home_language_2020_final_df"
   ]
  },
  {
   "cell_type": "code",
   "execution_count": 43,
   "id": "8185c5a7",
   "metadata": {},
   "outputs": [],
   "source": [
    "language_summary_2020_df = primary_home_language_2020_summary_df[primary_home_language_2020_summary_df[\"Strata Number\"].isna()]\n",
    "language_summary_2020_final_df = language_summary_2020_df.drop(columns = {\"County Name\", \"Strata Number\", \"Strata Name\"}).reset_index(drop=True).dropna()\n",
    "#language_summary_2020_final_df"
   ]
  },
  {
   "cell_type": "code",
   "execution_count": 44,
   "id": "0f76bd2b",
   "metadata": {},
   "outputs": [],
   "source": [
    "primary_home_language_2021 = \"data/2020-21 Primary Home Language Totals.csv\"\n",
    "primary_home_language_2021_df = pd.read_csv(primary_home_language_2021)\n",
    "primary_home_language_2021_rename_df = primary_home_language_2021_df.rename(columns = {\"Fiscal Year\" : \"School Year\", \"Strata\" : \"Strata Number\", \"Enrollments\" : \"Student Count\"})\n",
    "primary_home_language_2021_summary_df =  primary_home_language_2021_rename_df.drop(columns  = {\"Submission Code\", \"District Number\",\"District Type\", \"County Code\", \"Economic Development Region\"})\n",
    "#primary_home_language_2021_summary_df"
   ]
  },
  {
   "cell_type": "code",
   "execution_count": 45,
   "id": "1c262916",
   "metadata": {},
   "outputs": [],
   "source": [
    "primary_home_language_2021_final_df = primary_home_language_2021_summary_df[~primary_home_language_2021_summary_df[\"Strata Number\"].isna()]\n",
    "#primary_home_language_2021_final_df"
   ]
  },
  {
   "cell_type": "code",
   "execution_count": 46,
   "id": "b1aea4d7",
   "metadata": {},
   "outputs": [],
   "source": [
    "language_summary_2021_df = primary_home_language_2021_summary_df[primary_home_language_2021_summary_df[\"Strata Number\"].isna()]\n",
    "language_summary_2021_final_df = language_summary_2021_df.drop(columns = {\"County Name\", \"Strata Number\", \"Strata Name\"}).reset_index(drop=True).dropna()\n",
    "#language_summary_2021_final_df"
   ]
  },
  {
   "cell_type": "code",
   "execution_count": 47,
   "id": "51f96cb4",
   "metadata": {},
   "outputs": [],
   "source": [
    "primary_home_language_2022 = \"data/2021-22 Primary Home Language Totals.csv\"\n",
    "primary_home_language_2022_df = pd.read_csv(primary_home_language_2022)\n",
    "primary_home_language_2022_rename_df = primary_home_language_2022_df.rename(columns = {\"Fiscal Year\" : \"School Year\", \"Strata\" : \"Strata Number\", \"Enrollments\" : \"Student Count\"})\n",
    "primary_home_language_2022_summary_df =  primary_home_language_2022_rename_df.drop(columns  = {\"Submission Code\", \"District Number\",\"District Type\", \"County Code\", \"Economic Development Region\"})\n",
    "#primary_home_language_2022_summary_df"
   ]
  },
  {
   "cell_type": "code",
   "execution_count": 48,
   "id": "62999628",
   "metadata": {},
   "outputs": [],
   "source": [
    "primary_home_language_2022_final_df = primary_home_language_2022_summary_df[~primary_home_language_2022_summary_df[\"Strata Number\"].isna()]\n",
    "#primary_home_language_2022_final_df"
   ]
  },
  {
   "cell_type": "code",
   "execution_count": 49,
   "id": "ec600097",
   "metadata": {},
   "outputs": [],
   "source": [
    "language_summary_2022_df = primary_home_language_2022_summary_df[primary_home_language_2022_summary_df[\"Strata Number\"].isna()]\n",
    "language_summary_2022_final_df = language_summary_2022_df.drop(columns = {\"County Name\", \"Strata Number\", \"Strata Name\"}).reset_index(drop=True).dropna()\n",
    "#language_summary_2022_final_df"
   ]
  },
  {
   "cell_type": "markdown",
   "id": "67ec8e12",
   "metadata": {},
   "source": [
    "### Merge yearly dataframes"
   ]
  },
  {
   "cell_type": "code",
   "execution_count": 50,
   "id": "f0b5e602",
   "metadata": {},
   "outputs": [
    {
     "data": {
      "text/html": [
       "<div>\n",
       "<style scoped>\n",
       "    .dataframe tbody tr th:only-of-type {\n",
       "        vertical-align: middle;\n",
       "    }\n",
       "\n",
       "    .dataframe tbody tr th {\n",
       "        vertical-align: top;\n",
       "    }\n",
       "\n",
       "    .dataframe thead th {\n",
       "        text-align: right;\n",
       "    }\n",
       "</style>\n",
       "<table border=\"1\" class=\"dataframe\">\n",
       "  <thead>\n",
       "    <tr style=\"text-align: right;\">\n",
       "      <th></th>\n",
       "      <th>School Year</th>\n",
       "      <th>District Name</th>\n",
       "      <th>Language Name</th>\n",
       "      <th>Home Primary Language</th>\n",
       "      <th>Student Count</th>\n",
       "      <th>County Name</th>\n",
       "      <th>Strata Number</th>\n",
       "      <th>Strata Name</th>\n",
       "    </tr>\n",
       "  </thead>\n",
       "  <tbody>\n",
       "    <tr>\n",
       "      <th>0</th>\n",
       "      <td>06-07</td>\n",
       "      <td>AITKIN PUBLIC SCHOOL DISTRICT</td>\n",
       "      <td>ENGLISH</td>\n",
       "      <td>11.0</td>\n",
       "      <td>1318.0</td>\n",
       "      <td>AITKIN</td>\n",
       "      <td>4.0</td>\n",
       "      <td>Outstate - Enrollment between 1000 and 1999</td>\n",
       "    </tr>\n",
       "    <tr>\n",
       "      <th>1</th>\n",
       "      <td>06-07</td>\n",
       "      <td>AITKIN PUBLIC SCHOOL DISTRICT</td>\n",
       "      <td>SPANISH</td>\n",
       "      <td>45.0</td>\n",
       "      <td>2.0</td>\n",
       "      <td>AITKIN</td>\n",
       "      <td>4.0</td>\n",
       "      <td>Outstate - Enrollment between 1000 and 1999</td>\n",
       "    </tr>\n",
       "    <tr>\n",
       "      <th>2</th>\n",
       "      <td>06-07</td>\n",
       "      <td>MINNEAPOLIS PUBLIC SCHOOL DIST.</td>\n",
       "      <td>AFGHAN</td>\n",
       "      <td>60.0</td>\n",
       "      <td>3.0</td>\n",
       "      <td>HENNEPIN</td>\n",
       "      <td>1.0</td>\n",
       "      <td>Minneapolis and Saint Paul</td>\n",
       "    </tr>\n",
       "    <tr>\n",
       "      <th>3</th>\n",
       "      <td>06-07</td>\n",
       "      <td>MINNEAPOLIS PUBLIC SCHOOL DIST.</td>\n",
       "      <td>AFRIKAANS</td>\n",
       "      <td>1.0</td>\n",
       "      <td>4.0</td>\n",
       "      <td>HENNEPIN</td>\n",
       "      <td>1.0</td>\n",
       "      <td>Minneapolis and Saint Paul</td>\n",
       "    </tr>\n",
       "    <tr>\n",
       "      <th>4</th>\n",
       "      <td>06-07</td>\n",
       "      <td>MINNEAPOLIS PUBLIC SCHOOL DIST.</td>\n",
       "      <td>AMERICAN INDIAN</td>\n",
       "      <td>6.0</td>\n",
       "      <td>1.0</td>\n",
       "      <td>HENNEPIN</td>\n",
       "      <td>1.0</td>\n",
       "      <td>Minneapolis and Saint Paul</td>\n",
       "    </tr>\n",
       "    <tr>\n",
       "      <th>...</th>\n",
       "      <td>...</td>\n",
       "      <td>...</td>\n",
       "      <td>...</td>\n",
       "      <td>...</td>\n",
       "      <td>...</td>\n",
       "      <td>...</td>\n",
       "      <td>...</td>\n",
       "      <td>...</td>\n",
       "    </tr>\n",
       "    <tr>\n",
       "      <th>72563</th>\n",
       "      <td>21-22</td>\n",
       "      <td>Austin Albert Lea Area Special Educ</td>\n",
       "      <td>Karen</td>\n",
       "      <td>129.0</td>\n",
       "      <td>1.0</td>\n",
       "      <td>Mower</td>\n",
       "      <td>6.0</td>\n",
       "      <td>Outstate - Enrollment less than 500</td>\n",
       "    </tr>\n",
       "    <tr>\n",
       "      <th>72564</th>\n",
       "      <td>21-22</td>\n",
       "      <td>Northern Lights Academy Cooperative</td>\n",
       "      <td>English</td>\n",
       "      <td>11.0</td>\n",
       "      <td>27.0</td>\n",
       "      <td>Carlton</td>\n",
       "      <td>6.0</td>\n",
       "      <td>Outstate - Enrollment less than 500</td>\n",
       "    </tr>\n",
       "    <tr>\n",
       "      <th>72565</th>\n",
       "      <td>21-22</td>\n",
       "      <td>Up North Learning Center</td>\n",
       "      <td>English</td>\n",
       "      <td>11.0</td>\n",
       "      <td>5.0</td>\n",
       "      <td>Cass</td>\n",
       "      <td>6.0</td>\n",
       "      <td>Outstate - Enrollment less than 500</td>\n",
       "    </tr>\n",
       "    <tr>\n",
       "      <th>72566</th>\n",
       "      <td>21-22</td>\n",
       "      <td>Benton-Stearns Education District</td>\n",
       "      <td>English</td>\n",
       "      <td>11.0</td>\n",
       "      <td>58.0</td>\n",
       "      <td>Stearns</td>\n",
       "      <td>6.0</td>\n",
       "      <td>Outstate - Enrollment less than 500</td>\n",
       "    </tr>\n",
       "    <tr>\n",
       "      <th>72567</th>\n",
       "      <td>21-22</td>\n",
       "      <td>MID STATE EDUCATION DISTRICT</td>\n",
       "      <td>English</td>\n",
       "      <td>11.0</td>\n",
       "      <td>40.0</td>\n",
       "      <td>Morrison</td>\n",
       "      <td>6.0</td>\n",
       "      <td>Outstate - Enrollment less than 500</td>\n",
       "    </tr>\n",
       "  </tbody>\n",
       "</table>\n",
       "<p>72568 rows × 8 columns</p>\n",
       "</div>"
      ],
      "text/plain": [
       "      School Year                        District Name    Language Name  \\\n",
       "0           06-07        AITKIN PUBLIC SCHOOL DISTRICT          ENGLISH   \n",
       "1           06-07        AITKIN PUBLIC SCHOOL DISTRICT          SPANISH   \n",
       "2           06-07      MINNEAPOLIS PUBLIC SCHOOL DIST.           AFGHAN   \n",
       "3           06-07      MINNEAPOLIS PUBLIC SCHOOL DIST.        AFRIKAANS   \n",
       "4           06-07      MINNEAPOLIS PUBLIC SCHOOL DIST.  AMERICAN INDIAN   \n",
       "...           ...                                  ...              ...   \n",
       "72563       21-22  Austin Albert Lea Area Special Educ           Karen    \n",
       "72564       21-22  Northern Lights Academy Cooperative          English   \n",
       "72565       21-22             Up North Learning Center          English   \n",
       "72566       21-22    Benton-Stearns Education District          English   \n",
       "72567       21-22         MID STATE EDUCATION DISTRICT          English   \n",
       "\n",
       "       Home Primary Language  Student Count  \\\n",
       "0                       11.0         1318.0   \n",
       "1                       45.0            2.0   \n",
       "2                       60.0            3.0   \n",
       "3                        1.0            4.0   \n",
       "4                        6.0            1.0   \n",
       "...                      ...            ...   \n",
       "72563                  129.0            1.0   \n",
       "72564                   11.0           27.0   \n",
       "72565                   11.0            5.0   \n",
       "72566                   11.0           58.0   \n",
       "72567                   11.0           40.0   \n",
       "\n",
       "                                         County Name  Strata Number  \\\n",
       "0                                             AITKIN            4.0   \n",
       "1                                             AITKIN            4.0   \n",
       "2                                           HENNEPIN            1.0   \n",
       "3                                           HENNEPIN            1.0   \n",
       "4                                           HENNEPIN            1.0   \n",
       "...                                              ...            ...   \n",
       "72563  Mower                                                    6.0   \n",
       "72564  Carlton                                                  6.0   \n",
       "72565  Cass                                                     6.0   \n",
       "72566  Stearns                                                  6.0   \n",
       "72567  Morrison                                                 6.0   \n",
       "\n",
       "                                       Strata Name  \n",
       "0      Outstate - Enrollment between 1000 and 1999  \n",
       "1      Outstate - Enrollment between 1000 and 1999  \n",
       "2                       Minneapolis and Saint Paul  \n",
       "3                       Minneapolis and Saint Paul  \n",
       "4                       Minneapolis and Saint Paul  \n",
       "...                                            ...  \n",
       "72563          Outstate - Enrollment less than 500  \n",
       "72564          Outstate - Enrollment less than 500  \n",
       "72565          Outstate - Enrollment less than 500  \n",
       "72566          Outstate - Enrollment less than 500  \n",
       "72567          Outstate - Enrollment less than 500  \n",
       "\n",
       "[72568 rows x 8 columns]"
      ]
     },
     "execution_count": 50,
     "metadata": {},
     "output_type": "execute_result"
    }
   ],
   "source": [
    "complete_primary_home_language = pd.concat([primary_home_language_2007_final_df, primary_home_language_2008_final_df, primary_home_language_2009_final_df, primary_home_language_2010_final_df, primary_home_language_2011_final_df, primary_home_language_2012_final_df, primary_home_language_2013_final_df, primary_home_language_2014_final_df, primary_home_language_2015_final_df, primary_home_language_2016_final_df, primary_home_language_2017_final_df, primary_home_language_2018_final_df, primary_home_language_2019_final_df, primary_home_language_2020_final_df, primary_home_language_2021_final_df, primary_home_language_2022_final_df]).reset_index(drop = True)\n",
    "\n",
    "complete_primary_home_language\n",
    "\n"
   ]
  },
  {
   "cell_type": "markdown",
   "id": "75cf8642",
   "metadata": {},
   "source": [
    "### Merge summary dataframes"
   ]
  },
  {
   "cell_type": "code",
   "execution_count": 51,
   "id": "d0243c83",
   "metadata": {},
   "outputs": [
    {
     "data": {
      "text/html": [
       "<div>\n",
       "<style scoped>\n",
       "    .dataframe tbody tr th:only-of-type {\n",
       "        vertical-align: middle;\n",
       "    }\n",
       "\n",
       "    .dataframe tbody tr th {\n",
       "        vertical-align: top;\n",
       "    }\n",
       "\n",
       "    .dataframe thead th {\n",
       "        text-align: right;\n",
       "    }\n",
       "</style>\n",
       "<table border=\"1\" class=\"dataframe\">\n",
       "  <thead>\n",
       "    <tr style=\"text-align: right;\">\n",
       "      <th></th>\n",
       "      <th>School Year</th>\n",
       "      <th>District Name</th>\n",
       "      <th>Language Name</th>\n",
       "      <th>Home Primary Language</th>\n",
       "      <th>Student Count</th>\n",
       "    </tr>\n",
       "  </thead>\n",
       "  <tbody>\n",
       "    <tr>\n",
       "      <th>0</th>\n",
       "      <td>06-07</td>\n",
       "      <td>Statewide Totals</td>\n",
       "      <td>ADANGME</td>\n",
       "      <td>83.0</td>\n",
       "      <td>121.0</td>\n",
       "    </tr>\n",
       "    <tr>\n",
       "      <th>1</th>\n",
       "      <td>06-07</td>\n",
       "      <td>Statewide Totals</td>\n",
       "      <td>AFGHAN</td>\n",
       "      <td>60.0</td>\n",
       "      <td>21.0</td>\n",
       "    </tr>\n",
       "    <tr>\n",
       "      <th>2</th>\n",
       "      <td>06-07</td>\n",
       "      <td>Statewide Totals</td>\n",
       "      <td>AFRIKAANS</td>\n",
       "      <td>1.0</td>\n",
       "      <td>525.0</td>\n",
       "    </tr>\n",
       "    <tr>\n",
       "      <th>3</th>\n",
       "      <td>06-07</td>\n",
       "      <td>Statewide Totals</td>\n",
       "      <td>ALBANIAN</td>\n",
       "      <td>72.0</td>\n",
       "      <td>42.0</td>\n",
       "    </tr>\n",
       "    <tr>\n",
       "      <th>4</th>\n",
       "      <td>06-07</td>\n",
       "      <td>Statewide Totals</td>\n",
       "      <td>AMERICAN INDIAN</td>\n",
       "      <td>6.0</td>\n",
       "      <td>27.0</td>\n",
       "    </tr>\n",
       "    <tr>\n",
       "      <th>...</th>\n",
       "      <td>...</td>\n",
       "      <td>...</td>\n",
       "      <td>...</td>\n",
       "      <td>...</td>\n",
       "      <td>...</td>\n",
       "    </tr>\n",
       "    <tr>\n",
       "      <th>3475</th>\n",
       "      <td>21-22</td>\n",
       "      <td>STATEWIDE</td>\n",
       "      <td>Apache</td>\n",
       "      <td>436.0</td>\n",
       "      <td>2.0</td>\n",
       "    </tr>\n",
       "    <tr>\n",
       "      <th>3476</th>\n",
       "      <td>21-22</td>\n",
       "      <td>STATEWIDE</td>\n",
       "      <td>Jakalteko</td>\n",
       "      <td>442.0</td>\n",
       "      <td>2.0</td>\n",
       "    </tr>\n",
       "    <tr>\n",
       "      <th>3477</th>\n",
       "      <td>21-22</td>\n",
       "      <td>STATEWIDE</td>\n",
       "      <td>Dagari</td>\n",
       "      <td>443.0</td>\n",
       "      <td>1.0</td>\n",
       "    </tr>\n",
       "    <tr>\n",
       "      <th>3478</th>\n",
       "      <td>21-22</td>\n",
       "      <td>STATEWIDE</td>\n",
       "      <td>Chukeese</td>\n",
       "      <td>444.0</td>\n",
       "      <td>1.0</td>\n",
       "    </tr>\n",
       "    <tr>\n",
       "      <th>3479</th>\n",
       "      <td>21-22</td>\n",
       "      <td>STATEWIDE</td>\n",
       "      <td>Eleme</td>\n",
       "      <td>447.0</td>\n",
       "      <td>1.0</td>\n",
       "    </tr>\n",
       "  </tbody>\n",
       "</table>\n",
       "<p>3480 rows × 5 columns</p>\n",
       "</div>"
      ],
      "text/plain": [
       "     School Year     District Name    Language Name  Home Primary Language  \\\n",
       "0          06-07  Statewide Totals          ADANGME                   83.0   \n",
       "1          06-07  Statewide Totals           AFGHAN                   60.0   \n",
       "2          06-07  Statewide Totals        AFRIKAANS                    1.0   \n",
       "3          06-07  Statewide Totals         ALBANIAN                   72.0   \n",
       "4          06-07  Statewide Totals  AMERICAN INDIAN                    6.0   \n",
       "...          ...               ...              ...                    ...   \n",
       "3475       21-22         STATEWIDE           Apache                  436.0   \n",
       "3476       21-22         STATEWIDE        Jakalteko                  442.0   \n",
       "3477       21-22         STATEWIDE           Dagari                  443.0   \n",
       "3478       21-22         STATEWIDE         Chukeese                  444.0   \n",
       "3479       21-22         STATEWIDE            Eleme                  447.0   \n",
       "\n",
       "      Student Count  \n",
       "0             121.0  \n",
       "1              21.0  \n",
       "2             525.0  \n",
       "3              42.0  \n",
       "4              27.0  \n",
       "...             ...  \n",
       "3475            2.0  \n",
       "3476            2.0  \n",
       "3477            1.0  \n",
       "3478            1.0  \n",
       "3479            1.0  \n",
       "\n",
       "[3480 rows x 5 columns]"
      ]
     },
     "execution_count": 51,
     "metadata": {},
     "output_type": "execute_result"
    }
   ],
   "source": [
    "complete_language_summary = pd.concat([language_summary_2007_final_df, language_summary_2008_final_df, language_summary_2009_final_df, language_summary_2010_final_df, language_summary_2011_final_df, language_summary_2012_final_df, language_summary_2013_final_df, language_summary_2014_final_df, language_summary_2015_final_df, language_summary_2016_final_df, language_summary_2017_final_df, language_summary_2018_final_df, language_summary_2019_final_df, language_summary_2020_final_df, language_summary_2021_final_df, language_summary_2022_final_df]).reset_index(drop = True)\n",
    "\n",
    "complete_language_summary"
   ]
  },
  {
   "cell_type": "markdown",
   "id": "076ae7ab",
   "metadata": {},
   "source": [
    "## Data Reduction and Analysis"
   ]
  },
  {
   "cell_type": "markdown",
   "id": "32fb8020",
   "metadata": {},
   "source": [
    "# *Yameena's Code Starts Here!*"
   ]
  },
  {
   "cell_type": "markdown",
   "id": "7faa00c0",
   "metadata": {},
   "source": [
    "### Unique Languages by Year"
   ]
  },
  {
   "cell_type": "code",
   "execution_count": 52,
   "id": "3d67e020",
   "metadata": {},
   "outputs": [
    {
     "data": {
      "text/plain": [
       "605"
      ]
     },
     "execution_count": 52,
     "metadata": {},
     "output_type": "execute_result"
    }
   ],
   "source": [
    "Unique_Languages = complete_primary_home_language[\"Language Name\"].nunique()\n",
    "Unique_Languages"
   ]
  },
  {
   "cell_type": "code",
   "execution_count": 53,
   "id": "91b9c434",
   "metadata": {},
   "outputs": [
    {
     "data": {
      "text/html": [
       "<div>\n",
       "<style scoped>\n",
       "    .dataframe tbody tr th:only-of-type {\n",
       "        vertical-align: middle;\n",
       "    }\n",
       "\n",
       "    .dataframe tbody tr th {\n",
       "        vertical-align: top;\n",
       "    }\n",
       "\n",
       "    .dataframe thead th {\n",
       "        text-align: right;\n",
       "    }\n",
       "</style>\n",
       "<table border=\"1\" class=\"dataframe\">\n",
       "  <thead>\n",
       "    <tr style=\"text-align: right;\">\n",
       "      <th></th>\n",
       "      <th>School Year</th>\n",
       "      <th>District Name</th>\n",
       "      <th>Language Name</th>\n",
       "      <th>Home Primary Language</th>\n",
       "      <th>Student Count</th>\n",
       "      <th>County Name</th>\n",
       "      <th>Strata Number</th>\n",
       "      <th>Strata Name</th>\n",
       "    </tr>\n",
       "  </thead>\n",
       "  <tbody>\n",
       "    <tr>\n",
       "      <th>0</th>\n",
       "      <td>06-07</td>\n",
       "      <td>AITKIN PUBLIC SCHOOL DISTRICT</td>\n",
       "      <td>ENGLISH</td>\n",
       "      <td>11.0</td>\n",
       "      <td>1318.0</td>\n",
       "      <td>AITKIN</td>\n",
       "      <td>4.0</td>\n",
       "      <td>Outstate - Enrollment between 1000 and 1999</td>\n",
       "    </tr>\n",
       "    <tr>\n",
       "      <th>1</th>\n",
       "      <td>06-07</td>\n",
       "      <td>AITKIN PUBLIC SCHOOL DISTRICT</td>\n",
       "      <td>SPANISH</td>\n",
       "      <td>45.0</td>\n",
       "      <td>2.0</td>\n",
       "      <td>AITKIN</td>\n",
       "      <td>4.0</td>\n",
       "      <td>Outstate - Enrollment between 1000 and 1999</td>\n",
       "    </tr>\n",
       "    <tr>\n",
       "      <th>2</th>\n",
       "      <td>06-07</td>\n",
       "      <td>MINNEAPOLIS PUBLIC SCHOOL DIST.</td>\n",
       "      <td>AFGHAN</td>\n",
       "      <td>60.0</td>\n",
       "      <td>3.0</td>\n",
       "      <td>HENNEPIN</td>\n",
       "      <td>1.0</td>\n",
       "      <td>Minneapolis and Saint Paul</td>\n",
       "    </tr>\n",
       "    <tr>\n",
       "      <th>3</th>\n",
       "      <td>06-07</td>\n",
       "      <td>MINNEAPOLIS PUBLIC SCHOOL DIST.</td>\n",
       "      <td>AFRIKAANS</td>\n",
       "      <td>1.0</td>\n",
       "      <td>4.0</td>\n",
       "      <td>HENNEPIN</td>\n",
       "      <td>1.0</td>\n",
       "      <td>Minneapolis and Saint Paul</td>\n",
       "    </tr>\n",
       "    <tr>\n",
       "      <th>4</th>\n",
       "      <td>06-07</td>\n",
       "      <td>MINNEAPOLIS PUBLIC SCHOOL DIST.</td>\n",
       "      <td>AMERICAN INDIAN</td>\n",
       "      <td>6.0</td>\n",
       "      <td>1.0</td>\n",
       "      <td>HENNEPIN</td>\n",
       "      <td>1.0</td>\n",
       "      <td>Minneapolis and Saint Paul</td>\n",
       "    </tr>\n",
       "    <tr>\n",
       "      <th>...</th>\n",
       "      <td>...</td>\n",
       "      <td>...</td>\n",
       "      <td>...</td>\n",
       "      <td>...</td>\n",
       "      <td>...</td>\n",
       "      <td>...</td>\n",
       "      <td>...</td>\n",
       "      <td>...</td>\n",
       "    </tr>\n",
       "    <tr>\n",
       "      <th>72563</th>\n",
       "      <td>21-22</td>\n",
       "      <td>Austin Albert Lea Area Special Educ</td>\n",
       "      <td>KAREN</td>\n",
       "      <td>129.0</td>\n",
       "      <td>1.0</td>\n",
       "      <td>Mower</td>\n",
       "      <td>6.0</td>\n",
       "      <td>Outstate - Enrollment less than 500</td>\n",
       "    </tr>\n",
       "    <tr>\n",
       "      <th>72564</th>\n",
       "      <td>21-22</td>\n",
       "      <td>Northern Lights Academy Cooperative</td>\n",
       "      <td>ENGLISH</td>\n",
       "      <td>11.0</td>\n",
       "      <td>27.0</td>\n",
       "      <td>Carlton</td>\n",
       "      <td>6.0</td>\n",
       "      <td>Outstate - Enrollment less than 500</td>\n",
       "    </tr>\n",
       "    <tr>\n",
       "      <th>72565</th>\n",
       "      <td>21-22</td>\n",
       "      <td>Up North Learning Center</td>\n",
       "      <td>ENGLISH</td>\n",
       "      <td>11.0</td>\n",
       "      <td>5.0</td>\n",
       "      <td>Cass</td>\n",
       "      <td>6.0</td>\n",
       "      <td>Outstate - Enrollment less than 500</td>\n",
       "    </tr>\n",
       "    <tr>\n",
       "      <th>72566</th>\n",
       "      <td>21-22</td>\n",
       "      <td>Benton-Stearns Education District</td>\n",
       "      <td>ENGLISH</td>\n",
       "      <td>11.0</td>\n",
       "      <td>58.0</td>\n",
       "      <td>Stearns</td>\n",
       "      <td>6.0</td>\n",
       "      <td>Outstate - Enrollment less than 500</td>\n",
       "    </tr>\n",
       "    <tr>\n",
       "      <th>72567</th>\n",
       "      <td>21-22</td>\n",
       "      <td>MID STATE EDUCATION DISTRICT</td>\n",
       "      <td>ENGLISH</td>\n",
       "      <td>11.0</td>\n",
       "      <td>40.0</td>\n",
       "      <td>Morrison</td>\n",
       "      <td>6.0</td>\n",
       "      <td>Outstate - Enrollment less than 500</td>\n",
       "    </tr>\n",
       "  </tbody>\n",
       "</table>\n",
       "<p>72107 rows × 8 columns</p>\n",
       "</div>"
      ],
      "text/plain": [
       "      School Year                        District Name    Language Name  \\\n",
       "0           06-07        AITKIN PUBLIC SCHOOL DISTRICT          ENGLISH   \n",
       "1           06-07        AITKIN PUBLIC SCHOOL DISTRICT          SPANISH   \n",
       "2           06-07      MINNEAPOLIS PUBLIC SCHOOL DIST.           AFGHAN   \n",
       "3           06-07      MINNEAPOLIS PUBLIC SCHOOL DIST.        AFRIKAANS   \n",
       "4           06-07      MINNEAPOLIS PUBLIC SCHOOL DIST.  AMERICAN INDIAN   \n",
       "...           ...                                  ...              ...   \n",
       "72563       21-22  Austin Albert Lea Area Special Educ            KAREN   \n",
       "72564       21-22  Northern Lights Academy Cooperative          ENGLISH   \n",
       "72565       21-22             Up North Learning Center          ENGLISH   \n",
       "72566       21-22    Benton-Stearns Education District          ENGLISH   \n",
       "72567       21-22         MID STATE EDUCATION DISTRICT          ENGLISH   \n",
       "\n",
       "       Home Primary Language  Student Count  \\\n",
       "0                       11.0         1318.0   \n",
       "1                       45.0            2.0   \n",
       "2                       60.0            3.0   \n",
       "3                        1.0            4.0   \n",
       "4                        6.0            1.0   \n",
       "...                      ...            ...   \n",
       "72563                  129.0            1.0   \n",
       "72564                   11.0           27.0   \n",
       "72565                   11.0            5.0   \n",
       "72566                   11.0           58.0   \n",
       "72567                   11.0           40.0   \n",
       "\n",
       "                                         County Name  Strata Number  \\\n",
       "0                                             AITKIN            4.0   \n",
       "1                                             AITKIN            4.0   \n",
       "2                                           HENNEPIN            1.0   \n",
       "3                                           HENNEPIN            1.0   \n",
       "4                                           HENNEPIN            1.0   \n",
       "...                                              ...            ...   \n",
       "72563  Mower                                                    6.0   \n",
       "72564  Carlton                                                  6.0   \n",
       "72565  Cass                                                     6.0   \n",
       "72566  Stearns                                                  6.0   \n",
       "72567  Morrison                                                 6.0   \n",
       "\n",
       "                                       Strata Name  \n",
       "0      Outstate - Enrollment between 1000 and 1999  \n",
       "1      Outstate - Enrollment between 1000 and 1999  \n",
       "2                       Minneapolis and Saint Paul  \n",
       "3                       Minneapolis and Saint Paul  \n",
       "4                       Minneapolis and Saint Paul  \n",
       "...                                            ...  \n",
       "72563          Outstate - Enrollment less than 500  \n",
       "72564          Outstate - Enrollment less than 500  \n",
       "72565          Outstate - Enrollment less than 500  \n",
       "72566          Outstate - Enrollment less than 500  \n",
       "72567          Outstate - Enrollment less than 500  \n",
       "\n",
       "[72107 rows x 8 columns]"
      ]
     },
     "execution_count": 53,
     "metadata": {},
     "output_type": "execute_result"
    }
   ],
   "source": [
    "#Converting all languages in CAPs and removing spaces from cells to ensure removal of duplicates\n",
    "complete_primary_home_language[\"Language Name\"] = complete_primary_home_language[\"Language Name\"].str.upper()\n",
    "complete_primary_home_language[\"Language Name\"] = complete_primary_home_language[\"Language Name\"].str.strip()\n",
    "\n",
    "#Further removing rows that have language as Not Available or Not Specific\n",
    "complete_primary_home_language.drop(complete_primary_home_language[complete_primary_home_language['Language Name'] == 'NOT AVAILABLE' ].index, inplace = True)\n",
    "complete_primary_home_language.drop(complete_primary_home_language[complete_primary_home_language['Language Name'] == 'NOT SPECIFIC' ].index, inplace = True)\n",
    "\n",
    "complete_primary_home_language"
   ]
  },
  {
   "cell_type": "code",
   "execution_count": 54,
   "id": "4ecc039c",
   "metadata": {},
   "outputs": [
    {
     "data": {
      "text/plain": [
       "445"
      ]
     },
     "execution_count": 54,
     "metadata": {},
     "output_type": "execute_result"
    }
   ],
   "source": [
    "#Unique languages after removal of potential duplicates\n",
    "Unique_Languages_count = complete_primary_home_language[\"Language Name\"].nunique()\n",
    "Unique_Languages_count"
   ]
  },
  {
   "cell_type": "code",
   "execution_count": 55,
   "id": "03f0b561",
   "metadata": {},
   "outputs": [
    {
     "name": "stdout",
     "output_type": "stream",
     "text": [
      "['ABKHAZIAN' 'ABON' 'ACEH' 'ACHOLI' 'ADANGME'\n",
      " 'ADANGME/AKAN/DAGOMBA/DAGBANE/FANTE/FANTI/GA/TWI/EWE/GURMA' 'ADYGHE'\n",
      " 'AFAR' 'AFGHAN' 'AFRIKAANS' 'AINU' 'AKAN' 'ALBANIAN' 'ALEUT' 'AMAZIGH'\n",
      " 'AMERICAN INDIAN' 'AMHARIC' 'ANAANG' 'ANGIKA' 'ANUAK' 'APACHE' 'ARABIC'\n",
      " 'ARAWAK' 'ARMENIAN' 'ASSAMESE' 'ASSYRIAN NEO-ARAMAIC' 'ASTURIAN' 'AVARIC'\n",
      " 'AWADHI' 'AYMARA' 'AZERBAIJANI' 'BAKHTIARI' 'BALINESE'\n",
      " 'BALINESE/JAVANESE/SUNDANESE' 'BALUCHI' 'BAMBARA' 'BANDA' 'BANTU' 'BARI'\n",
      " 'BASAA' 'BASQUE' 'BASSA' 'BATAK' 'BEDAWIJET' 'BELLE' 'BELORUSAN'\n",
      " 'BELORUSSIAN' 'BEMBA' 'BEMBA/TONGA/NYANJA' 'BENGALI'\n",
      " 'BERBER (AKA KABYLE)' 'BERBER/ KABYLE' 'BHOJPURI' 'BHUTANESE'\n",
      " 'BHUTANESE, DZONGKHA' 'BICOLANO' 'BILEN' 'BISAYA'\n",
      " 'BISAYA, BASAYA, DUSUN, TUTONG' 'BISLAMA' 'BOSNIAN' 'BRAHUI' 'BRAJ BASHA'\n",
      " 'BRETON' 'BUGIS' 'BULGARIAN' 'BURIAT' 'BURMESE' 'CAMBODIAN' 'CANTONESE'\n",
      " 'CARIB' 'CATALAN' 'CEBUANO' 'CEBUANO,' 'CEBUANO, VISAYAN, BINISAYA'\n",
      " 'CHALDEAN NEO-ARAMAIC' 'CHAM, EASTERN' 'CHAM, WESTERN' 'CHAMOR' 'CHECHEN'\n",
      " 'CHEROKEE' 'CHEYENNE' 'CHIEN' 'CHIN' 'CHINESE' 'CHINESE, MANDARIN'\n",
      " 'CHIPPEWA' 'CHOCTAW' 'CHOCTCAW' 'CHUKEESE' 'CHUUKESE' 'CHUVASH'\n",
      " 'CORSICAN' 'CREE' 'CRIMEAN TARTAR' 'CROATIAN' 'CUTCHI' 'CUTCHI-SWAHILI'\n",
      " 'CZECH' 'DAGARI' 'DAGBANI' 'DAIR' 'DAKOTA' 'DAKOTAH' 'DAN' 'DANISH'\n",
      " 'DARGWA' 'DARI' 'DEI' 'DILLING' 'DINKA' 'DOGRI' 'DOGRIB' 'DUALA' 'DUTCH'\n",
      " 'EBIRA' 'EDO' 'EFIK' 'EFUTU' 'EKAJUK' 'ELEME' 'ENGLISH'\n",
      " 'ENGLISH, CREOLIZED' 'ERZYA' 'ESTONIAN' 'EWE' 'EWONDO' 'FANG' 'FANTI'\n",
      " 'FAROESE' 'FARSI' 'FIJIAN' 'FILIPINO, PILIPINO' 'FINNISH' 'FON' 'FRENCH'\n",
      " 'FRENCH, CREOLIZED' 'FRISIAN' 'FRIULIAN' 'FULAH' 'FULFULDE' 'GA' 'GAELIC'\n",
      " 'GANDA' 'GANDA, LUGANDA' 'GARIFUNA' 'GBANDI' 'GBII' 'GEORGIAN' 'GERMAN'\n",
      " 'GILAKI' 'GIO' 'GOKANA' 'GOLA' 'GONDI' 'GORONTALO' 'GREBO' 'GREEK'\n",
      " 'GUARANI' 'GUJARATI' 'HAITIAN CREOLE' 'HARARI' 'HAUSA' 'HAWAIIAN'\n",
      " 'HEBREW' 'HERERO' 'HINDI' 'HINDUSTANI' 'HIRI MOTU' 'HMONG'\n",
      " 'HO-CHUNK, WINNEBAGO' 'HUNGARIAN' 'IBAN' 'IBIBIO' 'IBO' 'ICELANDIC'\n",
      " 'IDOMA' 'IGALA' 'IGBO' 'ILLOGO' 'ILLOGO, HILIGAYNON' 'ILOCANO'\n",
      " 'INDONESIAN' 'INDONESIAN, BAHASA INDONESIAN' 'INGUSH' 'IRISH' 'ITALIAN'\n",
      " 'IU MIEN' 'IZON' 'JAKALTEKO' 'JAPANESE' 'JAVANESE' 'JINGPHO'\n",
      " 'JINGPHO, KACHIN' \"K'ICHE\" 'KABARDIAN' 'KABYLE' 'KALENJIN' 'KALMYK-OIRAT'\n",
      " 'KAMBA' 'KAMBA/KIKUYA/LUO' 'KANNADA' 'KANUMA' 'KARAKALPAK' 'KARELIAN'\n",
      " 'KAREN' 'KAREN, PWO' \"KAREN, S'GAW\" 'KARENNI' 'KARENNI, KAYAH' 'KASHMIRI'\n",
      " 'KAZAKH' 'KENUZI' 'KENUZI-DONGOLA' 'KHASI' 'KHMER, CAMBODIAN' 'KHMU'\n",
      " 'KHMU, TENH' 'KIKUYU' 'KIMBUNDU' 'KIRIBATI' 'KISSI, GISSI' 'KITUBA' 'KOM'\n",
      " 'KOMI' 'KONGO' 'KONKANI' 'KONO' 'KOREAN' 'KOSRAEAN' 'KPELLE'\n",
      " 'KPELLE, PELLE' 'KRAHN' 'KRIO' 'KRU' 'KUNAMA' 'KURDISH' 'KURUX'\n",
      " 'KWANYAMA' 'KYRGHYZ' 'LAKI' 'LAKOTA' 'LAO, LAOTIAN' 'LAOTIAN' 'LARTEH'\n",
      " 'LATVIAN' 'LEBANESE' 'LINGALA' 'LINGOLA' 'LISU' 'LITHUANIAN' 'LOMA'\n",
      " 'LOW GERMAN' 'LUBA' 'LUBA-KATANGA' 'LUGANDA' 'LUNDA' 'LUO'\n",
      " 'LUXEMBOURGEOIS' \"MA'DI\" 'MAASAI' 'MAAY' 'MACEDONIAN' 'MADURA' 'MAGAHI'\n",
      " 'MAITHILI' 'MALAGASY' 'MALAY' 'MALAYALAM' 'MALDIVIAN' 'MALTESE' 'MAM'\n",
      " 'MANDAR' 'MANDINGO' 'MANO' 'MANO. MAH' 'MANOBO' 'MAORI' 'MAPUDUNGUN'\n",
      " 'MARATHI' 'MARSHALLESE' 'MARWARI' 'MAYAN' 'MEITEI' 'MENDE' 'MIDOB' 'MINA'\n",
      " 'MINANGKABAU' 'MOKSHA' 'MOLDOVAN' 'MON' 'MONGO, MONGO-NKUNDU'\n",
      " 'MONGO-NKUNDU' 'MONGOLIAN' 'MOORE' 'NAHUATL' 'NANDE' 'NAVAJO' 'NDEBELE'\n",
      " 'NDELBELE' 'NDELBELE/SHONA' 'NDONGA' 'NEPALI' 'NEWARI' 'NGBAKA' 'NGUMBA'\n",
      " 'NIAS' 'NOBIIN' 'NORWEGIAN' 'NUER' 'NYANGA' 'NYANJA' 'NZEMA' 'OJIBWA'\n",
      " 'OJIBWA, CHIPPEWA, ANISHINAABEMOWIN' 'OKINAWAN' 'ORIYA' 'OROMO'\n",
      " 'OROMO, AFAN OROMO, OROMIFFA' 'OSSETIAN' 'PAHLAVANI' 'PALAUAN' 'PALUAN'\n",
      " 'PAMPA' 'PAMPA/SARAMO/ITONAMA/AYMARA/ARAUCANIAN/PALENQUE/ARAWAK'\n",
      " 'PAMPANGAN' 'PANGASINAN' 'PAPIAMENTU' 'PASHTO' 'PERSIAN' 'PHENDE'\n",
      " 'POHNPEIAN' 'POLISH' 'PORTUGUESE' 'PORTUGUESE -CREOLE'\n",
      " 'PORTUGUESE, CREOLIZED' 'PUNJABI' \"QASHQA'I\" 'QUECHUA' 'QUICHE'\n",
      " 'QUICHE/GARIFUNA/NAHUATL/SERI/GUARANI/QUECHUA' 'QUICHUA' 'RAJASTHANI'\n",
      " 'RAPA NUI' 'ROMANIAN' 'ROMANY' 'RUNDI' 'RUNDI/GEORGIAN/OSSETIAN'\n",
      " 'RUSSIAN' 'RWANDA' 'RWANDA/SOTHO/ZULU' 'SAAMI' 'SAMOAN' 'SANGO' 'SANTALI'\n",
      " 'SAPO' 'SARAKOLE' 'SARAKOLE, SONINKE' 'SARDINIAN' 'SAURASHTRA' 'SELKUP'\n",
      " 'SERBIAN' 'SERBIAN, HERZEGOVNIAN, MONTENEGRIN' 'SERBO-CROATIAN'\n",
      " 'SERER-SINE' 'SHAN' 'SHI' 'SHONA' 'SIDAMO' 'SIGN LANGUAGE'\n",
      " 'SIGN LANGUAGE, ASL' 'SINDHI' 'SINGHALESE' 'SINHALA' 'SLAVONIAN' 'SLOVAK'\n",
      " 'SLOVENE' 'SLOVENIAN' 'SOGDIAN' 'SOMALI' 'SONGE' 'SOTHO' 'SPANISH'\n",
      " 'SUNDANESE' 'SUSU' 'SWAHILI' 'SWAHILI, KISWAHILI' 'SWATI' 'SWEDISH'\n",
      " 'TAGALOG' 'TAIWANESE' 'TAJIK' 'TAMASHEK' 'TAMIL' 'TELUGU' 'TEM'\n",
      " 'TEM, COCOTOLI (KOKOTOLI), TEMBA, TIM, TIMU' 'TEMNE' 'TERENO' 'TETUN'\n",
      " 'THAI' 'TIBETAN' 'TIGRE' 'TIGRINYA' 'TOKELAUAN' 'TONGA' 'TONGAN' 'TSWANA'\n",
      " 'TULU' 'TUMBUKA' 'TURKISH' 'TURKMAN' 'TUVAN' 'TWI' 'UDMURT' 'UKRAINIAN'\n",
      " 'UKRANIAN' 'UMBUNDU' 'URDU' 'URHOBO' 'UYGHUR' 'UZBEK' 'VAI' 'VALENCIAN'\n",
      " 'VIETNAMESE' 'WAKASHAN' 'WALI' 'WALI GHANA' 'WALI SUDAN' 'WALLOON'\n",
      " 'WARAY' 'WELSH' 'WOLAYTTA' 'WOLOF' 'WOLOF/TAJIK' 'XHOSA' 'YAKUT' 'YAO'\n",
      " 'YAPESE' 'YIDDISH' 'YOMBE' 'YORUBA' 'ZANDE' 'ZAPOTEC' 'ZULU']\n"
     ]
    }
   ],
   "source": [
    "Unique_Languages = complete_primary_home_language[\"Language Name\"].unique()\n",
    "print(np.sort(Unique_Languages))"
   ]
  },
  {
   "cell_type": "code",
   "execution_count": 56,
   "id": "05e3b5f8",
   "metadata": {},
   "outputs": [],
   "source": [
    "#Combining Languages that had names masked together as well as separated\n",
    "complete_primary_home_language.loc[complete_primary_home_language[\"Language Name\"] == \"ADANGME\", \"Language Name\"] = \"ADANGME/AKAN/DAGOMBA/DAGBANE/FANTE/FANTI/GA/TWI/EWE/GURMA\"\n",
    "complete_primary_home_language.loc[complete_primary_home_language[\"Language Name\"] == \"AKAN\", \"Language Name\"] = \"ADANGME/AKAN/DAGOMBA/DAGBANE/FANTE/FANTI/GA/TWI/EWE/GURMA\"\n",
    "complete_primary_home_language.loc[complete_primary_home_language[\"Language Name\"] == \"DAGOMBA\", \"Language Name\"] = \"ADANGME/AKAN/DAGOMBA/DAGBANE/FANTE/FANTI/GA/TWI/EWE/GURMA\"\n",
    "complete_primary_home_language.loc[complete_primary_home_language[\"Language Name\"] == \"DAGBANE\", \"Language Name\"] = \"ADANGME/AKAN/DAGOMBA/DAGBANE/FANTE/FANTI/GA/TWI/EWE/GURMA\"\n",
    "complete_primary_home_language.loc[complete_primary_home_language[\"Language Name\"] == \"DAGOMBA\", \"Language Name\"] = \"ADANGME/AKAN/DAGOMBA/DAGBANE/FANTE/FANTI/GA/TWI/EWE/GURMA\"\n",
    "complete_primary_home_language.loc[complete_primary_home_language[\"Language Name\"] == \"FANTE\", \"Language Name\"] = \"ADANGME/AKAN/DAGOMBA/DAGBANE/FANTE/FANTI/GA/TWI/EWE/GURMA\"\n",
    "complete_primary_home_language.loc[complete_primary_home_language[\"Language Name\"] == \"FANTI\", \"Language Name\"] = \"ADANGME/AKAN/DAGOMBA/DAGBANE/FANTE/FANTI/GA/TWI/EWE/GURMA\"\n",
    "complete_primary_home_language.loc[complete_primary_home_language[\"Language Name\"] == \"GA\", \"Language Name\"] = \"ADANGME/AKAN/DAGOMBA/DAGBANE/FANTE/FANTI/GA/TWI/EWE/GURMA\"\n",
    "complete_primary_home_language.loc[complete_primary_home_language[\"Language Name\"] == \"TWI\", \"Language Name\"] = \"ADANGME/AKAN/DAGOMBA/DAGBANE/FANTE/FANTI/GA/TWI/EWE/GURMA\"\n",
    "complete_primary_home_language.loc[complete_primary_home_language[\"Language Name\"] == \"EWE\", \"Language Name\"] = \"ADANGME/AKAN/DAGOMBA/DAGBANE/FANTE/FANTI/GA/TWI/EWE/GURMA\"\n",
    "complete_primary_home_language.loc[complete_primary_home_language[\"Language Name\"] == \"GURMA\", \"Language Name\"] = \"ADANGME/AKAN/DAGOMBA/DAGBANE/FANTE/FANTI/GA/TWI/EWE/GURMA\"\n",
    "\n",
    "complete_primary_home_language.loc[complete_primary_home_language[\"Language Name\"] == \"BALINESE\", \"Language Name\"] = \"INDONESIAN\"\n",
    "complete_primary_home_language.loc[complete_primary_home_language[\"Language Name\"] == \"JAVANESE\", \"Language Name\"] = \"INDONESIAN\"\n",
    "complete_primary_home_language.loc[complete_primary_home_language[\"Language Name\"] == \"SUNDANESE\", \"Language Name\"] = \"INDONESIAN\"\n",
    "complete_primary_home_language.loc[complete_primary_home_language[\"Language Name\"] == \"INDONESIAN, BAHASA INDONESIAN\", \"Language Name\"] = \"INDONESIAN\"\n",
    "complete_primary_home_language.loc[complete_primary_home_language[\"Language Name\"] == \"BALINESE/JAVANESE/SUNDANESE\", \"Language Name\"] = \"INDONESIAN\"\n",
    "\n",
    "\n",
    "\n",
    "complete_primary_home_language.loc[complete_primary_home_language[\"Language Name\"] == \"BEMBA\", \"Language Name\"] = \"BEMBA/TONGA/NYANJA\"\n",
    "complete_primary_home_language.loc[complete_primary_home_language[\"Language Name\"] == \"TONGA\", \"Language Name\"] = \"BEMBA/TONGA/NYANJA\"\n",
    "complete_primary_home_language.loc[complete_primary_home_language[\"Language Name\"] == \"NYANJA\", \"Language Name\"] = \"BEMBA/TONGA/NYANJA\"\n",
    "\n",
    "\n",
    "complete_primary_home_language.loc[complete_primary_home_language[\"Language Name\"] == \"BERBER\", \"Language Name\"] = \"BERBER/ KABYLE\"\n",
    "complete_primary_home_language.loc[complete_primary_home_language[\"Language Name\"] == \"KABYLE\", \"Language Name\"] = \"BERBER/ KABYLE\"\n",
    "complete_primary_home_language.loc[complete_primary_home_language[\"Language Name\"] == \"BERBER (AKA KABYLE)\", \"Language Name\"] = \"BERBER/ KABYLE\"\n",
    "\n",
    "complete_primary_home_language.loc[complete_primary_home_language[\"Language Name\"] == \"KAMBA\", \"Language Name\"] = \"KAMBA/KIKUYA/LUO\"\n",
    "complete_primary_home_language.loc[complete_primary_home_language[\"Language Name\"] == \"KIKUYU\", \"Language Name\"] = \"KAMBA/KIKUYA/LUO\"\n",
    "complete_primary_home_language.loc[complete_primary_home_language[\"Language Name\"] == \"LUO\", \"Language Name\"] = \"KAMBA/KIKUYA/LUO\"\n",
    "\n",
    "complete_primary_home_language.loc[complete_primary_home_language[\"Language Name\"] == \"PAMPA\", \"Language Name\"] = \"PAMPA/SARAMO/ITONAMA/AYMARA/ARAUCANIAN/PALENQUE/ARAWAK\"\n",
    "complete_primary_home_language.loc[complete_primary_home_language[\"Language Name\"] == \"SARAMO\", \"Language Name\"] = \"PAMPA/SARAMO/ITONAMA/AYMARA/ARAUCANIAN/PALENQUE/ARAWAK\"\n",
    "complete_primary_home_language.loc[complete_primary_home_language[\"Language Name\"] == \"ITONAMA\", \"Language Name\"] = \"PAMPA/SARAMO/ITONAMA/AYMARA/ARAUCANIAN/PALENQUE/ARAWAK\"\n",
    "complete_primary_home_language.loc[complete_primary_home_language[\"Language Name\"] == \"AYMARA\", \"Language Name\"] = \"PAMPA/SARAMO/ITONAMA/AYMARA/ARAUCANIAN/PALENQUE/ARAWAK\"\n",
    "complete_primary_home_language.loc[complete_primary_home_language[\"Language Name\"] == \"ARAUCANIAN\", \"Language Name\"] = \"PAMPA/SARAMO/ITONAMA/AYMARA/ARAUCANIAN/PALENQUE/ARAWAK\"\n",
    "complete_primary_home_language.loc[complete_primary_home_language[\"Language Name\"] == \"PALENQUE\", \"Language Name\"] = \"PAMPA/SARAMO/ITONAMA/AYMARA/ARAUCANIAN/PALENQUE/ARAWAK\"\n",
    "complete_primary_home_language.loc[complete_primary_home_language[\"Language Name\"] == \"ARAWAK\", \"Language Name\"] = \"PAMPA/SARAMO/ITONAMA/AYMARA/ARAUCANIAN/PALENQUE/ARAWAK\"\n",
    "\n",
    "\n",
    "complete_primary_home_language.loc[complete_primary_home_language[\"Language Name\"] == \"QUICHE\", \"Language Name\"] = \"QUICHE/GARIFUNA/NAHUATL/SERI/GUARANI/QUECHUA\"\n",
    "complete_primary_home_language.loc[complete_primary_home_language[\"Language Name\"] == \"GARIFUNA\", \"Language Name\"] = \"QUICHE/GARIFUNA/NAHUATL/SERI/GUARANI/QUECHUA\"\n",
    "complete_primary_home_language.loc[complete_primary_home_language[\"Language Name\"] == \"NAHUATL\", \"Language Name\"] = \"QUICHE/GARIFUNA/NAHUATL/SERI/GUARANI/QUECHUA\"\n",
    "complete_primary_home_language.loc[complete_primary_home_language[\"Language Name\"] == \"SERI\", \"Language Name\"] = \"QUICHE/GARIFUNA/NAHUATL/SERI/GUARANI/QUECHUA\"\n",
    "complete_primary_home_language.loc[complete_primary_home_language[\"Language Name\"] == \"GUARANI\", \"Language Name\"] = \"QUICHE/GARIFUNA/NAHUATL/SERI/GUARANI/QUECHUA\"\n",
    "complete_primary_home_language.loc[complete_primary_home_language[\"Language Name\"] == \"QUECHUA\", \"Language Name\"] = \"QUICHE/GARIFUNA/NAHUATL/SERI/GUARANI/QUECHUA\"\n",
    "complete_primary_home_language.loc[complete_primary_home_language[\"Language Name\"] == \"QUICHUA\", \"Language Name\"] = \"QUICHE/GARIFUNA/NAHUATL/SERI/GUARANI/QUECHUA\"\n",
    "complete_primary_home_language.loc[complete_primary_home_language[\"Language Name\"] == \"K'ICHE\", \"Language Name\"] = \"QUICHE/GARIFUNA/NAHUATL/SERI/GUARANI/QUECHUA\"\n",
    "\n",
    "\n",
    "complete_primary_home_language.loc[complete_primary_home_language[\"Language Name\"] == \"RUNDI\", \"Language Name\"] = \"RUNDI/GEORGIAN/OSSETIAN\"\n",
    "complete_primary_home_language.loc[complete_primary_home_language[\"Language Name\"] == \"GEORGIAN\", \"Language Name\"] = \"RUNDI/GEORGIAN/OSSETIAN\"\n",
    "complete_primary_home_language.loc[complete_primary_home_language[\"Language Name\"] == \"OSSETIAN\", \"Language Name\"] = \"RUNDI/GEORGIAN/OSSETIAN\"\n",
    "\n",
    "complete_primary_home_language.loc[complete_primary_home_language[\"Language Name\"] == \"WOLOF\", \"Language Name\"] = \"WOLOF/TAJIK\"\n",
    "complete_primary_home_language.loc[complete_primary_home_language[\"Language Name\"] == \"TAJIK\", \"Language Name\"] = \"WOLOF/TAJIK\"\n",
    "\n",
    "complete_primary_home_language.loc[complete_primary_home_language[\"Language Name\"] == \"NDELBELE\", \"Language Name\"] = \"NDELBELE/SHONA\"\n",
    "complete_primary_home_language.loc[complete_primary_home_language[\"Language Name\"] == \"SHONA\", \"Language Name\"] = \"NDELBELE/SHONA\"\n",
    "\n",
    "complete_primary_home_language.loc[complete_primary_home_language[\"Language Name\"] == \"RWANDA\", \"Language Name\"] = \"RWANDA/SOTHO/ZULU\"\n",
    "complete_primary_home_language.loc[complete_primary_home_language[\"Language Name\"] == \"SOTHO\", \"Language Name\"] = \"RWANDA/SOTHO/ZULU\"\n",
    "complete_primary_home_language.loc[complete_primary_home_language[\"Language Name\"] == \"ZULU\", \"Language Name\"] = \"RWANDA/SOTHO/ZULU\"\n",
    "\n",
    "complete_primary_home_language.loc[complete_primary_home_language[\"Language Name\"] == \"BASAA\", \"Language Name\"] = \"BASSA\"\n",
    "complete_primary_home_language.loc[complete_primary_home_language[\"Language Name\"] == \"BISAYA\", \"Language Name\"] = \"BISAYA, BASAYA, DUSUN, TUTONG\"\n",
    "complete_primary_home_language.loc[complete_primary_home_language[\"Language Name\"] == \"BASAYA\", \"Language Name\"] = \"BISAYA, BASAYA, DUSUN, TUTONG\"\n",
    "complete_primary_home_language.loc[complete_primary_home_language[\"Language Name\"] == \"BISAYA, BASAYA\", \"Language Name\"] = \"BISAYA, BASAYA, DUSUN, TUTONG\"\n",
    "\n",
    "complete_primary_home_language.loc[complete_primary_home_language[\"Language Name\"] == \"CHUUKESE\", \"Language Name\"] = \"CHUKEESE\"\n",
    "\n",
    "complete_primary_home_language.loc[complete_primary_home_language[\"Language Name\"] == \"CEBUANO\", \"Language Name\"] = \"CEBUANO, VISAYAN, BINISAYA\"\n",
    "complete_primary_home_language.loc[complete_primary_home_language[\"Language Name\"] == \"CEBUANO,\", \"Language Name\"] = \"CEBUANO, VISAYAN, BINISAYA\"\n",
    "complete_primary_home_language.loc[complete_primary_home_language[\"Language Name\"] == \"VISAYAN\", \"Language Name\"] = \"CEBUANO, VISAYAN, BINISAYA\"\n",
    "complete_primary_home_language.loc[complete_primary_home_language[\"Language Name\"] == \"BINISAYA\", \"Language Name\"] = \"CEBUANO, VISAYAN, BINISAYA\"\n",
    "\n",
    "complete_primary_home_language.loc[complete_primary_home_language[\"Language Name\"] == \"LAO, LAOTIAN\", \"Language Name\"] = \"LAO/LAOTIAN\"\n",
    "complete_primary_home_language.loc[complete_primary_home_language[\"Language Name\"] == \"LAOTIAN\", \"Language Name\"] = \"LAO/LAOTIAN\"\n",
    "complete_primary_home_language.loc[complete_primary_home_language[\"Language Name\"] == \"LAO\", \"Language Name\"] = \"LAO/LAOTIAN\"\n",
    "\n",
    "complete_primary_home_language.loc[complete_primary_home_language[\"Language Name\"] == \"MONGO, MONGO-NKUNDU\", \"Language Name\"] = \"MONGO-NKUNDU\"\n",
    "complete_primary_home_language.loc[complete_primary_home_language[\"Language Name\"] == \"OROMO, AFAN OROMO, OROMIFFA\", \"Language Name\"] = \"OROMO\"\n",
    "\n",
    "complete_primary_home_language.loc[complete_primary_home_language[\"Language Name\"] == \"PORTUGUESE -CREOLE\", \"Language Name\"] = \"PORTUGUESE\"\n",
    "complete_primary_home_language.loc[complete_primary_home_language[\"Language Name\"] == \"PORTUGUESE, CREOLIZED\", \"Language Name\"] = \"PORTUGUESE\"\n",
    "\n",
    "complete_primary_home_language.loc[complete_primary_home_language[\"Language Name\"] == \"SARAKOLE\", \"Language Name\"] = \"SARAKOLE/SONINKE\"\n",
    "complete_primary_home_language.loc[complete_primary_home_language[\"Language Name\"] == \"SARAKOLE, SONINKE\", \"Language Name\"] = \"SARAKOLE/SONINKE\"\n",
    "\n",
    "complete_primary_home_language.loc[complete_primary_home_language[\"Language Name\"] == \"TEM, COCOTOLI (KOKOTOLI), TEMBA, TIM, TIMU\", \"Language Name\"] = \"TEM\"\n",
    "complete_primary_home_language.loc[complete_primary_home_language[\"Language Name\"] == \"KAREN, PWO\", \"Language Name\"] = \"KAREN\"\n",
    "complete_primary_home_language.loc[complete_primary_home_language[\"Language Name\"] == \"KAREN, S'GAW\", \"Language Name\"] = \"KAREN\"\n",
    "\n",
    "complete_primary_home_language.loc[complete_primary_home_language[\"Language Name\"] == \"KARENNI, KAYAH\", \"Language Name\"] = \"KARENNI\"\n",
    "complete_primary_home_language.loc[complete_primary_home_language[\"Language Name\"] == \"LUBA\", \"Language Name\"] = \"LUBA-KATANGA\"\n",
    "complete_primary_home_language.loc[complete_primary_home_language[\"Language Name\"] == \"MANO. MAH\", \"Language Name\"] = \"MANO\"\n",
    "\n",
    "complete_primary_home_language.loc[complete_primary_home_language[\"Language Name\"] == \"BELORUSAN\", \"Language Name\"] = \"BELORUSSIAN\"\n",
    "complete_primary_home_language.loc[complete_primary_home_language[\"Language Name\"] == \"CHOCTAW\", \"Language Name\"] = \"CHOCTCAW\"\n",
    "\n",
    "complete_primary_home_language.loc[complete_primary_home_language[\"Language Name\"] == \"FARSI\", \"Language Name\"] = \"PERSIAN\"\n",
    "complete_primary_home_language.loc[complete_primary_home_language[\"Language Name\"] == \"FRENCH, CREOLIZED\", \"Language Name\"] = \"FRENCH\"\n",
    "complete_primary_home_language.loc[complete_primary_home_language[\"Language Name\"] == \"HAITIAN CREOLE\", \"Language Name\"] = \"FRENCH\"\n",
    "complete_primary_home_language.loc[complete_primary_home_language[\"Language Name\"] == \"UKRANIAN\", \"Language Name\"] = \"UKRAINIAN\"\n",
    "complete_primary_home_language.loc[complete_primary_home_language[\"Language Name\"] == \"SIGN LANGUAGE, ASL\", \"Language Name\"] = \"SIGN LANGUAGE\"\n",
    "complete_primary_home_language.loc[complete_primary_home_language[\"Language Name\"] == \"PALUAN\", \"Language Name\"] = \"PALAUAN\"\n",
    "complete_primary_home_language.loc[complete_primary_home_language[\"Language Name\"] == \"CHIEN\", \"Language Name\"] = \"CHIN\"\n",
    "\n",
    "complete_primary_home_language.loc[complete_primary_home_language[\"Language Name\"] == \"BHUTANESE, DZONGKHA\", \"Language Name\"] = \"BHUTANESE\"\n",
    "complete_primary_home_language.loc[complete_primary_home_language[\"Language Name\"] == \"CHIEN\", \"Language Name\"] = \"CHIN\"\n",
    "complete_primary_home_language.loc[complete_primary_home_language[\"Language Name\"] == \"CHAM, EASTERN\", \"Language Name\"] = \"CHAM\"\n",
    "complete_primary_home_language.loc[complete_primary_home_language[\"Language Name\"] == \"CHAM, WESTERN\", \"Language Name\"] = \"CHAM\"\n",
    "complete_primary_home_language.loc[complete_primary_home_language[\"Language Name\"] == \"ENGLISH, CREOLIZED\", \"Language Name\"] = \"ENGLISH\"\n",
    "complete_primary_home_language.loc[complete_primary_home_language[\"Language Name\"] == \"BISLAMA\", \"Language Name\"] = \"ENGLISH\"\n",
    "\n",
    "complete_primary_home_language.loc[complete_primary_home_language[\"Language Name\"] == \"GANDA\", \"Language Name\"] = \"GANDA/LUGANDA\"\n",
    "complete_primary_home_language.loc[complete_primary_home_language[\"Language Name\"] == \"GANDA, LUGANDA\", \"Language Name\"] = \"GANDA/LUGANDA\"\n",
    "complete_primary_home_language.loc[complete_primary_home_language[\"Language Name\"] == \"LUGANDA\", \"Language Name\"] = \"GANDA/LUGANDA\"\n",
    "\n",
    "complete_primary_home_language.loc[complete_primary_home_language[\"Language Name\"] == \"SLOVENE\", \"Language Name\"] = \"SLOVENIAN\"\n",
    "complete_primary_home_language.loc[complete_primary_home_language[\"Language Name\"] == \"LINGOLA\", \"Language Name\"] = \"LINGALA\"\n",
    "\n",
    "complete_primary_home_language.loc[complete_primary_home_language[\"Language Name\"] == \"KPELLE, PELLE\", \"Language Name\"] = \"KPELLE\"\n",
    "\n",
    "complete_primary_home_language.loc[complete_primary_home_language[\"Language Name\"] == \"BUGIS\", \"Language Name\"] = \"INDONESIAN\"\n",
    "\n",
    "complete_primary_home_language.loc[complete_primary_home_language[\"Language Name\"] == \"ILLOGO\", \"Language Name\"] = \"ILLOGO, HILIGAYNON\"\n",
    "\n",
    "complete_primary_home_language.loc[complete_primary_home_language[\"Language Name\"] == \"BRAJ BASHA\", \"Language Name\"] = \"BRAJ BASHA\"\n",
    "\n",
    "complete_primary_home_language.loc[complete_primary_home_language[\"Language Name\"] == \"BICOLANO\", \"Language Name\"] = \"FILIPINO\"\n",
    "complete_primary_home_language.loc[complete_primary_home_language[\"Language Name\"] == \"FILIPINO, PILIPINO\", \"Language Name\"] = \"FILIPINO\"\n",
    "\n",
    "complete_primary_home_language.loc[complete_primary_home_language[\"Language Name\"] == \"OKINAWAN\", \"Language Name\"] = \"JAPANESE\"\n",
    "\n",
    "complete_primary_home_language.loc[complete_primary_home_language[\"Language Name\"] == \"CHINESE, MANDARIN\", \"Language Name\"] = \"CHINESE\"\n",
    "complete_primary_home_language.loc[complete_primary_home_language[\"Language Name\"] == \"CANTONESE\", \"Language Name\"] = \"CHINESE\"\n",
    "\n",
    "\n",
    "complete_primary_home_language.loc[complete_primary_home_language[\"Language Name\"] == \"ALEUT\", \"Language Name\"] = \"AMERICAN INDIAN\"\n",
    "complete_primary_home_language.loc[complete_primary_home_language[\"Language Name\"] == \"APACHE\", \"Language Name\"] = \"AMERICAN INDIAN\"\n",
    "complete_primary_home_language.loc[complete_primary_home_language[\"Language Name\"] == \"CHEROKEE\", \"Language Name\"] = \"AMERICAN INDIAN\"\n",
    "complete_primary_home_language.loc[complete_primary_home_language[\"Language Name\"] == \"CHEYENNE\", \"Language Name\"] = \"AMERICAN INDIAN\"\n",
    "complete_primary_home_language.loc[complete_primary_home_language[\"Language Name\"] == \"CHIPPEWA\", \"Language Name\"] = \"AMERICAN INDIAN\"\n",
    "complete_primary_home_language.loc[complete_primary_home_language[\"Language Name\"] == \"CHOCTAW\", \"Language Name\"] = \"AMERICAN INDIAN\"\n",
    "complete_primary_home_language.loc[complete_primary_home_language[\"Language Name\"] == \"CHOCTCAW\", \"Language Name\"] = \"AMERICAN INDIAN\"\n",
    "complete_primary_home_language.loc[complete_primary_home_language[\"Language Name\"] == \"DAKOTA\", \"Language Name\"] = \"AMERICAN INDIAN\"\n",
    "complete_primary_home_language.loc[complete_primary_home_language[\"Language Name\"] == \"DAKOTAH\", \"Language Name\"] = \"AMERICAN INDIAN\"\n",
    "complete_primary_home_language.loc[complete_primary_home_language[\"Language Name\"] == \"HAWAIIAN\", \"Language Name\"] = \"AMERICAN INDIAN\"\n",
    "complete_primary_home_language.loc[complete_primary_home_language[\"Language Name\"] == \"HO-CHUNK, WINNEBAGO\", \"Language Name\"] = \"AMERICAN INDIAN\"\n",
    "complete_primary_home_language.loc[complete_primary_home_language[\"Language Name\"] == \"LAKOTA\", \"Language Name\"] = \"AMERICAN INDIAN\"\n",
    "complete_primary_home_language.loc[complete_primary_home_language[\"Language Name\"] == \"NAVAJO\", \"Language Name\"] = \"AMERICAN INDIAN\"\n",
    "complete_primary_home_language.loc[complete_primary_home_language[\"Language Name\"] == \"OJIBWA\", \"Language Name\"] = \"AMERICAN INDIAN\"\n",
    "complete_primary_home_language.loc[complete_primary_home_language[\"Language Name\"] == \"OJIBWA, CHIPPEWA, ANISHINAABEMOWIN\", \"Language Name\"] = \"AMERICAN INDIAN\"\n",
    "\n",
    "complete_primary_home_language.loc[complete_primary_home_language[\"Language Name\"] == \"MAAY\", \"Language Name\"] = \"SOMALI\"\n",
    "\n"
   ]
  },
  {
   "cell_type": "code",
   "execution_count": 57,
   "id": "ec945f55",
   "metadata": {},
   "outputs": [
    {
     "data": {
      "text/plain": [
       "350"
      ]
     },
     "execution_count": 57,
     "metadata": {},
     "output_type": "execute_result"
    }
   ],
   "source": [
    "#Counting final Unique Languages\n",
    "Unique_Languages_count = complete_primary_home_language[\"Language Name\"].nunique()\n",
    "Unique_Languages_count"
   ]
  },
  {
   "cell_type": "code",
   "execution_count": 58,
   "id": "be1defce",
   "metadata": {},
   "outputs": [
    {
     "name": "stdout",
     "output_type": "stream",
     "text": [
      "['ABKHAZIAN' 'ABON' 'ACEH' 'ACHOLI'\n",
      " 'ADANGME/AKAN/DAGOMBA/DAGBANE/FANTE/FANTI/GA/TWI/EWE/GURMA' 'ADYGHE'\n",
      " 'AFAR' 'AFGHAN' 'AFRIKAANS' 'AINU' 'ALBANIAN' 'AMAZIGH' 'AMERICAN INDIAN'\n",
      " 'AMHARIC' 'ANAANG' 'ANGIKA' 'ANUAK' 'ARABIC' 'ARMENIAN' 'ASSAMESE'\n",
      " 'ASSYRIAN NEO-ARAMAIC' 'ASTURIAN' 'AVARIC' 'AWADHI' 'AZERBAIJANI'\n",
      " 'BAKHTIARI' 'BALUCHI' 'BAMBARA' 'BANDA' 'BANTU' 'BARI' 'BASQUE' 'BASSA'\n",
      " 'BATAK' 'BEDAWIJET' 'BELLE' 'BELORUSSIAN' 'BEMBA/TONGA/NYANJA' 'BENGALI'\n",
      " 'BERBER/ KABYLE' 'BHOJPURI' 'BHUTANESE' 'BILEN'\n",
      " 'BISAYA, BASAYA, DUSUN, TUTONG' 'BOSNIAN' 'BRAHUI' 'BRAJ BASHA' 'BRETON'\n",
      " 'BULGARIAN' 'BURIAT' 'BURMESE' 'CAMBODIAN' 'CARIB' 'CATALAN'\n",
      " 'CEBUANO, VISAYAN, BINISAYA' 'CHALDEAN NEO-ARAMAIC' 'CHAM' 'CHAMOR'\n",
      " 'CHECHEN' 'CHIN' 'CHINESE' 'CHUKEESE' 'CHUVASH' 'CORSICAN' 'CREE'\n",
      " 'CRIMEAN TARTAR' 'CROATIAN' 'CUTCHI' 'CUTCHI-SWAHILI' 'CZECH' 'DAGARI'\n",
      " 'DAGBANI' 'DAIR' 'DAN' 'DANISH' 'DARGWA' 'DARI' 'DEI' 'DILLING' 'DINKA'\n",
      " 'DOGRI' 'DOGRIB' 'DUALA' 'DUTCH' 'EBIRA' 'EDO' 'EFIK' 'EFUTU' 'EKAJUK'\n",
      " 'ELEME' 'ENGLISH' 'ERZYA' 'ESTONIAN' 'EWONDO' 'FANG' 'FAROESE' 'FIJIAN'\n",
      " 'FILIPINO' 'FINNISH' 'FON' 'FRENCH' 'FRISIAN' 'FRIULIAN' 'FULAH'\n",
      " 'FULFULDE' 'GAELIC' 'GANDA/LUGANDA' 'GBANDI' 'GBII' 'GERMAN' 'GILAKI'\n",
      " 'GIO' 'GOKANA' 'GOLA' 'GONDI' 'GORONTALO' 'GREBO' 'GREEK' 'GUJARATI'\n",
      " 'HARARI' 'HAUSA' 'HEBREW' 'HERERO' 'HINDI' 'HINDUSTANI' 'HIRI MOTU'\n",
      " 'HMONG' 'HUNGARIAN' 'IBAN' 'IBIBIO' 'IBO' 'ICELANDIC' 'IDOMA' 'IGALA'\n",
      " 'IGBO' 'ILLOGO, HILIGAYNON' 'ILOCANO' 'INDONESIAN' 'INGUSH' 'IRISH'\n",
      " 'ITALIAN' 'IU MIEN' 'IZON' 'JAKALTEKO' 'JAPANESE' 'JINGPHO'\n",
      " 'JINGPHO, KACHIN' 'KABARDIAN' 'KALENJIN' 'KALMYK-OIRAT'\n",
      " 'KAMBA/KIKUYA/LUO' 'KANNADA' 'KANUMA' 'KARAKALPAK' 'KARELIAN' 'KAREN'\n",
      " 'KARENNI' 'KASHMIRI' 'KAZAKH' 'KENUZI' 'KENUZI-DONGOLA' 'KHASI'\n",
      " 'KHMER, CAMBODIAN' 'KHMU' 'KHMU, TENH' 'KIMBUNDU' 'KIRIBATI'\n",
      " 'KISSI, GISSI' 'KITUBA' 'KOM' 'KOMI' 'KONGO' 'KONKANI' 'KONO' 'KOREAN'\n",
      " 'KOSRAEAN' 'KPELLE' 'KRAHN' 'KRIO' 'KRU' 'KUNAMA' 'KURDISH' 'KURUX'\n",
      " 'KWANYAMA' 'KYRGHYZ' 'LAKI' 'LAO/LAOTIAN' 'LARTEH' 'LATVIAN' 'LEBANESE'\n",
      " 'LINGALA' 'LISU' 'LITHUANIAN' 'LOMA' 'LOW GERMAN' 'LUBA-KATANGA' 'LUNDA'\n",
      " 'LUXEMBOURGEOIS' \"MA'DI\" 'MAASAI' 'MACEDONIAN' 'MADURA' 'MAGAHI'\n",
      " 'MAITHILI' 'MALAGASY' 'MALAY' 'MALAYALAM' 'MALDIVIAN' 'MALTESE' 'MAM'\n",
      " 'MANDAR' 'MANDINGO' 'MANO' 'MANOBO' 'MAORI' 'MAPUDUNGUN' 'MARATHI'\n",
      " 'MARSHALLESE' 'MARWARI' 'MAYAN' 'MEITEI' 'MENDE' 'MIDOB' 'MINA'\n",
      " 'MINANGKABAU' 'MOKSHA' 'MOLDOVAN' 'MON' 'MONGO-NKUNDU' 'MONGOLIAN'\n",
      " 'MOORE' 'NANDE' 'NDEBELE' 'NDELBELE/SHONA' 'NDONGA' 'NEPALI' 'NEWARI'\n",
      " 'NGBAKA' 'NGUMBA' 'NIAS' 'NOBIIN' 'NORWEGIAN' 'NUER' 'NYANGA' 'NZEMA'\n",
      " 'ORIYA' 'OROMO' 'PAHLAVANI' 'PALAUAN'\n",
      " 'PAMPA/SARAMO/ITONAMA/AYMARA/ARAUCANIAN/PALENQUE/ARAWAK' 'PAMPANGAN'\n",
      " 'PANGASINAN' 'PAPIAMENTU' 'PASHTO' 'PERSIAN' 'PHENDE' 'POHNPEIAN'\n",
      " 'POLISH' 'PORTUGUESE' 'PUNJABI' \"QASHQA'I\"\n",
      " 'QUICHE/GARIFUNA/NAHUATL/SERI/GUARANI/QUECHUA' 'RAJASTHANI' 'RAPA NUI'\n",
      " 'ROMANIAN' 'ROMANY' 'RUNDI/GEORGIAN/OSSETIAN' 'RUSSIAN'\n",
      " 'RWANDA/SOTHO/ZULU' 'SAAMI' 'SAMOAN' 'SANGO' 'SANTALI' 'SAPO'\n",
      " 'SARAKOLE/SONINKE' 'SARDINIAN' 'SAURASHTRA' 'SELKUP' 'SERBIAN'\n",
      " 'SERBIAN, HERZEGOVNIAN, MONTENEGRIN' 'SERBO-CROATIAN' 'SERER-SINE' 'SHAN'\n",
      " 'SHI' 'SIDAMO' 'SIGN LANGUAGE' 'SINDHI' 'SINGHALESE' 'SINHALA'\n",
      " 'SLAVONIAN' 'SLOVAK' 'SLOVENIAN' 'SOGDIAN' 'SOMALI' 'SONGE' 'SPANISH'\n",
      " 'SUSU' 'SWAHILI' 'SWAHILI, KISWAHILI' 'SWATI' 'SWEDISH' 'TAGALOG'\n",
      " 'TAIWANESE' 'TAMASHEK' 'TAMIL' 'TELUGU' 'TEM' 'TEMNE' 'TERENO' 'TETUN'\n",
      " 'THAI' 'TIBETAN' 'TIGRE' 'TIGRINYA' 'TOKELAUAN' 'TONGAN' 'TSWANA' 'TULU'\n",
      " 'TUMBUKA' 'TURKISH' 'TURKMAN' 'TUVAN' 'UDMURT' 'UKRAINIAN' 'UMBUNDU'\n",
      " 'URDU' 'URHOBO' 'UYGHUR' 'UZBEK' 'VAI' 'VALENCIAN' 'VIETNAMESE'\n",
      " 'WAKASHAN' 'WALI' 'WALI GHANA' 'WALI SUDAN' 'WALLOON' 'WARAY' 'WELSH'\n",
      " 'WOLAYTTA' 'WOLOF/TAJIK' 'XHOSA' 'YAKUT' 'YAO' 'YAPESE' 'YIDDISH' 'YOMBE'\n",
      " 'YORUBA' 'ZANDE' 'ZAPOTEC']\n"
     ]
    }
   ],
   "source": [
    "Unique_Languages = complete_primary_home_language[\"Language Name\"].unique()\n",
    "print(np.sort(Unique_Languages))"
   ]
  },
  {
   "cell_type": "code",
   "execution_count": 59,
   "id": "fa2208ff",
   "metadata": {},
   "outputs": [
    {
     "data": {
      "text/html": [
       "<div>\n",
       "<style scoped>\n",
       "    .dataframe tbody tr th:only-of-type {\n",
       "        vertical-align: middle;\n",
       "    }\n",
       "\n",
       "    .dataframe tbody tr th {\n",
       "        vertical-align: top;\n",
       "    }\n",
       "\n",
       "    .dataframe thead th {\n",
       "        text-align: right;\n",
       "    }\n",
       "</style>\n",
       "<table border=\"1\" class=\"dataframe\">\n",
       "  <thead>\n",
       "    <tr style=\"text-align: right;\">\n",
       "      <th></th>\n",
       "      <th>Language Name</th>\n",
       "    </tr>\n",
       "    <tr>\n",
       "      <th>School Year</th>\n",
       "      <th></th>\n",
       "    </tr>\n",
       "  </thead>\n",
       "  <tbody>\n",
       "    <tr>\n",
       "      <th>06-07</th>\n",
       "      <td>89</td>\n",
       "    </tr>\n",
       "    <tr>\n",
       "      <th>07-08</th>\n",
       "      <td>84</td>\n",
       "    </tr>\n",
       "    <tr>\n",
       "      <th>08-09</th>\n",
       "      <td>88</td>\n",
       "    </tr>\n",
       "    <tr>\n",
       "      <th>09-10</th>\n",
       "      <td>87</td>\n",
       "    </tr>\n",
       "    <tr>\n",
       "      <th>10-11</th>\n",
       "      <td>128</td>\n",
       "    </tr>\n",
       "    <tr>\n",
       "      <th>11-12</th>\n",
       "      <td>180</td>\n",
       "    </tr>\n",
       "    <tr>\n",
       "      <th>12-13</th>\n",
       "      <td>198</td>\n",
       "    </tr>\n",
       "    <tr>\n",
       "      <th>13-14</th>\n",
       "      <td>203</td>\n",
       "    </tr>\n",
       "    <tr>\n",
       "      <th>14-15</th>\n",
       "      <td>204</td>\n",
       "    </tr>\n",
       "    <tr>\n",
       "      <th>15-16</th>\n",
       "      <td>213</td>\n",
       "    </tr>\n",
       "    <tr>\n",
       "      <th>16-17</th>\n",
       "      <td>216</td>\n",
       "    </tr>\n",
       "    <tr>\n",
       "      <th>17-18</th>\n",
       "      <td>225</td>\n",
       "    </tr>\n",
       "    <tr>\n",
       "      <th>18-19</th>\n",
       "      <td>256</td>\n",
       "    </tr>\n",
       "    <tr>\n",
       "      <th>19-20</th>\n",
       "      <td>268</td>\n",
       "    </tr>\n",
       "    <tr>\n",
       "      <th>20-21</th>\n",
       "      <td>279</td>\n",
       "    </tr>\n",
       "    <tr>\n",
       "      <th>21-22</th>\n",
       "      <td>297</td>\n",
       "    </tr>\n",
       "  </tbody>\n",
       "</table>\n",
       "</div>"
      ],
      "text/plain": [
       "             Language Name\n",
       "School Year               \n",
       "06-07                   89\n",
       "07-08                   84\n",
       "08-09                   88\n",
       "09-10                   87\n",
       "10-11                  128\n",
       "11-12                  180\n",
       "12-13                  198\n",
       "13-14                  203\n",
       "14-15                  204\n",
       "15-16                  213\n",
       "16-17                  216\n",
       "17-18                  225\n",
       "18-19                  256\n",
       "19-20                  268\n",
       "20-21                  279\n",
       "21-22                  297"
      ]
     },
     "execution_count": 59,
     "metadata": {},
     "output_type": "execute_result"
    }
   ],
   "source": [
    "#Unique Langs per year:\n",
    "GroupbyLang = complete_primary_home_language.groupby([\"School Year\"])\n",
    "Unique_lang_Count_peryear = GroupbyLang[\"Language Name\"].nunique()\n",
    "Unique_Lang_peryear_df = Unique_lang_Count_peryear.to_frame()\n",
    "Unique_Lang_peryear_df"
   ]
  },
  {
   "cell_type": "markdown",
   "id": "1ee95b6d",
   "metadata": {},
   "source": [
    "### Distribution of Languages by Year"
   ]
  },
  {
   "cell_type": "code",
   "execution_count": 60,
   "id": "a1abd398",
   "metadata": {},
   "outputs": [],
   "source": [
    "#GroupbyLang = complete_primary_home_language.groupby([\"School Year\",\"Language Name\"])\n",
    "#Unique_Lang_Series = GroupbyLang[\"Student Count\"].sum()\n",
    "#Unique_Lang_df= Unique_Lang_Series.to_frame()\n",
    "#Unique_Lang_df"
   ]
  },
  {
   "cell_type": "code",
   "execution_count": 61,
   "id": "47c6d664",
   "metadata": {},
   "outputs": [
    {
     "data": {
      "text/html": [
       "<div>\n",
       "<style scoped>\n",
       "    .dataframe tbody tr th:only-of-type {\n",
       "        vertical-align: middle;\n",
       "    }\n",
       "\n",
       "    .dataframe tbody tr th {\n",
       "        vertical-align: top;\n",
       "    }\n",
       "\n",
       "    .dataframe thead th {\n",
       "        text-align: right;\n",
       "    }\n",
       "</style>\n",
       "<table border=\"1\" class=\"dataframe\">\n",
       "  <thead>\n",
       "    <tr style=\"text-align: right;\">\n",
       "      <th></th>\n",
       "      <th>School Year</th>\n",
       "      <th>Language Name</th>\n",
       "      <th>Student Count</th>\n",
       "    </tr>\n",
       "  </thead>\n",
       "  <tbody>\n",
       "    <tr>\n",
       "      <th>0</th>\n",
       "      <td>06-07</td>\n",
       "      <td>ADANGME/AKAN/DAGOMBA/DAGBANE/FANTE/FANTI/GA/TW...</td>\n",
       "      <td>121.0</td>\n",
       "    </tr>\n",
       "    <tr>\n",
       "      <th>1</th>\n",
       "      <td>06-07</td>\n",
       "      <td>AFGHAN</td>\n",
       "      <td>21.0</td>\n",
       "    </tr>\n",
       "    <tr>\n",
       "      <th>2</th>\n",
       "      <td>06-07</td>\n",
       "      <td>AFRIKAANS</td>\n",
       "      <td>525.0</td>\n",
       "    </tr>\n",
       "    <tr>\n",
       "      <th>3</th>\n",
       "      <td>06-07</td>\n",
       "      <td>ALBANIAN</td>\n",
       "      <td>42.0</td>\n",
       "    </tr>\n",
       "    <tr>\n",
       "      <th>4</th>\n",
       "      <td>06-07</td>\n",
       "      <td>AMERICAN INDIAN</td>\n",
       "      <td>311.0</td>\n",
       "    </tr>\n",
       "    <tr>\n",
       "      <th>...</th>\n",
       "      <td>...</td>\n",
       "      <td>...</td>\n",
       "      <td>...</td>\n",
       "    </tr>\n",
       "    <tr>\n",
       "      <th>3010</th>\n",
       "      <td>21-22</td>\n",
       "      <td>YAPESE</td>\n",
       "      <td>1.0</td>\n",
       "    </tr>\n",
       "    <tr>\n",
       "      <th>3011</th>\n",
       "      <td>21-22</td>\n",
       "      <td>YOMBE</td>\n",
       "      <td>4.0</td>\n",
       "    </tr>\n",
       "    <tr>\n",
       "      <th>3012</th>\n",
       "      <td>21-22</td>\n",
       "      <td>YORUBA</td>\n",
       "      <td>491.0</td>\n",
       "    </tr>\n",
       "    <tr>\n",
       "      <th>3013</th>\n",
       "      <td>21-22</td>\n",
       "      <td>ZANDE</td>\n",
       "      <td>1.0</td>\n",
       "    </tr>\n",
       "    <tr>\n",
       "      <th>3014</th>\n",
       "      <td>21-22</td>\n",
       "      <td>ZAPOTEC</td>\n",
       "      <td>2.0</td>\n",
       "    </tr>\n",
       "  </tbody>\n",
       "</table>\n",
       "<p>3015 rows × 3 columns</p>\n",
       "</div>"
      ],
      "text/plain": [
       "     School Year                                      Language Name  \\\n",
       "0          06-07  ADANGME/AKAN/DAGOMBA/DAGBANE/FANTE/FANTI/GA/TW...   \n",
       "1          06-07                                             AFGHAN   \n",
       "2          06-07                                          AFRIKAANS   \n",
       "3          06-07                                           ALBANIAN   \n",
       "4          06-07                                    AMERICAN INDIAN   \n",
       "...          ...                                                ...   \n",
       "3010       21-22                                             YAPESE   \n",
       "3011       21-22                                              YOMBE   \n",
       "3012       21-22                                             YORUBA   \n",
       "3013       21-22                                              ZANDE   \n",
       "3014       21-22                                            ZAPOTEC   \n",
       "\n",
       "      Student Count  \n",
       "0             121.0  \n",
       "1              21.0  \n",
       "2             525.0  \n",
       "3              42.0  \n",
       "4             311.0  \n",
       "...             ...  \n",
       "3010            1.0  \n",
       "3011            4.0  \n",
       "3012          491.0  \n",
       "3013            1.0  \n",
       "3014            2.0  \n",
       "\n",
       "[3015 rows x 3 columns]"
      ]
     },
     "execution_count": 61,
     "metadata": {},
     "output_type": "execute_result"
    }
   ],
   "source": [
    "#Using groupby to calculate number of students per school year per language\n",
    "GroupbyLang = complete_primary_home_language.groupby([\"School Year\",\"Language Name\"], as_index=False)\n",
    "Unique_lang_df = GroupbyLang[\"Student Count\"].sum()\n",
    "Unique_lang_df"
   ]
  },
  {
   "cell_type": "code",
   "execution_count": 62,
   "id": "a38bde8c",
   "metadata": {},
   "outputs": [
    {
     "data": {
      "text/html": [
       "<div>\n",
       "<style scoped>\n",
       "    .dataframe tbody tr th:only-of-type {\n",
       "        vertical-align: middle;\n",
       "    }\n",
       "\n",
       "    .dataframe tbody tr th {\n",
       "        vertical-align: top;\n",
       "    }\n",
       "\n",
       "    .dataframe thead tr th {\n",
       "        text-align: left;\n",
       "    }\n",
       "\n",
       "    .dataframe thead tr:last-of-type th {\n",
       "        text-align: right;\n",
       "    }\n",
       "</style>\n",
       "<table border=\"1\" class=\"dataframe\">\n",
       "  <thead>\n",
       "    <tr>\n",
       "      <th></th>\n",
       "      <th colspan=\"16\" halign=\"left\">Student Count</th>\n",
       "    </tr>\n",
       "    <tr>\n",
       "      <th>School Year</th>\n",
       "      <th>06-07</th>\n",
       "      <th>07-08</th>\n",
       "      <th>08-09</th>\n",
       "      <th>09-10</th>\n",
       "      <th>10-11</th>\n",
       "      <th>11-12</th>\n",
       "      <th>12-13</th>\n",
       "      <th>13-14</th>\n",
       "      <th>14-15</th>\n",
       "      <th>15-16</th>\n",
       "      <th>16-17</th>\n",
       "      <th>17-18</th>\n",
       "      <th>18-19</th>\n",
       "      <th>19-20</th>\n",
       "      <th>20-21</th>\n",
       "      <th>21-22</th>\n",
       "    </tr>\n",
       "    <tr>\n",
       "      <th>Language Name</th>\n",
       "      <th></th>\n",
       "      <th></th>\n",
       "      <th></th>\n",
       "      <th></th>\n",
       "      <th></th>\n",
       "      <th></th>\n",
       "      <th></th>\n",
       "      <th></th>\n",
       "      <th></th>\n",
       "      <th></th>\n",
       "      <th></th>\n",
       "      <th></th>\n",
       "      <th></th>\n",
       "      <th></th>\n",
       "      <th></th>\n",
       "      <th></th>\n",
       "    </tr>\n",
       "  </thead>\n",
       "  <tbody>\n",
       "    <tr>\n",
       "      <th>ABKHAZIAN</th>\n",
       "      <td>0.0</td>\n",
       "      <td>0.0</td>\n",
       "      <td>0.0</td>\n",
       "      <td>0.0</td>\n",
       "      <td>0.0</td>\n",
       "      <td>0.0</td>\n",
       "      <td>0.0</td>\n",
       "      <td>0.0</td>\n",
       "      <td>0.0</td>\n",
       "      <td>0.0</td>\n",
       "      <td>0.0</td>\n",
       "      <td>0.0</td>\n",
       "      <td>3.0</td>\n",
       "      <td>8.0</td>\n",
       "      <td>10.0</td>\n",
       "      <td>10.0</td>\n",
       "    </tr>\n",
       "    <tr>\n",
       "      <th>ABON</th>\n",
       "      <td>0.0</td>\n",
       "      <td>0.0</td>\n",
       "      <td>0.0</td>\n",
       "      <td>0.0</td>\n",
       "      <td>0.0</td>\n",
       "      <td>0.0</td>\n",
       "      <td>0.0</td>\n",
       "      <td>0.0</td>\n",
       "      <td>0.0</td>\n",
       "      <td>0.0</td>\n",
       "      <td>0.0</td>\n",
       "      <td>0.0</td>\n",
       "      <td>8.0</td>\n",
       "      <td>13.0</td>\n",
       "      <td>14.0</td>\n",
       "      <td>12.0</td>\n",
       "    </tr>\n",
       "    <tr>\n",
       "      <th>ACEH</th>\n",
       "      <td>0.0</td>\n",
       "      <td>0.0</td>\n",
       "      <td>0.0</td>\n",
       "      <td>0.0</td>\n",
       "      <td>0.0</td>\n",
       "      <td>0.0</td>\n",
       "      <td>0.0</td>\n",
       "      <td>0.0</td>\n",
       "      <td>0.0</td>\n",
       "      <td>0.0</td>\n",
       "      <td>0.0</td>\n",
       "      <td>0.0</td>\n",
       "      <td>1.0</td>\n",
       "      <td>0.0</td>\n",
       "      <td>0.0</td>\n",
       "      <td>2.0</td>\n",
       "    </tr>\n",
       "    <tr>\n",
       "      <th>ACHOLI</th>\n",
       "      <td>0.0</td>\n",
       "      <td>0.0</td>\n",
       "      <td>0.0</td>\n",
       "      <td>0.0</td>\n",
       "      <td>0.0</td>\n",
       "      <td>5.0</td>\n",
       "      <td>7.0</td>\n",
       "      <td>7.0</td>\n",
       "      <td>7.0</td>\n",
       "      <td>9.0</td>\n",
       "      <td>9.0</td>\n",
       "      <td>12.0</td>\n",
       "      <td>13.0</td>\n",
       "      <td>17.0</td>\n",
       "      <td>15.0</td>\n",
       "      <td>17.0</td>\n",
       "    </tr>\n",
       "    <tr>\n",
       "      <th>ADANGME/AKAN/DAGOMBA/DAGBANE/FANTE/FANTI/GA/TWI/EWE/GURMA</th>\n",
       "      <td>121.0</td>\n",
       "      <td>181.0</td>\n",
       "      <td>193.0</td>\n",
       "      <td>206.0</td>\n",
       "      <td>242.0</td>\n",
       "      <td>268.0</td>\n",
       "      <td>297.0</td>\n",
       "      <td>343.0</td>\n",
       "      <td>388.0</td>\n",
       "      <td>387.0</td>\n",
       "      <td>403.0</td>\n",
       "      <td>468.0</td>\n",
       "      <td>508.0</td>\n",
       "      <td>552.0</td>\n",
       "      <td>543.0</td>\n",
       "      <td>548.0</td>\n",
       "    </tr>\n",
       "    <tr>\n",
       "      <th>...</th>\n",
       "      <td>...</td>\n",
       "      <td>...</td>\n",
       "      <td>...</td>\n",
       "      <td>...</td>\n",
       "      <td>...</td>\n",
       "      <td>...</td>\n",
       "      <td>...</td>\n",
       "      <td>...</td>\n",
       "      <td>...</td>\n",
       "      <td>...</td>\n",
       "      <td>...</td>\n",
       "      <td>...</td>\n",
       "      <td>...</td>\n",
       "      <td>...</td>\n",
       "      <td>...</td>\n",
       "      <td>...</td>\n",
       "    </tr>\n",
       "    <tr>\n",
       "      <th>YIDDISH</th>\n",
       "      <td>0.0</td>\n",
       "      <td>1.0</td>\n",
       "      <td>1.0</td>\n",
       "      <td>1.0</td>\n",
       "      <td>1.0</td>\n",
       "      <td>0.0</td>\n",
       "      <td>0.0</td>\n",
       "      <td>0.0</td>\n",
       "      <td>0.0</td>\n",
       "      <td>2.0</td>\n",
       "      <td>0.0</td>\n",
       "      <td>0.0</td>\n",
       "      <td>0.0</td>\n",
       "      <td>0.0</td>\n",
       "      <td>0.0</td>\n",
       "      <td>0.0</td>\n",
       "    </tr>\n",
       "    <tr>\n",
       "      <th>YOMBE</th>\n",
       "      <td>0.0</td>\n",
       "      <td>0.0</td>\n",
       "      <td>0.0</td>\n",
       "      <td>0.0</td>\n",
       "      <td>0.0</td>\n",
       "      <td>0.0</td>\n",
       "      <td>1.0</td>\n",
       "      <td>2.0</td>\n",
       "      <td>1.0</td>\n",
       "      <td>1.0</td>\n",
       "      <td>1.0</td>\n",
       "      <td>2.0</td>\n",
       "      <td>4.0</td>\n",
       "      <td>4.0</td>\n",
       "      <td>4.0</td>\n",
       "      <td>4.0</td>\n",
       "    </tr>\n",
       "    <tr>\n",
       "      <th>YORUBA</th>\n",
       "      <td>257.0</td>\n",
       "      <td>265.0</td>\n",
       "      <td>254.0</td>\n",
       "      <td>264.0</td>\n",
       "      <td>255.0</td>\n",
       "      <td>283.0</td>\n",
       "      <td>294.0</td>\n",
       "      <td>304.0</td>\n",
       "      <td>327.0</td>\n",
       "      <td>330.0</td>\n",
       "      <td>352.0</td>\n",
       "      <td>383.0</td>\n",
       "      <td>420.0</td>\n",
       "      <td>444.0</td>\n",
       "      <td>480.0</td>\n",
       "      <td>491.0</td>\n",
       "    </tr>\n",
       "    <tr>\n",
       "      <th>ZANDE</th>\n",
       "      <td>0.0</td>\n",
       "      <td>0.0</td>\n",
       "      <td>0.0</td>\n",
       "      <td>0.0</td>\n",
       "      <td>0.0</td>\n",
       "      <td>0.0</td>\n",
       "      <td>0.0</td>\n",
       "      <td>0.0</td>\n",
       "      <td>0.0</td>\n",
       "      <td>0.0</td>\n",
       "      <td>0.0</td>\n",
       "      <td>0.0</td>\n",
       "      <td>0.0</td>\n",
       "      <td>2.0</td>\n",
       "      <td>3.0</td>\n",
       "      <td>1.0</td>\n",
       "    </tr>\n",
       "    <tr>\n",
       "      <th>ZAPOTEC</th>\n",
       "      <td>0.0</td>\n",
       "      <td>0.0</td>\n",
       "      <td>0.0</td>\n",
       "      <td>0.0</td>\n",
       "      <td>0.0</td>\n",
       "      <td>0.0</td>\n",
       "      <td>0.0</td>\n",
       "      <td>0.0</td>\n",
       "      <td>0.0</td>\n",
       "      <td>0.0</td>\n",
       "      <td>0.0</td>\n",
       "      <td>1.0</td>\n",
       "      <td>2.0</td>\n",
       "      <td>1.0</td>\n",
       "      <td>1.0</td>\n",
       "      <td>2.0</td>\n",
       "    </tr>\n",
       "  </tbody>\n",
       "</table>\n",
       "<p>350 rows × 16 columns</p>\n",
       "</div>"
      ],
      "text/plain": [
       "                                                   Student Count         \\\n",
       "School Year                                                06-07  07-08   \n",
       "Language Name                                                             \n",
       "ABKHAZIAN                                                    0.0    0.0   \n",
       "ABON                                                         0.0    0.0   \n",
       "ACEH                                                         0.0    0.0   \n",
       "ACHOLI                                                       0.0    0.0   \n",
       "ADANGME/AKAN/DAGOMBA/DAGBANE/FANTE/FANTI/GA/TWI...         121.0  181.0   \n",
       "...                                                          ...    ...   \n",
       "YIDDISH                                                      0.0    1.0   \n",
       "YOMBE                                                        0.0    0.0   \n",
       "YORUBA                                                     257.0  265.0   \n",
       "ZANDE                                                        0.0    0.0   \n",
       "ZAPOTEC                                                      0.0    0.0   \n",
       "\n",
       "                                                                         \\\n",
       "School Year                                         08-09  09-10  10-11   \n",
       "Language Name                                                             \n",
       "ABKHAZIAN                                             0.0    0.0    0.0   \n",
       "ABON                                                  0.0    0.0    0.0   \n",
       "ACEH                                                  0.0    0.0    0.0   \n",
       "ACHOLI                                                0.0    0.0    0.0   \n",
       "ADANGME/AKAN/DAGOMBA/DAGBANE/FANTE/FANTI/GA/TWI...  193.0  206.0  242.0   \n",
       "...                                                   ...    ...    ...   \n",
       "YIDDISH                                               1.0    1.0    1.0   \n",
       "YOMBE                                                 0.0    0.0    0.0   \n",
       "YORUBA                                              254.0  264.0  255.0   \n",
       "ZANDE                                                 0.0    0.0    0.0   \n",
       "ZAPOTEC                                               0.0    0.0    0.0   \n",
       "\n",
       "                                                                         \\\n",
       "School Year                                         11-12  12-13  13-14   \n",
       "Language Name                                                             \n",
       "ABKHAZIAN                                             0.0    0.0    0.0   \n",
       "ABON                                                  0.0    0.0    0.0   \n",
       "ACEH                                                  0.0    0.0    0.0   \n",
       "ACHOLI                                                5.0    7.0    7.0   \n",
       "ADANGME/AKAN/DAGOMBA/DAGBANE/FANTE/FANTI/GA/TWI...  268.0  297.0  343.0   \n",
       "...                                                   ...    ...    ...   \n",
       "YIDDISH                                               0.0    0.0    0.0   \n",
       "YOMBE                                                 0.0    1.0    2.0   \n",
       "YORUBA                                              283.0  294.0  304.0   \n",
       "ZANDE                                                 0.0    0.0    0.0   \n",
       "ZAPOTEC                                               0.0    0.0    0.0   \n",
       "\n",
       "                                                                         \\\n",
       "School Year                                         14-15  15-16  16-17   \n",
       "Language Name                                                             \n",
       "ABKHAZIAN                                             0.0    0.0    0.0   \n",
       "ABON                                                  0.0    0.0    0.0   \n",
       "ACEH                                                  0.0    0.0    0.0   \n",
       "ACHOLI                                                7.0    9.0    9.0   \n",
       "ADANGME/AKAN/DAGOMBA/DAGBANE/FANTE/FANTI/GA/TWI...  388.0  387.0  403.0   \n",
       "...                                                   ...    ...    ...   \n",
       "YIDDISH                                               0.0    2.0    0.0   \n",
       "YOMBE                                                 1.0    1.0    1.0   \n",
       "YORUBA                                              327.0  330.0  352.0   \n",
       "ZANDE                                                 0.0    0.0    0.0   \n",
       "ZAPOTEC                                               0.0    0.0    0.0   \n",
       "\n",
       "                                                                         \\\n",
       "School Year                                         17-18  18-19  19-20   \n",
       "Language Name                                                             \n",
       "ABKHAZIAN                                             0.0    3.0    8.0   \n",
       "ABON                                                  0.0    8.0   13.0   \n",
       "ACEH                                                  0.0    1.0    0.0   \n",
       "ACHOLI                                               12.0   13.0   17.0   \n",
       "ADANGME/AKAN/DAGOMBA/DAGBANE/FANTE/FANTI/GA/TWI...  468.0  508.0  552.0   \n",
       "...                                                   ...    ...    ...   \n",
       "YIDDISH                                               0.0    0.0    0.0   \n",
       "YOMBE                                                 2.0    4.0    4.0   \n",
       "YORUBA                                              383.0  420.0  444.0   \n",
       "ZANDE                                                 0.0    0.0    2.0   \n",
       "ZAPOTEC                                               1.0    2.0    1.0   \n",
       "\n",
       "                                                                  \n",
       "School Year                                         20-21  21-22  \n",
       "Language Name                                                     \n",
       "ABKHAZIAN                                            10.0   10.0  \n",
       "ABON                                                 14.0   12.0  \n",
       "ACEH                                                  0.0    2.0  \n",
       "ACHOLI                                               15.0   17.0  \n",
       "ADANGME/AKAN/DAGOMBA/DAGBANE/FANTE/FANTI/GA/TWI...  543.0  548.0  \n",
       "...                                                   ...    ...  \n",
       "YIDDISH                                               0.0    0.0  \n",
       "YOMBE                                                 4.0    4.0  \n",
       "YORUBA                                              480.0  491.0  \n",
       "ZANDE                                                 3.0    1.0  \n",
       "ZAPOTEC                                               1.0    2.0  \n",
       "\n",
       "[350 rows x 16 columns]"
      ]
     },
     "execution_count": 62,
     "metadata": {},
     "output_type": "execute_result"
    }
   ],
   "source": [
    "#Better representation of Data by unstacking School year\n",
    "UniqueLang_yearsunstack = Unique_lang_df.set_index([\"Language Name\",\"School Year\"], drop=True).unstack(\"School Year\")\n",
    "UniqueLang_yearsunstack.fillna(0)"
   ]
  },
  {
   "cell_type": "markdown",
   "id": "315de4a0",
   "metadata": {},
   "source": [
    "# *Maryam's Code Starts Here!*"
   ]
  },
  {
   "cell_type": "markdown",
   "id": "af7cebaa",
   "metadata": {},
   "source": [
    "### Distribution of Languages by Geography"
   ]
  },
  {
   "cell_type": "code",
   "execution_count": 63,
   "id": "fee9a29f",
   "metadata": {},
   "outputs": [
    {
     "data": {
      "text/plain": [
       "Strata Name\n",
       "7 County Metro Area excluding MPLS/STP         94\n",
       "Minneapolis and Saint Paul                     77\n",
       "Outstate - Enrollment 2000 or more             79\n",
       "Outstate - Enrollment between 1000 and 1999    45\n",
       "Outstate - Enrollment between 500 and 999      35\n",
       "Outstate - Enrollment less than 500            31\n",
       "Name: Language Name, dtype: int64"
      ]
     },
     "execution_count": 63,
     "metadata": {},
     "output_type": "execute_result"
    }
   ],
   "source": [
    "lang_2007_geo = primary_home_language_2007_final_df.groupby(\"Strata Name\").nunique()\n",
    "lang_2007_geo[\"Language Name\"]"
   ]
  },
  {
   "cell_type": "code",
   "execution_count": 64,
   "id": "3e09b6ab",
   "metadata": {
    "scrolled": true
   },
   "outputs": [
    {
     "data": {
      "text/plain": [
       "Strata Name\n",
       "County Metro Area excluding MPLS/STP           87\n",
       "Minneapolis and Saint Paul                     78\n",
       "Outstate - Enrollment 2000 or more             72\n",
       "Outstate - Enrollment between 1000 and 1999    46\n",
       "Outstate - Enrollment between 500 and 999      40\n",
       "Outstate - Enrollment less than 500            33\n",
       "Name: Language Name, dtype: int64"
      ]
     },
     "execution_count": 64,
     "metadata": {},
     "output_type": "execute_result"
    }
   ],
   "source": [
    "lang_2008_geo = primary_home_language_2008_final_df.groupby(\"Strata Name\").nunique()\n",
    "lang_2008_geo[\"Language Name\"]"
   ]
  },
  {
   "cell_type": "code",
   "execution_count": 65,
   "id": "dffdf43c",
   "metadata": {},
   "outputs": [
    {
     "data": {
      "text/plain": [
       "Strata Name\n",
       "County Metro Area excluding MPLS/STP           91\n",
       "Minneapolis and Saint Paul                     78\n",
       "Outstate - Enrollment 2000 or more             79\n",
       "Outstate - Enrollment between 1000 and 1999    47\n",
       "Outstate - Enrollment between 500 and 999      39\n",
       "Outstate - Enrollment less than 500            28\n",
       "Name: Language Name, dtype: int64"
      ]
     },
     "execution_count": 65,
     "metadata": {},
     "output_type": "execute_result"
    }
   ],
   "source": [
    "lang_2009_geo = primary_home_language_2009_final_df.groupby(\"Strata Name\").nunique()\n",
    "lang_2009_geo[\"Language Name\"]"
   ]
  },
  {
   "cell_type": "code",
   "execution_count": 66,
   "id": "b683f2fb",
   "metadata": {},
   "outputs": [
    {
     "data": {
      "text/plain": [
       "Strata Name\n",
       "County Metro Area excluding MPLS/STP           95\n",
       "Minneapolis and Saint Paul                     78\n",
       "Outstate - Enrollment 2000 or more             79\n",
       "Outstate - Enrollment between 1000 and 1999    53\n",
       "Outstate - Enrollment between 500 and 999      39\n",
       "Outstate - Enrollment less than 500            23\n",
       "Name: Language Name, dtype: int64"
      ]
     },
     "execution_count": 66,
     "metadata": {},
     "output_type": "execute_result"
    }
   ],
   "source": [
    "lang_2010_geo = primary_home_language_2010_final_df.groupby(\"Strata Name\").nunique()\n",
    "lang_2010_geo[\"Language Name\"]"
   ]
  },
  {
   "cell_type": "code",
   "execution_count": 67,
   "id": "4a673394",
   "metadata": {},
   "outputs": [
    {
     "data": {
      "text/plain": [
       "Strata Name\n",
       "County Metro Area excluding MPLS/STP           138\n",
       "Minneapolis and Saint Paul                      81\n",
       "Outstate - Enrollment 2000 or more              88\n",
       "Outstate - Enrollment between 1000 and 1999     49\n",
       "Outstate - Enrollment between 500 and 999       45\n",
       "Outstate - Enrollment less than 500             26\n",
       "Name: Language Name, dtype: int64"
      ]
     },
     "execution_count": 67,
     "metadata": {},
     "output_type": "execute_result"
    }
   ],
   "source": [
    "lang_2011_geo = primary_home_language_2011_final_df.groupby(\"Strata Name\").nunique()\n",
    "lang_2011_geo[\"Language Name\"]"
   ]
  },
  {
   "cell_type": "code",
   "execution_count": 68,
   "id": "1d0fd4de",
   "metadata": {},
   "outputs": [
    {
     "data": {
      "text/plain": [
       "Strata Name\n",
       "County Metro Area excluding MPLS/STP           185\n",
       "Minneapolis and Saint Paul                     119\n",
       "Outstate - Enrollment 2000 or more             113\n",
       "Outstate - Enrollment between 1000 and 1999     50\n",
       "Outstate - Enrollment between 500 and 999       51\n",
       "Outstate - Enrollment less than 500             33\n",
       "Name: Language Name, dtype: int64"
      ]
     },
     "execution_count": 68,
     "metadata": {},
     "output_type": "execute_result"
    }
   ],
   "source": [
    "lang_2012_geo = primary_home_language_2012_final_df.groupby(\"Strata Name\").nunique()\n",
    "lang_2012_geo[\"Language Name\"]"
   ]
  },
  {
   "cell_type": "code",
   "execution_count": 69,
   "id": "57772d58",
   "metadata": {},
   "outputs": [
    {
     "data": {
      "text/plain": [
       "Strata Name\n",
       "County Metro Area excluding MPLS/STP           203\n",
       "Minneapolis and Saint Paul                     120\n",
       "Outstate - Enrollment 2000 or more             117\n",
       "Outstate - Enrollment between 1000 and 1999     64\n",
       "Outstate - Enrollment between 500 and 999       56\n",
       "Outstate - Enrollment less than 500             36\n",
       "Name: Language Name, dtype: int64"
      ]
     },
     "execution_count": 69,
     "metadata": {},
     "output_type": "execute_result"
    }
   ],
   "source": [
    "lang_2013_geo = primary_home_language_2013_final_df.groupby(\"Strata Name\").nunique()\n",
    "lang_2013_geo[\"Language Name\"]"
   ]
  },
  {
   "cell_type": "code",
   "execution_count": 70,
   "id": "e681d7b1",
   "metadata": {},
   "outputs": [
    {
     "data": {
      "text/plain": [
       "Strata Name\n",
       "County Metro Area excluding MPLS/STP           215\n",
       "Minneapolis and Saint Paul                     120\n",
       "Outstate - Enrollment 2000 or more             123\n",
       "Outstate - Enrollment between 1000 and 1999     75\n",
       "Outstate - Enrollment between 500 and 999       52\n",
       "Outstate - Enrollment less than 500             26\n",
       "Name: Language Name, dtype: int64"
      ]
     },
     "execution_count": 70,
     "metadata": {},
     "output_type": "execute_result"
    }
   ],
   "source": [
    "lang_2014_geo = primary_home_language_2014_final_df.groupby(\"Strata Name\").nunique()\n",
    "lang_2014_geo[\"Language Name\"]"
   ]
  },
  {
   "cell_type": "code",
   "execution_count": 71,
   "id": "41b15c4e",
   "metadata": {},
   "outputs": [
    {
     "data": {
      "text/plain": [
       "Strata Name\n",
       "County Metro Area excluding MPLS/STP           220\n",
       "Minneapolis and Saint Paul                     128\n",
       "Outstate - Enrollment 2000 or more             127\n",
       "Outstate - Enrollment between 1000 and 1999     71\n",
       "Outstate - Enrollment between 500 and 999       51\n",
       "Outstate - Enrollment less than 500             29\n",
       "Name: Language Name, dtype: int64"
      ]
     },
     "execution_count": 71,
     "metadata": {},
     "output_type": "execute_result"
    }
   ],
   "source": [
    "lang_2015_geo = primary_home_language_2015_final_df.groupby(\"Strata Name\").nunique()\n",
    "lang_2015_geo[\"Language Name\"]"
   ]
  },
  {
   "cell_type": "code",
   "execution_count": 72,
   "id": "4536fd3c",
   "metadata": {},
   "outputs": [
    {
     "data": {
      "text/plain": [
       "Strata Name\n",
       "County Metro Area excluding MPLS/STP           221\n",
       "Minneapolis and Saint Paul                     128\n",
       "Outstate - Enrollment 2000 or more             137\n",
       "Outstate - Enrollment between 1000 and 1999     85\n",
       "Outstate - Enrollment between 500 and 999       60\n",
       "Outstate - Enrollment less than 500             38\n",
       "Name: Language Name, dtype: int64"
      ]
     },
     "execution_count": 72,
     "metadata": {},
     "output_type": "execute_result"
    }
   ],
   "source": [
    "lang_2016_geo = primary_home_language_2016_final_df.groupby(\"Strata Name\").nunique()\n",
    "lang_2016_geo[\"Language Name\"]"
   ]
  },
  {
   "cell_type": "code",
   "execution_count": 73,
   "id": "d9895049",
   "metadata": {},
   "outputs": [
    {
     "data": {
      "text/plain": [
       "Strata Name\n",
       "County Metro Area excluding MPLS/STP           227\n",
       "Minneapolis and Saint Paul                     131\n",
       "Outstate - Enrollment 2000 or more             151\n",
       "Outstate - Enrollment between 1000 and 1999     69\n",
       "Outstate - Enrollment between 500 and 999       53\n",
       "Outstate - Enrollment less than 500             32\n",
       "Name: Language Name, dtype: int64"
      ]
     },
     "execution_count": 73,
     "metadata": {},
     "output_type": "execute_result"
    }
   ],
   "source": [
    "lang_2017_geo = primary_home_language_2017_final_df.groupby(\"Strata Name\").nunique()\n",
    "lang_2017_geo[\"Language Name\"]"
   ]
  },
  {
   "cell_type": "code",
   "execution_count": 74,
   "id": "727bbe6b",
   "metadata": {},
   "outputs": [
    {
     "data": {
      "text/plain": [
       "Strata Name\n",
       "County Metro Area excluding MPLS/STP           238\n",
       "Minneapolis and Saint Paul                     144\n",
       "Minneapolis and Saint Paul (MPLS/STP)            1\n",
       "Outstate - Enrollment 2000 or more             155\n",
       "Outstate - Enrollment between 1000 and 1999     73\n",
       "Outstate - Enrollment between 500 and 999       60\n",
       "Outstate - Enrollment less than 500             40\n",
       "Name: Language Name, dtype: int64"
      ]
     },
     "execution_count": 74,
     "metadata": {},
     "output_type": "execute_result"
    }
   ],
   "source": [
    "lang_2018_geo = primary_home_language_2018_final_df.groupby(\"Strata Name\").nunique()\n",
    "lang_2018_geo[\"Language Name\"]"
   ]
  },
  {
   "cell_type": "code",
   "execution_count": 75,
   "id": "847c9294",
   "metadata": {},
   "outputs": [
    {
     "data": {
      "text/plain": [
       "Strata Name\n",
       "County Metro Area excluding MPLS/STP           272\n",
       "Minneapolis and Saint Paul                     147\n",
       "Outstate - Enrollment 2000 or more             172\n",
       "Outstate - Enrollment between 1000 and 1999     89\n",
       "Outstate - Enrollment between 500 and 999       68\n",
       "Outstate - Enrollment less than 500             44\n",
       "Name: Language Name, dtype: int64"
      ]
     },
     "execution_count": 75,
     "metadata": {},
     "output_type": "execute_result"
    }
   ],
   "source": [
    "lang_2019_geo = primary_home_language_2019_final_df.groupby(\"Strata Name\").nunique()\n",
    "lang_2019_geo[\"Language Name\"]"
   ]
  },
  {
   "cell_type": "code",
   "execution_count": 76,
   "id": "dfaaef71",
   "metadata": {},
   "outputs": [
    {
     "data": {
      "text/plain": [
       "Strata Name\n",
       "County Metro Area excluding MPLS/STP           283\n",
       "Minneapolis and Saint Paul                     146\n",
       "Minneapolis and Saint Paul (MPLS/STP)            1\n",
       "Outstate - Enrollment 2000 or more             185\n",
       "Outstate - Enrollment between 1000 and 1999     93\n",
       "Outstate - Enrollment between 500 and 999       80\n",
       "Outstate - Enrollment less than 500             53\n",
       "Name: Language Name, dtype: int64"
      ]
     },
     "execution_count": 76,
     "metadata": {},
     "output_type": "execute_result"
    }
   ],
   "source": [
    "lang_2020_geo = primary_home_language_2020_final_df.groupby(\"Strata Name\").nunique()\n",
    "lang_2020_geo[\"Language Name\"]"
   ]
  },
  {
   "cell_type": "code",
   "execution_count": 77,
   "id": "017467ed",
   "metadata": {},
   "outputs": [
    {
     "data": {
      "text/plain": [
       "Strata Name\n",
       "County Metro Area excluding MPLS/STP           296\n",
       "Minneapolis and Saint Paul                     132\n",
       "Outstate - Enrollment 2000 or more             194\n",
       "Outstate - Enrollment between 1000 and 1999     91\n",
       "Outstate - Enrollment between 500 and 999       83\n",
       "Outstate - Enrollment less than 500             56\n",
       "Name: Language Name, dtype: int64"
      ]
     },
     "execution_count": 77,
     "metadata": {},
     "output_type": "execute_result"
    }
   ],
   "source": [
    "lang_2021_geo = primary_home_language_2021_final_df.groupby(\"Strata Name\").nunique()\n",
    "lang_2021_geo[\"Language Name\"]"
   ]
  },
  {
   "cell_type": "code",
   "execution_count": 78,
   "id": "a90e4802",
   "metadata": {},
   "outputs": [
    {
     "data": {
      "text/plain": [
       "Strata Name\n",
       "County Metro Area excluding MPLS/STP           319\n",
       "Minneapolis and Saint Paul                     134\n",
       "Minneapolis and Saint Paul (MPLS/STP)            1\n",
       "Outstate - Enrollment 2000 or more             198\n",
       "Outstate - Enrollment between 1000 and 1999     99\n",
       "Outstate - Enrollment between 500 and 999       83\n",
       "Outstate - Enrollment less than 500             53\n",
       "Name: Language Name, dtype: int64"
      ]
     },
     "execution_count": 78,
     "metadata": {},
     "output_type": "execute_result"
    }
   ],
   "source": [
    "lang_2022_geo = primary_home_language_2022_final_df.groupby(\"Strata Name\").nunique()\n",
    "lang_2022_geo[\"Language Name\"]"
   ]
  },
  {
   "cell_type": "markdown",
   "id": "602facdd",
   "metadata": {},
   "source": [
    "# *Sam's Code Starts Here!*"
   ]
  },
  {
   "cell_type": "markdown",
   "id": "fa05d31a",
   "metadata": {},
   "source": [
    "### Graphs of Languages Over Time"
   ]
  },
  {
   "cell_type": "code",
   "execution_count": 79,
   "id": "e6b3d0a5",
   "metadata": {},
   "outputs": [],
   "source": [
    "# Distribution of languages by Strata"
   ]
  },
  {
   "cell_type": "code",
   "execution_count": 80,
   "id": "16c49a4d",
   "metadata": {},
   "outputs": [],
   "source": [
    "tick_marks = [1,2,3,4,5,6]"
   ]
  },
  {
   "cell_type": "code",
   "execution_count": 91,
   "id": "2ca97c07",
   "metadata": {},
   "outputs": [],
   "source": [
    "# Add labels on the bars\n",
    "\n",
    "def add_value_labels(x_labels, y_values):\n",
    "    for i in range(1, len(x_labels)+1):\n",
    "        plt.text(i, y_values[i-1], y_values[i-1], ha = \"center\")\n",
    "# Code to label bars borrowed from: https://www.delftstack.com/howto/matplotlib/add-value-labels-on-matplotlib-bar-chart/"
   ]
  },
  {
   "cell_type": "code",
   "execution_count": 81,
   "id": "fdb64545",
   "metadata": {},
   "outputs": [],
   "source": [
    "# 2007"
   ]
  },
  {
   "cell_type": "code",
   "execution_count": 96,
   "id": "9bb7c836",
   "metadata": {},
   "outputs": [
    {
     "data": {
      "image/png": "[encoded data removed]",
      "text/plain": [
       "<Figure size 432x288 with 1 Axes>"
      ]
     },
     "metadata": {
      "needs_background": "light"
     },
     "output_type": "display_data"
    }
   ],
   "source": [
    "bar_2007_geo = plt.bar(tick_marks, lang_2007_geo[\"Language Name\"])\n",
    "\n",
    "plt.xticks(tick_marks, lang_2007_geo.index, rotation = \"vertical\")\n",
    "plt.title(\"Languages by Strata 2007\")\n",
    "plt.ylabel(\"Unique Languages Spoken\")\n",
    "\n",
    "add_value_labels(lang_2007_geo.index, lang_2007_geo[\"Language Name\"])\n",
    "\n",
    "plt.show()"
   ]
  },
  {
   "cell_type": "code",
   "execution_count": 97,
   "id": "dcfaeaa5",
   "metadata": {},
   "outputs": [
    {
     "data": {
      "image/png": "[encoded data removed]",
      "text/plain": [
       "<Figure size 432x288 with 1 Axes>"
      ]
     },
     "metadata": {
      "needs_background": "light"
     },
     "output_type": "display_data"
    }
   ],
   "source": [
    "# 2008\n",
    "\n",
    "bar_2008_geo = plt.bar(tick_marks, lang_2008_geo[\"Language Name\"])\n",
    "\n",
    "plt.xticks(tick_marks, lang_2008_geo.index, rotation = \"vertical\")\n",
    "plt.title(\"Languages by Strata 2008\")\n",
    "plt.ylabel(\"Unique Languages Spoken\")\n",
    "\n",
    "add_value_labels(lang_2008_geo.index, lang_2008_geo[\"Language Name\"])\n",
    "\n",
    "plt.show()"
   ]
  },
  {
   "cell_type": "code",
   "execution_count": 98,
   "id": "83712465",
   "metadata": {},
   "outputs": [
    {
     "data": {
      "image/png": "[encoded data removed]",
      "text/plain": [
       "<Figure size 432x288 with 1 Axes>"
      ]
     },
     "metadata": {
      "needs_background": "light"
     },
     "output_type": "display_data"
    }
   ],
   "source": [
    "# 2009\n",
    "\n",
    "bar_2009_geo = plt.bar(tick_marks, lang_2009_geo[\"Language Name\"])\n",
    "\n",
    "plt.xticks(tick_marks, lang_2009_geo.index, rotation = \"vertical\")\n",
    "plt.title(\"Languages by Strata 2009\")\n",
    "plt.ylabel(\"Unique Languages Spoken\")\n",
    "\n",
    "add_value_labels(lang_2009_geo.index, lang_2009_geo[\"Language Name\"])\n",
    "\n",
    "plt.show()"
   ]
  },
  {
   "cell_type": "code",
   "execution_count": 99,
   "id": "0317cfd9",
   "metadata": {},
   "outputs": [
    {
     "data": {
      "image/png": "[encoded data removed]",
      "text/plain": [
       "<Figure size 432x288 with 1 Axes>"
      ]
     },
     "metadata": {
      "needs_background": "light"
     },
     "output_type": "display_data"
    }
   ],
   "source": [
    "# 2010\n",
    "\n",
    "bar_2010_geo = plt.bar(tick_marks, lang_2010_geo[\"Language Name\"])\n",
    "\n",
    "plt.xticks(tick_marks, lang_2010_geo.index, rotation = \"vertical\")\n",
    "plt.title(\"Languages by Strata 2010\")\n",
    "plt.ylabel(\"Unique Languages Spoken\")\n",
    "\n",
    "add_value_labels(lang_2010_geo.index, lang_2010_geo[\"Language Name\"])\n",
    "\n",
    "plt.show()"
   ]
  },
  {
   "cell_type": "code",
   "execution_count": 101,
   "id": "c2c8140d",
   "metadata": {},
   "outputs": [
    {
     "data": {
      "image/png": "[encoded data removed]",
      "text/plain": [
       "<Figure size 432x288 with 1 Axes>"
      ]
     },
     "metadata": {
      "needs_background": "light"
     },
     "output_type": "display_data"
    }
   ],
   "source": [
    "# 2011\n",
    "\n",
    "bar_2011_geo = plt.bar(tick_marks, lang_2011_geo[\"Language Name\"])\n",
    "\n",
    "plt.xticks(tick_marks, lang_2011_geo.index, rotation = \"vertical\")\n",
    "plt.title(\"Languages by Strata 2011\")\n",
    "plt.ylabel(\"Unique Languages Spoken\")\n",
    "\n",
    "add_value_labels(lang_2011_geo.index, lang_2011_geo[\"Language Name\"])\n",
    "\n",
    "plt.show()"
   ]
  },
  {
   "cell_type": "markdown",
   "id": "a5d37903",
   "metadata": {},
   "source": [
    "### Map of distribution of Languages?????"
   ]
  },
  {
   "cell_type": "code",
   "execution_count": null,
   "id": "cc393f80",
   "metadata": {},
   "outputs": [],
   "source": []
  },
  {
   "cell_type": "markdown",
   "id": "ad7a90f6",
   "metadata": {},
   "source": [
    "# *Nhan's Code Starts Here!*"
   ]
  },
  {
   "cell_type": "markdown",
   "id": "450800a2",
   "metadata": {},
   "source": [
    "### Linear Regression to Predict Proportion of Households that Speak Non-English Languages"
   ]
  },
  {
   "cell_type": "code",
   "execution_count": null,
   "id": "be6071a9",
   "metadata": {},
   "outputs": [],
   "source": []
  }
 ],
 "metadata": {
  "kernelspec": {
   "display_name": "Python 3 (ipykernel)",
   "language": "python",
   "name": "python3"
  },
  "language_info": {
   "codemirror_mode": {
    "name": "ipython",
    "version": 3
   },
   "file_extension": ".py",
   "mimetype": "text/x-python",
   "name": "python",
   "nbconvert_exporter": "python",
   "pygments_lexer": "ipython3",
   "version": "3.8.13"
  }
 },
 "nbformat": 4,
 "nbformat_minor": 5
}
