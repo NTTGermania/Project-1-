{
 "cells": [
  {
   "cell_type": "markdown",
   "id": "df38b574",
   "metadata": {},
   "source": [
    "# Project 1: Languages Spoken in the Homes of Minnesota Public School Students\n",
    "\n",
    "## Contributors: Sam Espe, Yameena Khan, Maryam Osman, Nhan Tran (Group 7)\n",
    "\n",
    "## Notebook 1: Data Cleaning and Exploration"
   ]
  },
  {
   "cell_type": "markdown",
   "id": "f337711d",
   "metadata": {},
   "source": [
    "### Import dependencies"
   ]
  },
  {
   "cell_type": "code",
   "execution_count": 2,
   "id": "08af48f9",
   "metadata": {},
   "outputs": [],
   "source": [
    "import pandas as pd \n",
    "import numpy as np\n",
    "import matplotlib.pyplot as plt"
   ]
  },
  {
   "cell_type": "markdown",
   "id": "d40efce8",
   "metadata": {},
   "source": [
    "### Read and clean data: read in CSVs, rename columns, drop unnecessary columns, split off yearly summary"
   ]
  },
  {
   "cell_type": "code",
   "execution_count": 3,
   "id": "a107e5f1",
   "metadata": {},
   "outputs": [],
   "source": [
    "primary_home_language_2007 = \"data/2006-2007 Primary Home Language Totals.csv\"\n",
    "primary_home_language_2007_df = pd.read_csv(primary_home_language_2007)\n",
    "primary_home_language_2007_rename_df = primary_home_language_2007_df.rename(columns = { \"dat_yer\" : \"School Year\", \"district\" : \"District Name\", \"language\" : \"Language Name\", \"homprm_lng\": \"Home Primary Language\", \"k12count\" : \"Student Count\" , \"county\" : \"County Name\", \"stratanum\" : \"Strata Number\", \"strata\" : \"Strata Name\"})\n",
    "primary_home_language_2007_summary_df  = primary_home_language_2007_rename_df.drop(columns = [\"sub_cde\",\"dst_num\",\"dst_tye\",\"d_county\",\"eco_dev\"])\n",
    "#primary_home_language_2007_summary_df"
   ]
  },
  {
   "cell_type": "code",
   "execution_count": 4,
   "id": "c29d4788",
   "metadata": {},
   "outputs": [],
   "source": [
    "primary_home_language_2007_final_df = primary_home_language_2007_summary_df[~primary_home_language_2007_summary_df[\"Strata Number\"].isna()]\n",
    "#primary_home_language_2007_final_df"
   ]
  },
  {
   "cell_type": "code",
   "execution_count": 5,
   "id": "6c38226d",
   "metadata": {},
   "outputs": [],
   "source": [
    "language_summary_2007_df = primary_home_language_2007_summary_df[primary_home_language_2007_summary_df[\"Strata Number\"].isna()]\n",
    "language_summary_2007_final_df = language_summary_2007_df.drop(columns = {\"County Name\", \"Strata Number\", \"Strata Name\"}).reset_index(drop = True).dropna()\n",
    "#language_summary_2007_final_df"
   ]
  },
  {
   "cell_type": "code",
   "execution_count": 6,
   "id": "64d92389",
   "metadata": {},
   "outputs": [],
   "source": [
    "primary_home_language_2008 = \"data/2007-2008 Primary Home Language Totals.csv\"\n",
    "primary_home_language_2008_df = pd.read_csv(primary_home_language_2008)\n",
    "primary_home_language_2008_rename_df = primary_home_language_2008_df.rename(columns = { \"fiscalYear\" : \"School Year\", \"districtName\" : \"District Name\", \"languageName\" : \"Language Name\", \"homePrimaryLanguage\": \"Home Primary Language\", \"enrollments\" : \"Student Count\" , \"CountyName\" : \"County Name\", \"strata\" : \"Strata Number\", \"startaName\" : \"Strata Name\"})\n",
    "primary_home_language_2008_summary_df = primary_home_language_2008_rename_df.drop(columns = {\"districtNumber\", \"districtType\", \"eco_dev_rgn\", \"countyCode\"})"
   ]
  },
  {
   "cell_type": "code",
   "execution_count": 7,
   "id": "436c4e36",
   "metadata": {},
   "outputs": [],
   "source": [
    "primary_home_language_2008_final_df = primary_home_language_2008_summary_df[~primary_home_language_2008_summary_df[\"Strata Number\"].isna()]\n",
    "#primary_home_language_2008_final_df "
   ]
  },
  {
   "cell_type": "code",
   "execution_count": 8,
   "id": "399fdfbd",
   "metadata": {},
   "outputs": [],
   "source": [
    "language_summary_2008_df = primary_home_language_2008_summary_df[primary_home_language_2008_summary_df[\"Strata Number\"].isna()]\n",
    "language_summary_2008_final_df = language_summary_2008_df.drop(columns = {\"County Name\", \"Strata Number\", \"Strata Name\"}).reset_index(drop = True).dropna()\n",
    "#language_summary_2008_final_df"
   ]
  },
  {
   "cell_type": "code",
   "execution_count": 9,
   "id": "5999d5e5",
   "metadata": {},
   "outputs": [],
   "source": [
    "primary_home_language_2009 = \"data/2008-2009 Primary Home Language Totals.csv\"\n",
    "primary_home_language_2009_df = pd.read_csv(primary_home_language_2009)\n",
    "primary_home_language_2009_rename_df = primary_home_language_2009_df.rename(columns = {\"fiscalYear\" : \"School Year\", \"districtName\" : \"District Name\", \"languageName\" : \"Language Name\",\"homePrimaryLanguage\": \"Home Primary Language\", \"enrollments\" : \"Student Count\" , \"county\" : \"County\", \"CountyName\": \"County Name\", \"startaName\" : \"Strata Name\", \"strata\" : \"Strata Number\"})\n",
    "primary_home_language_2009_summary_df = primary_home_language_2009_rename_df.drop(columns = {\"districtNumber\", \"districtType\", \"eco_dev_rgn\", \"countyCode\"})\n",
    "#primary_home_language_2009_summary_df"
   ]
  },
  {
   "cell_type": "code",
   "execution_count": 10,
   "id": "046370da",
   "metadata": {
    "scrolled": true
   },
   "outputs": [
    {
     "data": {
      "text/html": [
       "<div>\n",
       "<style scoped>\n",
       "    .dataframe tbody tr th:only-of-type {\n",
       "        vertical-align: middle;\n",
       "    }\n",
       "\n",
       "    .dataframe tbody tr th {\n",
       "        vertical-align: top;\n",
       "    }\n",
       "\n",
       "    .dataframe thead th {\n",
       "        text-align: right;\n",
       "    }\n",
       "</style>\n",
       "<table border=\"1\" class=\"dataframe\">\n",
       "  <thead>\n",
       "    <tr style=\"text-align: right;\">\n",
       "      <th></th>\n",
       "      <th>School Year</th>\n",
       "      <th>District Name</th>\n",
       "      <th>Language Name</th>\n",
       "      <th>Home Primary Language</th>\n",
       "      <th>Student Count</th>\n",
       "      <th>County Name</th>\n",
       "      <th>Strata Number</th>\n",
       "      <th>Strata Name</th>\n",
       "    </tr>\n",
       "  </thead>\n",
       "  <tbody>\n",
       "    <tr>\n",
       "      <th>0</th>\n",
       "      <td>08-09</td>\n",
       "      <td>AITKIN PUBLIC SCHOOL DISTRICT</td>\n",
       "      <td>ENGLISH</td>\n",
       "      <td>11</td>\n",
       "      <td>1263</td>\n",
       "      <td>Aitkin</td>\n",
       "      <td>4.0</td>\n",
       "      <td>Outstate - Enrollment between 1000 and 1999</td>\n",
       "    </tr>\n",
       "    <tr>\n",
       "      <th>1</th>\n",
       "      <td>08-09</td>\n",
       "      <td>AITKIN PUBLIC SCHOOL DISTRICT</td>\n",
       "      <td>SPANISH</td>\n",
       "      <td>45</td>\n",
       "      <td>2</td>\n",
       "      <td>Aitkin</td>\n",
       "      <td>4.0</td>\n",
       "      <td>Outstate - Enrollment between 1000 and 1999</td>\n",
       "    </tr>\n",
       "    <tr>\n",
       "      <th>2</th>\n",
       "      <td>08-09</td>\n",
       "      <td>MINNEAPOLIS PUBLIC SCHOOL DIST.</td>\n",
       "      <td>HMONG</td>\n",
       "      <td>20</td>\n",
       "      <td>1785</td>\n",
       "      <td>Hennepin</td>\n",
       "      <td>1.0</td>\n",
       "      <td>Minneapolis and Saint Paul</td>\n",
       "    </tr>\n",
       "    <tr>\n",
       "      <th>3</th>\n",
       "      <td>08-09</td>\n",
       "      <td>MINNEAPOLIS PUBLIC SCHOOL DIST.</td>\n",
       "      <td>TIGRINYA</td>\n",
       "      <td>71</td>\n",
       "      <td>2</td>\n",
       "      <td>Hennepin</td>\n",
       "      <td>1.0</td>\n",
       "      <td>Minneapolis and Saint Paul</td>\n",
       "    </tr>\n",
       "    <tr>\n",
       "      <th>4</th>\n",
       "      <td>08-09</td>\n",
       "      <td>MINNEAPOLIS PUBLIC SCHOOL DIST.</td>\n",
       "      <td>SLAVONIAN</td>\n",
       "      <td>44</td>\n",
       "      <td>1</td>\n",
       "      <td>Hennepin</td>\n",
       "      <td>1.0</td>\n",
       "      <td>Minneapolis and Saint Paul</td>\n",
       "    </tr>\n",
       "    <tr>\n",
       "      <th>...</th>\n",
       "      <td>...</td>\n",
       "      <td>...</td>\n",
       "      <td>...</td>\n",
       "      <td>...</td>\n",
       "      <td>...</td>\n",
       "      <td>...</td>\n",
       "      <td>...</td>\n",
       "      <td>...</td>\n",
       "    </tr>\n",
       "    <tr>\n",
       "      <th>3506</th>\n",
       "      <td>08-09</td>\n",
       "      <td>NORTHLAND LEARNING CENTER</td>\n",
       "      <td>ENGLISH</td>\n",
       "      <td>11</td>\n",
       "      <td>110</td>\n",
       "      <td>St. Louis</td>\n",
       "      <td>6.0</td>\n",
       "      <td>Outstate - Enrollment less than 500</td>\n",
       "    </tr>\n",
       "    <tr>\n",
       "      <th>3507</th>\n",
       "      <td>08-09</td>\n",
       "      <td>RUM RIVER SPECIAL EDUCATION COOP</td>\n",
       "      <td>ENGLISH</td>\n",
       "      <td>11</td>\n",
       "      <td>55</td>\n",
       "      <td>Isanti</td>\n",
       "      <td>6.0</td>\n",
       "      <td>Outstate - Enrollment less than 500</td>\n",
       "    </tr>\n",
       "    <tr>\n",
       "      <th>3508</th>\n",
       "      <td>08-09</td>\n",
       "      <td>BENTON-STEARNS ED. DISTRICT</td>\n",
       "      <td>ENGLISH</td>\n",
       "      <td>11</td>\n",
       "      <td>35</td>\n",
       "      <td>Stearns</td>\n",
       "      <td>6.0</td>\n",
       "      <td>Outstate - Enrollment less than 500</td>\n",
       "    </tr>\n",
       "    <tr>\n",
       "      <th>3509</th>\n",
       "      <td>08-09</td>\n",
       "      <td>BENTON-STEARNS ED. DISTRICT</td>\n",
       "      <td>HMONG</td>\n",
       "      <td>20</td>\n",
       "      <td>1</td>\n",
       "      <td>Stearns</td>\n",
       "      <td>6.0</td>\n",
       "      <td>Outstate - Enrollment less than 500</td>\n",
       "    </tr>\n",
       "    <tr>\n",
       "      <th>3510</th>\n",
       "      <td>08-09</td>\n",
       "      <td>MID STATE EDUCATION DISTRICT</td>\n",
       "      <td>ENGLISH</td>\n",
       "      <td>11</td>\n",
       "      <td>34</td>\n",
       "      <td>Morrison</td>\n",
       "      <td>6.0</td>\n",
       "      <td>Outstate - Enrollment less than 500</td>\n",
       "    </tr>\n",
       "  </tbody>\n",
       "</table>\n",
       "<p>3511 rows × 8 columns</p>\n",
       "</div>"
      ],
      "text/plain": [
       "     School Year                     District Name  \\\n",
       "0          08-09     AITKIN PUBLIC SCHOOL DISTRICT   \n",
       "1          08-09     AITKIN PUBLIC SCHOOL DISTRICT   \n",
       "2          08-09   MINNEAPOLIS PUBLIC SCHOOL DIST.   \n",
       "3          08-09   MINNEAPOLIS PUBLIC SCHOOL DIST.   \n",
       "4          08-09   MINNEAPOLIS PUBLIC SCHOOL DIST.   \n",
       "...          ...                               ...   \n",
       "3506       08-09         NORTHLAND LEARNING CENTER   \n",
       "3507       08-09  RUM RIVER SPECIAL EDUCATION COOP   \n",
       "3508       08-09       BENTON-STEARNS ED. DISTRICT   \n",
       "3509       08-09       BENTON-STEARNS ED. DISTRICT   \n",
       "3510       08-09      MID STATE EDUCATION DISTRICT   \n",
       "\n",
       "                       Language Name  Home Primary Language  Student Count  \\\n",
       "0     ENGLISH                                            11           1263   \n",
       "1     SPANISH                                            45              2   \n",
       "2     HMONG                                              20           1785   \n",
       "3     TIGRINYA                                           71              2   \n",
       "4     SLAVONIAN                                          44              1   \n",
       "...                              ...                    ...            ...   \n",
       "3506  ENGLISH                                            11            110   \n",
       "3507  ENGLISH                                            11             55   \n",
       "3508  ENGLISH                                            11             35   \n",
       "3509  HMONG                                              20              1   \n",
       "3510  ENGLISH                                            11             34   \n",
       "\n",
       "                                        County Name  Strata Number  \\\n",
       "0     Aitkin                                                   4.0   \n",
       "1     Aitkin                                                   4.0   \n",
       "2     Hennepin                                                 1.0   \n",
       "3     Hennepin                                                 1.0   \n",
       "4     Hennepin                                                 1.0   \n",
       "...                                             ...            ...   \n",
       "3506  St. Louis                                                6.0   \n",
       "3507  Isanti                                                   6.0   \n",
       "3508  Stearns                                                  6.0   \n",
       "3509  Stearns                                                  6.0   \n",
       "3510  Morrison                                                 6.0   \n",
       "\n",
       "                                      Strata Name  \n",
       "0     Outstate - Enrollment between 1000 and 1999  \n",
       "1     Outstate - Enrollment between 1000 and 1999  \n",
       "2                      Minneapolis and Saint Paul  \n",
       "3                      Minneapolis and Saint Paul  \n",
       "4                      Minneapolis and Saint Paul  \n",
       "...                                           ...  \n",
       "3506          Outstate - Enrollment less than 500  \n",
       "3507          Outstate - Enrollment less than 500  \n",
       "3508          Outstate - Enrollment less than 500  \n",
       "3509          Outstate - Enrollment less than 500  \n",
       "3510          Outstate - Enrollment less than 500  \n",
       "\n",
       "[3511 rows x 8 columns]"
      ]
     },
     "execution_count": 10,
     "metadata": {},
     "output_type": "execute_result"
    }
   ],
   "source": [
    "primary_home_language_2009_final_df = primary_home_language_2009_summary_df[~primary_home_language_2009_summary_df['Strata Number'].isnull()]\n",
    "primary_home_language_2009_final_df"
   ]
  },
  {
   "cell_type": "code",
   "execution_count": 11,
   "id": "eaa50822",
   "metadata": {},
   "outputs": [],
   "source": [
    "language_summary_2009_df = primary_home_language_2009_summary_df[primary_home_language_2009_summary_df[\"Strata Number\"].isna()]\n",
    "language_summary_2009_final_df = language_summary_2009_df.drop(columns = {\"County Name\", \"Strata Number\", \"Strata Name\"}).reset_index(drop = True).dropna()\n",
    "#language_summary_2009_final_df"
   ]
  },
  {
   "cell_type": "code",
   "execution_count": 12,
   "id": "59f64ed4",
   "metadata": {},
   "outputs": [],
   "source": [
    "primary_home_language_2010 = \"data/2009-2010 Primary Home Language Totals.csv\"\n",
    "primary_home_language_2010_df = pd.read_csv(primary_home_language_2010)\n",
    "primary_home_language_2010_rename_df = primary_home_language_2010_df.rename(columns = {\"fiscalYear\" : \"School Year\", \"districtName\" : \"District Name\", \"languageName\" : \"Language Name\",\"homePrimaryLanguage\": \"Home Primary Language\", \"enrollments\" : \"Student Count\" , \"CountyName\" : \"County Name\", \"startaName\" : \"Strata Name\", \"strata\" : \"Strata Number\"})\n",
    "primary_home_language_2010_summary_df = primary_home_language_2010_rename_df.drop(columns = {\"districtNumber\", \"districtType\", \"eco_dev_rgn\", \"countyCode\"})\n",
    "#primary_home_language_2010_summary_df"
   ]
  },
  {
   "cell_type": "code",
   "execution_count": 13,
   "id": "bb80aece",
   "metadata": {},
   "outputs": [],
   "source": [
    "primary_home_language_2010_final_df = primary_home_language_2010_summary_df[~primary_home_language_2010_summary_df[\"Strata Number\"].isna()]\n",
    "#primary_home_language_2010_final_df"
   ]
  },
  {
   "cell_type": "code",
   "execution_count": 14,
   "id": "44e416bb",
   "metadata": {},
   "outputs": [],
   "source": [
    "language_summary_2010_df = primary_home_language_2010_summary_df[primary_home_language_2010_summary_df[\"Strata Number\"].isna()]\n",
    "language_summary_2010_final_df = language_summary_2010_df.drop(columns = {\"County Name\", \"Strata Number\", \"Strata Name\"}).reset_index(drop = True).dropna()\n",
    "#language_summary_2010_final_df"
   ]
  },
  {
   "cell_type": "code",
   "execution_count": 15,
   "id": "d11d07af",
   "metadata": {},
   "outputs": [],
   "source": [
    "primary_home_language_2011 = \"data/2010_2011 Primary Home Language Totals.csv\"\n",
    "primary_home_language_2011_df = pd.read_csv(primary_home_language_2011)\n",
    "primary_home_language_2011_rename_df = primary_home_language_2011_df.rename(columns = {\"fiscalYear\" : \"School Year\", \"districtName\" : \"District Name\", \"languageName\" : \"Language Name\",\"homePrimaryLanguage\": \"Home Primary Language\", \"enrollments\" : \"Student Count\" , \"CountyName\": \"County Name\", \"strataName\" : \"Strata Name\", \"strata\" : \"Strata Number\"})\n",
    "primary_home_language_2011_summary_df = primary_home_language_2011_rename_df.drop(columns = {\"districtNumber\", \"districtType\", \"eco_dev_rgn\", \"countyCode\"})\n",
    "#primary_home_language_2011_summary_df"
   ]
  },
  {
   "cell_type": "code",
   "execution_count": 16,
   "id": "f8675c3c",
   "metadata": {},
   "outputs": [],
   "source": [
    "primary_home_language_2011_final_df = primary_home_language_2011_summary_df[~primary_home_language_2011_summary_df[\"Strata Number\"].isna()]\n",
    "#primary_home_language_2011_final_df"
   ]
  },
  {
   "cell_type": "code",
   "execution_count": 17,
   "id": "a93b30c7",
   "metadata": {},
   "outputs": [],
   "source": [
    "language_summary_2011_df = primary_home_language_2011_summary_df[primary_home_language_2011_summary_df[\"Strata Number\"].isna()]\n",
    "language_summary_2011_final_df = language_summary_2011_df.drop(columns = {\"County Name\", \"Strata Number\", \"Strata Name\"}).reset_index(drop = True).dropna()\n",
    "#language_summary_2011_final_df"
   ]
  },
  {
   "cell_type": "code",
   "execution_count": 18,
   "id": "5bd446d5",
   "metadata": {},
   "outputs": [],
   "source": [
    "primary_home_language_2012 = \"data/2011-2012 Primary Home Language Totals.csv\"\n",
    "primary_home_language_2012_df = pd.read_csv(primary_home_language_2012)\n",
    "primary_home_language_2012_rename_df = primary_home_language_2012_df.rename(columns = {\"fiscalYear\" : \"School Year\", \"districtName\" : \"District Name\", \"languageName\" : \"Language Name\",\"homePrimaryLanguage\": \"Home Primary Language\", \"enrollments\" : \"Student Count\" , \"CountyName\": \"County Name\", \"strataName\" : \"Strata Name\", \"strata\" : \"Strata Number\"})\n",
    "primary_home_language_2012_summary_df = primary_home_language_2012_rename_df.drop(columns = {\"districtNumber\", \"districtType\", \"eco_dev_rgn\", \"countyCode\"})\n",
    "#primary_home_language_2012_summary_df"
   ]
  },
  {
   "cell_type": "code",
   "execution_count": 19,
   "id": "5f6e11f9",
   "metadata": {},
   "outputs": [],
   "source": [
    "primary_home_language_2012_final_df = primary_home_language_2012_summary_df[~primary_home_language_2012_summary_df[\"Strata Number\"].isna()]\n",
    "#primary_home_language_2012_final_df"
   ]
  },
  {
   "cell_type": "code",
   "execution_count": 20,
   "id": "d72480d4",
   "metadata": {},
   "outputs": [],
   "source": [
    "language_summary_2012_df = primary_home_language_2012_summary_df[primary_home_language_2012_summary_df[\"Strata Number\"].isna()]\n",
    "language_summary_2012_final_df = language_summary_2012_df.drop(columns = {\"County Name\", \"Strata Number\", \"Strata Name\"}).reset_index(drop=True).dropna()\n",
    "#language_summary_2012_final_df"
   ]
  },
  {
   "cell_type": "code",
   "execution_count": 21,
   "id": "fc6614dd",
   "metadata": {
    "scrolled": false
   },
   "outputs": [],
   "source": [
    "primary_home_language_2013 = \"data/2012-13 Primary Home Language Totals.csv\"\n",
    "primary_home_language_2013_df = pd.read_csv(primary_home_language_2013)\n",
    "primary_home_language_2013_rename_df = primary_home_language_2013_df.rename(columns = {\"Fiscal Year\" : \"School Year\", \"Strata\" : \"Strata Number\", \"Enrollments\" : \"Student Count\"})\n",
    "primary_home_language_2013_summary_df =  primary_home_language_2013_rename_df.drop(columns  = {\"District Number\",\"District Type\", \"County Code\", \"Economic Development Region\"})\n",
    "#primary_home_language_2013_summary_df"
   ]
  },
  {
   "cell_type": "code",
   "execution_count": 22,
   "id": "23936749",
   "metadata": {},
   "outputs": [],
   "source": [
    "primary_home_language_2013_final_df = primary_home_language_2013_summary_df[~primary_home_language_2013_summary_df[\"Strata Number\"].isna()]\n",
    "#primary_home_language_2013_final_df"
   ]
  },
  {
   "cell_type": "code",
   "execution_count": 23,
   "id": "be92ec07",
   "metadata": {},
   "outputs": [],
   "source": [
    "language_summary_2013_df = primary_home_language_2013_summary_df[primary_home_language_2013_summary_df[\"Strata Number\"].isna()]\n",
    "language_summary_2013_final_df = language_summary_2013_df.drop(columns = {\"County Name\", \"Strata Number\", \"Strata Name\"}).reset_index(drop=True).dropna()\n",
    "#language_summary_2013_final_df"
   ]
  },
  {
   "cell_type": "code",
   "execution_count": 24,
   "id": "be0d7a6a",
   "metadata": {},
   "outputs": [],
   "source": [
    "primary_home_language_2014 = \"data/2013-2014 Primary Home Language Totals.csv\"\n",
    "primary_home_language_2014_df = pd.read_csv(primary_home_language_2014)\n",
    "primary_home_language_2014_rename_df = primary_home_language_2014_df.rename(columns = {\"fiscalYear\" : \"School Year\", \"districtName\" : \"District Name\", \"languageName\" : \"Language Name\", \"homePrimaryLanguage\" : \"Home Primary Language\", \"enrollments\" : \"Student Count\", \"Country Name\" : \"Country Name\", \"strata\" : \"Strata Number\", \"strataName\" : \"Strata Name\"})\n",
    "primary_home_language_2014_summary_df = primary_home_language_2014_rename_df.drop(columns = {\"submissionCode\", \"districtType\", \"districtNumber\", \"countyCode\", \"CountyName\", \"eco_dev_rgn\"})\n",
    "#primary_home_language_2014_summary_df"
   ]
  },
  {
   "cell_type": "code",
   "execution_count": 25,
   "id": "5c053f40",
   "metadata": {},
   "outputs": [],
   "source": [
    "primary_home_language_2014_final_df = primary_home_language_2014_summary_df[~primary_home_language_2014_summary_df[\"Strata Number\"].isna()]\n",
    "#primary_home_language_2014_final_df"
   ]
  },
  {
   "cell_type": "code",
   "execution_count": 26,
   "id": "48a1295f",
   "metadata": {},
   "outputs": [],
   "source": [
    "language_summary_2014_df = primary_home_language_2014_summary_df[primary_home_language_2014_summary_df[\"Strata Number\"].isna()]\n",
    "language_summary_2014_final_df = language_summary_2014_df.drop(columns = {\"Strata Number\", \"Strata Name\"}).reset_index(drop=True).dropna()\n",
    "#language_summary_2014_final_df"
   ]
  },
  {
   "cell_type": "code",
   "execution_count": 27,
   "id": "a9ae9856",
   "metadata": {},
   "outputs": [],
   "source": [
    "primary_home_language_2015 = \"data/2014-2015 Primary Home Language Totals.csv\"\n",
    "primary_home_language_2015_df = pd.read_csv(primary_home_language_2015)\n",
    "primary_home_language_2015_rename_df = primary_home_language_2015_df.rename(columns = {\"fiscalYear\" : \"School Year\", \"districtName\" : \"District Name\", \"languageName\" : \"Language Name\", \"homePrimaryLanguage\" : \"Home Primary Language\", \"enrollments\" : \"Student Count\", \"Country Name\" : \"Country Name\", \"strata\" : \"Strata Number\", \"strataName\" : \"Strata Name\"})\n",
    "primary_home_language_2015_summary_df = primary_home_language_2015_rename_df.drop(columns = {\"submissionCode\", \"districtType\", \"districtNumber\", \"countyCode\", \"CountyName\", \"eco_dev_rgn\"})\n",
    "#primary_home_language_2015_summary_df"
   ]
  },
  {
   "cell_type": "code",
   "execution_count": 28,
   "id": "19b712ed",
   "metadata": {},
   "outputs": [],
   "source": [
    "primary_home_language_2015_final_df = primary_home_language_2015_summary_df[~primary_home_language_2015_summary_df[\"Strata Number\"].isna()]\n",
    "#primary_home_language_2015_final_df"
   ]
  },
  {
   "cell_type": "code",
   "execution_count": 29,
   "id": "a6aa8260",
   "metadata": {},
   "outputs": [],
   "source": [
    "language_summary_2015_df = primary_home_language_2015_summary_df[primary_home_language_2015_summary_df[\"Strata Number\"].isna()]\n",
    "language_summary_2015_final_df = language_summary_2015_df.drop(columns = {\"Strata Number\", \"Strata Name\"}).reset_index(drop=True).dropna()\n",
    "#language_summary_2015_final_df"
   ]
  },
  {
   "cell_type": "code",
   "execution_count": 30,
   "id": "151865ec",
   "metadata": {},
   "outputs": [],
   "source": [
    "primary_home_language_2016 = \"data/2015-2016 Primary Home Language Totals.csv\"\n",
    "primary_home_language_2016_df = pd.read_csv(primary_home_language_2016)\n",
    "primary_home_language_2016_rename_df = primary_home_language_2016_df.rename(columns = {\"fiscalYear\" : \"School Year\", \"districtName\" : \"District Name\", \"languageName\" : \"Language Name\", \"homePrimaryLanguage\" : \"Home Primary Language\", \"enrollments\" : \"Student Count\", \"Country Name\" : \"Country Name\", \"strata\" : \"Strata Number\", \"strataName\" : \"Strata Name\"})\n",
    "primary_home_language_2016_summary_df = primary_home_language_2016_rename_df.drop(columns = {\"submissionCode\", \"districtType\", \"districtNumber\", \"countyCode\", \"CountyName\", \"eco_dev_rgn\"})\n",
    "#primary_home_language_2016_summary_df"
   ]
  },
  {
   "cell_type": "code",
   "execution_count": 31,
   "id": "cf3db49e",
   "metadata": {},
   "outputs": [],
   "source": [
    "primary_home_language_2016_final_df = primary_home_language_2016_summary_df[~primary_home_language_2016_summary_df[\"Strata Number\"].isna()]\n",
    "#primary_home_language_2016_final_df"
   ]
  },
  {
   "cell_type": "code",
   "execution_count": 32,
   "id": "9b19e0a4",
   "metadata": {},
   "outputs": [],
   "source": [
    "language_summary_2016_df = primary_home_language_2016_summary_df[primary_home_language_2016_summary_df[\"Strata Number\"].isna()]\n",
    "language_summary_2016_final_df = language_summary_2016_df.drop(columns = {\"Strata Number\", \"Strata Name\"}).reset_index(drop=True).dropna()\n",
    "#language_summary_2016_final_df"
   ]
  },
  {
   "cell_type": "code",
   "execution_count": 33,
   "id": "58560fcb",
   "metadata": {},
   "outputs": [],
   "source": [
    "primary_home_language_2017 = \"data/2016-2017 Primary Home Language Totals.csv\"\n",
    "primary_home_language_2017_df = pd.read_csv(primary_home_language_2017)\n",
    "primary_home_language_2017_rename_df = primary_home_language_2017_df.rename(columns = {\"fiscalYear\" : \"School Year\", \"districtName\" : \"District Name\", \"languageName\" : \"Language Name\", \"homePrimaryLanguage\" : \"Home Primary Language\", \"enrollments\" : \"Student Count\", \"Country Name\" : \"Country Name\", \"strata\" : \"Strata Number\", \"strataName\" : \"Strata Name\"})\n",
    "primary_home_language_2017_summary_df = primary_home_language_2017_rename_df.drop(columns = {\"submissionCode\", \"districtType\", \"districtNumber\", \"countyCode\", \"CountyName\", \"eco_dev_rgn\"})\n",
    "#primary_home_language_2017_summary_df"
   ]
  },
  {
   "cell_type": "code",
   "execution_count": 34,
   "id": "bc2dd394",
   "metadata": {},
   "outputs": [],
   "source": [
    "primary_home_language_2017_final_df = primary_home_language_2017_summary_df[~primary_home_language_2017_summary_df[\"Strata Number\"].isna()]\n",
    "#primary_home_language_2017_final_df"
   ]
  },
  {
   "cell_type": "code",
   "execution_count": 35,
   "id": "40762755",
   "metadata": {},
   "outputs": [],
   "source": [
    "language_summary_2017_df = primary_home_language_2017_summary_df[primary_home_language_2017_summary_df[\"Strata Number\"].isna()]\n",
    "language_summary_2017_final_df = language_summary_2017_df.drop(columns = {\"Strata Number\", \"Strata Name\"}).reset_index(drop=True).dropna()\n",
    "#language_summary_2017_final_df"
   ]
  },
  {
   "cell_type": "code",
   "execution_count": 36,
   "id": "09b68b30",
   "metadata": {},
   "outputs": [],
   "source": [
    "primary_home_language_2018 = \"data/2017-18 Primary Home Language Totals.csv\"\n",
    "primary_home_language_2018_df = pd.read_csv(primary_home_language_2018)\n",
    "primary_home_language_2018_rename_df = primary_home_language_2018_df.rename(columns = {\"Fiscal Year\" : \"School Year\", \"Strata\" : \"Strata Number\", \"Enrollments\" : \"Student Count\"})\n",
    "primary_home_language_2018_summary_df =  primary_home_language_2018_rename_df.drop(columns  = {\"Submission Code\", \"District Number\",\"District Type\", \"County Code\", \"Economic Development Region\"})\n",
    "#primary_home_language_2018_summary_df"
   ]
  },
  {
   "cell_type": "code",
   "execution_count": 37,
   "id": "b5ce29f4",
   "metadata": {},
   "outputs": [],
   "source": [
    "primary_home_language_2018_final_df = primary_home_language_2018_summary_df[~primary_home_language_2018_summary_df[\"Strata Number\"].isna()]\n",
    "#primary_home_language_2018_final_df"
   ]
  },
  {
   "cell_type": "code",
   "execution_count": 38,
   "id": "c913f7e3",
   "metadata": {},
   "outputs": [],
   "source": [
    "language_summary_2018_df = primary_home_language_2018_summary_df[primary_home_language_2018_summary_df[\"Strata Number\"].isna()]\n",
    "language_summary_2018_final_df = language_summary_2018_df.drop(columns = {\"County Name\", \"Strata Number\", \"Strata Name\"}).reset_index(drop=True).dropna()\n",
    "#language_summary_2018_final_df"
   ]
  },
  {
   "cell_type": "code",
   "execution_count": 39,
   "id": "6d35bfc9",
   "metadata": {},
   "outputs": [],
   "source": [
    "primary_home_language_2019 = \"data/2018-19 Primary Home Language Totals.csv\"\n",
    "primary_home_language_2019_df = pd.read_csv(primary_home_language_2019)\n",
    "primary_home_language_2019_rename_df = primary_home_language_2019_df.rename(columns = {\"fiscalYear\" : \"School Year\", \"districtName\" : \"District Name\", \"languageName\" : \"Language Name\", \"homePrimaryLanguage\" : \"Home Primary Language\", \"enrollments\" : \"Student Count\", \"Country Name\" : \"Country Name\", \"strata\" : \"Strata Number\", \"strataName\" : \"Strata Name\"})\n",
    "primary_home_language_2019_summary_df = primary_home_language_2019_rename_df.drop(columns = {\"submissionCode\", \"districtType\", \"districtNumber\", \"countyCode\", \"CountyName\", \"eco_dev_rgn\"})\n",
    "#primary_home_language_2019_summary_df"
   ]
  },
  {
   "cell_type": "code",
   "execution_count": 40,
   "id": "4deb5b83",
   "metadata": {},
   "outputs": [],
   "source": [
    "primary_home_language_2019_final_df = primary_home_language_2019_summary_df[~primary_home_language_2019_summary_df[\"Strata Number\"].isna()]\n",
    "#primary_home_language_2019_final_df"
   ]
  },
  {
   "cell_type": "code",
   "execution_count": 41,
   "id": "dda969ad",
   "metadata": {},
   "outputs": [],
   "source": [
    "language_summary_2019_df = primary_home_language_2019_summary_df[primary_home_language_2019_summary_df[\"Strata Number\"].isna()]\n",
    "language_summary_2019_final_df = language_summary_2019_df.drop(columns = {\"Strata Number\", \"Strata Name\"}).reset_index(drop=True).dropna()\n",
    "#language_summary_2019_final_df"
   ]
  },
  {
   "cell_type": "code",
   "execution_count": 42,
   "id": "b0538de5",
   "metadata": {},
   "outputs": [],
   "source": [
    "primary_home_language_2020 = \"data/2019-20 Primary Home Language Totals.csv\"\n",
    "primary_home_language_2020_df = pd.read_csv(primary_home_language_2020)\n",
    "primary_home_language_2020_rename_df = primary_home_language_2020_df.rename(columns = {\"Fiscal Year\" : \"School Year\", \"Strata\" : \"Strata Number\", \"Enrollments\" : \"Student Count\"})\n",
    "primary_home_language_2020_summary_df =  primary_home_language_2020_rename_df.drop(columns  = {\"Submission Code\", \"District Number\",\"District Type\", \"County Code\", \"Economic Development Region\"})\n",
    "#primary_home_language_2020_summary_df"
   ]
  },
  {
   "cell_type": "code",
   "execution_count": 43,
   "id": "f9adfce7",
   "metadata": {},
   "outputs": [],
   "source": [
    "primary_home_language_2020_final_df = primary_home_language_2020_summary_df[~primary_home_language_2020_summary_df[\"Strata Number\"].isna()]\n",
    "#primary_home_language_2020_final_df"
   ]
  },
  {
   "cell_type": "code",
   "execution_count": 44,
   "id": "8185c5a7",
   "metadata": {},
   "outputs": [],
   "source": [
    "language_summary_2020_df = primary_home_language_2020_summary_df[primary_home_language_2020_summary_df[\"Strata Number\"].isna()]\n",
    "language_summary_2020_final_df = language_summary_2020_df.drop(columns = {\"County Name\", \"Strata Number\", \"Strata Name\"}).reset_index(drop=True).dropna()\n",
    "#language_summary_2020_final_df"
   ]
  },
  {
   "cell_type": "code",
   "execution_count": 45,
   "id": "0f76bd2b",
   "metadata": {},
   "outputs": [],
   "source": [
    "primary_home_language_2021 = \"data/2020-21 Primary Home Language Totals.csv\"\n",
    "primary_home_language_2021_df = pd.read_csv(primary_home_language_2021)\n",
    "primary_home_language_2021_rename_df = primary_home_language_2021_df.rename(columns = {\"Fiscal Year\" : \"School Year\", \"Strata\" : \"Strata Number\", \"Enrollments\" : \"Student Count\"})\n",
    "primary_home_language_2021_summary_df =  primary_home_language_2021_rename_df.drop(columns  = {\"Submission Code\", \"District Number\",\"District Type\", \"County Code\", \"Economic Development Region\"})\n",
    "#primary_home_language_2021_summary_df"
   ]
  },
  {
   "cell_type": "code",
   "execution_count": 46,
   "id": "1c262916",
   "metadata": {},
   "outputs": [],
   "source": [
    "primary_home_language_2021_final_df = primary_home_language_2021_summary_df[~primary_home_language_2021_summary_df[\"Strata Number\"].isna()]\n",
    "#primary_home_language_2021_final_df"
   ]
  },
  {
   "cell_type": "code",
   "execution_count": 47,
   "id": "b1aea4d7",
   "metadata": {},
   "outputs": [],
   "source": [
    "language_summary_2021_df = primary_home_language_2021_summary_df[primary_home_language_2021_summary_df[\"Strata Number\"].isna()]\n",
    "language_summary_2021_final_df = language_summary_2021_df.drop(columns = {\"County Name\", \"Strata Number\", \"Strata Name\"}).reset_index(drop=True).dropna()\n",
    "#language_summary_2021_final_df"
   ]
  },
  {
   "cell_type": "code",
   "execution_count": 48,
   "id": "51f96cb4",
   "metadata": {},
   "outputs": [],
   "source": [
    "primary_home_language_2022 = \"data/2021-22 Primary Home Language Totals.csv\"\n",
    "primary_home_language_2022_df = pd.read_csv(primary_home_language_2022)\n",
    "primary_home_language_2022_rename_df = primary_home_language_2022_df.rename(columns = {\"Fiscal Year\" : \"School Year\", \"Strata\" : \"Strata Number\", \"Enrollments\" : \"Student Count\"})\n",
    "primary_home_language_2022_summary_df =  primary_home_language_2022_rename_df.drop(columns  = {\"Submission Code\", \"District Number\",\"District Type\", \"County Code\", \"Economic Development Region\"})\n",
    "#primary_home_language_2022_summary_df"
   ]
  },
  {
   "cell_type": "code",
   "execution_count": 49,
   "id": "62999628",
   "metadata": {},
   "outputs": [],
   "source": [
    "primary_home_language_2022_final_df = primary_home_language_2022_summary_df[~primary_home_language_2022_summary_df[\"Strata Number\"].isna()]\n",
    "#primary_home_language_2022_final_df"
   ]
  },
  {
   "cell_type": "code",
   "execution_count": 50,
   "id": "ec600097",
   "metadata": {},
   "outputs": [],
   "source": [
    "language_summary_2022_df = primary_home_language_2022_summary_df[primary_home_language_2022_summary_df[\"Strata Number\"].isna()]\n",
    "language_summary_2022_final_df = language_summary_2022_df.drop(columns = {\"County Name\", \"Strata Number\", \"Strata Name\"}).reset_index(drop=True).dropna()\n",
    "#language_summary_2022_final_df"
   ]
  },
  {
   "cell_type": "markdown",
   "id": "67ec8e12",
   "metadata": {},
   "source": [
    "### Merge yearly dataframes"
   ]
  },
  {
   "cell_type": "code",
   "execution_count": 51,
   "id": "f0b5e602",
   "metadata": {},
   "outputs": [
    {
     "data": {
      "text/html": [
       "<div>\n",
       "<style scoped>\n",
       "    .dataframe tbody tr th:only-of-type {\n",
       "        vertical-align: middle;\n",
       "    }\n",
       "\n",
       "    .dataframe tbody tr th {\n",
       "        vertical-align: top;\n",
       "    }\n",
       "\n",
       "    .dataframe thead th {\n",
       "        text-align: right;\n",
       "    }\n",
       "</style>\n",
       "<table border=\"1\" class=\"dataframe\">\n",
       "  <thead>\n",
       "    <tr style=\"text-align: right;\">\n",
       "      <th></th>\n",
       "      <th>School Year</th>\n",
       "      <th>District Name</th>\n",
       "      <th>Language Name</th>\n",
       "      <th>Home Primary Language</th>\n",
       "      <th>Student Count</th>\n",
       "      <th>County Name</th>\n",
       "      <th>Strata Number</th>\n",
       "      <th>Strata Name</th>\n",
       "    </tr>\n",
       "  </thead>\n",
       "  <tbody>\n",
       "    <tr>\n",
       "      <th>0</th>\n",
       "      <td>False</td>\n",
       "      <td>False</td>\n",
       "      <td>False</td>\n",
       "      <td>False</td>\n",
       "      <td>False</td>\n",
       "      <td>False</td>\n",
       "      <td>False</td>\n",
       "      <td>False</td>\n",
       "    </tr>\n",
       "    <tr>\n",
       "      <th>1</th>\n",
       "      <td>False</td>\n",
       "      <td>False</td>\n",
       "      <td>False</td>\n",
       "      <td>False</td>\n",
       "      <td>False</td>\n",
       "      <td>False</td>\n",
       "      <td>False</td>\n",
       "      <td>False</td>\n",
       "    </tr>\n",
       "    <tr>\n",
       "      <th>2</th>\n",
       "      <td>False</td>\n",
       "      <td>False</td>\n",
       "      <td>False</td>\n",
       "      <td>False</td>\n",
       "      <td>False</td>\n",
       "      <td>False</td>\n",
       "      <td>False</td>\n",
       "      <td>False</td>\n",
       "    </tr>\n",
       "    <tr>\n",
       "      <th>3</th>\n",
       "      <td>False</td>\n",
       "      <td>False</td>\n",
       "      <td>False</td>\n",
       "      <td>False</td>\n",
       "      <td>False</td>\n",
       "      <td>False</td>\n",
       "      <td>False</td>\n",
       "      <td>False</td>\n",
       "    </tr>\n",
       "    <tr>\n",
       "      <th>4</th>\n",
       "      <td>False</td>\n",
       "      <td>False</td>\n",
       "      <td>False</td>\n",
       "      <td>False</td>\n",
       "      <td>False</td>\n",
       "      <td>False</td>\n",
       "      <td>False</td>\n",
       "      <td>False</td>\n",
       "    </tr>\n",
       "    <tr>\n",
       "      <th>...</th>\n",
       "      <td>...</td>\n",
       "      <td>...</td>\n",
       "      <td>...</td>\n",
       "      <td>...</td>\n",
       "      <td>...</td>\n",
       "      <td>...</td>\n",
       "      <td>...</td>\n",
       "      <td>...</td>\n",
       "    </tr>\n",
       "    <tr>\n",
       "      <th>72563</th>\n",
       "      <td>False</td>\n",
       "      <td>False</td>\n",
       "      <td>False</td>\n",
       "      <td>False</td>\n",
       "      <td>False</td>\n",
       "      <td>False</td>\n",
       "      <td>False</td>\n",
       "      <td>False</td>\n",
       "    </tr>\n",
       "    <tr>\n",
       "      <th>72564</th>\n",
       "      <td>False</td>\n",
       "      <td>False</td>\n",
       "      <td>False</td>\n",
       "      <td>False</td>\n",
       "      <td>False</td>\n",
       "      <td>False</td>\n",
       "      <td>False</td>\n",
       "      <td>False</td>\n",
       "    </tr>\n",
       "    <tr>\n",
       "      <th>72565</th>\n",
       "      <td>False</td>\n",
       "      <td>False</td>\n",
       "      <td>False</td>\n",
       "      <td>False</td>\n",
       "      <td>False</td>\n",
       "      <td>False</td>\n",
       "      <td>False</td>\n",
       "      <td>False</td>\n",
       "    </tr>\n",
       "    <tr>\n",
       "      <th>72566</th>\n",
       "      <td>False</td>\n",
       "      <td>False</td>\n",
       "      <td>False</td>\n",
       "      <td>False</td>\n",
       "      <td>False</td>\n",
       "      <td>False</td>\n",
       "      <td>False</td>\n",
       "      <td>False</td>\n",
       "    </tr>\n",
       "    <tr>\n",
       "      <th>72567</th>\n",
       "      <td>False</td>\n",
       "      <td>False</td>\n",
       "      <td>False</td>\n",
       "      <td>False</td>\n",
       "      <td>False</td>\n",
       "      <td>False</td>\n",
       "      <td>False</td>\n",
       "      <td>False</td>\n",
       "    </tr>\n",
       "  </tbody>\n",
       "</table>\n",
       "<p>72568 rows × 8 columns</p>\n",
       "</div>"
      ],
      "text/plain": [
       "       School Year  District Name  Language Name  Home Primary Language  \\\n",
       "0            False          False          False                  False   \n",
       "1            False          False          False                  False   \n",
       "2            False          False          False                  False   \n",
       "3            False          False          False                  False   \n",
       "4            False          False          False                  False   \n",
       "...            ...            ...            ...                    ...   \n",
       "72563        False          False          False                  False   \n",
       "72564        False          False          False                  False   \n",
       "72565        False          False          False                  False   \n",
       "72566        False          False          False                  False   \n",
       "72567        False          False          False                  False   \n",
       "\n",
       "       Student Count  County Name  Strata Number  Strata Name  \n",
       "0              False        False          False        False  \n",
       "1              False        False          False        False  \n",
       "2              False        False          False        False  \n",
       "3              False        False          False        False  \n",
       "4              False        False          False        False  \n",
       "...              ...          ...            ...          ...  \n",
       "72563          False        False          False        False  \n",
       "72564          False        False          False        False  \n",
       "72565          False        False          False        False  \n",
       "72566          False        False          False        False  \n",
       "72567          False        False          False        False  \n",
       "\n",
       "[72568 rows x 8 columns]"
      ]
     },
     "execution_count": 51,
     "metadata": {},
     "output_type": "execute_result"
    }
   ],
   "source": [
    "complete_primary_home_language = pd.concat([primary_home_language_2007_final_df, primary_home_language_2008_final_df, primary_home_language_2009_final_df, primary_home_language_2010_final_df, primary_home_language_2011_final_df, primary_home_language_2012_final_df, primary_home_language_2013_final_df, primary_home_language_2014_final_df, primary_home_language_2015_final_df, primary_home_language_2016_final_df, primary_home_language_2017_final_df, primary_home_language_2018_final_df, primary_home_language_2019_final_df, primary_home_language_2020_final_df, primary_home_language_2021_final_df, primary_home_language_2022_final_df]).reset_index(drop = True)\n",
    "\n",
    "complete_primary_home_language.isna()"
   ]
  },
  {
   "cell_type": "markdown",
   "id": "75cf8642",
   "metadata": {},
   "source": [
    "### Merge summary dataframes"
   ]
  },
  {
   "cell_type": "code",
   "execution_count": 84,
   "id": "d0243c83",
   "metadata": {},
   "outputs": [
    {
     "data": {
      "text/html": [
       "<div>\n",
       "<style scoped>\n",
       "    .dataframe tbody tr th:only-of-type {\n",
       "        vertical-align: middle;\n",
       "    }\n",
       "\n",
       "    .dataframe tbody tr th {\n",
       "        vertical-align: top;\n",
       "    }\n",
       "\n",
       "    .dataframe thead th {\n",
       "        text-align: right;\n",
       "    }\n",
       "</style>\n",
       "<table border=\"1\" class=\"dataframe\">\n",
       "  <thead>\n",
       "    <tr style=\"text-align: right;\">\n",
       "      <th></th>\n",
       "      <th>School Year</th>\n",
       "      <th>District Name</th>\n",
       "      <th>Language Name</th>\n",
       "      <th>Home Primary Language</th>\n",
       "      <th>Student Count</th>\n",
       "    </tr>\n",
       "  </thead>\n",
       "  <tbody>\n",
       "    <tr>\n",
       "      <th>0</th>\n",
       "      <td>06-07</td>\n",
       "      <td>Statewide Totals</td>\n",
       "      <td>ADANGME</td>\n",
       "      <td>83.0</td>\n",
       "      <td>121.0</td>\n",
       "    </tr>\n",
       "    <tr>\n",
       "      <th>1</th>\n",
       "      <td>06-07</td>\n",
       "      <td>Statewide Totals</td>\n",
       "      <td>AFGHAN</td>\n",
       "      <td>60.0</td>\n",
       "      <td>21.0</td>\n",
       "    </tr>\n",
       "    <tr>\n",
       "      <th>2</th>\n",
       "      <td>06-07</td>\n",
       "      <td>Statewide Totals</td>\n",
       "      <td>AFRIKAANS</td>\n",
       "      <td>1.0</td>\n",
       "      <td>525.0</td>\n",
       "    </tr>\n",
       "    <tr>\n",
       "      <th>3</th>\n",
       "      <td>06-07</td>\n",
       "      <td>Statewide Totals</td>\n",
       "      <td>ALBANIAN</td>\n",
       "      <td>72.0</td>\n",
       "      <td>42.0</td>\n",
       "    </tr>\n",
       "    <tr>\n",
       "      <th>4</th>\n",
       "      <td>06-07</td>\n",
       "      <td>Statewide Totals</td>\n",
       "      <td>AMERICAN INDIAN</td>\n",
       "      <td>6.0</td>\n",
       "      <td>27.0</td>\n",
       "    </tr>\n",
       "    <tr>\n",
       "      <th>...</th>\n",
       "      <td>...</td>\n",
       "      <td>...</td>\n",
       "      <td>...</td>\n",
       "      <td>...</td>\n",
       "      <td>...</td>\n",
       "    </tr>\n",
       "    <tr>\n",
       "      <th>3475</th>\n",
       "      <td>21-22</td>\n",
       "      <td>STATEWIDE</td>\n",
       "      <td>Apache</td>\n",
       "      <td>436.0</td>\n",
       "      <td>2.0</td>\n",
       "    </tr>\n",
       "    <tr>\n",
       "      <th>3476</th>\n",
       "      <td>21-22</td>\n",
       "      <td>STATEWIDE</td>\n",
       "      <td>Jakalteko</td>\n",
       "      <td>442.0</td>\n",
       "      <td>2.0</td>\n",
       "    </tr>\n",
       "    <tr>\n",
       "      <th>3477</th>\n",
       "      <td>21-22</td>\n",
       "      <td>STATEWIDE</td>\n",
       "      <td>Dagari</td>\n",
       "      <td>443.0</td>\n",
       "      <td>1.0</td>\n",
       "    </tr>\n",
       "    <tr>\n",
       "      <th>3478</th>\n",
       "      <td>21-22</td>\n",
       "      <td>STATEWIDE</td>\n",
       "      <td>Chukeese</td>\n",
       "      <td>444.0</td>\n",
       "      <td>1.0</td>\n",
       "    </tr>\n",
       "    <tr>\n",
       "      <th>3479</th>\n",
       "      <td>21-22</td>\n",
       "      <td>STATEWIDE</td>\n",
       "      <td>Eleme</td>\n",
       "      <td>447.0</td>\n",
       "      <td>1.0</td>\n",
       "    </tr>\n",
       "  </tbody>\n",
       "</table>\n",
       "<p>3480 rows × 5 columns</p>\n",
       "</div>"
      ],
      "text/plain": [
       "     School Year     District Name    Language Name  Home Primary Language  \\\n",
       "0          06-07  Statewide Totals          ADANGME                   83.0   \n",
       "1          06-07  Statewide Totals           AFGHAN                   60.0   \n",
       "2          06-07  Statewide Totals        AFRIKAANS                    1.0   \n",
       "3          06-07  Statewide Totals         ALBANIAN                   72.0   \n",
       "4          06-07  Statewide Totals  AMERICAN INDIAN                    6.0   \n",
       "...          ...               ...              ...                    ...   \n",
       "3475       21-22         STATEWIDE           Apache                  436.0   \n",
       "3476       21-22         STATEWIDE        Jakalteko                  442.0   \n",
       "3477       21-22         STATEWIDE           Dagari                  443.0   \n",
       "3478       21-22         STATEWIDE         Chukeese                  444.0   \n",
       "3479       21-22         STATEWIDE            Eleme                  447.0   \n",
       "\n",
       "      Student Count  \n",
       "0             121.0  \n",
       "1              21.0  \n",
       "2             525.0  \n",
       "3              42.0  \n",
       "4              27.0  \n",
       "...             ...  \n",
       "3475            2.0  \n",
       "3476            2.0  \n",
       "3477            1.0  \n",
       "3478            1.0  \n",
       "3479            1.0  \n",
       "\n",
       "[3480 rows x 5 columns]"
      ]
     },
     "execution_count": 84,
     "metadata": {},
     "output_type": "execute_result"
    }
   ],
   "source": [
    "complete_language_summary = pd.concat([language_summary_2007_final_df, language_summary_2008_final_df, language_summary_2009_final_df, language_summary_2010_final_df, language_summary_2011_final_df, language_summary_2012_final_df, language_summary_2013_final_df, language_summary_2014_final_df, language_summary_2015_final_df, language_summary_2016_final_df, language_summary_2017_final_df, language_summary_2018_final_df, language_summary_2019_final_df, language_summary_2020_final_df, language_summary_2021_final_df, language_summary_2022_final_df]).reset_index(drop = True)\n",
    "\n",
    "complete_language_summary"
   ]
  },
  {
   "cell_type": "markdown",
   "id": "076ae7ab",
   "metadata": {},
   "source": [
    "## Data Reduction and Analysis"
   ]
  },
  {
   "cell_type": "markdown",
   "id": "32fb8020",
   "metadata": {},
   "source": [
    "# *Yameena's Code Starts Here!*"
   ]
  },
  {
   "cell_type": "markdown",
   "id": "7faa00c0",
   "metadata": {},
   "source": [
    "### Unique Languages by Year"
   ]
  },
  {
   "cell_type": "code",
   "execution_count": null,
   "id": "3d67e020",
   "metadata": {},
   "outputs": [],
   "source": []
  },
  {
   "cell_type": "markdown",
   "id": "1ee95b6d",
   "metadata": {},
   "source": [
    "### Distribution of Languages by Year"
   ]
  },
  {
   "cell_type": "code",
   "execution_count": null,
   "id": "a1abd398",
   "metadata": {},
   "outputs": [],
   "source": []
  },
  {
   "cell_type": "markdown",
   "id": "315de4a0",
   "metadata": {},
   "source": [
    "# *Maryam's Code Starts Here!*"
   ]
  },
  {
   "cell_type": "markdown",
   "id": "af7cebaa",
   "metadata": {},
   "source": [
    "### Distribution of Languages by Geography"
   ]
  },
  {
   "cell_type": "code",
   "execution_count": null,
   "id": "fee9a29f",
   "metadata": {},
   "outputs": [],
   "source": []
  },
  {
   "cell_type": "markdown",
   "id": "602facdd",
   "metadata": {},
   "source": [
    "# *Sam's Code Starts Here!*"
   ]
  },
  {
   "cell_type": "markdown",
   "id": "fa05d31a",
   "metadata": {},
   "source": [
    "### Graphs of Languages Over Time"
   ]
  },
  {
   "cell_type": "code",
   "execution_count": null,
   "id": "71761898",
   "metadata": {},
   "outputs": [],
   "source": []
  },
  {
   "cell_type": "markdown",
   "id": "a5d37903",
   "metadata": {},
   "source": [
    "### Map of distribution of Languages?????"
   ]
  },
  {
   "cell_type": "code",
   "execution_count": null,
   "id": "cc393f80",
   "metadata": {},
   "outputs": [],
   "source": []
  },
  {
   "cell_type": "markdown",
   "id": "ad7a90f6",
   "metadata": {},
   "source": [
    "# *Nhan's Code Starts Here!*"
   ]
  },
  {
   "cell_type": "markdown",
   "id": "450800a2",
   "metadata": {},
   "source": [
    "### Linear Regression to Predict Proportion of Households that Speak Non-English Languages"
   ]
  },
  {
   "cell_type": "code",
   "execution_count": null,
   "id": "be6071a9",
   "metadata": {},
   "outputs": [],
   "source": []
  }
 ],
 "metadata": {
  "kernelspec": {
   "display_name": "Python 3 (ipykernel)",
   "language": "python",
   "name": "python3"
  },
  "language_info": {
   "codemirror_mode": {
    "name": "ipython",
    "version": 3
   },
   "file_extension": ".py",
   "mimetype": "text/x-python",
   "name": "python",
   "nbconvert_exporter": "python",
   "pygments_lexer": "ipython3",
   "version": "3.8.13"
  }
 },
 "nbformat": 4,
 "nbformat_minor": 5
}
