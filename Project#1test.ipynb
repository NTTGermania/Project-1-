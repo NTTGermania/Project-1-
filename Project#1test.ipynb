{
 "cells": [
  {
   "cell_type": "code",
   "execution_count": null,
   "id": "08af48f9",
   "metadata": {},
   "outputs": [],
   "source": [
    "import pandas as pd \n",
    "import numpy as np\n",
    "import matplotlib.pyplot as plt\n"
   ]
  },
  {
   "cell_type": "code",
   "execution_count": null,
   "id": "fc6614dd",
   "metadata": {},
   "outputs": [],
   "source": [
    "# File to load\n",
    "primary_home_language_2007 = \"data/2006-2007 Primary Home Language Totals.csv\"\n",
    "\n",
    "primary_home_language_2007_df = pd.read_csv(primary_home_language_2007)\n",
    "primary_home_language_2007_df"
   ]
  },
  {
   "cell_type": "code",
   "execution_count": null,
   "id": "be0d7a6a",
   "metadata": {},
   "outputs": [],
   "source": []
  }
 ],
 "metadata": {
  "kernelspec": {
   "display_name": "Python 3 (ipykernel)",
   "language": "python",
   "name": "python3"
  },
  "language_info": {
   "codemirror_mode": {
    "name": "ipython",
    "version": 3
   },
   "file_extension": ".py",
   "mimetype": "text/x-python",
   "name": "python",
   "nbconvert_exporter": "python",
   "pygments_lexer": "ipython3",
   "version": "3.9.12"
  }
 },
 "nbformat": 4,
 "nbformat_minor": 5
}
