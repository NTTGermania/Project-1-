{
 "cells": [
  {
   "cell_type": "markdown",
   "id": "df38b574",
   "metadata": {},
   "source": [
    "# Project 1: Languages Spoken in the Homes of Minnesota Public School Students\n",
    "\n",
    "## Contributors: Sam Espe, Yameena Khan, Maryam Osman, Nhan Tran (Group 7)\n",
    "\n",
    "## Notebook 1: Data Cleaning and Exploration"
   ]
  },
  {
   "cell_type": "markdown",
   "id": "f337711d",
   "metadata": {},
   "source": [
    "### Import dependencies"
   ]
  },
  {
   "cell_type": "code",
   "execution_count": null,
   "id": "08af48f9",
   "metadata": {},
   "outputs": [],
   "source": [
    "import pandas as pd \n",
    "import numpy as np\n",
    "import matplotlib.pyplot as plt"
   ]
  },
  {
   "cell_type": "markdown",
   "id": "d40efce8",
   "metadata": {},
   "source": [
    "### Read and clean data: read in CSVs, rename columns, drop unnecessary columns, split off yearly summary"
   ]
  },
  {
   "cell_type": "code",
   "execution_count": null,
   "id": "a107e5f1",
   "metadata": {},
   "outputs": [],
   "source": [
    "primary_home_language_2007 = \"data/2006-2007 Primary Home Language Totals.csv\"\n",
    "primary_home_language_2007_df = pd.read_csv(primary_home_language_2007)\n",
    "primary_home_language_2007_rename_df = primary_home_language_2007_df.rename(columns = { \"dat_yer\" : \"School Year\", \"district\" : \"District Name\", \"language\" : \"Language Name\", \"homprm_lng\": \"Home Primary Language\", \"k12count\" : \"Student Count\" , \"county\" : \"County Name\", \"stratanum\" : \"Strata Number\", \"strata\" : \"Strata Name\"})\n",
    "primary_home_language_2007_summary_df  = primary_home_language_2007_rename_df.drop(columns = [\"sub_cde\",\"dst_num\",\"dst_tye\",\"d_county\",\"eco_dev\"])\n",
    "#primary_home_language_2007_summary_df"
   ]
  },
  {
   "cell_type": "code",
   "execution_count": null,
   "id": "c29d4788",
   "metadata": {},
   "outputs": [],
   "source": [
    "primary_home_language_2007_final_df = primary_home_language_2007_summary_df[~primary_home_language_2007_summary_df[\"Strata Number\"].isna()]\n",
    "#primary_home_language_2007_final_df"
   ]
  },
  {
   "cell_type": "code",
   "execution_count": null,
   "id": "6c38226d",
   "metadata": {},
   "outputs": [],
   "source": [
    "language_summary_2007_df = primary_home_language_2007_summary_df[primary_home_language_2007_summary_df[\"Strata Number\"].isna()]\n",
    "language_summary_2007_final_df = language_summary_2007_df.drop(columns = {\"County Name\", \"Strata Number\", \"Strata Name\"}).reset_index(drop = True).dropna()\n",
    "language_summary_2007_final_df"
   ]
  },
  {
   "cell_type": "code",
   "execution_count": null,
   "id": "64d92389",
   "metadata": {},
   "outputs": [],
   "source": [
    "primary_home_language_2008 = \"data/2007-2008 Primary Home Language Totals.csv\"\n",
    "primary_home_language_2008_df = pd.read_csv(primary_home_language_2008)\n",
    "primary_home_language_2008_rename_df = primary_home_language_2008_df.rename(columns = { \"fiscalYear\" : \"School Year\", \"districtName\" : \"District Name\", \"languageName\" : \"Language Name\", \"homePrimaryLanguage\": \"Home Primary Language\", \"enrollments\" : \"Student Count\" , \"CountyName\" : \"County Name\", \"strata\" : \"Strata Number\", \"startaName\" : \"Strata Name\"})\n",
    "primary_home_language_2008_summary_df = primary_home_language_2008_rename_df.drop(columns = {\"districtNumber\", \"districtType\", \"eco_dev_rgn\", \"countyCode\"})"
   ]
  },
  {
   "cell_type": "code",
   "execution_count": null,
   "id": "436c4e36",
   "metadata": {},
   "outputs": [],
   "source": [
    "primary_home_language_2008_final_df = primary_home_language_2008_summary_df[~primary_home_language_2008_summary_df[\"Strata Number\"].isna()]\n",
    "#primary_home_language_2008_final_df "
   ]
  },
  {
   "cell_type": "code",
   "execution_count": null,
   "id": "399fdfbd",
   "metadata": {},
   "outputs": [],
   "source": [
    "language_summary_2008_df = primary_home_language_2008_summary_df[primary_home_language_2008_summary_df[\"Strata Number\"].isna()]\n",
    "language_summary_2008_final_df = language_summary_2008_df.drop(columns = {\"County Name\", \"Strata Number\", \"Strata Name\"}).reset_index(drop = True).dropna()\n",
    "language_summary_2008_final_df"
   ]
  },
  {
   "cell_type": "code",
   "execution_count": null,
   "id": "5999d5e5",
   "metadata": {},
   "outputs": [],
   "source": [
    "primary_home_language_2009 = \"data/2008-2009 Primary Home Language Totals.csv\"\n",
    "primary_home_language_2009_df = pd.read_csv(primary_home_language_2009)\n",
    "primary_home_language_2009_rename_df = primary_home_language_2009_df.rename(columns = {\"fiscalYear\" : \"School Year\", \"districtName\" : \"District Name\", \"languageName\" : \"Language Name\",\"homePrimaryLanguage\": \"Home Primary Language\", \"enrollments\" : \"Student Count\" , \"county\" : \"County\", \"CountyName\": \"County Name\", \"startaName\" : \"Strata Name\", \"strata\" : \"Strata Number\"})\n",
    "primary_home_language_2009_summary_df = primary_home_language_2009_rename_df.drop(columns = {\"districtNumber\", \"districtType\", \"eco_dev_rgn\", \"countyCode\"})\n",
    "#primary_home_language_2009_summary_df"
   ]
  },
  {
   "cell_type": "code",
   "execution_count": null,
   "id": "046370da",
   "metadata": {},
   "outputs": [],
   "source": [
    "primary_home_language_2009_final_df = primary_home_language_2009_summary_df[~primary_home_language_2009_summary_df['Strata Number'].isnull()]\n",
    "#primary_home_language_2009_final_df"
   ]
  },
  {
   "cell_type": "code",
   "execution_count": null,
   "id": "eaa50822",
   "metadata": {},
   "outputs": [],
   "source": [
    "language_summary_2009_df = primary_home_language_2009_summary_df[primary_home_language_2009_summary_df[\"Strata Number\"].isna()]\n",
    "language_summary_2009_final_df = language_summary_2009_df.drop(columns = {\"County Name\", \"Strata Number\", \"Strata Name\"}).reset_index(drop = True).dropna()\n",
    "#language_summary_2009_final_df"
   ]
  },
  {
   "cell_type": "code",
   "execution_count": null,
   "id": "59f64ed4",
   "metadata": {},
   "outputs": [],
   "source": [
    "primary_home_language_2010 = \"data/2009-2010 Primary Home Language Totals.csv\"\n",
    "primary_home_language_2010_df = pd.read_csv(primary_home_language_2010)\n",
    "primary_home_language_2010_rename_df = primary_home_language_2010_df.rename(columns = {\"fiscalYear\" : \"School Year\", \"districtName\" : \"District Name\", \"languageName\" : \"Language Name\",\"homePrimaryLanguage\": \"Home Primary Language\", \"enrollments\" : \"Student Count\" , \"CountyName\" : \"County Name\", \"startaName\" : \"Strata Name\", \"strata\" : \"Strata Number\"})\n",
    "primary_home_language_2010_summary_df = primary_home_language_2010_rename_df.drop(columns = {\"districtNumber\", \"districtType\", \"eco_dev_rgn\", \"countyCode\"})\n",
    "#primary_home_language_2010_summary_df"
   ]
  },
  {
   "cell_type": "code",
   "execution_count": null,
   "id": "bb80aece",
   "metadata": {},
   "outputs": [],
   "source": [
    "primary_home_language_2010_final_df = primary_home_language_2010_summary_df[~primary_home_language_2010_summary_df[\"Strata Number\"].isna()]\n",
    "#primary_home_language_2010_final_df"
   ]
  },
  {
   "cell_type": "code",
   "execution_count": null,
   "id": "44e416bb",
   "metadata": {},
   "outputs": [],
   "source": [
    "language_summary_2010_df = primary_home_language_2010_summary_df[primary_home_language_2010_summary_df[\"Strata Number\"].isna()]\n",
    "language_summary_2010_final_df = language_summary_2010_df.drop(columns = {\"County Name\", \"Strata Number\", \"Strata Name\"}).reset_index(drop = True).dropna()\n",
    "#language_summary_2010_final_df"
   ]
  },
  {
   "cell_type": "code",
   "execution_count": null,
   "id": "d11d07af",
   "metadata": {},
   "outputs": [],
   "source": [
    "primary_home_language_2011 = \"data/2010_2011 Primary Home Language Totals.csv\"\n",
    "primary_home_language_2011_df = pd.read_csv(primary_home_language_2011)\n",
    "primary_home_language_2011_rename_df = primary_home_language_2011_df.rename(columns = {\"fiscalYear\" : \"School Year\", \"districtName\" : \"District Name\", \"languageName\" : \"Language Name\",\"homePrimaryLanguage\": \"Home Primary Language\", \"enrollments\" : \"Student Count\" , \"CountyName\": \"County Name\", \"strataName\" : \"Strata Name\", \"strata\" : \"Strata Number\"})\n",
    "primary_home_language_2011_summary_df = primary_home_language_2011_rename_df.drop(columns = {\"districtNumber\", \"districtType\", \"eco_dev_rgn\", \"countyCode\"})\n",
    "#primary_home_language_2011_summary_df"
   ]
  },
  {
   "cell_type": "code",
   "execution_count": null,
   "id": "f8675c3c",
   "metadata": {},
   "outputs": [],
   "source": [
    "primary_home_language_2011_final_df = primary_home_language_2011_summary_df[~primary_home_language_2011_summary_df[\"Strata Number\"].isna()]\n",
    "#primary_home_language_2011_final_df"
   ]
  },
  {
   "cell_type": "code",
   "execution_count": null,
   "id": "a93b30c7",
   "metadata": {},
   "outputs": [],
   "source": [
    "language_summary_2011_df = primary_home_language_2011_summary_df[primary_home_language_2011_summary_df[\"Strata Number\"].isna()]\n",
    "language_summary_2011_final_df = language_summary_2011_df.drop(columns = {\"County Name\", \"Strata Number\", \"Strata Name\"}).reset_index(drop = True).dropna()\n",
    "#language_summary_2011_final_df"
   ]
  },
  {
   "cell_type": "code",
   "execution_count": null,
   "id": "5bd446d5",
   "metadata": {},
   "outputs": [],
   "source": [
    "primary_home_language_2012 = \"data/2011-2012 Primary Home Language Totals.csv\"\n",
    "primary_home_language_2012_df = pd.read_csv(primary_home_language_2012)\n",
    "primary_home_language_2012_rename_df = primary_home_language_2012_df.rename(columns = {\"fiscalYear\" : \"School Year\", \"districtName\" : \"District Name\", \"languageName\" : \"Language Name\",\"homePrimaryLanguage\": \"Home Primary Language\", \"enrollments\" : \"Student Count\" , \"CountyName\": \"County Name\", \"strataName\" : \"Strata Name\", \"strata\" : \"Strata Number\"})\n",
    "primary_home_language_2012_summary_df = primary_home_language_2012_rename_df.drop(columns = {\"districtNumber\", \"districtType\", \"eco_dev_rgn\", \"countyCode\"})\n",
    "#primary_home_language_2012_summary_df"
   ]
  },
  {
   "cell_type": "code",
   "execution_count": null,
   "id": "5f6e11f9",
   "metadata": {},
   "outputs": [],
   "source": [
    "primary_home_language_2012_final_df = primary_home_language_2012_summary_df[~primary_home_language_2012_summary_df[\"Strata Number\"].isna()]\n",
    "#primary_home_language_2012_final_df"
   ]
  },
  {
   "cell_type": "code",
   "execution_count": null,
   "id": "d72480d4",
   "metadata": {},
   "outputs": [],
   "source": [
    "language_summary_2012_df = primary_home_language_2012_summary_df[primary_home_language_2012_summary_df[\"Strata Number\"].isna()]\n",
    "language_summary_2012_final_df = language_summary_2012_df.drop(columns = {\"County Name\", \"Strata Number\", \"Strata Name\"}).reset_index(drop=True).dropna()\n",
    "#language_summary_2012_final_df"
   ]
  },
  {
   "cell_type": "code",
   "execution_count": null,
   "id": "fc6614dd",
   "metadata": {
    "scrolled": false
   },
   "outputs": [],
   "source": [
    "primary_home_language_2013 = \"data/2012-13 Primary Home Language Totals.csv\"\n",
    "primary_home_language_2013_df = pd.read_csv(primary_home_language_2013)\n",
    "primary_home_language_2013_rename_df = primary_home_language_2013_df.rename(columns = {\"Fiscal Year\" : \"School Year\", \"Strata\" : \"Strata Number\", \"Enrollments\" : \"Student Count\"})\n",
    "primary_home_language_2013_summary_df =  primary_home_language_2013_rename_df.drop(columns  = {\"District Number\",\"District Type\", \"County Code\", \"Economic Development Region\"})\n",
    "#primary_home_language_2013_summary_df"
   ]
  },
  {
   "cell_type": "code",
   "execution_count": null,
   "id": "23936749",
   "metadata": {},
   "outputs": [],
   "source": [
    "primary_home_language_2013_final_df = primary_home_language_2013_summary_df[~primary_home_language_2013_summary_df[\"Strata Number\"].isna()]\n",
    "#primary_home_language_2013_final_df"
   ]
  },
  {
   "cell_type": "code",
   "execution_count": null,
   "id": "be92ec07",
   "metadata": {},
   "outputs": [],
   "source": [
    "language_summary_2013_df = primary_home_language_2013_summary_df[primary_home_language_2013_summary_df[\"Strata Number\"].isna()]\n",
    "language_summary_2013_final_df = language_summary_2013_df.drop(columns = {\"County Name\", \"Strata Number\", \"Strata Name\"}).reset_index(drop=True).dropna()\n",
    "#language_summary_2013_final_df"
   ]
  },
  {
   "cell_type": "code",
   "execution_count": null,
   "id": "be0d7a6a",
   "metadata": {},
   "outputs": [],
   "source": [
    "primary_home_language_2014 = \"data/2013-2014 Primary Home Language Totals.csv\"\n",
    "primary_home_language_2014_df = pd.read_csv(primary_home_language_2014)\n",
    "primary_home_language_2014_rename_df = primary_home_language_2014_df.rename(columns = {\"fiscalYear\" : \"School Year\", \"districtName\" : \"District Name\", \"languageName\" : \"Language Name\", \"homePrimaryLanguage\" : \"Home Primary Language\", \"enrollments\" : \"Student Count\", \"Country Name\" : \"Country Name\", \"strata\" : \"Strata Number\", \"strataName\" : \"Strata Name\"})\n",
    "primary_home_language_2014_summary_df = primary_home_language_2014_rename_df.drop(columns = {\"submissionCode\", \"districtType\", \"districtNumber\", \"countyCode\", \"CountyName\", \"eco_dev_rgn\"})\n",
    "#primary_home_language_2014_summary_df"
   ]
  },
  {
   "cell_type": "code",
   "execution_count": null,
   "id": "5c053f40",
   "metadata": {},
   "outputs": [],
   "source": [
    "primary_home_language_2014_final_df = primary_home_language_2014_summary_df[~primary_home_language_2014_summary_df[\"Strata Number\"].isna()]\n",
    "#primary_home_language_2014_final_df"
   ]
  },
  {
   "cell_type": "code",
   "execution_count": null,
   "id": "48a1295f",
   "metadata": {},
   "outputs": [],
   "source": [
    "language_summary_2014_df = primary_home_language_2014_summary_df[primary_home_language_2014_summary_df[\"Strata Number\"].isna()]\n",
    "language_summary_2014_final_df = language_summary_2014_df.drop(columns = {\"Strata Number\", \"Strata Name\"}).reset_index(drop=True).dropna()\n",
    "#language_summary_2014_final_df"
   ]
  },
  {
   "cell_type": "code",
   "execution_count": null,
   "id": "a9ae9856",
   "metadata": {},
   "outputs": [],
   "source": [
    "primary_home_language_2015 = \"data/2014-2015 Primary Home Language Totals.csv\"\n",
    "primary_home_language_2015_df = pd.read_csv(primary_home_language_2015)\n",
    "primary_home_language_2015_rename_df = primary_home_language_2015_df.rename(columns = {\"fiscalYear\" : \"School Year\", \"districtName\" : \"District Name\", \"languageName\" : \"Language Name\", \"homePrimaryLanguage\" : \"Home Primary Language\", \"enrollments\" : \"Student Count\", \"Country Name\" : \"Country Name\", \"strata\" : \"Strata Number\", \"strataName\" : \"Strata Name\"})\n",
    "primary_home_language_2015_summary_df = primary_home_language_2015_rename_df.drop(columns = {\"submissionCode\", \"districtType\", \"districtNumber\", \"countyCode\", \"CountyName\", \"eco_dev_rgn\"})\n",
    "#primary_home_language_2015_summary_df"
   ]
  },
  {
   "cell_type": "code",
   "execution_count": null,
   "id": "19b712ed",
   "metadata": {},
   "outputs": [],
   "source": [
    "primary_home_language_2015_final_df = primary_home_language_2015_summary_df[~primary_home_language_2015_summary_df[\"Strata Number\"].isna()]\n",
    "#primary_home_language_2015_final_df"
   ]
  },
  {
   "cell_type": "code",
   "execution_count": null,
   "id": "a6aa8260",
   "metadata": {},
   "outputs": [],
   "source": [
    "language_summary_2015_df = primary_home_language_2015_summary_df[primary_home_language_2015_summary_df[\"Strata Number\"].isna()]\n",
    "language_summary_2015_final_df = language_summary_2015_df.drop(columns = {\"Strata Number\", \"Strata Name\"}).reset_index(drop=True).dropna()\n",
    "#language_summary_2015_final_df"
   ]
  },
  {
   "cell_type": "code",
   "execution_count": null,
   "id": "151865ec",
   "metadata": {},
   "outputs": [],
   "source": [
    "primary_home_language_2016 = \"data/2015-2016 Primary Home Language Totals.csv\"\n",
    "primary_home_language_2016_df = pd.read_csv(primary_home_language_2016)\n",
    "primary_home_language_2016_rename_df = primary_home_language_2016_df.rename(columns = {\"fiscalYear\" : \"School Year\", \"districtName\" : \"District Name\", \"languageName\" : \"Language Name\", \"homePrimaryLanguage\" : \"Home Primary Language\", \"enrollments\" : \"Student Count\", \"Country Name\" : \"Country Name\", \"strata\" : \"Strata Number\", \"strataName\" : \"Strata Name\"})\n",
    "primary_home_language_2016_summary_df = primary_home_language_2016_rename_df.drop(columns = {\"submissionCode\", \"districtType\", \"districtNumber\", \"countyCode\", \"CountyName\", \"eco_dev_rgn\"})\n",
    "#primary_home_language_2016_summary_df"
   ]
  },
  {
   "cell_type": "code",
   "execution_count": null,
   "id": "cf3db49e",
   "metadata": {},
   "outputs": [],
   "source": [
    "primary_home_language_2016_final_df = primary_home_language_2016_summary_df[~primary_home_language_2016_summary_df[\"Strata Number\"].isna()]\n",
    "#primary_home_language_2016_final_df"
   ]
  },
  {
   "cell_type": "code",
   "execution_count": null,
   "id": "9b19e0a4",
   "metadata": {},
   "outputs": [],
   "source": [
    "language_summary_2016_df = primary_home_language_2016_summary_df[primary_home_language_2016_summary_df[\"Strata Number\"].isna()]\n",
    "language_summary_2016_final_df = language_summary_2016_df.drop(columns = {\"Strata Number\", \"Strata Name\"}).reset_index(drop=True).dropna()\n",
    "#language_summary_2016_final_df"
   ]
  },
  {
   "cell_type": "code",
   "execution_count": null,
   "id": "58560fcb",
   "metadata": {},
   "outputs": [],
   "source": [
    "primary_home_language_2017 = \"data/2016-2017 Primary Home Language Totals.csv\"\n",
    "primary_home_language_2017_df = pd.read_csv(primary_home_language_2017)\n",
    "primary_home_language_2017_rename_df = primary_home_language_2017_df.rename(columns = {\"fiscalYear\" : \"School Year\", \"districtName\" : \"District Name\", \"languageName\" : \"Language Name\", \"homePrimaryLanguage\" : \"Home Primary Language\", \"enrollments\" : \"Student Count\", \"Country Name\" : \"Country Name\", \"strata\" : \"Strata Number\", \"strataName\" : \"Strata Name\"})\n",
    "primary_home_language_2017_summary_df = primary_home_language_2017_rename_df.drop(columns = {\"submissionCode\", \"districtType\", \"districtNumber\", \"countyCode\", \"CountyName\", \"eco_dev_rgn\"})\n",
    "#primary_home_language_2017_summary_df"
   ]
  },
  {
   "cell_type": "code",
   "execution_count": null,
   "id": "bc2dd394",
   "metadata": {},
   "outputs": [],
   "source": [
    "primary_home_language_2017_final_df = primary_home_language_2017_summary_df[~primary_home_language_2017_summary_df[\"Strata Number\"].isna()]\n",
    "#primary_home_language_2017_final_df"
   ]
  },
  {
   "cell_type": "code",
   "execution_count": null,
   "id": "40762755",
   "metadata": {},
   "outputs": [],
   "source": [
    "language_summary_2017_df = primary_home_language_2017_summary_df[primary_home_language_2017_summary_df[\"Strata Number\"].isna()]\n",
    "language_summary_2017_final_df = language_summary_2017_df.drop(columns = {\"Strata Number\", \"Strata Name\"}).reset_index(drop=True).dropna()\n",
    "#language_summary_2017_final_df"
   ]
  },
  {
   "cell_type": "code",
   "execution_count": null,
   "id": "09b68b30",
   "metadata": {},
   "outputs": [],
   "source": [
    "primary_home_language_2018 = \"data/2017-18 Primary Home Language Totals.csv\"\n",
    "primary_home_language_2018_df = pd.read_csv(primary_home_language_2018)\n",
    "primary_home_language_2018_rename_df = primary_home_language_2018_df.rename(columns = {\"Fiscal Year\" : \"School Year\", \"Strata\" : \"Strata Number\", \"Enrollments\" : \"Student Count\"})\n",
    "primary_home_language_2018_summary_df =  primary_home_language_2018_rename_df.drop(columns  = {\"Submission Code\", \"District Number\",\"District Type\", \"County Code\", \"Economic Development Region\"})\n",
    "#primary_home_language_2018_summary_df"
   ]
  },
  {
   "cell_type": "code",
   "execution_count": null,
   "id": "b5ce29f4",
   "metadata": {},
   "outputs": [],
   "source": [
    "primary_home_language_2018_final_df = primary_home_language_2018_summary_df[~primary_home_language_2018_summary_df[\"Strata Number\"].isna()]\n",
    "#primary_home_language_2018_final_df"
   ]
  },
  {
   "cell_type": "code",
   "execution_count": null,
   "id": "c913f7e3",
   "metadata": {},
   "outputs": [],
   "source": [
    "language_summary_2018_df = primary_home_language_2018_summary_df[primary_home_language_2018_summary_df[\"Strata Number\"].isna()]\n",
    "language_summary_2018_final_df = language_summary_2018_df.drop(columns = {\"County Name\", \"Strata Number\", \"Strata Name\"}).reset_index(drop=True).dropna()\n",
    "#language_summary_2018_final_df"
   ]
  },
  {
   "cell_type": "code",
   "execution_count": null,
   "id": "6d35bfc9",
   "metadata": {},
   "outputs": [],
   "source": [
    "primary_home_language_2019 = \"data/2018-19 Primary Home Language Totals.csv\"\n",
    "primary_home_language_2019_df = pd.read_csv(primary_home_language_2019)\n",
    "primary_home_language_2019_rename_df = primary_home_language_2019_df.rename(columns = {\"fiscalYear\" : \"School Year\", \"districtName\" : \"District Name\", \"languageName\" : \"Language Name\", \"homePrimaryLanguage\" : \"Home Primary Language\", \"enrollments\" : \"Student Count\", \"Country Name\" : \"Country Name\", \"strata\" : \"Strata Number\", \"strataName\" : \"Strata Name\"})\n",
    "primary_home_language_2019_summary_df = primary_home_language_2019_rename_df.drop(columns = {\"submissionCode\", \"districtType\", \"districtNumber\", \"countyCode\", \"CountyName\", \"eco_dev_rgn\"})\n",
    "#primary_home_language_2019_summary_df"
   ]
  },
  {
   "cell_type": "code",
   "execution_count": null,
   "id": "4deb5b83",
   "metadata": {},
   "outputs": [],
   "source": [
    "primary_home_language_2019_final_df = primary_home_language_2019_summary_df[~primary_home_language_2019_summary_df[\"Strata Number\"].isna()]\n",
    "#primary_home_language_2019_final_df"
   ]
  },
  {
   "cell_type": "code",
   "execution_count": null,
   "id": "dda969ad",
   "metadata": {},
   "outputs": [],
   "source": [
    "language_summary_2019_df = primary_home_language_2019_summary_df[primary_home_language_2019_summary_df[\"Strata Number\"].isna()]\n",
    "language_summary_2019_final_df = language_summary_2019_df.drop(columns = {\"Strata Number\", \"Strata Name\"}).reset_index(drop=True).dropna()\n",
    "#language_summary_2019_final_df"
   ]
  },
  {
   "cell_type": "code",
   "execution_count": null,
   "id": "b0538de5",
   "metadata": {},
   "outputs": [],
   "source": [
    "primary_home_language_2020 = \"data/2019-20 Primary Home Language Totals.csv\"\n",
    "primary_home_language_2020_df = pd.read_csv(primary_home_language_2020)\n",
    "primary_home_language_2020_rename_df = primary_home_language_2020_df.rename(columns = {\"Fiscal Year\" : \"School Year\", \"Strata\" : \"Strata Number\", \"Enrollments\" : \"Student Count\"})\n",
    "primary_home_language_2020_summary_df =  primary_home_language_2020_rename_df.drop(columns  = {\"Submission Code\", \"District Number\",\"District Type\", \"County Code\", \"Economic Development Region\"})\n",
    "#primary_home_language_2020_summary_df"
   ]
  },
  {
   "cell_type": "code",
   "execution_count": null,
   "id": "f9adfce7",
   "metadata": {},
   "outputs": [],
   "source": [
    "primary_home_language_2020_final_df = primary_home_language_2020_summary_df[~primary_home_language_2020_summary_df[\"Strata Number\"].isna()]\n",
    "#primary_home_language_2020_final_df"
   ]
  },
  {
   "cell_type": "code",
   "execution_count": null,
   "id": "8185c5a7",
   "metadata": {},
   "outputs": [],
   "source": [
    "language_summary_2020_df = primary_home_language_2020_summary_df[primary_home_language_2020_summary_df[\"Strata Number\"].isna()]\n",
    "language_summary_2020_final_df = language_summary_2020_df.drop(columns = {\"County Name\", \"Strata Number\", \"Strata Name\"}).reset_index(drop=True).dropna()\n",
    "#language_summary_2020_final_df"
   ]
  },
  {
   "cell_type": "code",
   "execution_count": null,
   "id": "0f76bd2b",
   "metadata": {},
   "outputs": [],
   "source": [
    "primary_home_language_2021 = \"data/2020-21 Primary Home Language Totals.csv\"\n",
    "primary_home_language_2021_df = pd.read_csv(primary_home_language_2021)\n",
    "primary_home_language_2021_rename_df = primary_home_language_2021_df.rename(columns = {\"Fiscal Year\" : \"School Year\", \"Strata\" : \"Strata Number\", \"Enrollments\" : \"Student Count\"})\n",
    "primary_home_language_2021_summary_df =  primary_home_language_2021_rename_df.drop(columns  = {\"Submission Code\", \"District Number\",\"District Type\", \"County Code\", \"Economic Development Region\"})\n",
    "#primary_home_language_2021_summary_df"
   ]
  },
  {
   "cell_type": "code",
   "execution_count": null,
   "id": "1c262916",
   "metadata": {},
   "outputs": [],
   "source": [
    "primary_home_language_2021_final_df = primary_home_language_2021_summary_df[~primary_home_language_2021_summary_df[\"Strata Number\"].isna()]\n",
    "#primary_home_language_2021_final_df"
   ]
  },
  {
   "cell_type": "code",
   "execution_count": null,
   "id": "b1aea4d7",
   "metadata": {},
   "outputs": [],
   "source": [
    "language_summary_2021_df = primary_home_language_2021_summary_df[primary_home_language_2021_summary_df[\"Strata Number\"].isna()]\n",
    "language_summary_2021_final_df = language_summary_2021_df.drop(columns = {\"County Name\", \"Strata Number\", \"Strata Name\"}).reset_index(drop=True).dropna()\n",
    "#language_summary_2021_final_df"
   ]
  },
  {
   "cell_type": "code",
   "execution_count": null,
   "id": "51f96cb4",
   "metadata": {},
   "outputs": [],
   "source": [
    "primary_home_language_2022 = \"data/2021-22 Primary Home Language Totals.csv\"\n",
    "primary_home_language_2022_df = pd.read_csv(primary_home_language_2022)\n",
    "primary_home_language_2022_rename_df = primary_home_language_2022_df.rename(columns = {\"Fiscal Year\" : \"School Year\", \"Strata\" : \"Strata Number\", \"Enrollments\" : \"Student Count\"})\n",
    "primary_home_language_2022_summary_df =  primary_home_language_2022_rename_df.drop(columns  = {\"Submission Code\", \"District Number\",\"District Type\", \"County Code\", \"Economic Development Region\"})\n",
    "#primary_home_language_2022_summary_df"
   ]
  },
  {
   "cell_type": "code",
   "execution_count": null,
   "id": "62999628",
   "metadata": {},
   "outputs": [],
   "source": [
    "primary_home_language_2022_final_df = primary_home_language_2022_summary_df[~primary_home_language_2022_summary_df[\"Strata Number\"].isna()]\n",
    "#primary_home_language_2022_final_df"
   ]
  },
  {
   "cell_type": "code",
   "execution_count": null,
   "id": "ec600097",
   "metadata": {},
   "outputs": [],
   "source": [
    "language_summary_2022_df = primary_home_language_2022_summary_df[primary_home_language_2022_summary_df[\"Strata Number\"].isna()]\n",
    "language_summary_2022_final_df = language_summary_2022_df.drop(columns = {\"County Name\", \"Strata Number\", \"Strata Name\"}).reset_index(drop=True).dropna()\n",
    "#language_summary_2022_final_df"
   ]
  },
  {
   "cell_type": "markdown",
   "id": "67ec8e12",
   "metadata": {},
   "source": [
    "### Merge yearly dataframes"
   ]
  },
  {
   "cell_type": "code",
   "execution_count": null,
   "id": "f0b5e602",
   "metadata": {},
   "outputs": [],
   "source": [
    "complete_primary_home_language = pd.concat([primary_home_language_2007_final_df, primary_home_language_2008_final_df, primary_home_language_2009_final_df, primary_home_language_2010_final_df, primary_home_language_2011_final_df, primary_home_language_2012_final_df, primary_home_language_2013_final_df, primary_home_language_2014_final_df, primary_home_language_2015_final_df, primary_home_language_2016_final_df, primary_home_language_2017_final_df, primary_home_language_2018_final_df, primary_home_language_2019_final_df, primary_home_language_2020_final_df, primary_home_language_2021_final_df, primary_home_language_2022_final_df]).reset_index(drop = True)\n",
    "\n",
    "complete_primary_home_language\n",
    "\n"
   ]
  },
  {
   "cell_type": "markdown",
   "id": "75cf8642",
   "metadata": {},
   "source": [
    "### Merge summary dataframes"
   ]
  },
  {
   "cell_type": "code",
   "execution_count": null,
   "id": "d0243c83",
   "metadata": {},
   "outputs": [],
   "source": [
    "complete_language_summary = pd.concat([language_summary_2007_final_df, language_summary_2008_final_df, language_summary_2009_final_df, language_summary_2010_final_df, language_summary_2011_final_df, language_summary_2012_final_df, language_summary_2013_final_df, language_summary_2014_final_df, language_summary_2015_final_df, language_summary_2016_final_df, language_summary_2017_final_df, language_summary_2018_final_df, language_summary_2019_final_df, language_summary_2020_final_df, language_summary_2021_final_df, language_summary_2022_final_df]).reset_index(drop = True)\n",
    "\n",
    "complete_language_summary"
   ]
  },
  {
   "cell_type": "markdown",
   "id": "076ae7ab",
   "metadata": {},
   "source": [
    "## Data Reduction and Analysis"
   ]
  },
  {
   "cell_type": "markdown",
   "id": "32fb8020",
   "metadata": {},
   "source": [
    "# *Yameena's Code Starts Here!*"
   ]
  },
  {
   "cell_type": "markdown",
   "id": "7faa00c0",
   "metadata": {},
   "source": [
    "### Unique Languages by Year"
   ]
  },
  {
   "cell_type": "code",
   "execution_count": null,
   "id": "3d67e020",
   "metadata": {},
   "outputs": [],
   "source": [
    "Unique_Languages = complete_primary_home_language[\"Language Name\"].nunique()\n",
    "Unique_Languages"
   ]
  },
  {
   "cell_type": "code",
   "execution_count": null,
   "id": "91b9c434",
   "metadata": {},
   "outputs": [],
   "source": [
    "#Converting all languages in CAPs and removing spaces from cells to ensure removal of duplicates\n",
    "complete_primary_home_language[\"Language Name\"] = complete_primary_home_language[\"Language Name\"].str.upper()\n",
    "complete_primary_home_language[\"Language Name\"] = complete_primary_home_language[\"Language Name\"].str.strip()\n",
    "\n",
    "#Further removing rows that have language as Not Available or Not Specific\n",
    "complete_primary_home_language.drop(complete_primary_home_language[complete_primary_home_language['Language Name'] == 'NOT AVAILABLE' ].index, inplace = True)\n",
    "complete_primary_home_language.drop(complete_primary_home_language[complete_primary_home_language['Language Name'] == 'NOT SPECIFIC' ].index, inplace = True)\n",
    "\n",
    "complete_primary_home_language"
   ]
  },
  {
   "cell_type": "code",
   "execution_count": null,
   "id": "4ecc039c",
   "metadata": {},
   "outputs": [],
   "source": [
    "#Unique languages after removal of potential duplicates\n",
    "Unique_Languages_count = complete_primary_home_language[\"Language Name\"].nunique()\n",
    "Unique_Languages_count"
   ]
  },
  {
   "cell_type": "code",
   "execution_count": null,
   "id": "03f0b561",
   "metadata": {},
   "outputs": [],
   "source": [
    "Unique_Languages = complete_primary_home_language[\"Language Name\"].unique()\n",
    "print(np.sort(Unique_Languages))"
   ]
  },
  {
   "cell_type": "code",
   "execution_count": null,
   "id": "05e3b5f8",
   "metadata": {},
   "outputs": [],
   "source": [
    "#Combining Languages that had names masked together as well as separated\n",
    "complete_primary_home_language.loc[complete_primary_home_language[\"Language Name\"] == \"ADANGME\", \"Language Name\"] = \"ADANGME/AKAN/DAGOMBA/DAGBANE/FANTE/FANTI/GA/TWI/EWE/GURMA\"\n",
    "complete_primary_home_language.loc[complete_primary_home_language[\"Language Name\"] == \"AKAN\", \"Language Name\"] = \"ADANGME/AKAN/DAGOMBA/DAGBANE/FANTE/FANTI/GA/TWI/EWE/GURMA\"\n",
    "complete_primary_home_language.loc[complete_primary_home_language[\"Language Name\"] == \"DAGOMBA\", \"Language Name\"] = \"ADANGME/AKAN/DAGOMBA/DAGBANE/FANTE/FANTI/GA/TWI/EWE/GURMA\"\n",
    "complete_primary_home_language.loc[complete_primary_home_language[\"Language Name\"] == \"DAGBANE\", \"Language Name\"] = \"ADANGME/AKAN/DAGOMBA/DAGBANE/FANTE/FANTI/GA/TWI/EWE/GURMA\"\n",
    "complete_primary_home_language.loc[complete_primary_home_language[\"Language Name\"] == \"DAGOMBA\", \"Language Name\"] = \"ADANGME/AKAN/DAGOMBA/DAGBANE/FANTE/FANTI/GA/TWI/EWE/GURMA\"\n",
    "complete_primary_home_language.loc[complete_primary_home_language[\"Language Name\"] == \"FANTE\", \"Language Name\"] = \"ADANGME/AKAN/DAGOMBA/DAGBANE/FANTE/FANTI/GA/TWI/EWE/GURMA\"\n",
    "complete_primary_home_language.loc[complete_primary_home_language[\"Language Name\"] == \"FANTI\", \"Language Name\"] = \"ADANGME/AKAN/DAGOMBA/DAGBANE/FANTE/FANTI/GA/TWI/EWE/GURMA\"\n",
    "complete_primary_home_language.loc[complete_primary_home_language[\"Language Name\"] == \"GA\", \"Language Name\"] = \"ADANGME/AKAN/DAGOMBA/DAGBANE/FANTE/FANTI/GA/TWI/EWE/GURMA\"\n",
    "complete_primary_home_language.loc[complete_primary_home_language[\"Language Name\"] == \"TWI\", \"Language Name\"] = \"ADANGME/AKAN/DAGOMBA/DAGBANE/FANTE/FANTI/GA/TWI/EWE/GURMA\"\n",
    "complete_primary_home_language.loc[complete_primary_home_language[\"Language Name\"] == \"EWE\", \"Language Name\"] = \"ADANGME/AKAN/DAGOMBA/DAGBANE/FANTE/FANTI/GA/TWI/EWE/GURMA\"\n",
    "complete_primary_home_language.loc[complete_primary_home_language[\"Language Name\"] == \"GURMA\", \"Language Name\"] = \"ADANGME/AKAN/DAGOMBA/DAGBANE/FANTE/FANTI/GA/TWI/EWE/GURMA\"\n",
    "\n",
    "complete_primary_home_language.loc[complete_primary_home_language[\"Language Name\"] == \"BALINESE\", \"Language Name\"] = \"INDONESIAN\"\n",
    "complete_primary_home_language.loc[complete_primary_home_language[\"Language Name\"] == \"JAVANESE\", \"Language Name\"] = \"INDONESIAN\"\n",
    "complete_primary_home_language.loc[complete_primary_home_language[\"Language Name\"] == \"SUNDANESE\", \"Language Name\"] = \"INDONESIAN\"\n",
    "complete_primary_home_language.loc[complete_primary_home_language[\"Language Name\"] == \"INDONESIAN, BAHASA INDONESIAN\", \"Language Name\"] = \"INDONESIAN\"\n",
    "complete_primary_home_language.loc[complete_primary_home_language[\"Language Name\"] == \"BALINESE/JAVANESE/SUNDANESE\", \"Language Name\"] = \"INDONESIAN\"\n",
    "\n",
    "\n",
    "\n",
    "complete_primary_home_language.loc[complete_primary_home_language[\"Language Name\"] == \"BEMBA\", \"Language Name\"] = \"BEMBA/TONGA/NYANJA\"\n",
    "complete_primary_home_language.loc[complete_primary_home_language[\"Language Name\"] == \"TONGA\", \"Language Name\"] = \"BEMBA/TONGA/NYANJA\"\n",
    "complete_primary_home_language.loc[complete_primary_home_language[\"Language Name\"] == \"NYANJA\", \"Language Name\"] = \"BEMBA/TONGA/NYANJA\"\n",
    "\n",
    "\n",
    "complete_primary_home_language.loc[complete_primary_home_language[\"Language Name\"] == \"BERBER\", \"Language Name\"] = \"BERBER/ KABYLE\"\n",
    "complete_primary_home_language.loc[complete_primary_home_language[\"Language Name\"] == \"KABYLE\", \"Language Name\"] = \"BERBER/ KABYLE\"\n",
    "complete_primary_home_language.loc[complete_primary_home_language[\"Language Name\"] == \"BERBER (AKA KABYLE)\", \"Language Name\"] = \"BERBER/ KABYLE\"\n",
    "\n",
    "complete_primary_home_language.loc[complete_primary_home_language[\"Language Name\"] == \"KAMBA\", \"Language Name\"] = \"KAMBA/KIKUYA/LUO\"\n",
    "complete_primary_home_language.loc[complete_primary_home_language[\"Language Name\"] == \"KIKUYU\", \"Language Name\"] = \"KAMBA/KIKUYA/LUO\"\n",
    "complete_primary_home_language.loc[complete_primary_home_language[\"Language Name\"] == \"LUO\", \"Language Name\"] = \"KAMBA/KIKUYA/LUO\"\n",
    "\n",
    "complete_primary_home_language.loc[complete_primary_home_language[\"Language Name\"] == \"PAMPA\", \"Language Name\"] = \"PAMPA/SARAMO/ITONAMA/AYMARA/ARAUCANIAN/PALENQUE/ARAWAK\"\n",
    "complete_primary_home_language.loc[complete_primary_home_language[\"Language Name\"] == \"SARAMO\", \"Language Name\"] = \"PAMPA/SARAMO/ITONAMA/AYMARA/ARAUCANIAN/PALENQUE/ARAWAK\"\n",
    "complete_primary_home_language.loc[complete_primary_home_language[\"Language Name\"] == \"ITONAMA\", \"Language Name\"] = \"PAMPA/SARAMO/ITONAMA/AYMARA/ARAUCANIAN/PALENQUE/ARAWAK\"\n",
    "complete_primary_home_language.loc[complete_primary_home_language[\"Language Name\"] == \"AYMARA\", \"Language Name\"] = \"PAMPA/SARAMO/ITONAMA/AYMARA/ARAUCANIAN/PALENQUE/ARAWAK\"\n",
    "complete_primary_home_language.loc[complete_primary_home_language[\"Language Name\"] == \"ARAUCANIAN\", \"Language Name\"] = \"PAMPA/SARAMO/ITONAMA/AYMARA/ARAUCANIAN/PALENQUE/ARAWAK\"\n",
    "complete_primary_home_language.loc[complete_primary_home_language[\"Language Name\"] == \"PALENQUE\", \"Language Name\"] = \"PAMPA/SARAMO/ITONAMA/AYMARA/ARAUCANIAN/PALENQUE/ARAWAK\"\n",
    "complete_primary_home_language.loc[complete_primary_home_language[\"Language Name\"] == \"ARAWAK\", \"Language Name\"] = \"PAMPA/SARAMO/ITONAMA/AYMARA/ARAUCANIAN/PALENQUE/ARAWAK\"\n",
    "\n",
    "\n",
    "complete_primary_home_language.loc[complete_primary_home_language[\"Language Name\"] == \"QUICHE\", \"Language Name\"] = \"QUICHE/GARIFUNA/NAHUATL/SERI/GUARANI/QUECHUA\"\n",
    "complete_primary_home_language.loc[complete_primary_home_language[\"Language Name\"] == \"GARIFUNA\", \"Language Name\"] = \"QUICHE/GARIFUNA/NAHUATL/SERI/GUARANI/QUECHUA\"\n",
    "complete_primary_home_language.loc[complete_primary_home_language[\"Language Name\"] == \"NAHUATL\", \"Language Name\"] = \"QUICHE/GARIFUNA/NAHUATL/SERI/GUARANI/QUECHUA\"\n",
    "complete_primary_home_language.loc[complete_primary_home_language[\"Language Name\"] == \"SERI\", \"Language Name\"] = \"QUICHE/GARIFUNA/NAHUATL/SERI/GUARANI/QUECHUA\"\n",
    "complete_primary_home_language.loc[complete_primary_home_language[\"Language Name\"] == \"GUARANI\", \"Language Name\"] = \"QUICHE/GARIFUNA/NAHUATL/SERI/GUARANI/QUECHUA\"\n",
    "complete_primary_home_language.loc[complete_primary_home_language[\"Language Name\"] == \"QUECHUA\", \"Language Name\"] = \"QUICHE/GARIFUNA/NAHUATL/SERI/GUARANI/QUECHUA\"\n",
    "complete_primary_home_language.loc[complete_primary_home_language[\"Language Name\"] == \"QUICHUA\", \"Language Name\"] = \"QUICHE/GARIFUNA/NAHUATL/SERI/GUARANI/QUECHUA\"\n",
    "complete_primary_home_language.loc[complete_primary_home_language[\"Language Name\"] == \"K'ICHE\", \"Language Name\"] = \"QUICHE/GARIFUNA/NAHUATL/SERI/GUARANI/QUECHUA\"\n",
    "\n",
    "\n",
    "complete_primary_home_language.loc[complete_primary_home_language[\"Language Name\"] == \"RUNDI\", \"Language Name\"] = \"RUNDI/GEORGIAN/OSSETIAN\"\n",
    "complete_primary_home_language.loc[complete_primary_home_language[\"Language Name\"] == \"GEORGIAN\", \"Language Name\"] = \"RUNDI/GEORGIAN/OSSETIAN\"\n",
    "complete_primary_home_language.loc[complete_primary_home_language[\"Language Name\"] == \"OSSETIAN\", \"Language Name\"] = \"RUNDI/GEORGIAN/OSSETIAN\"\n",
    "\n",
    "complete_primary_home_language.loc[complete_primary_home_language[\"Language Name\"] == \"WOLOF\", \"Language Name\"] = \"WOLOF/TAJIK\"\n",
    "complete_primary_home_language.loc[complete_primary_home_language[\"Language Name\"] == \"TAJIK\", \"Language Name\"] = \"WOLOF/TAJIK\"\n",
    "\n",
    "complete_primary_home_language.loc[complete_primary_home_language[\"Language Name\"] == \"NDELBELE\", \"Language Name\"] = \"NDELBELE/SHONA\"\n",
    "complete_primary_home_language.loc[complete_primary_home_language[\"Language Name\"] == \"SHONA\", \"Language Name\"] = \"NDELBELE/SHONA\"\n",
    "\n",
    "complete_primary_home_language.loc[complete_primary_home_language[\"Language Name\"] == \"RWANDA\", \"Language Name\"] = \"RWANDA/SOTHO/ZULU\"\n",
    "complete_primary_home_language.loc[complete_primary_home_language[\"Language Name\"] == \"SOTHO\", \"Language Name\"] = \"RWANDA/SOTHO/ZULU\"\n",
    "complete_primary_home_language.loc[complete_primary_home_language[\"Language Name\"] == \"ZULU\", \"Language Name\"] = \"RWANDA/SOTHO/ZULU\"\n",
    "\n",
    "complete_primary_home_language.loc[complete_primary_home_language[\"Language Name\"] == \"BASAA\", \"Language Name\"] = \"BASSA\"\n",
    "complete_primary_home_language.loc[complete_primary_home_language[\"Language Name\"] == \"BISAYA\", \"Language Name\"] = \"BISAYA, BASAYA, DUSUN, TUTONG\"\n",
    "complete_primary_home_language.loc[complete_primary_home_language[\"Language Name\"] == \"BASAYA\", \"Language Name\"] = \"BISAYA, BASAYA, DUSUN, TUTONG\"\n",
    "complete_primary_home_language.loc[complete_primary_home_language[\"Language Name\"] == \"BISAYA, BASAYA\", \"Language Name\"] = \"BISAYA, BASAYA, DUSUN, TUTONG\"\n",
    "\n",
    "complete_primary_home_language.loc[complete_primary_home_language[\"Language Name\"] == \"CHUUKESE\", \"Language Name\"] = \"CHUKEESE\"\n",
    "\n",
    "complete_primary_home_language.loc[complete_primary_home_language[\"Language Name\"] == \"CEBUANO\", \"Language Name\"] = \"CEBUANO, VISAYAN, BINISAYA\"\n",
    "complete_primary_home_language.loc[complete_primary_home_language[\"Language Name\"] == \"CEBUANO,\", \"Language Name\"] = \"CEBUANO, VISAYAN, BINISAYA\"\n",
    "complete_primary_home_language.loc[complete_primary_home_language[\"Language Name\"] == \"VISAYAN\", \"Language Name\"] = \"CEBUANO, VISAYAN, BINISAYA\"\n",
    "complete_primary_home_language.loc[complete_primary_home_language[\"Language Name\"] == \"BINISAYA\", \"Language Name\"] = \"CEBUANO, VISAYAN, BINISAYA\"\n",
    "\n",
    "complete_primary_home_language.loc[complete_primary_home_language[\"Language Name\"] == \"LAO, LAOTIAN\", \"Language Name\"] = \"LAO/LAOTIAN\"\n",
    "complete_primary_home_language.loc[complete_primary_home_language[\"Language Name\"] == \"LAOTIAN\", \"Language Name\"] = \"LAO/LAOTIAN\"\n",
    "complete_primary_home_language.loc[complete_primary_home_language[\"Language Name\"] == \"LAO\", \"Language Name\"] = \"LAO/LAOTIAN\"\n",
    "\n",
    "complete_primary_home_language.loc[complete_primary_home_language[\"Language Name\"] == \"MONGO, MONGO-NKUNDU\", \"Language Name\"] = \"MONGO-NKUNDU\"\n",
    "complete_primary_home_language.loc[complete_primary_home_language[\"Language Name\"] == \"OROMO, AFAN OROMO, OROMIFFA\", \"Language Name\"] = \"OROMO\"\n",
    "\n",
    "complete_primary_home_language.loc[complete_primary_home_language[\"Language Name\"] == \"PORTUGUESE -CREOLE\", \"Language Name\"] = \"PORTUGUESE\"\n",
    "complete_primary_home_language.loc[complete_primary_home_language[\"Language Name\"] == \"PORTUGUESE, CREOLIZED\", \"Language Name\"] = \"PORTUGUESE\"\n",
    "\n",
    "complete_primary_home_language.loc[complete_primary_home_language[\"Language Name\"] == \"SARAKOLE\", \"Language Name\"] = \"SARAKOLE/SONINKE\"\n",
    "complete_primary_home_language.loc[complete_primary_home_language[\"Language Name\"] == \"SARAKOLE, SONINKE\", \"Language Name\"] = \"SARAKOLE/SONINKE\"\n",
    "\n",
    "complete_primary_home_language.loc[complete_primary_home_language[\"Language Name\"] == \"TEM, COCOTOLI (KOKOTOLI), TEMBA, TIM, TIMU\", \"Language Name\"] = \"TEM\"\n",
    "complete_primary_home_language.loc[complete_primary_home_language[\"Language Name\"] == \"KAREN, PWO\", \"Language Name\"] = \"KAREN\"\n",
    "complete_primary_home_language.loc[complete_primary_home_language[\"Language Name\"] == \"KAREN, S'GAW\", \"Language Name\"] = \"KAREN\"\n",
    "\n",
    "complete_primary_home_language.loc[complete_primary_home_language[\"Language Name\"] == \"KARENNI, KAYAH\", \"Language Name\"] = \"KARENNI\"\n",
    "complete_primary_home_language.loc[complete_primary_home_language[\"Language Name\"] == \"LUBA\", \"Language Name\"] = \"LUBA-KATANGA\"\n",
    "complete_primary_home_language.loc[complete_primary_home_language[\"Language Name\"] == \"MANO. MAH\", \"Language Name\"] = \"MANO\"\n",
    "\n",
    "complete_primary_home_language.loc[complete_primary_home_language[\"Language Name\"] == \"BELORUSAN\", \"Language Name\"] = \"BELORUSSIAN\"\n",
    "complete_primary_home_language.loc[complete_primary_home_language[\"Language Name\"] == \"CHOCTAW\", \"Language Name\"] = \"CHOCTCAW\"\n",
    "\n",
    "complete_primary_home_language.loc[complete_primary_home_language[\"Language Name\"] == \"FARSI\", \"Language Name\"] = \"PERSIAN\"\n",
    "complete_primary_home_language.loc[complete_primary_home_language[\"Language Name\"] == \"FRENCH, CREOLIZED\", \"Language Name\"] = \"FRENCH\"\n",
    "complete_primary_home_language.loc[complete_primary_home_language[\"Language Name\"] == \"HAITIAN CREOLE\", \"Language Name\"] = \"FRENCH\"\n",
    "complete_primary_home_language.loc[complete_primary_home_language[\"Language Name\"] == \"UKRANIAN\", \"Language Name\"] = \"UKRAINIAN\"\n",
    "complete_primary_home_language.loc[complete_primary_home_language[\"Language Name\"] == \"SIGN LANGUAGE, ASL\", \"Language Name\"] = \"SIGN LANGUAGE\"\n",
    "complete_primary_home_language.loc[complete_primary_home_language[\"Language Name\"] == \"PALUAN\", \"Language Name\"] = \"PALAUAN\"\n",
    "complete_primary_home_language.loc[complete_primary_home_language[\"Language Name\"] == \"CHIEN\", \"Language Name\"] = \"CHIN\"\n",
    "\n",
    "complete_primary_home_language.loc[complete_primary_home_language[\"Language Name\"] == \"BHUTANESE, DZONGKHA\", \"Language Name\"] = \"BHUTANESE\"\n",
    "complete_primary_home_language.loc[complete_primary_home_language[\"Language Name\"] == \"CHIEN\", \"Language Name\"] = \"CHIN\"\n",
    "complete_primary_home_language.loc[complete_primary_home_language[\"Language Name\"] == \"CHAM, EASTERN\", \"Language Name\"] = \"CHAM\"\n",
    "complete_primary_home_language.loc[complete_primary_home_language[\"Language Name\"] == \"CHAM, WESTERN\", \"Language Name\"] = \"CHAM\"\n",
    "complete_primary_home_language.loc[complete_primary_home_language[\"Language Name\"] == \"ENGLISH, CREOLIZED\", \"Language Name\"] = \"ENGLISH\"\n",
    "complete_primary_home_language.loc[complete_primary_home_language[\"Language Name\"] == \"BISLAMA\", \"Language Name\"] = \"ENGLISH\"\n",
    "\n",
    "complete_primary_home_language.loc[complete_primary_home_language[\"Language Name\"] == \"GANDA\", \"Language Name\"] = \"GANDA/LUGANDA\"\n",
    "complete_primary_home_language.loc[complete_primary_home_language[\"Language Name\"] == \"GANDA, LUGANDA\", \"Language Name\"] = \"GANDA/LUGANDA\"\n",
    "complete_primary_home_language.loc[complete_primary_home_language[\"Language Name\"] == \"LUGANDA\", \"Language Name\"] = \"GANDA/LUGANDA\"\n",
    "\n",
    "complete_primary_home_language.loc[complete_primary_home_language[\"Language Name\"] == \"SLOVENE\", \"Language Name\"] = \"SLOVENIAN\"\n",
    "complete_primary_home_language.loc[complete_primary_home_language[\"Language Name\"] == \"LINGOLA\", \"Language Name\"] = \"LINGALA\"\n",
    "\n",
    "complete_primary_home_language.loc[complete_primary_home_language[\"Language Name\"] == \"KPELLE, PELLE\", \"Language Name\"] = \"KPELLE\"\n",
    "\n",
    "complete_primary_home_language.loc[complete_primary_home_language[\"Language Name\"] == \"BUGIS\", \"Language Name\"] = \"INDONESIAN\"\n",
    "\n",
    "complete_primary_home_language.loc[complete_primary_home_language[\"Language Name\"] == \"ILLOGO\", \"Language Name\"] = \"ILLOGO, HILIGAYNON\"\n",
    "\n",
    "complete_primary_home_language.loc[complete_primary_home_language[\"Language Name\"] == \"BRAJ BASHA\", \"Language Name\"] = \"BRAJ BASHA\"\n",
    "\n",
    "complete_primary_home_language.loc[complete_primary_home_language[\"Language Name\"] == \"BICOLANO\", \"Language Name\"] = \"FILIPINO\"\n",
    "complete_primary_home_language.loc[complete_primary_home_language[\"Language Name\"] == \"FILIPINO, PILIPINO\", \"Language Name\"] = \"FILIPINO\"\n",
    "\n",
    "complete_primary_home_language.loc[complete_primary_home_language[\"Language Name\"] == \"OKINAWAN\", \"Language Name\"] = \"JAPANESE\"\n",
    "\n",
    "complete_primary_home_language.loc[complete_primary_home_language[\"Language Name\"] == \"CHINESE, MANDARIN\", \"Language Name\"] = \"CHINESE\"\n",
    "complete_primary_home_language.loc[complete_primary_home_language[\"Language Name\"] == \"CANTONESE\", \"Language Name\"] = \"CHINESE\"\n",
    "\n",
    "\n",
    "complete_primary_home_language.loc[complete_primary_home_language[\"Language Name\"] == \"ALEUT\", \"Language Name\"] = \"AMERICAN INDIAN\"\n",
    "complete_primary_home_language.loc[complete_primary_home_language[\"Language Name\"] == \"APACHE\", \"Language Name\"] = \"AMERICAN INDIAN\"\n",
    "complete_primary_home_language.loc[complete_primary_home_language[\"Language Name\"] == \"CHEROKEE\", \"Language Name\"] = \"AMERICAN INDIAN\"\n",
    "complete_primary_home_language.loc[complete_primary_home_language[\"Language Name\"] == \"CHEYENNE\", \"Language Name\"] = \"AMERICAN INDIAN\"\n",
    "complete_primary_home_language.loc[complete_primary_home_language[\"Language Name\"] == \"CHIPPEWA\", \"Language Name\"] = \"AMERICAN INDIAN\"\n",
    "complete_primary_home_language.loc[complete_primary_home_language[\"Language Name\"] == \"CHOCTAW\", \"Language Name\"] = \"AMERICAN INDIAN\"\n",
    "complete_primary_home_language.loc[complete_primary_home_language[\"Language Name\"] == \"CHOCTCAW\", \"Language Name\"] = \"AMERICAN INDIAN\"\n",
    "complete_primary_home_language.loc[complete_primary_home_language[\"Language Name\"] == \"DAKOTA\", \"Language Name\"] = \"AMERICAN INDIAN\"\n",
    "complete_primary_home_language.loc[complete_primary_home_language[\"Language Name\"] == \"DAKOTAH\", \"Language Name\"] = \"AMERICAN INDIAN\"\n",
    "complete_primary_home_language.loc[complete_primary_home_language[\"Language Name\"] == \"HAWAIIAN\", \"Language Name\"] = \"AMERICAN INDIAN\"\n",
    "complete_primary_home_language.loc[complete_primary_home_language[\"Language Name\"] == \"HO-CHUNK, WINNEBAGO\", \"Language Name\"] = \"AMERICAN INDIAN\"\n",
    "complete_primary_home_language.loc[complete_primary_home_language[\"Language Name\"] == \"LAKOTA\", \"Language Name\"] = \"AMERICAN INDIAN\"\n",
    "complete_primary_home_language.loc[complete_primary_home_language[\"Language Name\"] == \"NAVAJO\", \"Language Name\"] = \"AMERICAN INDIAN\"\n",
    "complete_primary_home_language.loc[complete_primary_home_language[\"Language Name\"] == \"OJIBWA\", \"Language Name\"] = \"AMERICAN INDIAN\"\n",
    "complete_primary_home_language.loc[complete_primary_home_language[\"Language Name\"] == \"OJIBWA, CHIPPEWA, ANISHINAABEMOWIN\", \"Language Name\"] = \"AMERICAN INDIAN\"\n",
    "\n",
    "complete_primary_home_language.loc[complete_primary_home_language[\"Language Name\"] == \"MAAY\", \"Language Name\"] = \"SOMALI\"\n",
    "\n",
    "complete_primary_home_language.loc[complete_primary_home_language[\"Strata Name\"] == \"Minneapolis and Saint Paul (MPLS/STP)\", \"Strata Name\"] = \"Minneapolis and Saint Paul\"\n",
    "complete_primary_home_language.loc[complete_primary_home_language[\"Strata Name\"] == \"County Metro Area excluding MPLS/STP\", \"Strata Name\"] = \"7 County Metro Area excluding MPLS/STP\""
   ]
  },
  {
   "cell_type": "code",
   "execution_count": null,
   "id": "ec945f55",
   "metadata": {},
   "outputs": [],
   "source": [
    "#Counting final Unique Languages\n",
    "Unique_Languages_count = complete_primary_home_language[\"Language Name\"].nunique()\n",
    "Unique_Languages_count"
   ]
  },
  {
   "cell_type": "code",
   "execution_count": null,
   "id": "be1defce",
   "metadata": {},
   "outputs": [],
   "source": [
    "Unique_Languages = list(complete_primary_home_language[\"Language Name\"].unique())\n",
    "print(np.sort(Unique_Languages))"
   ]
  },
  {
   "cell_type": "code",
   "execution_count": null,
   "id": "fa2208ff",
   "metadata": {},
   "outputs": [],
   "source": [
    "#Unique Langs per year:\n",
    "GroupbyLang = complete_primary_home_language.groupby([\"School Year\"])\n",
    "Unique_lang_Count_peryear = GroupbyLang[\"Language Name\"].nunique()\n",
    "Unique_Lang_peryear_df = Unique_lang_Count_peryear.to_frame()\n",
    "Unique_Lang_peryear_df"
   ]
  },
  {
   "cell_type": "markdown",
   "id": "1ee95b6d",
   "metadata": {},
   "source": [
    "### Distribution of Languages by Year"
   ]
  },
  {
   "cell_type": "code",
   "execution_count": null,
   "id": "a1abd398",
   "metadata": {},
   "outputs": [],
   "source": [
    "#GroupbyLang = complete_primary_home_language.groupby([\"School Year\",\"Language Name\"])\n",
    "#Unique_Lang_Series = GroupbyLang[\"Student Count\"].sum()\n",
    "#Unique_Lang_df= Unique_Lang_Series.to_frame()\n",
    "#Unique_Lang_df"
   ]
  },
  {
   "cell_type": "code",
   "execution_count": null,
   "id": "47c6d664",
   "metadata": {},
   "outputs": [],
   "source": [
    "#Using groupby to calculate number of students per school year per language\n",
    "GroupbyLang = complete_primary_home_language.groupby([\"School Year\",\"Language Name\"], as_index=False)\n",
    "Unique_lang_df = GroupbyLang[\"Student Count\"].sum()\n",
    "Unique_lang_df"
   ]
  },
  {
   "cell_type": "code",
   "execution_count": null,
   "id": "a38bde8c",
   "metadata": {},
   "outputs": [],
   "source": [
    "#Better representation of Data by unstacking School year\n",
    "UniqueLang_yearsunstack = Unique_lang_df.set_index([\"Language Name\",\"School Year\"], drop=True).unstack(\"School Year\")\n",
    "UniqueLang_yearsunstack.fillna(0)"
   ]
  },
  {
   "cell_type": "markdown",
   "id": "315de4a0",
   "metadata": {},
   "source": [
    "# *Maryam's Code Starts Here!*"
   ]
  },
  {
   "cell_type": "markdown",
   "id": "af7cebaa",
   "metadata": {},
   "source": [
    "### Distribution of Languages by Geography"
   ]
  },
  {
   "cell_type": "code",
   "execution_count": null,
   "id": "e3f5e130",
   "metadata": {},
   "outputs": [],
   "source": [
    "#Converting all languages in CAPs and removing spaces from cells to ensure removal of duplicates\n",
    "complete_language_summary[\"Language Name\"] = complete_language_summary[\"Language Name\"].str.upper()\n",
    "complete_language_summary[\"Language Name\"] = complete_language_summary[\"Language Name\"].str.strip()\n",
    "\n",
    "#Further removing rows that have language as Not Available or Not Specific\n",
    "complete_language_summary.drop(complete_language_summary[complete_language_summary['Language Name'] == 'NOT AVAILABLE' ].index, inplace = True)\n",
    "complete_language_summary.drop(complete_language_summary[complete_language_summary['Language Name'] == 'NOT SPECIFIC' ].index, inplace = True)\n",
    "\n",
    "complete_language_summary"
   ]
  },
  {
   "cell_type": "code",
   "execution_count": null,
   "id": "9055be3f",
   "metadata": {},
   "outputs": [],
   "source": [
    "complete_language_summary.loc[complete_language_summary[\"Language Name\"] == \"ADANGME\", \"Language Name\"] = \"ADANGME/AKAN/DAGOMBA/DAGBANE/FANTE/FANTI/GA/TWI/EWE/GURMA\"\n",
    "complete_language_summary.loc[complete_language_summary[\"Language Name\"] == \"AKAN\", \"Language Name\"] = \"ADANGME/AKAN/DAGOMBA/DAGBANE/FANTE/FANTI/GA/TWI/EWE/GURMA\"\n",
    "complete_language_summary.loc[complete_language_summary[\"Language Name\"] == \"DAGOMBA\", \"Language Name\"] = \"ADANGME/AKAN/DAGOMBA/DAGBANE/FANTE/FANTI/GA/TWI/EWE/GURMA\"\n",
    "complete_language_summary.loc[complete_language_summary[\"Language Name\"] == \"DAGBANE\", \"Language Name\"] = \"ADANGME/AKAN/DAGOMBA/DAGBANE/FANTE/FANTI/GA/TWI/EWE/GURMA\"\n",
    "complete_language_summary.loc[complete_language_summary[\"Language Name\"] == \"DAGOMBA\", \"Language Name\"] = \"ADANGME/AKAN/DAGOMBA/DAGBANE/FANTE/FANTI/GA/TWI/EWE/GURMA\"\n",
    "complete_language_summary.loc[complete_language_summary[\"Language Name\"] == \"FANTE\", \"Language Name\"] = \"ADANGME/AKAN/DAGOMBA/DAGBANE/FANTE/FANTI/GA/TWI/EWE/GURMA\"\n",
    "complete_language_summary.loc[complete_language_summary[\"Language Name\"] == \"FANTI\", \"Language Name\"] = \"ADANGME/AKAN/DAGOMBA/DAGBANE/FANTE/FANTI/GA/TWI/EWE/GURMA\"\n",
    "complete_language_summary.loc[complete_language_summary[\"Language Name\"] == \"GA\", \"Language Name\"] = \"ADANGME/AKAN/DAGOMBA/DAGBANE/FANTE/FANTI/GA/TWI/EWE/GURMA\"\n",
    "complete_language_summary.loc[complete_language_summary[\"Language Name\"] == \"TWI\", \"Language Name\"] = \"ADANGME/AKAN/DAGOMBA/DAGBANE/FANTE/FANTI/GA/TWI/EWE/GURMA\"\n",
    "complete_language_summary.loc[complete_language_summary[\"Language Name\"] == \"EWE\", \"Language Name\"] = \"ADANGME/AKAN/DAGOMBA/DAGBANE/FANTE/FANTI/GA/TWI/EWE/GURMA\"\n",
    "complete_language_summary.loc[complete_language_summary[\"Language Name\"] == \"GURMA\", \"Language Name\"] = \"ADANGME/AKAN/DAGOMBA/DAGBANE/FANTE/FANTI/GA/TWI/EWE/GURMA\"\n",
    "\n",
    "complete_language_summary.loc[complete_language_summary[\"Language Name\"] == \"BALINESE\", \"Language Name\"] = \"INDONESIAN\"\n",
    "complete_language_summary.loc[complete_language_summary[\"Language Name\"] == \"JAVANESE\", \"Language Name\"] = \"INDONESIAN\"\n",
    "complete_language_summary.loc[complete_language_summary[\"Language Name\"] == \"SUNDANESE\", \"Language Name\"] = \"INDONESIAN\"\n",
    "complete_language_summary.loc[complete_language_summary[\"Language Name\"] == \"INDONESIAN, BAHASA INDONESIAN\", \"Language Name\"] = \"INDONESIAN\"\n",
    "complete_language_summary.loc[complete_language_summary[\"Language Name\"] == \"BALINESE/JAVANESE/SUNDANESE\", \"Language Name\"] = \"INDONESIAN\"\n",
    "\n",
    "\n",
    "\n",
    "complete_language_summary.loc[complete_language_summary[\"Language Name\"] == \"BEMBA\", \"Language Name\"] = \"BEMBA/TONGA/NYANJA\"\n",
    "complete_language_summary.loc[complete_language_summary[\"Language Name\"] == \"TONGA\", \"Language Name\"] = \"BEMBA/TONGA/NYANJA\"\n",
    "complete_language_summary.loc[complete_language_summary[\"Language Name\"] == \"NYANJA\", \"Language Name\"] = \"BEMBA/TONGA/NYANJA\"\n",
    "\n",
    "\n",
    "complete_language_summary.loc[complete_language_summary[\"Language Name\"] == \"BERBER\", \"Language Name\"] = \"BERBER/ KABYLE\"\n",
    "complete_language_summary.loc[complete_language_summary[\"Language Name\"] == \"KABYLE\", \"Language Name\"] = \"BERBER/ KABYLE\"\n",
    "complete_language_summary.loc[complete_language_summary[\"Language Name\"] == \"BERBER (AKA KABYLE)\", \"Language Name\"] = \"BERBER/ KABYLE\"\n",
    "\n",
    "complete_language_summary.loc[complete_language_summary[\"Language Name\"] == \"KAMBA\", \"Language Name\"] = \"KAMBA/KIKUYA/LUO\"\n",
    "complete_language_summary.loc[complete_language_summary[\"Language Name\"] == \"KIKUYU\", \"Language Name\"] = \"KAMBA/KIKUYA/LUO\"\n",
    "complete_language_summary.loc[complete_language_summary[\"Language Name\"] == \"LUO\", \"Language Name\"] = \"KAMBA/KIKUYA/LUO\"\n",
    "\n",
    "complete_language_summary.loc[complete_language_summary[\"Language Name\"] == \"PAMPA\", \"Language Name\"] = \"PAMPA/SARAMO/ITONAMA/AYMARA/ARAUCANIAN/PALENQUE/ARAWAK\"\n",
    "complete_language_summary.loc[complete_language_summary[\"Language Name\"] == \"SARAMO\", \"Language Name\"] = \"PAMPA/SARAMO/ITONAMA/AYMARA/ARAUCANIAN/PALENQUE/ARAWAK\"\n",
    "complete_language_summary.loc[complete_language_summary[\"Language Name\"] == \"ITONAMA\", \"Language Name\"] = \"PAMPA/SARAMO/ITONAMA/AYMARA/ARAUCANIAN/PALENQUE/ARAWAK\"\n",
    "complete_language_summary.loc[complete_language_summary[\"Language Name\"] == \"AYMARA\", \"Language Name\"] = \"PAMPA/SARAMO/ITONAMA/AYMARA/ARAUCANIAN/PALENQUE/ARAWAK\"\n",
    "complete_language_summary.loc[complete_language_summary[\"Language Name\"] == \"ARAUCANIAN\", \"Language Name\"] = \"PAMPA/SARAMO/ITONAMA/AYMARA/ARAUCANIAN/PALENQUE/ARAWAK\"\n",
    "complete_language_summary.loc[complete_language_summary[\"Language Name\"] == \"PALENQUE\", \"Language Name\"] = \"PAMPA/SARAMO/ITONAMA/AYMARA/ARAUCANIAN/PALENQUE/ARAWAK\"\n",
    "complete_language_summary.loc[complete_language_summary[\"Language Name\"] == \"ARAWAK\", \"Language Name\"] = \"PAMPA/SARAMO/ITONAMA/AYMARA/ARAUCANIAN/PALENQUE/ARAWAK\"\n",
    "\n",
    "\n",
    "complete_language_summary.loc[complete_language_summary[\"Language Name\"] == \"QUICHE\", \"Language Name\"] = \"QUICHE/GARIFUNA/NAHUATL/SERI/GUARANI/QUECHUA\"\n",
    "complete_language_summary.loc[complete_language_summary[\"Language Name\"] == \"GARIFUNA\", \"Language Name\"] = \"QUICHE/GARIFUNA/NAHUATL/SERI/GUARANI/QUECHUA\"\n",
    "complete_language_summary.loc[complete_language_summary[\"Language Name\"] == \"NAHUATL\", \"Language Name\"] = \"QUICHE/GARIFUNA/NAHUATL/SERI/GUARANI/QUECHUA\"\n",
    "complete_language_summary.loc[complete_language_summary[\"Language Name\"] == \"SERI\", \"Language Name\"] = \"QUICHE/GARIFUNA/NAHUATL/SERI/GUARANI/QUECHUA\"\n",
    "complete_language_summary.loc[complete_language_summary[\"Language Name\"] == \"GUARANI\", \"Language Name\"] = \"QUICHE/GARIFUNA/NAHUATL/SERI/GUARANI/QUECHUA\"\n",
    "complete_language_summary.loc[complete_language_summary[\"Language Name\"] == \"QUECHUA\", \"Language Name\"] = \"QUICHE/GARIFUNA/NAHUATL/SERI/GUARANI/QUECHUA\"\n",
    "complete_language_summary.loc[complete_language_summary[\"Language Name\"] == \"QUICHUA\", \"Language Name\"] = \"QUICHE/GARIFUNA/NAHUATL/SERI/GUARANI/QUECHUA\"\n",
    "complete_language_summary.loc[complete_language_summary[\"Language Name\"] == \"K'ICHE\", \"Language Name\"] = \"QUICHE/GARIFUNA/NAHUATL/SERI/GUARANI/QUECHUA\"\n",
    "\n",
    "\n",
    "complete_language_summary.loc[complete_language_summary[\"Language Name\"] == \"RUNDI\", \"Language Name\"] = \"RUNDI/GEORGIAN/OSSETIAN\"\n",
    "complete_language_summary.loc[complete_language_summary[\"Language Name\"] == \"GEORGIAN\", \"Language Name\"] = \"RUNDI/GEORGIAN/OSSETIAN\"\n",
    "complete_language_summary.loc[complete_language_summary[\"Language Name\"] == \"OSSETIAN\", \"Language Name\"] = \"RUNDI/GEORGIAN/OSSETIAN\"\n",
    "\n",
    "complete_language_summary.loc[complete_language_summary[\"Language Name\"] == \"WOLOF\", \"Language Name\"] = \"WOLOF/TAJIK\"\n",
    "complete_language_summary.loc[complete_language_summary[\"Language Name\"] == \"TAJIK\", \"Language Name\"] = \"WOLOF/TAJIK\"\n",
    "\n",
    "complete_language_summary.loc[complete_language_summary[\"Language Name\"] == \"NDELBELE\", \"Language Name\"] = \"NDELBELE/SHONA\"\n",
    "complete_language_summary.loc[complete_language_summary[\"Language Name\"] == \"SHONA\", \"Language Name\"] = \"NDELBELE/SHONA\"\n",
    "\n",
    "complete_language_summary.loc[complete_language_summary[\"Language Name\"] == \"RWANDA\", \"Language Name\"] = \"RWANDA/SOTHO/ZULU\"\n",
    "complete_language_summary.loc[complete_language_summary[\"Language Name\"] == \"SOTHO\", \"Language Name\"] = \"RWANDA/SOTHO/ZULU\"\n",
    "complete_language_summary.loc[complete_language_summary[\"Language Name\"] == \"ZULU\", \"Language Name\"] = \"RWANDA/SOTHO/ZULU\"\n",
    "\n",
    "complete_language_summary.loc[complete_language_summary[\"Language Name\"] == \"BASAA\", \"Language Name\"] = \"BASSA\"\n",
    "complete_language_summary.loc[complete_language_summary[\"Language Name\"] == \"BISAYA\", \"Language Name\"] = \"BISAYA, BASAYA, DUSUN, TUTONG\"\n",
    "complete_language_summary.loc[complete_language_summary[\"Language Name\"] == \"BASAYA\", \"Language Name\"] = \"BISAYA, BASAYA, DUSUN, TUTONG\"\n",
    "complete_language_summary.loc[complete_language_summary[\"Language Name\"] == \"BISAYA, BASAYA\", \"Language Name\"] = \"BISAYA, BASAYA, DUSUN, TUTONG\"\n",
    "\n",
    "complete_language_summary.loc[complete_language_summary[\"Language Name\"] == \"CHUUKESE\", \"Language Name\"] = \"CHUKEESE\"\n",
    "\n",
    "complete_language_summary.loc[complete_language_summary[\"Language Name\"] == \"CEBUANO\", \"Language Name\"] = \"CEBUANO, VISAYAN, BINISAYA\"\n",
    "complete_language_summary.loc[complete_language_summary[\"Language Name\"] == \"CEBUANO,\", \"Language Name\"] = \"CEBUANO, VISAYAN, BINISAYA\"\n",
    "complete_language_summary.loc[complete_language_summary[\"Language Name\"] == \"VISAYAN\", \"Language Name\"] = \"CEBUANO, VISAYAN, BINISAYA\"\n",
    "complete_language_summary.loc[complete_language_summary[\"Language Name\"] == \"BINISAYA\", \"Language Name\"] = \"CEBUANO, VISAYAN, BINISAYA\"\n",
    "\n",
    "complete_language_summary.loc[complete_language_summary[\"Language Name\"] == \"LAO, LAOTIAN\", \"Language Name\"] = \"LAO/LAOTIAN\"\n",
    "complete_language_summary.loc[complete_language_summary[\"Language Name\"] == \"LAOTIAN\", \"Language Name\"] = \"LAO/LAOTIAN\"\n",
    "complete_language_summary.loc[complete_language_summary[\"Language Name\"] == \"LAO\", \"Language Name\"] = \"LAO/LAOTIAN\"\n",
    "\n",
    "complete_language_summary.loc[complete_language_summary[\"Language Name\"] == \"MONGO, MONGO-NKUNDU\", \"Language Name\"] = \"MONGO-NKUNDU\"\n",
    "complete_language_summary.loc[complete_language_summary[\"Language Name\"] == \"OROMO, AFAN OROMO, OROMIFFA\", \"Language Name\"] = \"OROMO\"\n",
    "\n",
    "complete_language_summary.loc[complete_language_summary[\"Language Name\"] == \"PORTUGUESE -CREOLE\", \"Language Name\"] = \"PORTUGUESE\"\n",
    "complete_language_summary.loc[complete_language_summary[\"Language Name\"] == \"PORTUGUESE, CREOLIZED\", \"Language Name\"] = \"PORTUGUESE\"\n",
    "\n",
    "complete_language_summary.loc[complete_language_summary[\"Language Name\"] == \"SARAKOLE\", \"Language Name\"] = \"SARAKOLE/SONINKE\"\n",
    "complete_language_summary.loc[complete_language_summary[\"Language Name\"] == \"SARAKOLE, SONINKE\", \"Language Name\"] = \"SARAKOLE/SONINKE\"\n",
    "\n",
    "complete_language_summary.loc[complete_language_summary[\"Language Name\"] == \"TEM, COCOTOLI (KOKOTOLI), TEMBA, TIM, TIMU\", \"Language Name\"] = \"TEM\"\n",
    "complete_language_summary.loc[complete_language_summary[\"Language Name\"] == \"KAREN, PWO\", \"Language Name\"] = \"KAREN\"\n",
    "complete_language_summary.loc[complete_language_summary[\"Language Name\"] == \"KAREN, S'GAW\", \"Language Name\"] = \"KAREN\"\n",
    "\n",
    "complete_language_summary.loc[complete_language_summary[\"Language Name\"] == \"KARENNI, KAYAH\", \"Language Name\"] = \"KARENNI\"\n",
    "complete_language_summary.loc[complete_language_summary[\"Language Name\"] == \"LUBA\", \"Language Name\"] = \"LUBA-KATANGA\"\n",
    "complete_language_summary.loc[complete_language_summary[\"Language Name\"] == \"MANO. MAH\", \"Language Name\"] = \"MANO\"\n",
    "\n",
    "complete_language_summary.loc[complete_language_summary[\"Language Name\"] == \"BELORUSAN\", \"Language Name\"] = \"BELORUSSIAN\"\n",
    "complete_language_summary.loc[complete_language_summary[\"Language Name\"] == \"CHOCTAW\", \"Language Name\"] = \"CHOCTCAW\"\n",
    "\n",
    "complete_language_summary.loc[complete_language_summary[\"Language Name\"] == \"FARSI\", \"Language Name\"] = \"PERSIAN\"\n",
    "complete_language_summary.loc[complete_language_summary[\"Language Name\"] == \"FRENCH, CREOLIZED\", \"Language Name\"] = \"FRENCH\"\n",
    "complete_language_summary.loc[complete_language_summary[\"Language Name\"] == \"HAITIAN CREOLE\", \"Language Name\"] = \"FRENCH\"\n",
    "complete_language_summary.loc[complete_language_summary[\"Language Name\"] == \"UKRANIAN\", \"Language Name\"] = \"UKRAINIAN\"\n",
    "complete_language_summary.loc[complete_language_summary[\"Language Name\"] == \"SIGN LANGUAGE, ASL\", \"Language Name\"] = \"SIGN LANGUAGE\"\n",
    "complete_language_summary.loc[complete_language_summary[\"Language Name\"] == \"PALUAN\", \"Language Name\"] = \"PALAUAN\"\n",
    "complete_language_summary.loc[complete_language_summary[\"Language Name\"] == \"CHIEN\", \"Language Name\"] = \"CHIN\"\n",
    "\n",
    "complete_language_summary.loc[complete_language_summary[\"Language Name\"] == \"BHUTANESE, DZONGKHA\", \"Language Name\"] = \"BHUTANESE\"\n",
    "complete_language_summary.loc[complete_language_summary[\"Language Name\"] == \"CHIEN\", \"Language Name\"] = \"CHIN\"\n",
    "complete_language_summary.loc[complete_language_summary[\"Language Name\"] == \"CHAM, EASTERN\", \"Language Name\"] = \"CHAM\"\n",
    "complete_language_summary.loc[complete_language_summary[\"Language Name\"] == \"CHAM, WESTERN\", \"Language Name\"] = \"CHAM\"\n",
    "complete_language_summary.loc[complete_language_summary[\"Language Name\"] == \"ENGLISH, CREOLIZED\", \"Language Name\"] = \"ENGLISH\"\n",
    "complete_language_summary.loc[complete_language_summary[\"Language Name\"] == \"BISLAMA\", \"Language Name\"] = \"ENGLISH\"\n",
    "\n",
    "complete_language_summary.loc[complete_language_summary[\"Language Name\"] == \"GANDA\", \"Language Name\"] = \"GANDA/LUGANDA\"\n",
    "complete_language_summary.loc[complete_language_summary[\"Language Name\"] == \"GANDA, LUGANDA\", \"Language Name\"] = \"GANDA/LUGANDA\"\n",
    "complete_language_summary.loc[complete_language_summary[\"Language Name\"] == \"LUGANDA\", \"Language Name\"] = \"GANDA/LUGANDA\"\n",
    "\n",
    "complete_language_summary.loc[complete_language_summary[\"Language Name\"] == \"SLOVENE\", \"Language Name\"] = \"SLOVENIAN\"\n",
    "complete_language_summary.loc[complete_language_summary[\"Language Name\"] == \"LINGOLA\", \"Language Name\"] = \"LINGALA\"\n",
    "\n",
    "complete_language_summary.loc[complete_language_summary[\"Language Name\"] == \"KPELLE, PELLE\", \"Language Name\"] = \"KPELLE\"\n",
    "\n",
    "complete_language_summary.loc[complete_language_summary[\"Language Name\"] == \"BUGIS\", \"Language Name\"] = \"INDONESIAN\"\n",
    "\n",
    "complete_language_summary.loc[complete_language_summary[\"Language Name\"] == \"ILLOGO\", \"Language Name\"] = \"ILLOGO, HILIGAYNON\"\n",
    "\n",
    "complete_language_summary.loc[complete_language_summary[\"Language Name\"] == \"BRAJ BASHA\", \"Language Name\"] = \"BRAJ BASHA\"\n",
    "\n",
    "complete_language_summary.loc[complete_language_summary[\"Language Name\"] == \"BICOLANO\", \"Language Name\"] = \"FILIPINO\"\n",
    "complete_language_summary.loc[complete_language_summary[\"Language Name\"] == \"FILIPINO, PILIPINO\", \"Language Name\"] = \"FILIPINO\"\n",
    "\n",
    "complete_language_summary.loc[complete_language_summary[\"Language Name\"] == \"OKINAWAN\", \"Language Name\"] = \"JAPANESE\"\n",
    "\n",
    "complete_language_summary.loc[complete_language_summary[\"Language Name\"] == \"CHINESE, MANDARIN\", \"Language Name\"] = \"CHINESE\"\n",
    "complete_language_summary.loc[complete_language_summary[\"Language Name\"] == \"CANTONESE\", \"Language Name\"] = \"CHINESE\"\n",
    "\n",
    "\n",
    "complete_language_summary.loc[complete_language_summary[\"Language Name\"] == \"ALEUT\", \"Language Name\"] = \"AMERICAN INDIAN\"\n",
    "complete_language_summary.loc[complete_language_summary[\"Language Name\"] == \"APACHE\", \"Language Name\"] = \"AMERICAN INDIAN\"\n",
    "complete_language_summary.loc[complete_language_summary[\"Language Name\"] == \"CHEROKEE\", \"Language Name\"] = \"AMERICAN INDIAN\"\n",
    "complete_language_summary.loc[complete_language_summary[\"Language Name\"] == \"CHEYENNE\", \"Language Name\"] = \"AMERICAN INDIAN\"\n",
    "complete_language_summary.loc[complete_language_summary[\"Language Name\"] == \"CHIPPEWA\", \"Language Name\"] = \"AMERICAN INDIAN\"\n",
    "complete_language_summary.loc[complete_language_summary[\"Language Name\"] == \"CHOCTAW\", \"Language Name\"] = \"AMERICAN INDIAN\"\n",
    "complete_language_summary.loc[complete_language_summary[\"Language Name\"] == \"CHOCTCAW\", \"Language Name\"] = \"AMERICAN INDIAN\"\n",
    "complete_language_summary.loc[complete_language_summary[\"Language Name\"] == \"DAKOTA\", \"Language Name\"] = \"AMERICAN INDIAN\"\n",
    "complete_language_summary.loc[complete_language_summary[\"Language Name\"] == \"DAKOTAH\", \"Language Name\"] = \"AMERICAN INDIAN\"\n",
    "complete_language_summary.loc[complete_language_summary[\"Language Name\"] == \"HAWAIIAN\", \"Language Name\"] = \"AMERICAN INDIAN\"\n",
    "complete_language_summary.loc[complete_language_summary[\"Language Name\"] == \"HO-CHUNK, WINNEBAGO\", \"Language Name\"] = \"AMERICAN INDIAN\"\n",
    "complete_language_summary.loc[complete_language_summary[\"Language Name\"] == \"LAKOTA\", \"Language Name\"] = \"AMERICAN INDIAN\"\n",
    "complete_language_summary.loc[complete_language_summary[\"Language Name\"] == \"NAVAJO\", \"Language Name\"] = \"AMERICAN INDIAN\"\n",
    "complete_language_summary.loc[complete_language_summary[\"Language Name\"] == \"OJIBWA\", \"Language Name\"] = \"AMERICAN INDIAN\"\n",
    "complete_language_summary.loc[complete_language_summary[\"Language Name\"] == \"OJIBWA, CHIPPEWA, ANISHINAABEMOWIN\", \"Language Name\"] = \"AMERICAN INDIAN\"\n",
    "\n",
    "complete_language_summary.loc[complete_language_summary[\"Language Name\"] == \"MAAY\", \"Language Name\"] = \"SOMALI\""
   ]
  },
  {
   "cell_type": "code",
   "execution_count": null,
   "id": "62b1d8a7",
   "metadata": {},
   "outputs": [],
   "source": [
    "Unique_Languages_sum = list(complete_language_summary[\"Language Name\"].unique())\n",
    "print(np.sort(Unique_Languages_sum))"
   ]
  },
  {
   "cell_type": "code",
   "execution_count": null,
   "id": "148fe781",
   "metadata": {},
   "outputs": [],
   "source": [
    "complete_language_summary.nunique()"
   ]
  },
  {
   "cell_type": "code",
   "execution_count": null,
   "id": "ee737e04",
   "metadata": {},
   "outputs": [],
   "source": [
    "lang_2007_geo = complete_primary_home_language.loc[complete_primary_home_language[\"School Year\"] == \"06-07\"].groupby(\"Strata Name\").nunique()\n",
    "\n",
    "lang_2007_geo_final = lang_2007_geo[\"Language Name\"]\n",
    "\n",
    "lang_2007_geo_final"
   ]
  },
  {
   "cell_type": "code",
   "execution_count": null,
   "id": "d4f6708f",
   "metadata": {},
   "outputs": [],
   "source": [
    "lang_2008_geo = complete_primary_home_language.loc[complete_primary_home_language[\"School Year\"] == \"07-08\"].groupby(\"Strata Name\").nunique()\n",
    "\n",
    "lang_2008_geo_final = lang_2008_geo[\"Language Name\"]\n",
    "\n",
    "lang_2008_geo_final"
   ]
  },
  {
   "cell_type": "code",
   "execution_count": null,
   "id": "f3f7ee3c",
   "metadata": {},
   "outputs": [],
   "source": [
    "lang_2009_geo = complete_primary_home_language.loc[complete_primary_home_language[\"School Year\"] == \"08-09\"].groupby(\"Strata Name\").nunique()\n",
    "\n",
    "lang_2009_geo_final = lang_2009_geo[\"Language Name\"]\n",
    "\n",
    "lang_2009_geo_final"
   ]
  },
  {
   "cell_type": "code",
   "execution_count": null,
   "id": "dffdf43c",
   "metadata": {},
   "outputs": [],
   "source": [
    "lang_2010_geo = complete_primary_home_language.loc[complete_primary_home_language[\"School Year\"] == \"09-10\"].groupby(\"Strata Name\").nunique()\n",
    "\n",
    "lang_2010_geo_final = lang_2010_geo[\"Language Name\"]\n",
    "\n",
    "lang_2010_geo_final"
   ]
  },
  {
   "cell_type": "code",
   "execution_count": null,
   "id": "b683f2fb",
   "metadata": {},
   "outputs": [],
   "source": [
    "lang_2011_geo = complete_primary_home_language.loc[complete_primary_home_language[\"School Year\"] == \"10-11\"].groupby(\"Strata Name\").nunique()\n",
    "\n",
    "lang_2011_geo_final = lang_2011_geo[\"Language Name\"]\n",
    "\n",
    "lang_2011_geo_final"
   ]
  },
  {
   "cell_type": "code",
   "execution_count": null,
   "id": "4a673394",
   "metadata": {},
   "outputs": [],
   "source": [
    "lang_2012_geo = complete_primary_home_language.loc[complete_primary_home_language[\"School Year\"] == \"11-12\"].groupby(\"Strata Name\").nunique()\n",
    "\n",
    "lang_2012_geo_final = lang_2012_geo[\"Language Name\"]\n",
    "\n",
    "lang_2012_geo_final"
   ]
  },
  {
   "cell_type": "code",
   "execution_count": null,
   "id": "1d0fd4de",
   "metadata": {},
   "outputs": [],
   "source": [
    "lang_2013_geo = complete_primary_home_language.loc[complete_primary_home_language[\"School Year\"] == \"12-13\"].groupby(\"Strata Name\").nunique()\n",
    "\n",
    "lang_2013_geo_final = lang_2013_geo[\"Language Name\"]\n",
    "\n",
    "lang_2013_geo_final"
   ]
  },
  {
   "cell_type": "code",
   "execution_count": null,
   "id": "57772d58",
   "metadata": {},
   "outputs": [],
   "source": [
    "lang_2014_geo = complete_primary_home_language.loc[complete_primary_home_language[\"School Year\"] == \"13-14\"].groupby(\"Strata Name\").nunique()\n",
    "\n",
    "lang_2014_geo_final = lang_2014_geo[\"Language Name\"]\n",
    "\n",
    "lang_2014_geo_final"
   ]
  },
  {
   "cell_type": "code",
   "execution_count": null,
   "id": "e681d7b1",
   "metadata": {},
   "outputs": [],
   "source": [
    "lang_2015_geo = complete_primary_home_language.loc[complete_primary_home_language[\"School Year\"] == \"14-15\"].groupby(\"Strata Name\").nunique()\n",
    "\n",
    "lang_2015_geo_final = lang_2015_geo[\"Language Name\"]\n",
    "\n",
    "lang_2015_geo_final"
   ]
  },
  {
   "cell_type": "code",
   "execution_count": null,
   "id": "41b15c4e",
   "metadata": {},
   "outputs": [],
   "source": [
    "lang_2016_geo = complete_primary_home_language.loc[complete_primary_home_language[\"School Year\"] == \"15-16\"].groupby(\"Strata Name\").nunique()\n",
    "\n",
    "lang_2016_geo_final = lang_2016_geo[\"Language Name\"]\n",
    "\n",
    "lang_2016_geo_final"
   ]
  },
  {
   "cell_type": "code",
   "execution_count": null,
   "id": "4536fd3c",
   "metadata": {},
   "outputs": [],
   "source": [
    "lang_2017_geo = complete_primary_home_language.loc[complete_primary_home_language[\"School Year\"] == \"16-17\"].groupby(\"Strata Name\").nunique()\n",
    "\n",
    "lang_2017_geo_final = lang_2017_geo[\"Language Name\"]\n",
    "\n",
    "lang_2017_geo_final"
   ]
  },
  {
   "cell_type": "code",
   "execution_count": null,
   "id": "d9895049",
   "metadata": {},
   "outputs": [],
   "source": [
    "lang_2018_geo = complete_primary_home_language.loc[complete_primary_home_language[\"School Year\"] == \"17-18\"].groupby(\"Strata Name\").nunique()\n",
    "\n",
    "lang_2018_geo_final = lang_2018_geo[\"Language Name\"]\n",
    "\n",
    "lang_2018_geo_final"
   ]
  },
  {
   "cell_type": "code",
   "execution_count": null,
   "id": "727bbe6b",
   "metadata": {},
   "outputs": [],
   "source": [
    "lang_2019_geo = complete_primary_home_language.loc[complete_primary_home_language[\"School Year\"] == \"18-19\"].groupby(\"Strata Name\").nunique()\n",
    "\n",
    "lang_2019_geo_final = lang_2019_geo[\"Language Name\"]\n",
    "\n",
    "lang_2019_geo_final"
   ]
  },
  {
   "cell_type": "code",
   "execution_count": null,
   "id": "847c9294",
   "metadata": {},
   "outputs": [],
   "source": [
    "lang_2020_geo = complete_primary_home_language.loc[complete_primary_home_language[\"School Year\"] == \"19-20\"].groupby(\"Strata Name\").nunique()\n",
    "\n",
    "lang_2020_geo_final = lang_2020_geo[\"Language Name\"]\n",
    "\n",
    "lang_2020_geo_final"
   ]
  },
  {
   "cell_type": "code",
   "execution_count": null,
   "id": "dfaaef71",
   "metadata": {},
   "outputs": [],
   "source": [
    "lang_2021_geo = complete_primary_home_language.loc[complete_primary_home_language[\"School Year\"] == \"20-21\"].groupby(\"Strata Name\").nunique()\n",
    "\n",
    "lang_2021_geo_final = lang_2021_geo[\"Language Name\"]\n",
    "\n",
    "lang_2021_geo_final"
   ]
  },
  {
   "cell_type": "code",
   "execution_count": null,
   "id": "017467ed",
   "metadata": {},
   "outputs": [],
   "source": [
    "lang_2022_geo = complete_primary_home_language.loc[complete_primary_home_language[\"School Year\"] == \"21-22\"].groupby(\"Strata Name\").nunique()\n",
    "\n",
    "lang_2022_geo_final = lang_2022_geo[\"Language Name\"]\n",
    "\n",
    "lang_2022_geo_final"
   ]
  },
  {
   "cell_type": "markdown",
   "id": "602facdd",
   "metadata": {},
   "source": [
    "# *Sam's Code Starts Here!*"
   ]
  },
  {
   "cell_type": "markdown",
   "id": "fa05d31a",
   "metadata": {},
   "source": [
    "### Graphs of Languages Over Time"
   ]
  },
  {
   "cell_type": "code",
   "execution_count": null,
   "id": "e6b3d0a5",
   "metadata": {},
   "outputs": [],
   "source": [
    "# Distribution of languages by Strata"
   ]
  },
  {
   "cell_type": "code",
   "execution_count": null,
   "id": "16c49a4d",
   "metadata": {},
   "outputs": [],
   "source": [
    "tick_marks = [1,2,3,4,5,6]"
   ]
  },
  {
   "cell_type": "code",
   "execution_count": null,
   "id": "2ca97c07",
   "metadata": {},
   "outputs": [],
   "source": [
    "# Add labels on the bars\n",
    "\n",
    "def add_value_labels(x_labels, y_values):\n",
    "    for i in range(1, len(x_labels)+1):\n",
    "        plt.text(i, y_values[i-1], y_values[i-1], ha = \"center\")\n",
    "# Code to label bars borrowed from: https://www.delftstack.com/howto/matplotlib/add-value-labels-on-matplotlib-bar-chart/"
   ]
  },
  {
   "cell_type": "code",
   "execution_count": null,
   "id": "fdb64545",
   "metadata": {},
   "outputs": [],
   "source": [
    "# 2007\n",
    "\n",
    "bar_2007_geo = plt.bar(tick_marks, lang_2007_geo_final)\n",
    "\n",
    "plt.xticks(tick_marks, lang_2007_geo_final.index, rotation = \"vertical\")\n",
    "plt.title(\"Languages by Strata, 2007\")\n",
    "plt.ylabel(\"Unique Languages Spoken\")\n",
    "\n",
    "add_value_labels(lang_2007_geo_final.index, lang_2007_geo_final)\n",
    "\n",
    "plt.show()"
   ]
  },
  {
   "cell_type": "code",
   "execution_count": null,
   "id": "dcfaeaa5",
   "metadata": {},
   "outputs": [],
   "source": [
    "# 2008\n",
    "\n",
    "bar_2008_geo = plt.bar(tick_marks, lang_2008_geo_final)\n",
    "\n",
    "plt.xticks(tick_marks, lang_2008_geo_final.index, rotation = \"vertical\")\n",
    "plt.title(\"Languages by Strata, 2008\")\n",
    "plt.ylabel(\"Unique Languages Spoken\")\n",
    "\n",
    "add_value_labels(lang_2008_geo_final.index, lang_2008_geo_final)\n",
    "\n",
    "plt.show()"
   ]
  },
  {
   "cell_type": "code",
   "execution_count": null,
   "id": "83712465",
   "metadata": {},
   "outputs": [],
   "source": [
    "# 2009\n",
    "\n",
    "bar_2009_geo = plt.bar(tick_marks, lang_2009_geo_final)\n",
    "\n",
    "plt.xticks(tick_marks, lang_2009_geo_final.index, rotation = \"vertical\")\n",
    "plt.title(\"Languages by Strata, 2009\")\n",
    "plt.ylabel(\"Unique Languages Spoken\")\n",
    "\n",
    "add_value_labels(lang_2009_geo_final.index, lang_2009_geo_final)\n",
    "\n",
    "plt.show()"
   ]
  },
  {
   "cell_type": "code",
   "execution_count": null,
   "id": "0317cfd9",
   "metadata": {},
   "outputs": [],
   "source": [
    "# 2010\n",
    "\n",
    "bar_2010_geo = plt.bar(tick_marks, lang_2010_geo_final)\n",
    "\n",
    "plt.xticks(tick_marks, lang_2010_geo_final.index, rotation = \"vertical\")\n",
    "plt.title(\"Languages by Strata, 2010\")\n",
    "plt.ylabel(\"Unique Languages Spoken\")\n",
    "\n",
    "add_value_labels(lang_2010_geo_final.index, lang_2010_geo_final)\n",
    "\n",
    "plt.show()"
   ]
  },
  {
   "cell_type": "code",
   "execution_count": null,
   "id": "c2c8140d",
   "metadata": {},
   "outputs": [],
   "source": [
    "# 2011\n",
    "\n",
    "bar_2011_geo = plt.bar(tick_marks, lang_2011_geo_final)\n",
    "\n",
    "plt.xticks(tick_marks, lang_2011_geo_final.index, rotation = \"vertical\")\n",
    "plt.title(\"Languages by Strata, 2011\")\n",
    "plt.ylabel(\"Unique Languages Spoken\")\n",
    "\n",
    "add_value_labels(lang_2011_geo_final.index, lang_2011_geo_final)\n",
    "\n",
    "plt.show()"
   ]
  },
  {
   "cell_type": "code",
   "execution_count": null,
   "id": "f553fbd8",
   "metadata": {},
   "outputs": [],
   "source": [
    "# 2012\n",
    "\n",
    "bar_2012_geo = plt.bar(tick_marks, lang_2012_geo_final)\n",
    "\n",
    "plt.xticks(tick_marks, lang_2012_geo_final.index, rotation = \"vertical\")\n",
    "plt.title(\"Languages by Strata, 2012\")\n",
    "plt.ylabel(\"Unique Languages Spoken\")\n",
    "\n",
    "add_value_labels(lang_2012_geo_final.index, lang_2012_geo_final)\n",
    "\n",
    "plt.show()"
   ]
  },
  {
   "cell_type": "code",
   "execution_count": null,
   "id": "e419ca03",
   "metadata": {},
   "outputs": [],
   "source": [
    "# 2013\n",
    "\n",
    "bar_2013_geo = plt.bar(tick_marks, lang_2013_geo_final)\n",
    "\n",
    "plt.xticks(tick_marks, lang_2013_geo_final.index, rotation = \"vertical\")\n",
    "plt.title(\"Languages by Strata, 2013\")\n",
    "plt.ylabel(\"Unique Languages Spoken\")\n",
    "\n",
    "add_value_labels(lang_2013_geo_final.index, lang_2013_geo_final)\n",
    "\n",
    "plt.show()"
   ]
  },
  {
   "cell_type": "code",
   "execution_count": null,
   "id": "315b978b",
   "metadata": {},
   "outputs": [],
   "source": [
    "# 2014\n",
    "\n",
    "bar_2014_geo = plt.bar(tick_marks, lang_2014_geo_final)\n",
    "\n",
    "plt.xticks(tick_marks, lang_2014_geo_final.index, rotation = \"vertical\")\n",
    "plt.title(\"Languages by Strata, 2014\")\n",
    "plt.ylabel(\"Unique Languages Spoken\")\n",
    "\n",
    "add_value_labels(lang_2014_geo_final.index, lang_2014_geo_final)\n",
    "\n",
    "plt.show()"
   ]
  },
  {
   "cell_type": "code",
   "execution_count": null,
   "id": "013ee632",
   "metadata": {},
   "outputs": [],
   "source": [
    "# 2015\n",
    "\n",
    "bar_2015_geo = plt.bar(tick_marks, lang_2015_geo_final)\n",
    "\n",
    "plt.xticks(tick_marks, lang_2015_geo_final.index, rotation = \"vertical\")\n",
    "plt.title(\"Languages by Strata, 2015\")\n",
    "plt.ylabel(\"Unique Languages Spoken\")\n",
    "\n",
    "add_value_labels(lang_2015_geo_final.index, lang_2015_geo_final)\n",
    "\n",
    "plt.show()"
   ]
  },
  {
   "cell_type": "code",
   "execution_count": null,
   "id": "512d354e",
   "metadata": {},
   "outputs": [],
   "source": [
    "# 2016\n",
    "\n",
    "bar_2016_geo = plt.bar(tick_marks, lang_2016_geo_final)\n",
    "\n",
    "plt.xticks(tick_marks, lang_2016_geo_final.index, rotation = \"vertical\")\n",
    "plt.title(\"Languages by Strata, 2016\")\n",
    "plt.ylabel(\"Unique Languages Spoken\")\n",
    "\n",
    "add_value_labels(lang_2016_geo_final.index, lang_2016_geo_final)\n",
    "\n",
    "plt.show()"
   ]
  },
  {
   "cell_type": "code",
   "execution_count": null,
   "id": "85cc5253",
   "metadata": {},
   "outputs": [],
   "source": [
    "# 2017\n",
    "\n",
    "bar_2017_geo = plt.bar(tick_marks, lang_2017_geo_final)\n",
    "\n",
    "plt.xticks(tick_marks, lang_2017_geo_final.index, rotation = \"vertical\")\n",
    "plt.title(\"Languages by Strata, 2017\")\n",
    "plt.ylabel(\"Unique Languages Spoken\")\n",
    "\n",
    "add_value_labels(lang_2017_geo_final.index, lang_2017_geo_final)\n",
    "\n",
    "plt.show()"
   ]
  },
  {
   "cell_type": "code",
   "execution_count": null,
   "id": "84ddde04",
   "metadata": {},
   "outputs": [],
   "source": [
    "# 2018\n",
    "\n",
    "bar_2018_geo = plt.bar(tick_marks, lang_2018_geo_final)\n",
    "\n",
    "plt.xticks(tick_marks, lang_2018_geo_final.index, rotation = \"vertical\")\n",
    "plt.title(\"Languages by Strata, 2018\")\n",
    "plt.ylabel(\"Unique Languages Spoken\")\n",
    "\n",
    "add_value_labels(lang_2018_geo_final.index, lang_2018_geo_final)\n",
    "\n",
    "plt.show()"
   ]
  },
  {
   "cell_type": "code",
   "execution_count": null,
   "id": "47a237b9",
   "metadata": {},
   "outputs": [],
   "source": [
    "# 2019\n",
    "\n",
    "bar_2019_geo = plt.bar(tick_marks, lang_2019_geo_final)\n",
    "\n",
    "plt.xticks(tick_marks, lang_2019_geo_final.index, rotation = \"vertical\")\n",
    "plt.title(\"Languages by Strata, 2019\")\n",
    "plt.ylabel(\"Unique Languages Spoken\")\n",
    "\n",
    "add_value_labels(lang_2019_geo_final.index, lang_2019_geo_final)\n",
    "\n",
    "plt.show()"
   ]
  },
  {
   "cell_type": "code",
   "execution_count": null,
   "id": "f71e37ff",
   "metadata": {},
   "outputs": [],
   "source": [
    "# 2020\n",
    "\n",
    "bar_2020_geo = plt.bar(tick_marks, lang_2020_geo_final)\n",
    "\n",
    "plt.xticks(tick_marks, lang_2020_geo_final.index, rotation = \"vertical\")\n",
    "plt.title(\"Languages by Strata, 2020\")\n",
    "plt.ylabel(\"Unique Languages Spoken\")\n",
    "\n",
    "add_value_labels(lang_2020_geo_final.index, lang_2020_geo_final)\n",
    "\n",
    "plt.show()"
   ]
  },
  {
   "cell_type": "code",
   "execution_count": null,
   "id": "8f652e09",
   "metadata": {},
   "outputs": [],
   "source": [
    "# 2021\n",
    "\n",
    "bar_2021_geo = plt.bar(tick_marks, lang_2021_geo_final)\n",
    "\n",
    "plt.xticks(tick_marks, lang_2021_geo_final.index, rotation = \"vertical\")\n",
    "plt.title(\"Languages by Strata, 2021\")\n",
    "plt.ylabel(\"Unique Languages Spoken\")\n",
    "\n",
    "add_value_labels(lang_2021_geo_final.index, lang_2021_geo_final)\n",
    "\n",
    "plt.show()"
   ]
  },
  {
   "cell_type": "code",
   "execution_count": null,
   "id": "4e76ca1c",
   "metadata": {},
   "outputs": [],
   "source": [
    "# 2022\n",
    "\n",
    "bar_2022_geo = plt.bar(tick_marks, lang_2022_geo_final)\n",
    "\n",
    "plt.xticks(tick_marks, lang_2022_geo_final.index, rotation = \"vertical\")\n",
    "plt.title(\"Languages by Strata, 2022\")\n",
    "plt.ylabel(\"Unique Languages Spoken\")\n",
    "\n",
    "add_value_labels(lang_2022_geo_final.index, lang_2022_geo_final)\n",
    "\n",
    "plt.show()"
   ]
  },
  {
   "cell_type": "markdown",
   "id": "a5dd158c",
   "metadata": {},
   "source": [
    "### Graph Number of Unique Languages Over Time for Each Strata"
   ]
  },
  {
   "cell_type": "code",
   "execution_count": null,
   "id": "ed3e9b10",
   "metadata": {},
   "outputs": [],
   "source": [
    "groupby_strata = complete_primary_home_language.groupby([\"Strata Name\", \"School Year\"], as_index= False).nunique()\n",
    "\n",
    "groupby_strata"
   ]
  },
  {
   "cell_type": "code",
   "execution_count": null,
   "id": "4a250a01",
   "metadata": {},
   "outputs": [],
   "source": [
    "xaxis = [2007, 2008, 2009, 2010, 2011, 2012, 2013, 2014, 2015, 2016, 2017, 2018, 2019, 2020, 2021, 2022]"
   ]
  },
  {
   "cell_type": "code",
   "execution_count": null,
   "id": "8ce5e295",
   "metadata": {},
   "outputs": [],
   "source": [
    "seven_county_area = groupby_strata.loc[groupby_strata[\"Strata Name\"] == \"7 County Metro Area excluding MPLS/STP\"].reset_index(drop = True)\n",
    "\n",
    "seven_county_area"
   ]
  },
  {
   "cell_type": "code",
   "execution_count": null,
   "id": "aa1f561b",
   "metadata": {},
   "outputs": [],
   "source": [
    "seven_county_area_scatter_data = seven_county_area[\"Language Name\"]\n",
    "\n",
    "seven_county_scatter_plot = plt.scatter(xaxis, seven_county_area_scatter_data)\n",
    "\n",
    "plt.title(\"Number of Unique Languages Spoken in the 7-County Metro (Excluding MSP)\")\n",
    "plt.xlabel(\"Year\")\n",
    "plt.ylabel(\"Number of Languages\")\n",
    "\n",
    "plt.show()"
   ]
  },
  {
   "cell_type": "code",
   "execution_count": null,
   "id": "8898a68c",
   "metadata": {},
   "outputs": [],
   "source": [
    "msp = groupby_strata.loc[groupby_strata[\"Strata Name\"] == \"Minneapolis and Saint Paul\"].reset_index(drop = True)\n",
    "\n",
    "msp"
   ]
  },
  {
   "cell_type": "code",
   "execution_count": null,
   "id": "bfffff38",
   "metadata": {},
   "outputs": [],
   "source": [
    "msp_scatter_data = msp[\"Language Name\"]\n",
    "\n",
    "msp_scatter_plot = plt.scatter(xaxis, msp_scatter_data)\n",
    "\n",
    "plt.title(\"Number of Unique Languages Spoken in Minneapolis and Saint Paul\")\n",
    "plt.xlabel(\"Year\")\n",
    "plt.ylabel(\"Number of Languages\")\n",
    "\n",
    "plt.show()"
   ]
  },
  {
   "cell_type": "code",
   "execution_count": null,
   "id": "2e15fda1",
   "metadata": {},
   "outputs": [],
   "source": [
    "outstate_2k = groupby_strata.loc[groupby_strata[\"Strata Name\"] == \"Outstate - Enrollment 2000 or more\"].reset_index(drop = True)\n",
    "\n",
    "outstate_2k"
   ]
  },
  {
   "cell_type": "code",
   "execution_count": null,
   "id": "42202d90",
   "metadata": {},
   "outputs": [],
   "source": [
    "outstate_2k_scatter_data = outstate_2k[\"Language Name\"]\n",
    "\n",
    "outstate_2k_scatter_plot = plt.scatter(xaxis, outstate_2k_scatter_data)\n",
    "\n",
    "plt.title(\"Number of Unique Languages Spoken in Outstate Districts with Enrollment >= 2,000\")\n",
    "plt.xlabel(\"Year\")\n",
    "plt.ylabel(\"Number of Languages\")\n",
    "\n",
    "plt.show()"
   ]
  },
  {
   "cell_type": "code",
   "execution_count": null,
   "id": "09aa8de9",
   "metadata": {},
   "outputs": [],
   "source": [
    "outstate_1k = groupby_strata.loc[groupby_strata[\"Strata Name\"] == \"Outstate - Enrollment between 1000 and 1999\"].reset_index(drop = True)\n",
    "\n",
    "outstate_1k"
   ]
  },
  {
   "cell_type": "code",
   "execution_count": null,
   "id": "ebd93333",
   "metadata": {},
   "outputs": [],
   "source": [
    "outstate_1k_scatter_data = outstate_1k[\"Language Name\"]\n",
    "\n",
    "outstate_1k_scatter_plot = plt.scatter(xaxis, outstate_1k_scatter_data)\n",
    "\n",
    "plt.title(\"Number of Unique Languages Spoken in Outstate Districts with Enrollment Between 1,000 and 1,999\")\n",
    "plt.xlabel(\"Year\")\n",
    "plt.ylabel(\"Number of Languages\")\n",
    "\n",
    "plt.show()"
   ]
  },
  {
   "cell_type": "code",
   "execution_count": null,
   "id": "d274b4a7",
   "metadata": {},
   "outputs": [],
   "source": [
    "outstate_500 = groupby_strata.loc[groupby_strata[\"Strata Name\"] == \"Outstate - Enrollment between 500 and 999\"].reset_index(drop = True)\n",
    "\n",
    "outstate_500"
   ]
  },
  {
   "cell_type": "code",
   "execution_count": null,
   "id": "22504ef5",
   "metadata": {},
   "outputs": [],
   "source": [
    "outstate_500_scatter_data = outstate_500[\"Language Name\"]\n",
    "\n",
    "outstate_500_scatter_plot = plt.scatter(xaxis, outstate_500_scatter_data)\n",
    "\n",
    "plt.title(\"Number of Unique Languages Spoken in Outstate Districts with Enrollment Between 500 and 999\")\n",
    "plt.xlabel(\"Year\")\n",
    "plt.ylabel(\"Number of Languages\")\n",
    "\n",
    "plt.show()"
   ]
  },
  {
   "cell_type": "code",
   "execution_count": null,
   "id": "5641cab5",
   "metadata": {},
   "outputs": [],
   "source": [
    "outstate_under_500 = groupby_strata.loc[groupby_strata[\"Strata Name\"] == \"Outstate - Enrollment less than 500\"].reset_index(drop = True)\n",
    "\n",
    "outstate_under_500"
   ]
  },
  {
   "cell_type": "code",
   "execution_count": null,
   "id": "121297fd",
   "metadata": {},
   "outputs": [],
   "source": [
    "outstate_under_500_scatter_data = outstate_under_500[\"Language Name\"]\n",
    "\n",
    "outstate_under_500_scatter_plot = plt.scatter(xaxis, outstate_under_500_scatter_data)\n",
    "\n",
    "plt.title(\"Number of Unique Languages Spoken in Outstate Districts with Enrollment <= 500\")\n",
    "plt.xlabel(\"Year\")\n",
    "plt.ylabel(\"Number of Languages\")\n",
    "\n",
    "plt.show()"
   ]
  },
  {
   "cell_type": "code",
   "execution_count": null,
   "id": "5a12cb58",
   "metadata": {},
   "outputs": [],
   "source": [
    "# Create a line plot of all districts over time on one graph\n",
    "\n",
    "plt.scatter(xaxis, msp_scatter_data, color = \"r\", marker = \"v\")\n",
    "plt.scatter(xaxis, seven_county_area_scatter_data, color = \"b\", marker = \"s\")\n",
    "plt.scatter(xaxis, outstate_2k_scatter_data, color = \"g\", marker = \"p\")\n",
    "plt.scatter(xaxis, outstate_1k_scatter_data, color = \"c\", marker = \"X\")\n",
    "plt.scatter(xaxis, outstate_500_scatter_data, color = \"m\", marker = \"o\")\n",
    "plt.scatter(xaxis, outstate_under_500_scatter_data, color = \"y\", marker = \"D\")\n",
    "\n",
    "plt.title(\"Number of Unique Languages Spoken for Each Strata Over Time\")\n",
    "plt.xlabel(\"Year\")\n",
    "plt.ylabel(\"Number of Unique Languages Spoken\")\n",
    "\n",
    "plt.rcParams[\"figure.figsize\"] = (16, 11)\n",
    "\n",
    "plt.show()"
   ]
  },
  {
   "cell_type": "markdown",
   "id": "1c97fd88",
   "metadata": {},
   "source": [
    "### Find most frequently spoken non-English languages"
   ]
  },
  {
   "cell_type": "code",
   "execution_count": null,
   "id": "eef204fe",
   "metadata": {},
   "outputs": [],
   "source": [
    "#2007\n",
    "\n",
    "langs_2007 = complete_language_summary.loc[complete_language_summary[\"School Year\"] == \"06-07\"]\n",
    "langs_2007"
   ]
  },
  {
   "cell_type": "code",
   "execution_count": null,
   "id": "28036915",
   "metadata": {},
   "outputs": [],
   "source": [
    "# Find index of English line(s), remove them\n",
    "eng_2007_index = langs_2007.loc[langs_2007[\"Language Name\"] == \"ENGLISH\"].index\n",
    "\n",
    "langs_2007.drop(eng_2007_index, inplace = True)\n",
    "\n",
    "langs_2007"
   ]
  },
  {
   "cell_type": "code",
   "execution_count": null,
   "id": "88ab16e7",
   "metadata": {
    "scrolled": true
   },
   "outputs": [],
   "source": [
    "# Find the top 15 non-English languages\n",
    "\n",
    "langs_2007_sort = langs_2007.sort_values(by=[\"Student Count\"], ascending = False)\n",
    "\n",
    "langs_2007_top15 = langs_2007_sort.head(15)\n",
    "\n",
    "langs_2007_top15.reset_index(inplace = True)\n",
    "\n",
    "langs_2007_top15"
   ]
  },
  {
   "cell_type": "code",
   "execution_count": null,
   "id": "42181dfb",
   "metadata": {},
   "outputs": [],
   "source": [
    "def add_value_labels1(x_labels, y_values):\n",
    "    for i in range(0, len(x_labels)):\n",
    "        plt.text(i, y_values[i], y_values[i], ha = \"center\")"
   ]
  },
  {
   "cell_type": "code",
   "execution_count": null,
   "id": "c378cd37",
   "metadata": {},
   "outputs": [],
   "source": [
    "# Make a bar chart of the top 15 non-English languages\n",
    "\n",
    "lang_ticks = [0,1,2,3,4,5,6,7,8,9,10,11,12,13,14]\n",
    "\n",
    "plt.bar(lang_ticks, langs_2007_top15[\"Student Count\"])\n",
    "plt.title(\"Top 15 Non-English Languages, 2007\")\n",
    "plt.xticks(langs_2007_top15.index, langs_2007_top15[\"Language Name\"], rotation = 45)\n",
    "plt.ylabel(\"Number of Students Speaking Language at Home\")\n",
    "\n",
    "add_value_labels1(langs_2007_top15[\"Language Name\"], langs_2007_top15[\"Student Count\"])\n",
    "\n",
    "plt.show()"
   ]
  },
  {
   "cell_type": "code",
   "execution_count": null,
   "id": "b3802cc1",
   "metadata": {},
   "outputs": [],
   "source": [
    "# Compare number of English-speaking homes and non-English-speaking homes\n",
    "\n",
    "non_english_2007 = langs_2007[\"Student Count\"].sum()\n",
    "\n",
    "eng_2007 = complete_language_summary.loc[complete_language_summary[\"School Year\"] == \"06-07\"]\n",
    "\n",
    "eng_sum_2007 = eng_2007.loc[eng_2007[\"Language Name\"] == \"ENGLISH\"][\"Student Count\"].sum()"
   ]
  },
  {
   "cell_type": "code",
   "execution_count": null,
   "id": "6d40c932",
   "metadata": {},
   "outputs": [],
   "source": [
    "eng_ne_2007 = []\n",
    "\n",
    "eng_ne_2007.append(non_english_2007)\n",
    "eng_ne_2007.append(eng_sum_2007)\n",
    "ne_labels = [\"Non-English Languages\", \"English\"]\n",
    "\n",
    "plt.pie(eng_ne_2007, labels = ne_labels, autopct='%.2f%%')\n",
    "plt.title(\"Proportion of Students Speaking English at Home, 2007\")\n",
    "\n",
    "plt.show()"
   ]
  },
  {
   "cell_type": "code",
   "execution_count": null,
   "id": "9ee7c9cf",
   "metadata": {},
   "outputs": [],
   "source": [
    "# 2008\n",
    "\n",
    "langs_2008 = complete_language_summary.loc[complete_language_summary[\"School Year\"] == \"08-09\"]\n",
    "langs_2008"
   ]
  },
  {
   "cell_type": "code",
   "execution_count": null,
   "id": "9652ca13",
   "metadata": {},
   "outputs": [],
   "source": [
    "# Find index of English line(s), remove them\n",
    "eng_2008_index = langs_2008.loc[langs_2008[\"Language Name\"] == \"ENGLISH\"].index\n",
    "\n",
    "langs_2008.drop(eng_2008_index, inplace = True)\n",
    "\n",
    "langs_2008"
   ]
  },
  {
   "cell_type": "code",
   "execution_count": null,
   "id": "7cf04275",
   "metadata": {},
   "outputs": [],
   "source": [
    "# Find the top 15 non-English languages\n",
    "\n",
    "langs_2008_sort = langs_2008.sort_values(by=[\"Student Count\"], ascending = False)\n",
    "langs_2008_top15 = langs_2008_sort.head(15)\n",
    "\n",
    "langs_2008_top15.reset_index(inplace = True)\n",
    "\n",
    "langs_2008_top15"
   ]
  },
  {
   "cell_type": "code",
   "execution_count": null,
   "id": "f49ac9bd",
   "metadata": {},
   "outputs": [],
   "source": [
    "# Make a bar chart of the top 15 non-English languages\n",
    "\n",
    "#lang_ticks = [1,2,3,4,5,6,7,8,9,10,11,12,13,14,15]\n",
    "\n",
    "plt.bar(lang_ticks, langs_2008_top15[\"Student Count\"])\n",
    "plt.title(\"Top 15 Non-English Languages, 2008\")\n",
    "plt.xticks(langs_2007_top15.index, langs_2008_top15[\"Language Name\"], rotation = 45)\n",
    "plt.ylabel(\"Number of Students Speaking Language at Home\")\n",
    "\n",
    "add_value_labels1(langs_2008_top15[\"Language Name\"], langs_2008_top15[\"Student Count\"])\n",
    "\n",
    "plt.show()"
   ]
  },
  {
   "cell_type": "code",
   "execution_count": null,
   "id": "c9780ab6",
   "metadata": {},
   "outputs": [],
   "source": [
    "# Compare number of English-speaking homes and non-English-speaking homes\n",
    "\n",
    "non_english_2008 = langs_2008[\"Student Count\"].sum()\n",
    "\n",
    "eng_2008 = complete_language_summary.loc[complete_language_summary[\"School Year\"] == \"07-08\"]\n",
    "\n",
    "eng_sum_2008 = eng_2008.loc[eng_2008[\"Language Name\"] == \"ENGLISH\"][\"Student Count\"].sum()"
   ]
  },
  {
   "cell_type": "code",
   "execution_count": null,
   "id": "56830dae",
   "metadata": {},
   "outputs": [],
   "source": [
    "eng_ne_2008 = []\n",
    "\n",
    "eng_ne_2008.append(non_english_2008)\n",
    "eng_ne_2008.append(eng_sum_2008)\n",
    "ne_labels = [\"Non-English Languages\", \"English\"]\n",
    "\n",
    "plt.pie(eng_ne_2008, labels = ne_labels, autopct='%.2f%%')\n",
    "plt.title(\"Proportion of Students Speaking English at Home, 2008\")\n",
    "\n",
    "plt.show()"
   ]
  },
  {
   "cell_type": "code",
   "execution_count": null,
   "id": "80c47001",
   "metadata": {},
   "outputs": [],
   "source": [
    "# 2009\n",
    "\n",
    "langs_2009 = complete_language_summary.loc[complete_language_summary[\"School Year\"] == \"09-10\"]\n",
    "langs_2009"
   ]
  },
  {
   "cell_type": "code",
   "execution_count": null,
   "id": "fa668f57",
   "metadata": {},
   "outputs": [],
   "source": [
    "# Find index of English line(s), remove them\n",
    "eng_2009_index = langs_2009.loc[langs_2009[\"Language Name\"] == \"ENGLISH\"].index\n",
    "\n",
    "langs_2009.drop(eng_2009_index, inplace = True)\n",
    "\n",
    "langs_2009"
   ]
  },
  {
   "cell_type": "code",
   "execution_count": null,
   "id": "b010af6c",
   "metadata": {},
   "outputs": [],
   "source": [
    "# Find the top 15 non-English languages\n",
    "\n",
    "langs_2009_sort = langs_2009.sort_values(by=[\"Student Count\"], ascending = False)\n",
    "langs_2009_top15 = langs_2009_sort.head(15)\n",
    "\n",
    "langs_2009_top15.reset_index(inplace = True)\n",
    "\n",
    "langs_2009_top15"
   ]
  },
  {
   "cell_type": "code",
   "execution_count": null,
   "id": "ad19ea79",
   "metadata": {},
   "outputs": [],
   "source": [
    "# Make a bar chart of the top 15 non-English languages\n",
    "\n",
    "plt.bar(lang_ticks, langs_2009_top15[\"Student Count\"])\n",
    "plt.title(\"Top 15 Non-English Languages, 2009\")\n",
    "plt.xticks(langs_2009_top15.index, langs_2009_top15[\"Language Name\"], rotation = 45)\n",
    "plt.ylabel(\"Number of Students Speaking Language at Home\")\n",
    "\n",
    "add_value_labels1(langs_2009_top15[\"Language Name\"], langs_2009_top15[\"Student Count\"])\n",
    "\n",
    "plt.show()"
   ]
  },
  {
   "cell_type": "code",
   "execution_count": null,
   "id": "4cc7e17b",
   "metadata": {},
   "outputs": [],
   "source": [
    "# Compare number of English-speaking homes and non-English-speaking homes\n",
    "\n",
    "non_english_2009 = langs_2009[\"Student Count\"].sum()\n",
    "\n",
    "eng_2009 = complete_language_summary.loc[complete_language_summary[\"School Year\"] == \"08-09\"]\n",
    "\n",
    "eng_sum_2009 = eng_2009.loc[eng_2009[\"Language Name\"] == \"ENGLISH\"][\"Student Count\"].sum()"
   ]
  },
  {
   "cell_type": "code",
   "execution_count": null,
   "id": "93527396",
   "metadata": {},
   "outputs": [],
   "source": [
    "eng_ne_2009 = []\n",
    "\n",
    "eng_ne_2009.append(non_english_2009)\n",
    "eng_ne_2009.append(eng_sum_2009)\n",
    "ne_labels = [\"Non-English Languages\", \"English\"]\n",
    "\n",
    "plt.pie(eng_ne_2009, labels = ne_labels, autopct='%.2f%%')\n",
    "plt.title(\"Proportion of Students Speaking English at Home, 2009\")\n",
    "\n",
    "plt.show()"
   ]
  },
  {
   "cell_type": "code",
   "execution_count": null,
   "id": "62a8328f",
   "metadata": {},
   "outputs": [],
   "source": [
    "#2010\n",
    "\n",
    "langs_2010 = complete_language_summary.loc[complete_language_summary[\"School Year\"] == \"09-10\"]\n",
    "langs_2010"
   ]
  },
  {
   "cell_type": "code",
   "execution_count": null,
   "id": "de975f89",
   "metadata": {},
   "outputs": [],
   "source": [
    "# Find index of English line(s), remove them\n",
    "eng_2010_index = langs_2010.loc[langs_2010[\"Language Name\"] == \"ENGLISH\"].index\n",
    "\n",
    "langs_2010.drop(eng_2010_index, inplace = True)\n",
    "\n",
    "langs_2010"
   ]
  },
  {
   "cell_type": "code",
   "execution_count": null,
   "id": "ed1e79ad",
   "metadata": {},
   "outputs": [],
   "source": [
    "# Find the top 15 non-English languages\n",
    "\n",
    "langs_2010_sort = langs_2010.sort_values(by=[\"Student Count\"], ascending = False)\n",
    "langs_2010_top15 = langs_2010_sort.head(15)\n",
    "\n",
    "langs_2010_top15.reset_index(inplace = True)\n",
    "\n",
    "langs_2010_top15"
   ]
  },
  {
   "cell_type": "code",
   "execution_count": null,
   "id": "c121a079",
   "metadata": {},
   "outputs": [],
   "source": [
    "# Make a bar chart of the top 15 non-English languages\n",
    "\n",
    "plt.bar(lang_ticks, langs_2010_top15[\"Student Count\"])\n",
    "plt.title(\"Top 15 Non-English Languages, 2010\")\n",
    "plt.xticks(langs_2010_top15.index, langs_2010_top15[\"Language Name\"], rotation = 45)\n",
    "plt.ylabel(\"Number of Students Speaking Language at Home\")\n",
    "\n",
    "add_value_labels1(langs_2010_top15[\"Language Name\"], langs_2010_top15[\"Student Count\"])\n",
    "\n",
    "plt.show()"
   ]
  },
  {
   "cell_type": "code",
   "execution_count": null,
   "id": "ba752421",
   "metadata": {},
   "outputs": [],
   "source": [
    "# Compare number of English-speaking homes and non-English-speaking homes\n",
    "\n",
    "non_english_2010 = langs_2010[\"Student Count\"].sum()\n",
    "\n",
    "eng_2010 = complete_language_summary.loc[complete_language_summary[\"School Year\"] == \"09-10\"]\n",
    "\n",
    "eng_sum_2010 = eng_2010.loc[eng_2010[\"Language Name\"] == \"ENGLISH\"][\"Student Count\"].sum()"
   ]
  },
  {
   "cell_type": "code",
   "execution_count": null,
   "id": "9929f043",
   "metadata": {},
   "outputs": [],
   "source": [
    "eng_ne_2010 = []\n",
    "\n",
    "eng_ne_2010.append(non_english_2010)\n",
    "eng_ne_2010.append(eng_sum_2010)\n",
    "ne_labels = [\"Non-English Languages\", \"English\"]\n",
    "\n",
    "plt.pie(eng_ne_2010, labels = ne_labels, autopct='%.1f%%')\n",
    "plt.title(\"Proportion of Students Speaking English at Home, 2010\")\n",
    "\n",
    "plt.show()"
   ]
  },
  {
   "cell_type": "code",
   "execution_count": null,
   "id": "2f6801ad",
   "metadata": {},
   "outputs": [],
   "source": [
    "# 2011\n",
    "\n",
    "langs_2011 = complete_language_summary.loc[complete_language_summary[\"School Year\"] == \"10-11\"]\n",
    "langs_2011"
   ]
  },
  {
   "cell_type": "code",
   "execution_count": null,
   "id": "a74b08f8",
   "metadata": {},
   "outputs": [],
   "source": [
    "# Find index of English line(s), remove them\n",
    "eng_2011_index = langs_2011.loc[langs_2011[\"Language Name\"] == \"ENGLISH\"].index\n",
    "\n",
    "langs_2011.drop(eng_2011_index, inplace = True)\n",
    "\n",
    "langs_2011"
   ]
  },
  {
   "cell_type": "code",
   "execution_count": null,
   "id": "6a02546a",
   "metadata": {},
   "outputs": [],
   "source": [
    "# Find the top 15 non-English languages\n",
    "\n",
    "langs_2011_sort = langs_2011.sort_values(by=[\"Student Count\"], ascending = False)\n",
    "langs_2011_top15 = langs_2011_sort.head(15)\n",
    "\n",
    "langs_2011_top15.reset_index(inplace = True)\n",
    "\n",
    "langs_2011_top15"
   ]
  },
  {
   "cell_type": "code",
   "execution_count": null,
   "id": "7cd38f29",
   "metadata": {},
   "outputs": [],
   "source": [
    "# Make a bar chart of the top 15 non-English languages\n",
    "\n",
    "plt.bar(lang_ticks, langs_2011_top15[\"Student Count\"])\n",
    "plt.title(\"Top 15 Non-English Languages, 2011\")\n",
    "plt.xticks(langs_2011_top15.index, langs_2011_top15[\"Language Name\"], rotation = 45)\n",
    "plt.ylabel(\"Number of Students Speaking Language at Home\")\n",
    "\n",
    "add_value_labels1(langs_2011_top15[\"Language Name\"], langs_2011_top15[\"Student Count\"])\n",
    "\n",
    "plt.show()"
   ]
  },
  {
   "cell_type": "code",
   "execution_count": null,
   "id": "53e95fb0",
   "metadata": {},
   "outputs": [],
   "source": [
    "# Compare number of English-speaking homes and non-English-speaking homes\n",
    "\n",
    "non_english_2011 = langs_2011[\"Student Count\"].sum()\n",
    "\n",
    "eng_2011 = complete_language_summary.loc[complete_language_summary[\"School Year\"] == \"10-11\"]\n",
    "\n",
    "eng_sum_2011 = eng_2011.loc[eng_2011[\"Language Name\"] == \"ENGLISH\"][\"Student Count\"].sum()"
   ]
  },
  {
   "cell_type": "code",
   "execution_count": null,
   "id": "dc025db5",
   "metadata": {},
   "outputs": [],
   "source": [
    "eng_ne_2011 = []\n",
    "\n",
    "eng_ne_2011.append(non_english_2011)\n",
    "eng_ne_2011.append(eng_sum_2011)\n",
    "ne_labels = [\"Non-English Languages\", \"English\"]\n",
    "\n",
    "plt.pie(eng_ne_2011, labels = ne_labels, autopct='%.2f%%')\n",
    "plt.title(\"Proportion of Students Speaking English at Home, 2011\")\n",
    "\n",
    "plt.show()"
   ]
  },
  {
   "cell_type": "code",
   "execution_count": null,
   "id": "8d4db601",
   "metadata": {},
   "outputs": [],
   "source": [
    "# 2012\n",
    "\n",
    "langs_2012 = complete_language_summary.loc[complete_language_summary[\"School Year\"] == \"11-12\"]\n",
    "langs_2012"
   ]
  },
  {
   "cell_type": "code",
   "execution_count": null,
   "id": "d2c65a7b",
   "metadata": {},
   "outputs": [],
   "source": [
    "# Find index of English line(s), remove them\n",
    "eng_2012_index = langs_2012.loc[langs_2012[\"Language Name\"] == \"ENGLISH\"].index\n",
    "\n",
    "langs_2012.drop(eng_2012_index, inplace = True)\n",
    "\n",
    "langs_2012"
   ]
  },
  {
   "cell_type": "code",
   "execution_count": null,
   "id": "50db8976",
   "metadata": {},
   "outputs": [],
   "source": [
    "# Find the top 15 non-English languages\n",
    "\n",
    "langs_2012_sort = langs_2012.sort_values(by=[\"Student Count\"], ascending = False)\n",
    "langs_2012_top15 = langs_2012_sort.head(15)\n",
    "\n",
    "langs_2012_top15.reset_index(inplace = True)\n",
    "\n",
    "langs_2012_top15"
   ]
  },
  {
   "cell_type": "code",
   "execution_count": null,
   "id": "4c51601a",
   "metadata": {},
   "outputs": [],
   "source": [
    "# Make a bar chart of the top 15 non-English languages\n",
    "\n",
    "plt.bar(lang_ticks, langs_2012_top15[\"Student Count\"])\n",
    "plt.title(\"Top 15 Non-English Languages, 2012\")\n",
    "plt.xticks(langs_2012_top15.index, langs_2012_top15[\"Language Name\"], rotation = 45)\n",
    "plt.ylabel(\"Number of Students Speaking Language at Home\")\n",
    "\n",
    "add_value_labels1(langs_2012_top15[\"Language Name\"], langs_2012_top15[\"Student Count\"])\n",
    "\n",
    "plt.show()"
   ]
  },
  {
   "cell_type": "code",
   "execution_count": null,
   "id": "b220a7b5",
   "metadata": {},
   "outputs": [],
   "source": [
    "# Compare number of English-speaking homes and non-English-speaking homes\n",
    "\n",
    "non_english_2012 = langs_2012[\"Student Count\"].sum()\n",
    "\n",
    "eng_2012 = complete_language_summary.loc[complete_language_summary[\"School Year\"] == \"11-12\"]\n",
    "\n",
    "eng_sum_2012 = eng_2012.loc[eng_2012[\"Language Name\"] == \"ENGLISH\"][\"Student Count\"].sum()"
   ]
  },
  {
   "cell_type": "code",
   "execution_count": null,
   "id": "33a85bc3",
   "metadata": {},
   "outputs": [],
   "source": [
    "eng_ne_2012 = []\n",
    "\n",
    "eng_ne_2012.append(non_english_2012)\n",
    "eng_ne_2012.append(eng_sum_2012)\n",
    "ne_labels = [\"Non-English Languages\", \"English\"]\n",
    "\n",
    "plt.pie(eng_ne_2012, labels = ne_labels, autopct='%.2f%%')\n",
    "plt.title(\"Proportion of Students Speaking English at Home, 2012\")\n",
    "\n",
    "plt.show()"
   ]
  },
  {
   "cell_type": "code",
   "execution_count": null,
   "id": "5cbff0dc",
   "metadata": {},
   "outputs": [],
   "source": [
    "# 2013\n",
    "\n",
    "langs_2013 = complete_language_summary.loc[complete_language_summary[\"School Year\"] == \"12-13\"]\n",
    "langs_2013"
   ]
  },
  {
   "cell_type": "code",
   "execution_count": null,
   "id": "8e5944fc",
   "metadata": {},
   "outputs": [],
   "source": [
    "# Find index of English line(s), remove them\n",
    "eng_2013_index = langs_2013.loc[langs_2013[\"Language Name\"] == \"ENGLISH\"].index\n",
    "\n",
    "langs_2013.drop(eng_2013_index, inplace = True)\n",
    "\n",
    "langs_2013"
   ]
  },
  {
   "cell_type": "code",
   "execution_count": null,
   "id": "346a3c6c",
   "metadata": {},
   "outputs": [],
   "source": [
    "# Find the top 15 non-English languages\n",
    "\n",
    "langs_2013_sort = langs_2013.sort_values(by=[\"Student Count\"], ascending = False)\n",
    "langs_2013_top15 = langs_2013_sort.head(15)\n",
    "\n",
    "langs_2013_top15.reset_index(inplace = True)\n",
    "\n",
    "langs_2013_top15"
   ]
  },
  {
   "cell_type": "code",
   "execution_count": null,
   "id": "43c9844e",
   "metadata": {},
   "outputs": [],
   "source": [
    "# Make a bar chart of the top 15 non-English languages\n",
    "\n",
    "plt.bar(lang_ticks, langs_2013_top15[\"Student Count\"])\n",
    "plt.title(\"Top 15 Non-English Languages, 2013\")\n",
    "plt.xticks(langs_2013_top15.index, langs_2013_top15[\"Language Name\"], rotation = 45)\n",
    "plt.ylabel(\"Number of Students Speaking Language at Home\")\n",
    "\n",
    "add_value_labels1(langs_2013_top15[\"Language Name\"], langs_2013_top15[\"Student Count\"])\n",
    "\n",
    "plt.show()"
   ]
  },
  {
   "cell_type": "code",
   "execution_count": null,
   "id": "ceb26a79",
   "metadata": {},
   "outputs": [],
   "source": [
    "# Compare number of English-speaking homes and non-English-speaking homes\n",
    "\n",
    "non_english_2013 = langs_2013[\"Student Count\"].sum()\n",
    "\n",
    "eng_2013 = complete_language_summary.loc[complete_language_summary[\"School Year\"] == \"12-13\"]\n",
    "\n",
    "eng_sum_2013 = eng_2013.loc[eng_2013[\"Language Name\"] == \"ENGLISH\"][\"Student Count\"].sum()"
   ]
  },
  {
   "cell_type": "code",
   "execution_count": null,
   "id": "50c437f1",
   "metadata": {},
   "outputs": [],
   "source": [
    "eng_ne_2013 = []\n",
    "\n",
    "eng_ne_2013.append(non_english_2013)\n",
    "eng_ne_2013.append(eng_sum_2013)\n",
    "ne_labels = [\"Non-English Languages\", \"English\"]\n",
    "\n",
    "plt.pie(eng_ne_2013, labels = ne_labels, autopct='%.2f%%')\n",
    "plt.title(\"Proportion of Students Speaking English at Home, 2013\")\n",
    "\n",
    "plt.show()"
   ]
  },
  {
   "cell_type": "code",
   "execution_count": null,
   "id": "9911fd5a",
   "metadata": {},
   "outputs": [],
   "source": [
    "# 2014\n",
    "\n",
    "langs_2014 = complete_language_summary.loc[complete_language_summary[\"School Year\"] == \"13-14\"]\n",
    "langs_2014"
   ]
  },
  {
   "cell_type": "code",
   "execution_count": null,
   "id": "65843450",
   "metadata": {},
   "outputs": [],
   "source": [
    "# Find index of English line(s), remove them\n",
    "eng_2014_index = langs_2014.loc[langs_2014[\"Language Name\"] == \"ENGLISH\"].index\n",
    "\n",
    "langs_2014.drop(eng_2014_index, inplace = True)\n",
    "\n",
    "langs_2014"
   ]
  },
  {
   "cell_type": "code",
   "execution_count": null,
   "id": "1c500ee0",
   "metadata": {},
   "outputs": [],
   "source": [
    "# Find the top 15 non-English languages\n",
    "\n",
    "langs_2014_sort = langs_2014.sort_values(by=[\"Student Count\"], ascending = False)\n",
    "langs_2014_top15 = langs_2014_sort.head(15)\n",
    "\n",
    "langs_2014_top15.reset_index(inplace = True)\n",
    "\n",
    "langs_2014_top15"
   ]
  },
  {
   "cell_type": "code",
   "execution_count": null,
   "id": "bb753134",
   "metadata": {},
   "outputs": [],
   "source": [
    "# Make a bar chart of the top 15 non-English languages\n",
    "\n",
    "plt.bar(lang_ticks, langs_2014_top15[\"Student Count\"])\n",
    "plt.title(\"Top 15 Non-English Languages, 2014\")\n",
    "plt.xticks(langs_2014_top15.index, langs_2014_top15[\"Language Name\"], rotation = 45)\n",
    "plt.ylabel(\"Number of Students Speaking Language at Home\")\n",
    "\n",
    "add_value_labels1(langs_2014_top15[\"Language Name\"], langs_2014_top15[\"Student Count\"])\n",
    "\n",
    "plt.show()"
   ]
  },
  {
   "cell_type": "code",
   "execution_count": null,
   "id": "9b9ab0d4",
   "metadata": {},
   "outputs": [],
   "source": [
    "# Compare number of English-speaking students and non-English-speaking students\n",
    "\n",
    "non_english_2014 = langs_2014[\"Student Count\"].sum()\n",
    "\n",
    "eng_2014 = complete_language_summary.loc[complete_language_summary[\"School Year\"] == \"13-14\"]\n",
    "\n",
    "eng_sum_2014 = eng_2014.loc[eng_2014[\"Language Name\"] == \"ENGLISH\"][\"Student Count\"].sum()"
   ]
  },
  {
   "cell_type": "code",
   "execution_count": null,
   "id": "8bb3c2bb",
   "metadata": {},
   "outputs": [],
   "source": [
    "# Make a pie chart comparing English-speaking and non-English speaking students\n",
    "\n",
    "eng_ne_2014 = []\n",
    "\n",
    "eng_ne_2014.append(non_english_2014)\n",
    "eng_ne_2014.append(eng_sum_2014)\n",
    "ne_labels = [\"Non-English Languages\", \"English\"]\n",
    "\n",
    "plt.pie(eng_ne_2014, labels = ne_labels, autopct='%.2f%%')\n",
    "plt.title(\"Proportion of Students Speaking English at Home, 2014\")\n",
    "\n",
    "plt.show()"
   ]
  },
  {
   "cell_type": "code",
   "execution_count": null,
   "id": "280ca5fb",
   "metadata": {},
   "outputs": [],
   "source": [
    "# 2015\n",
    "\n",
    "langs_2015 = complete_language_summary.loc[complete_language_summary[\"School Year\"] == \"14-15\"]\n",
    "langs_2015"
   ]
  },
  {
   "cell_type": "code",
   "execution_count": null,
   "id": "c3e2830c",
   "metadata": {},
   "outputs": [],
   "source": [
    "# Find index of English line(s), remove them\n",
    "eng_2015_index = langs_2015.loc[langs_2015[\"Language Name\"] == \"ENGLISH\"].index\n",
    "\n",
    "langs_2015.drop(eng_2015_index, inplace = True)\n",
    "\n",
    "langs_2015"
   ]
  },
  {
   "cell_type": "code",
   "execution_count": null,
   "id": "d38cdc70",
   "metadata": {},
   "outputs": [],
   "source": [
    "# Find the top 15 non-English languages\n",
    "\n",
    "langs_2015_sort = langs_2015.sort_values(by=[\"Student Count\"], ascending = False)\n",
    "langs_2015_top15 = langs_2015_sort.head(15)\n",
    "\n",
    "langs_2015_top15.reset_index(inplace = True)\n",
    "\n",
    "langs_2015_top15"
   ]
  },
  {
   "cell_type": "code",
   "execution_count": null,
   "id": "1a499dfe",
   "metadata": {},
   "outputs": [],
   "source": [
    "# Make a bar chart of the top 15 non-English languages\n",
    "\n",
    "plt.bar(lang_ticks, langs_2015_top15[\"Student Count\"])\n",
    "plt.title(\"Top 15 Non-English Languages, 2015\")\n",
    "plt.xticks(langs_2015_top15.index, langs_2015_top15[\"Language Name\"], rotation = 45)\n",
    "plt.ylabel(\"Number of Students Speaking Language at Home\")\n",
    "\n",
    "add_value_labels1(langs_2015_top15[\"Language Name\"], langs_2015_top15[\"Student Count\"])\n",
    "\n",
    "plt.show()"
   ]
  },
  {
   "cell_type": "code",
   "execution_count": null,
   "id": "3570b024",
   "metadata": {},
   "outputs": [],
   "source": [
    "# Compare number of English-speaking students and non-English-speaking students\n",
    "\n",
    "non_english_2015 = langs_2015[\"Student Count\"].sum()\n",
    "\n",
    "eng_2015 = complete_language_summary.loc[complete_language_summary[\"School Year\"] == \"14-15\"]\n",
    "\n",
    "eng_sum_2015 = eng_2015.loc[eng_2015[\"Language Name\"] == \"ENGLISH\"][\"Student Count\"].sum()"
   ]
  },
  {
   "cell_type": "code",
   "execution_count": null,
   "id": "fcdf5ab3",
   "metadata": {},
   "outputs": [],
   "source": [
    "# Make a pie chart comparing English-speaking and non-English speaking students\n",
    "\n",
    "eng_ne_2015 = []\n",
    "\n",
    "eng_ne_2015.append(non_english_2015)\n",
    "eng_ne_2015.append(eng_sum_2015)\n",
    "ne_labels = [\"Non-English Languages\", \"English\"]\n",
    "\n",
    "plt.pie(eng_ne_2015, labels = ne_labels, autopct='%.2f%%')\n",
    "plt.title(\"Proportion of Students Speaking English at Home, 2015\")\n",
    "\n",
    "plt.show()"
   ]
  },
  {
   "cell_type": "code",
   "execution_count": null,
   "id": "a3c40537",
   "metadata": {},
   "outputs": [],
   "source": [
    "# 2016\n",
    "\n",
    "langs_2016 = complete_language_summary.loc[complete_language_summary[\"School Year\"] == \"15-16\"]\n",
    "langs_2016"
   ]
  },
  {
   "cell_type": "code",
   "execution_count": null,
   "id": "ae8d9284",
   "metadata": {},
   "outputs": [],
   "source": [
    "# Find index of English line(s), remove them\n",
    "eng_2016_index = langs_2016.loc[langs_2016[\"Language Name\"] == \"ENGLISH\"].index\n",
    "\n",
    "langs_2016.drop(eng_2016_index, inplace = True)\n",
    "\n",
    "langs_2016"
   ]
  },
  {
   "cell_type": "code",
   "execution_count": null,
   "id": "8efac556",
   "metadata": {},
   "outputs": [],
   "source": [
    "# Find the top 15 non-English languages\n",
    "\n",
    "langs_2016_sort = langs_2016.sort_values(by=[\"Student Count\"], ascending = False)\n",
    "langs_2016_top15 = langs_2016_sort.head(15)\n",
    "\n",
    "langs_2016_top15.reset_index(inplace = True)\n",
    "\n",
    "langs_2016_top15"
   ]
  },
  {
   "cell_type": "code",
   "execution_count": null,
   "id": "c4d79499",
   "metadata": {},
   "outputs": [],
   "source": [
    "# Make a bar chart of the top 15 non-English languages\n",
    "\n",
    "plt.bar(lang_ticks, langs_2016_top15[\"Student Count\"])\n",
    "plt.title(\"Top 15 Non-English Languages, 2016\")\n",
    "plt.xticks(langs_2016_top15.index, langs_2016_top15[\"Language Name\"], rotation = 45)\n",
    "plt.ylabel(\"Number of Students Speaking Language at Home\")\n",
    "\n",
    "add_value_labels1(langs_2016_top15[\"Language Name\"], langs_2016_top15[\"Student Count\"])\n",
    "\n",
    "plt.show()"
   ]
  },
  {
   "cell_type": "code",
   "execution_count": null,
   "id": "5879a224",
   "metadata": {},
   "outputs": [],
   "source": [
    "# Compare number of English-speaking students and non-English-speaking students\n",
    "\n",
    "non_english_2016 = langs_2016[\"Student Count\"].sum()\n",
    "\n",
    "eng_2016 = complete_language_summary.loc[complete_language_summary[\"School Year\"] == \"15-16\"]\n",
    "\n",
    "eng_sum_2016 = eng_2016.loc[eng_2016[\"Language Name\"] == \"ENGLISH\"][\"Student Count\"].sum()"
   ]
  },
  {
   "cell_type": "code",
   "execution_count": null,
   "id": "6efb162b",
   "metadata": {},
   "outputs": [],
   "source": [
    "# Make a pie chart comparing English-speaking and non-English speaking students\n",
    "\n",
    "eng_ne_2016 = []\n",
    "\n",
    "eng_ne_2016.append(non_english_2016)\n",
    "eng_ne_2016.append(eng_sum_2016)\n",
    "ne_labels = [\"Non-English Languages\", \"English\"]\n",
    "\n",
    "plt.pie(eng_ne_2016, labels = ne_labels, autopct='%.2f%%')\n",
    "plt.title(\"Proportion of Students Speaking English at Home, 2016\")\n",
    "\n",
    "plt.show()"
   ]
  },
  {
   "cell_type": "code",
   "execution_count": null,
   "id": "5c663de1",
   "metadata": {},
   "outputs": [],
   "source": [
    "# 2017\n",
    "\n",
    "langs_2017 = complete_language_summary.loc[complete_language_summary[\"School Year\"] == \"16-17\"]\n",
    "langs_2017"
   ]
  },
  {
   "cell_type": "code",
   "execution_count": null,
   "id": "11acb48a",
   "metadata": {},
   "outputs": [],
   "source": [
    "# Find index of English line(s), remove them\n",
    "eng_2017_index = langs_2017.loc[langs_2017[\"Language Name\"] == \"ENGLISH\"].index\n",
    "\n",
    "langs_2017.drop(eng_2017_index, inplace = True)\n",
    "\n",
    "langs_2017"
   ]
  },
  {
   "cell_type": "code",
   "execution_count": null,
   "id": "ce1f803a",
   "metadata": {},
   "outputs": [],
   "source": [
    "# Find the top 15 non-English languages\n",
    "\n",
    "langs_2017_sort = langs_2017.sort_values(by=[\"Student Count\"], ascending = False)\n",
    "langs_2017_top15 = langs_2017_sort.head(15)\n",
    "\n",
    "langs_2017_top15.reset_index(inplace = True)\n",
    "\n",
    "langs_2017_top15"
   ]
  },
  {
   "cell_type": "code",
   "execution_count": null,
   "id": "2a10bbda",
   "metadata": {},
   "outputs": [],
   "source": [
    "# Make a bar chart of the top 15 non-English languages\n",
    "\n",
    "plt.bar(lang_ticks, langs_2017_top15[\"Student Count\"])\n",
    "plt.title(\"Top 15 Non-English Languages, 2017\")\n",
    "plt.xticks(langs_2017_top15.index, langs_2017_top15[\"Language Name\"], rotation = 45)\n",
    "plt.ylabel(\"Number of Students Speaking Language at Home\")\n",
    "\n",
    "add_value_labels1(langs_2017_top15[\"Language Name\"], langs_2017_top15[\"Student Count\"])\n",
    "\n",
    "plt.show()"
   ]
  },
  {
   "cell_type": "code",
   "execution_count": null,
   "id": "60654366",
   "metadata": {},
   "outputs": [],
   "source": [
    "# Compare number of English-speaking students and non-English-speaking students\n",
    "\n",
    "non_english_2017 = langs_2017[\"Student Count\"].sum()\n",
    "\n",
    "eng_2017 = complete_language_summary.loc[complete_language_summary[\"School Year\"] == \"16-17\"]\n",
    "\n",
    "eng_sum_2017 = eng_2017.loc[eng_2017[\"Language Name\"] == \"ENGLISH\"][\"Student Count\"].sum()"
   ]
  },
  {
   "cell_type": "code",
   "execution_count": null,
   "id": "edc5cfa9",
   "metadata": {},
   "outputs": [],
   "source": [
    "# Make a pie chart comparing English-speaking and non-English speaking students\n",
    "\n",
    "eng_ne_2017 = []\n",
    "\n",
    "eng_ne_2017.append(non_english_2017)\n",
    "eng_ne_2017.append(eng_sum_2017)\n",
    "ne_labels = [\"Non-English Languages\", \"English\"]\n",
    "\n",
    "plt.pie(eng_ne_2017, labels = ne_labels, autopct='%.2f%%')\n",
    "plt.title(\"Proportion of Students Speaking English at Home, 2017\")\n",
    "\n",
    "plt.show()"
   ]
  },
  {
   "cell_type": "code",
   "execution_count": null,
   "id": "5ed13b3b",
   "metadata": {},
   "outputs": [],
   "source": [
    "# 2018\n",
    "\n",
    "langs_2018 = complete_language_summary.loc[complete_language_summary[\"School Year\"] == \"17-18\"]\n",
    "langs_2018"
   ]
  },
  {
   "cell_type": "code",
   "execution_count": null,
   "id": "b3374611",
   "metadata": {},
   "outputs": [],
   "source": [
    "# Find index of English line(s), remove them\n",
    "eng_2018_index = langs_2018.loc[langs_2018[\"Language Name\"] == \"ENGLISH\"].index\n",
    "\n",
    "langs_2018.drop(eng_2018_index, inplace = True)\n",
    "\n",
    "langs_2018"
   ]
  },
  {
   "cell_type": "code",
   "execution_count": null,
   "id": "7458679b",
   "metadata": {},
   "outputs": [],
   "source": [
    "# Find the top 15 non-English languages\n",
    "\n",
    "langs_2018_sort = langs_2018.sort_values(by=[\"Student Count\"], ascending = False)\n",
    "langs_2018_top15 = langs_2018_sort.head(15)\n",
    "\n",
    "langs_2018_top15.reset_index(inplace = True)\n",
    "\n",
    "langs_2018_top15"
   ]
  },
  {
   "cell_type": "code",
   "execution_count": null,
   "id": "9e565be1",
   "metadata": {},
   "outputs": [],
   "source": [
    "# Make a bar chart of the top 15 non-English languages\n",
    "\n",
    "plt.bar(lang_ticks, langs_2018_top15[\"Student Count\"])\n",
    "plt.title(\"Top 15 Non-English Languages, 2018\")\n",
    "plt.xticks(langs_2018_top15.index, langs_2018_top15[\"Language Name\"], rotation = 45)\n",
    "plt.ylabel(\"Number of Students Speaking Language at Home\")\n",
    "\n",
    "add_value_labels1(langs_2018_top15[\"Language Name\"], langs_2018_top15[\"Student Count\"])\n",
    "\n",
    "plt.show()"
   ]
  },
  {
   "cell_type": "code",
   "execution_count": null,
   "id": "9e788979",
   "metadata": {},
   "outputs": [],
   "source": [
    "# Compare number of English-speaking students and non-English-speaking students\n",
    "\n",
    "non_english_2018 = langs_2018[\"Student Count\"].sum()\n",
    "\n",
    "eng_2018 = complete_language_summary.loc[complete_language_summary[\"School Year\"] == \"17-18\"]\n",
    "\n",
    "eng_sum_2018 = eng_2018.loc[eng_2018[\"Language Name\"] == \"ENGLISH\"][\"Student Count\"].sum()"
   ]
  },
  {
   "cell_type": "code",
   "execution_count": null,
   "id": "6960730f",
   "metadata": {},
   "outputs": [],
   "source": [
    "# Make a pie chart comparing English-speaking and non-English speaking students\n",
    "\n",
    "eng_ne_2018 = []\n",
    "\n",
    "eng_ne_2018.append(non_english_2018)\n",
    "eng_ne_2018.append(eng_sum_2018)\n",
    "ne_labels = [\"Non-English Languages\", \"English\"]\n",
    "\n",
    "plt.pie(eng_ne_2018, labels = ne_labels, autopct='%.2f%%')\n",
    "plt.title(\"Proportion of Students Speaking English at Home, 2018\")\n",
    "\n",
    "plt.show()"
   ]
  },
  {
   "cell_type": "code",
   "execution_count": null,
   "id": "8bf70c22",
   "metadata": {},
   "outputs": [],
   "source": [
    "# 2019\n",
    "\n",
    "langs_2019 = complete_language_summary.loc[complete_language_summary[\"School Year\"] == \"18-19\"]\n",
    "langs_2019"
   ]
  },
  {
   "cell_type": "code",
   "execution_count": null,
   "id": "945a08a0",
   "metadata": {},
   "outputs": [],
   "source": [
    "# Find index of English line(s), remove them\n",
    "eng_2019_index = langs_2019.loc[langs_2019[\"Language Name\"] == \"ENGLISH\"].index\n",
    "\n",
    "langs_2019.drop(eng_2019_index, inplace = True)\n",
    "\n",
    "langs_2019"
   ]
  },
  {
   "cell_type": "code",
   "execution_count": null,
   "id": "3d34d92f",
   "metadata": {},
   "outputs": [],
   "source": [
    "# Find the top 15 non-English languages\n",
    "\n",
    "langs_2019_sort = langs_2019.sort_values(by=[\"Student Count\"], ascending = False)\n",
    "langs_2019_top15 = langs_2019_sort.head(15)\n",
    "\n",
    "langs_2019_top15.reset_index(inplace = True)\n",
    "\n",
    "langs_2019_top15"
   ]
  },
  {
   "cell_type": "code",
   "execution_count": null,
   "id": "3ff1a390",
   "metadata": {},
   "outputs": [],
   "source": [
    "# Make a bar chart of the top 15 non-English languages\n",
    "\n",
    "plt.bar(lang_ticks, langs_2019_top15[\"Student Count\"])\n",
    "plt.title(\"Top 15 Non-English Languages, 2019\")\n",
    "plt.xticks(langs_2019_top15.index, langs_2019_top15[\"Language Name\"], rotation = 45)\n",
    "plt.ylabel(\"Number of Students Speaking Language at Home\")\n",
    "\n",
    "add_value_labels1(langs_2019_top15[\"Language Name\"], langs_2019_top15[\"Student Count\"])\n",
    "\n",
    "plt.show()"
   ]
  },
  {
   "cell_type": "code",
   "execution_count": null,
   "id": "d895b718",
   "metadata": {},
   "outputs": [],
   "source": [
    "# Compare number of English-speaking students and non-English-speaking students\n",
    "\n",
    "non_english_2019 = langs_2019[\"Student Count\"].sum()\n",
    "\n",
    "eng_2019 = complete_language_summary.loc[complete_language_summary[\"School Year\"] == \"18-19\"]\n",
    "\n",
    "eng_sum_2019 = eng_2019.loc[eng_2019[\"Language Name\"] == \"ENGLISH\"][\"Student Count\"].sum()"
   ]
  },
  {
   "cell_type": "code",
   "execution_count": null,
   "id": "e007150a",
   "metadata": {},
   "outputs": [],
   "source": [
    "# Make a pie chart comparing English-speaking and non-English speaking students\n",
    "\n",
    "eng_ne_2019 = []\n",
    "\n",
    "eng_ne_2019.append(non_english_2019)\n",
    "eng_ne_2019.append(eng_sum_2019)\n",
    "ne_labels = [\"Non-English Languages\", \"English\"]\n",
    "\n",
    "plt.pie(eng_ne_2019, labels = ne_labels, autopct='%.2f%%')\n",
    "plt.title(\"Proportion of Students Speaking English at Home, 2019\")\n",
    "\n",
    "plt.show()"
   ]
  },
  {
   "cell_type": "code",
   "execution_count": null,
   "id": "0f21d7d1",
   "metadata": {},
   "outputs": [],
   "source": [
    "# 2020\n",
    "\n",
    "langs_2020 = complete_language_summary.loc[complete_language_summary[\"School Year\"] == \"19-20\"]\n",
    "langs_2020"
   ]
  },
  {
   "cell_type": "code",
   "execution_count": null,
   "id": "69d8f6a5",
   "metadata": {},
   "outputs": [],
   "source": [
    "# Find index of English line(s), remove them\n",
    "eng_2020_index = langs_2020.loc[langs_2020[\"Language Name\"] == \"ENGLISH\"].index\n",
    "\n",
    "langs_2020.drop(eng_2020_index, inplace = True)\n",
    "\n",
    "langs_2020"
   ]
  },
  {
   "cell_type": "code",
   "execution_count": null,
   "id": "3ac1f172",
   "metadata": {},
   "outputs": [],
   "source": [
    "# Find the top 15 non-English languages\n",
    "\n",
    "langs_2020_sort = langs_2020.sort_values(by=[\"Student Count\"], ascending = False)\n",
    "langs_2020_top15 = langs_2020_sort.head(15)\n",
    "\n",
    "langs_2020_top15.reset_index(inplace = True)\n",
    "\n",
    "langs_2020_top15"
   ]
  },
  {
   "cell_type": "code",
   "execution_count": null,
   "id": "79b45714",
   "metadata": {},
   "outputs": [],
   "source": [
    "# Make a bar chart of the top 15 non-English languages\n",
    "\n",
    "plt.bar(lang_ticks, langs_2020_top15[\"Student Count\"])\n",
    "plt.title(\"Top 15 Non-English Languages, 2020\")\n",
    "plt.xticks(langs_2020_top15.index, langs_2020_top15[\"Language Name\"], rotation = 45)\n",
    "plt.ylabel(\"Number of Students Speaking Language at Home\")\n",
    "\n",
    "add_value_labels1(langs_2020_top15[\"Language Name\"], langs_2020_top15[\"Student Count\"])\n",
    "\n",
    "plt.show()"
   ]
  },
  {
   "cell_type": "code",
   "execution_count": null,
   "id": "afdc96d7",
   "metadata": {},
   "outputs": [],
   "source": [
    "# Compare number of English-speaking students and non-English-speaking students\n",
    "\n",
    "non_english_2020 = langs_2020[\"Student Count\"].sum()\n",
    "\n",
    "eng_2020 = complete_language_summary.loc[complete_language_summary[\"School Year\"] == \"19-20\"]\n",
    "\n",
    "eng_sum_2020 = eng_2020.loc[eng_2020[\"Language Name\"] == \"ENGLISH\"][\"Student Count\"].sum()"
   ]
  },
  {
   "cell_type": "code",
   "execution_count": null,
   "id": "5a92d945",
   "metadata": {},
   "outputs": [],
   "source": [
    "# Make a pie chart comparing English-speaking and non-English speaking students\n",
    "\n",
    "eng_ne_2020 = []\n",
    "\n",
    "eng_ne_2020.append(non_english_2020)\n",
    "eng_ne_2020.append(eng_sum_2020)\n",
    "ne_labels = [\"Non-English Languages\", \"English\"]\n",
    "\n",
    "plt.pie(eng_ne_2020, labels = ne_labels, autopct='%.2f%%')\n",
    "plt.title(\"Proportion of Students Speaking English at Home, 2020\")\n",
    "\n",
    "plt.show()"
   ]
  },
  {
   "cell_type": "code",
   "execution_count": null,
   "id": "2dab8f47",
   "metadata": {},
   "outputs": [],
   "source": [
    "# 2021\n",
    "\n",
    "langs_2021 = complete_language_summary.loc[complete_language_summary[\"School Year\"] == \"20-21\"]\n",
    "langs_2021"
   ]
  },
  {
   "cell_type": "code",
   "execution_count": null,
   "id": "675d5818",
   "metadata": {},
   "outputs": [],
   "source": [
    "# Find index of English line(s), remove them\n",
    "eng_2021_index = langs_2021.loc[langs_2021[\"Language Name\"] == \"ENGLISH\"].index\n",
    "\n",
    "langs_2021.drop(eng_2021_index, inplace = True)\n",
    "\n",
    "langs_2021"
   ]
  },
  {
   "cell_type": "code",
   "execution_count": null,
   "id": "f72922cc",
   "metadata": {},
   "outputs": [],
   "source": [
    "# Find the top 15 non-English languages\n",
    "\n",
    "langs_2021_sort = langs_2021.sort_values(by=[\"Student Count\"], ascending = False)\n",
    "langs_2021_top15 = langs_2021_sort.head(15)\n",
    "\n",
    "langs_2021_top15.reset_index(inplace = True)\n",
    "\n",
    "langs_2021_top15"
   ]
  },
  {
   "cell_type": "code",
   "execution_count": null,
   "id": "89f2e182",
   "metadata": {},
   "outputs": [],
   "source": [
    "# Make a bar chart of the top 15 non-English languages\n",
    "\n",
    "plt.bar(lang_ticks, langs_2021_top15[\"Student Count\"])\n",
    "plt.title(\"Top 15 Non-English Languages, 2021\")\n",
    "plt.xticks(langs_2021_top15.index, langs_2021_top15[\"Language Name\"], rotation = 45)\n",
    "plt.ylabel(\"Number of Students Speaking Language at Home\")\n",
    "\n",
    "add_value_labels1(langs_2021_top15[\"Language Name\"], langs_2021_top15[\"Student Count\"])\n",
    "\n",
    "plt.show()"
   ]
  },
  {
   "cell_type": "code",
   "execution_count": null,
   "id": "05c6484e",
   "metadata": {},
   "outputs": [],
   "source": [
    "# Compare number of English-speaking students and non-English-speaking students\n",
    "\n",
    "non_english_2021 = langs_2021[\"Student Count\"].sum()\n",
    "\n",
    "eng_2021 = complete_language_summary.loc[complete_language_summary[\"School Year\"] == \"20-21\"]\n",
    "\n",
    "eng_sum_2021 = eng_2021.loc[eng_2021[\"Language Name\"] == \"ENGLISH\"][\"Student Count\"].sum()"
   ]
  },
  {
   "cell_type": "code",
   "execution_count": null,
   "id": "e8f70096",
   "metadata": {},
   "outputs": [],
   "source": [
    "# Make a pie chart comparing English-speaking and non-English speaking students\n",
    "\n",
    "eng_ne_2021 = []\n",
    "\n",
    "eng_ne_2021.append(non_english_2021)\n",
    "eng_ne_2021.append(eng_sum_2021)\n",
    "ne_labels = [\"Non-English Languages\", \"English\"]\n",
    "\n",
    "plt.pie(eng_ne_2021, labels = ne_labels, autopct='%.2f%%')\n",
    "plt.title(\"Proportion of Students Speaking English at Home, 2021\")\n",
    "\n",
    "plt.show()"
   ]
  },
  {
   "cell_type": "code",
   "execution_count": null,
   "id": "9775f884",
   "metadata": {},
   "outputs": [],
   "source": [
    "# 2022\n",
    "\n",
    "langs_2022 = complete_language_summary.loc[complete_language_summary[\"School Year\"] == \"21-22\"]\n",
    "langs_2022"
   ]
  },
  {
   "cell_type": "code",
   "execution_count": null,
   "id": "0f1cee8a",
   "metadata": {},
   "outputs": [],
   "source": [
    "# Find index of English line(s), remove them\n",
    "eng_2022_index = langs_2022.loc[langs_2022[\"Language Name\"] == \"ENGLISH\"].index\n",
    "\n",
    "langs_2022.drop(eng_2022_index, inplace = True)\n",
    "\n",
    "langs_2022"
   ]
  },
  {
   "cell_type": "code",
   "execution_count": null,
   "id": "d019ed6d",
   "metadata": {},
   "outputs": [],
   "source": [
    "# Find the top 15 non-English languages\n",
    "\n",
    "langs_2022_sort = langs_2022.sort_values(by=[\"Student Count\"], ascending = False)\n",
    "langs_2022_top15 = langs_2022_sort.head(15)\n",
    "\n",
    "langs_2022_top15.reset_index(inplace = True)\n",
    "\n",
    "langs_2022_top15"
   ]
  },
  {
   "cell_type": "code",
   "execution_count": null,
   "id": "1983bab7",
   "metadata": {},
   "outputs": [],
   "source": [
    "# Make a bar chart of the top 15 non-English languages\n",
    "\n",
    "plt.bar(lang_ticks, langs_2022_top15[\"Student Count\"])\n",
    "plt.title(\"Top 15 Non-English Languages, 2022\")\n",
    "plt.xticks(langs_2022_top15.index, langs_2022_top15[\"Language Name\"], rotation = 45)\n",
    "plt.ylabel(\"Number of Students Speaking Language at Home\")\n",
    "\n",
    "add_value_labels1(langs_2022_top15[\"Language Name\"], langs_2022_top15[\"Student Count\"])\n",
    "\n",
    "plt.show()"
   ]
  },
  {
   "cell_type": "code",
   "execution_count": null,
   "id": "8d322dbb",
   "metadata": {},
   "outputs": [],
   "source": [
    "# Compare number of English-speaking students and non-English-speaking students\n",
    "\n",
    "non_english_2022 = langs_2022[\"Student Count\"].sum()\n",
    "\n",
    "eng_2022 = complete_language_summary.loc[complete_language_summary[\"School Year\"] == \"21-22\"]\n",
    "\n",
    "eng_sum_2022 = eng_2022.loc[eng_2022[\"Language Name\"] == \"ENGLISH\"][\"Student Count\"].sum()"
   ]
  },
  {
   "cell_type": "code",
   "execution_count": null,
   "id": "c8c4fb36",
   "metadata": {},
   "outputs": [],
   "source": [
    "# Make a pie chart comparing English-speaking and non-English speaking students\n",
    "\n",
    "eng_ne_2022 = []\n",
    "\n",
    "eng_ne_2022.append(non_english_2022)\n",
    "eng_ne_2022.append(eng_sum_2022)\n",
    "ne_labels = [\"Non-English Languages\", \"English\"]\n",
    "\n",
    "plt.pie(eng_ne_2022, labels = ne_labels, autopct='%.2f%%')\n",
    "plt.title(\"Proportion of Students Speaking English at Home, 2022\")\n",
    "\n",
    "plt.show()"
   ]
  },
  {
   "cell_type": "markdown",
   "id": "5d9edde7",
   "metadata": {},
   "source": [
    "### Find Proportion of Households that Speak Non-English Languages by Year"
   ]
  },
  {
   "cell_type": "code",
   "execution_count": null,
   "id": "dcbe11ee",
   "metadata": {},
   "outputs": [],
   "source": [
    "# Assemble dataframe of non-English percentages over time"
   ]
  },
  {
   "cell_type": "code",
   "execution_count": null,
   "id": "12dc5d19",
   "metadata": {},
   "outputs": [],
   "source": [
    "# Calculate total students per year\n",
    "total_stu_2007 = eng_ne_2007[0] + eng_ne_2007[1]\n",
    "total_stu_2008 = eng_ne_2008[0] + eng_ne_2008[1]\n",
    "total_stu_2009 = eng_ne_2009[0] + eng_ne_2009[1]\n",
    "total_stu_2010 = eng_ne_2010[0] + eng_ne_2010[1]\n",
    "total_stu_2011 = eng_ne_2011[0] + eng_ne_2011[1]\n",
    "total_stu_2012 = eng_ne_2012[0] + eng_ne_2012[1]\n",
    "total_stu_2013 = eng_ne_2013[0] + eng_ne_2013[1]\n",
    "total_stu_2014 = eng_ne_2014[0] + eng_ne_2014[1]\n",
    "total_stu_2015 = eng_ne_2015[0] + eng_ne_2015[1]\n",
    "total_stu_2016 = eng_ne_2016[0] + eng_ne_2016[1]\n",
    "total_stu_2017 = eng_ne_2017[0] + eng_ne_2017[1]\n",
    "total_stu_2018 = eng_ne_2018[0] + eng_ne_2018[1]\n",
    "total_stu_2019 = eng_ne_2019[0] + eng_ne_2019[1]\n",
    "total_stu_2020 = eng_ne_2020[0] + eng_ne_2020[1]\n",
    "total_stu_2021 = eng_ne_2021[0] + eng_ne_2021[1]\n",
    "total_stu_2022 = eng_ne_2022[0] + eng_ne_2022[1]\n"
   ]
  },
  {
   "cell_type": "code",
   "execution_count": null,
   "id": "cd51bc64",
   "metadata": {},
   "outputs": [],
   "source": [
    "# Calculate percentages (rounded to 4 decimal places to match percentages on pie charts)\n",
    "\n",
    "ne_per_2007 = round(non_english_2007/total_stu_2007, 4)\n",
    "ne_per_2008 = round(non_english_2008/total_stu_2008, 4)\n",
    "ne_per_2009 = round(non_english_2009/total_stu_2009, 4)\n",
    "ne_per_2010 = round(non_english_2010/total_stu_2010, 4)\n",
    "ne_per_2011 = round(non_english_2011/total_stu_2011, 4)\n",
    "ne_per_2012 = round(non_english_2012/total_stu_2012, 4)\n",
    "ne_per_2013 = round(non_english_2013/total_stu_2013, 4)\n",
    "ne_per_2014 = round(non_english_2014/total_stu_2014, 4)\n",
    "ne_per_2015 = round(non_english_2015/total_stu_2015, 4)\n",
    "ne_per_2016 = round(non_english_2016/total_stu_2016, 4)\n",
    "ne_per_2017 = round(non_english_2017/total_stu_2017, 4)\n",
    "ne_per_2018 = round(non_english_2018/total_stu_2018, 4)\n",
    "ne_per_2019 = round(non_english_2019/total_stu_2019, 4)\n",
    "ne_per_2020 = round(non_english_2020/total_stu_2020, 4)\n",
    "ne_per_2021 = round(non_english_2021/total_stu_2021, 4)\n",
    "ne_per_2022 = round(non_english_2022/total_stu_2022, 4)"
   ]
  },
  {
   "cell_type": "code",
   "execution_count": null,
   "id": "9e2fe4bd",
   "metadata": {},
   "outputs": [],
   "source": [
    "# Create list of lists to make dataframe\n",
    "\n",
    "non_eng_time_data = [[2007, ne_per_2007], [2008, ne_per_2008], [2009, ne_per_2009], [2010, ne_per_2010], [2011, ne_per_2011], [2012, ne_per_2012], [2013, ne_per_2013], [2014, ne_per_2014], [2015, ne_per_2015], [2016, ne_per_2016], [2017, ne_per_2017], [2018, ne_per_2018], [2019, ne_per_2019], [2020, ne_per_2020], [2021, ne_per_2021], [2022, ne_per_2022]]\n",
    "\n",
    "print(non_eng_time_data)"
   ]
  },
  {
   "cell_type": "code",
   "execution_count": null,
   "id": "a37971ce",
   "metadata": {},
   "outputs": [],
   "source": [
    "non_eng_time_df = pd.DataFrame(non_eng_time_data, columns = [\"Year\", \"Non-English Proportion\"])\n",
    "\n",
    "non_eng_time_df.set_index(\"Year\")"
   ]
  },
  {
   "cell_type": "code",
   "execution_count": null,
   "id": "73816c91",
   "metadata": {},
   "outputs": [],
   "source": [
    "plt.scatter(non_eng_time_df[\"Year\"], non_eng_time_df[\"Non-English Proportion\"])\n",
    "\n",
    "plt.title(\"Proportion of Households that Speak Non-English Languages by Year\")\n",
    "plt.ylabel(\"Proportion\")\n",
    "plt.xlabel(\"Year\")\n",
    "\n",
    "plt.show()"
   ]
  },
  {
   "cell_type": "markdown",
   "id": "ad7a90f6",
   "metadata": {},
   "source": [
    "### *Nhan's Code Starts Here!*"
   ]
  },
  {
   "cell_type": "markdown",
   "id": "450800a2",
   "metadata": {},
   "source": [
    "### Linear Regression to Predict Proportion of Households that Speak Non-English Languages"
   ]
  },
  {
   "cell_type": "code",
   "execution_count": null,
   "id": "be6071a9",
   "metadata": {},
   "outputs": [],
   "source": []
  }
 ],
 "metadata": {
  "kernelspec": {
   "display_name": "Python 3 (ipykernel)",
   "language": "python",
   "name": "python3"
  },
  "language_info": {
   "codemirror_mode": {
    "name": "ipython",
    "version": 3
   },
   "file_extension": ".py",
   "mimetype": "text/x-python",
   "name": "python",
   "nbconvert_exporter": "python",
   "pygments_lexer": "ipython3",
   "version": "3.8.13"
  }
 },
 "nbformat": 4,
 "nbformat_minor": 5
}
