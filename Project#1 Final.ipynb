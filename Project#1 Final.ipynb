{
 "cells": [
  {
   "cell_type": "markdown",
   "id": "f9a0ca6b",
   "metadata": {},
   "source": [
    "# Project 1: Languages Spoken in the Homes of Minnesota Public School Students\n",
    "\n",
    "## Contributors: Sam Espe, Yameena Khan, Maryam Osman, Nhan Tran (Group 7)\n",
    "\n",
    "## Notebook 2: Data Analysis & Presentation"
   ]
  },
  {
   "cell_type": "markdown",
   "id": "2c8a12a5",
   "metadata": {},
   "source": [
    "## Topic Overview\n",
    "\n",
    ";lajsd;fljkas;ldkjf;alksjdgf"
   ]
  },
  {
   "cell_type": "markdown",
   "id": "e11a1fec",
   "metadata": {},
   "source": [
    "## Assumptions\n",
    "\n",
    "asl;kjdf;l D"
   ]
  },
  {
   "cell_type": "code",
   "execution_count": null,
   "id": "68fc745b",
   "metadata": {},
   "outputs": [],
   "source": [
    "import pandas as pd \n",
    "import numpy as np\n",
    "import matplotlib.pyplot as plt\n",
    "import scipy.stats as st\n",
    "from scipy.stats import linregress"
   ]
  },
  {
   "cell_type": "markdown",
   "id": "e344424e",
   "metadata": {},
   "source": [
    "### Import CSVs from Notebook 1"
   ]
  },
  {
   "cell_type": "code",
   "execution_count": null,
   "id": "4892e51e",
   "metadata": {},
   "outputs": [],
   "source": [
    "complete_language_summary_csv = \"complete_language_summary.csv\"\n",
    "complete_language_summary = pd.read_csv(complete_language_summary_csv)\n",
    "complete_language_summary.head()"
   ]
  },
  {
   "cell_type": "code",
   "execution_count": null,
   "id": "19c00897",
   "metadata": {},
   "outputs": [],
   "source": [
    "complete_primary_home_language_csv = \"complete_primary_home_language.csv\"\n",
    "complete_primary_home_language = pd.read_csv(complete_primary_home_language_csv)\n",
    "complete_primary_home_language.head()"
   ]
  },
  {
   "cell_type": "markdown",
   "id": "e3a79cef",
   "metadata": {},
   "source": [
    "### Preliminary Analysis"
   ]
  },
  {
   "cell_type": "code",
   "execution_count": null,
   "id": "34cdd087",
   "metadata": {},
   "outputs": [],
   "source": [
    "#Counting final Unique Languages\n",
    "Unique_Languages_count = complete_primary_home_language[\"Language Name\"].nunique()\n",
    "print(f'There are {Unique_Languages_count} unique languages spoken across the state of Minnesota over the 2007-2022 time period.')"
   ]
  },
  {
   "cell_type": "code",
   "execution_count": null,
   "id": "472c4f98",
   "metadata": {},
   "outputs": [],
   "source": [
    "#Unique Langs per year:\n",
    "GroupbyLang = complete_primary_home_language.groupby([\"School Year\"])\n",
    "Unique_lang_Count_peryear = GroupbyLang[\"Language Name\"].nunique()\n",
    "Unique_Lang_peryear_df = Unique_lang_Count_peryear.to_frame()\n",
    "Unique_Lang_peryear_df"
   ]
  },
  {
   "cell_type": "markdown",
   "id": "18a42c26",
   "metadata": {},
   "source": [
    "### Comparing the Spread of Students Speaking Non-English Languages by Area of Minnesota"
   ]
  },
  {
   "cell_type": "markdown",
   "id": "17bdef6c",
   "metadata": {},
   "source": [
    "The Minnesota Department of Education divides public school districts into \"strata\" based on their geographic location and enrollment.  >>>>>>>>EXPLAIN STRATA DIVISIONS"
   ]
  },
  {
   "cell_type": "code",
   "execution_count": null,
   "id": "cea1d420",
   "metadata": {},
   "outputs": [],
   "source": [
    "lang_2007_geo = complete_primary_home_language.loc[complete_primary_home_language[\"School Year\"] == \"06-07\"].groupby(\"Strata Name\").nunique()\n",
    "\n",
    "lang_2007_geo_final = lang_2007_geo[\"Language Name\"]\n",
    "\n",
    "lang_2007_geo_final"
   ]
  },
  {
   "cell_type": "code",
   "execution_count": null,
   "id": "baab36d7",
   "metadata": {},
   "outputs": [],
   "source": [
    "lang_2022_geo = complete_primary_home_language.loc[complete_primary_home_language[\"School Year\"] == \"21-22\"].groupby(\"Strata Name\").nunique()\n",
    "\n",
    "lang_2022_geo_final = lang_2022_geo[\"Language Name\"]\n",
    "\n",
    "lang_2022_geo_final"
   ]
  },
  {
   "cell_type": "code",
   "execution_count": null,
   "id": "661854b1",
   "metadata": {},
   "outputs": [],
   "source": [
    "# Distribution of languages by Strata\n",
    "tick_marks = [1,2,3,4,5,6]"
   ]
  },
  {
   "cell_type": "code",
   "execution_count": null,
   "id": "3e82a04c",
   "metadata": {},
   "outputs": [],
   "source": [
    "# Add labels on the bars\n",
    "\n",
    "def add_value_labels(x_labels, y_values):\n",
    "    for i in range(1, len(x_labels)+1):\n",
    "        plt.text(i, y_values[i-1], y_values[i-1], ha = \"center\")\n",
    "# Code to label bars borrowed from: https://www.delftstack.com/howto/matplotlib/add-value-labels-on-matplotlib-bar-chart/"
   ]
  },
  {
   "cell_type": "markdown",
   "id": "c03d7f7a",
   "metadata": {},
   "source": [
    "### Here we are comparing the number of languages spoken per strata from 2007 to the languages spoken per strata from 2022."
   ]
  },
  {
   "cell_type": "markdown",
   "id": "e2073052",
   "metadata": {},
   "source": [
    "Overall, the number of unique languages increase across all strata."
   ]
  },
  {
   "cell_type": "code",
   "execution_count": null,
   "id": "9f98022a",
   "metadata": {},
   "outputs": [],
   "source": [
    "# 2007\n",
    "\n",
    "bar_2007_geo = plt.bar(tick_marks, lang_2007_geo_final)\n",
    "\n",
    "plt.xticks(tick_marks, lang_2007_geo_final.index, rotation = \"vertical\")\n",
    "plt.title(\"Languages by Strata, 2007\")\n",
    "plt.ylabel(\"Unique Languages Spoken\")\n",
    "\n",
    "add_value_labels(lang_2007_geo_final.index, lang_2007_geo_final)\n",
    "\n",
    "plt.show()"
   ]
  },
  {
   "cell_type": "code",
   "execution_count": null,
   "id": "cf1df35f",
   "metadata": {},
   "outputs": [],
   "source": [
    "# 2022\n",
    "\n",
    "bar_2022_geo = plt.bar(tick_marks, lang_2022_geo_final)\n",
    "\n",
    "plt.xticks(tick_marks, lang_2022_geo_final.index, rotation = \"vertical\")\n",
    "plt.title(\"Languages by Strata, 2022\")\n",
    "plt.ylabel(\"Unique Languages Spoken\")\n",
    "\n",
    "add_value_labels(lang_2022_geo_final.index, lang_2022_geo_final)\n",
    "\n",
    "plt.show()"
   ]
  },
  {
   "cell_type": "markdown",
   "id": "20e37821",
   "metadata": {},
   "source": [
    "### Graph Number of Unique Languages Over Time for Each Strata"
   ]
  },
  {
   "cell_type": "code",
   "execution_count": null,
   "id": "76db2dfa",
   "metadata": {},
   "outputs": [],
   "source": [
    "groupby_strata = complete_primary_home_language.groupby([\"Strata Name\", \"School Year\"], as_index= False).nunique()\n",
    "\n",
    "groupby_strata"
   ]
  },
  {
   "cell_type": "code",
   "execution_count": null,
   "id": "f8f6255f",
   "metadata": {},
   "outputs": [],
   "source": [
    "xaxis = [2007, 2008, 2009, 2010, 2011, 2012, 2013, 2014, 2015, 2016, 2017, 2018, 2019, 2020, 2021, 2022]"
   ]
  },
  {
   "cell_type": "code",
   "execution_count": null,
   "id": "ada553fc",
   "metadata": {},
   "outputs": [],
   "source": [
    "seven_county_area = groupby_strata.loc[groupby_strata[\"Strata Name\"] == \"7 County Metro Area excluding MPLS/STP\"].reset_index(drop = True)\n",
    "seven_county_area_scatter_data = seven_county_area[\"Language Name\"]\n",
    "\n",
    "msp = groupby_strata.loc[groupby_strata[\"Strata Name\"] == \"Minneapolis and Saint Paul\"].reset_index(drop = True)\n",
    "msp_scatter_data = msp[\"Language Name\"]\n",
    "\n",
    "outstate_2k = groupby_strata.loc[groupby_strata[\"Strata Name\"] == \"Outstate - Enrollment 2000 or more\"].reset_index(drop = True)\n",
    "outstate_2k_scatter_data = outstate_2k[\"Language Name\"]\n",
    "\n",
    "outstate_1k = groupby_strata.loc[groupby_strata[\"Strata Name\"] == \"Outstate - Enrollment between 1000 and 1999\"].reset_index(drop = True)\n",
    "outstate_1k_scatter_data = outstate_1k[\"Language Name\"]\n",
    "\n",
    "outstate_500 = groupby_strata.loc[groupby_strata[\"Strata Name\"] == \"Outstate - Enrollment between 500 and 999\"].reset_index(drop = True)\n",
    "outstate_500_scatter_data = outstate_500[\"Language Name\"]\n",
    "\n",
    "outstate_under_500 = groupby_strata.loc[groupby_strata[\"Strata Name\"] == \"Outstate - Enrollment less than 500\"].reset_index(drop = True)\n",
    "outstate_under_500_scatter_data = outstate_under_500[\"Language Name\"]"
   ]
  },
  {
   "cell_type": "code",
   "execution_count": null,
   "id": "3667ce8b",
   "metadata": {},
   "outputs": [],
   "source": [
    "# Create a line plot of all districts over time on one graph\n",
    "\n",
    "plt.scatter(xaxis, msp_scatter_data, color = \"r\", marker = \"v\")\n",
    "plt.scatter(xaxis, seven_county_area_scatter_data, color = \"b\", marker = \"s\")\n",
    "plt.scatter(xaxis, outstate_2k_scatter_data, color = \"g\", marker = \"p\")\n",
    "plt.scatter(xaxis, outstate_1k_scatter_data, color = \"c\", marker = \"X\")\n",
    "plt.scatter(xaxis, outstate_500_scatter_data, color = \"m\", marker = \"o\")\n",
    "plt.scatter(xaxis, outstate_under_500_scatter_data, color = \"y\", marker = \"D\")\n",
    "\n",
    "plt.title(\"Number of Unique Languages Spoken for Each Strata Over Time\")\n",
    "plt.xlabel(\"Year\")\n",
    "plt.ylabel(\"Number of Unique Languages Spoken\")\n",
    "plt.legend([\"7 County Metro\", \"Minneapolis & Saint Paul\", \"Outstate MN > 2000\", \"Outstate MN 1000-1999\", \"Outstate MN 500-999\", \"Outstate MN < 500\"])\n",
    "\n",
    "plt.rcParams[\"figure.figsize\"] = (9.2, 6.325)\n",
    "\n",
    "plt.show()"
   ]
  },
  {
   "cell_type": "code",
   "execution_count": null,
   "id": "083cac81",
   "metadata": {},
   "outputs": [],
   "source": [
    "#2007\n",
    "\n",
    "langs_2007 = complete_language_summary.loc[complete_language_summary[\"School Year\"] == \"06-07\"]\n",
    "\n",
    "# Find index of English line(s), remove them\n",
    "eng_2007_index = langs_2007.loc[langs_2007[\"Language Name\"] == \"ENGLISH\"].index\n",
    "\n",
    "langs_2007.drop(eng_2007_index, inplace = True)\n",
    "\n",
    "langs_2007"
   ]
  },
  {
   "cell_type": "code",
   "execution_count": null,
   "id": "25ddf9af",
   "metadata": {},
   "outputs": [],
   "source": [
    "# Find the top 15 non-English languages\n",
    "\n",
    "langs_2007_sort = langs_2007.sort_values(by=[\"Student Count\"], ascending = False)\n",
    "\n",
    "langs_2007_top15 = langs_2007_sort.head(15)\n",
    "\n",
    "langs_2007_top15.reset_index(inplace = True)\n",
    "\n",
    "langs_2007_top15"
   ]
  },
  {
   "cell_type": "code",
   "execution_count": null,
   "id": "32fff012",
   "metadata": {},
   "outputs": [],
   "source": [
    "def add_value_labels1(x_labels, y_values):\n",
    "    for i in range(0, len(x_labels)):\n",
    "        plt.text(i, y_values[i], y_values[i], ha = \"center\")"
   ]
  },
  {
   "cell_type": "code",
   "execution_count": null,
   "id": "5b043e83",
   "metadata": {},
   "outputs": [],
   "source": [
    "# Make a bar chart of the top 15 non-English languages\n",
    "\n",
    "lang_ticks = [0,1,2,3,4,5,6,7,8,9,10,11,12,13,14]\n",
    "\n",
    "plt.bar(lang_ticks, langs_2007_top15[\"Student Count\"])\n",
    "plt.title(\"Top 15 Non-English Languages, 2007\")\n",
    "plt.xticks(langs_2007_top15.index, langs_2007_top15[\"Language Name\"], rotation = 45)\n",
    "plt.ylabel(\"Students Speaking Each Language\")\n",
    "plt.xlabel(\"Language\")\n",
    "\n",
    "add_value_labels1(langs_2007_top15[\"Language Name\"], langs_2007_top15[\"Student Count\"])\n",
    "\n",
    "plt.show()"
   ]
  },
  {
   "cell_type": "code",
   "execution_count": null,
   "id": "2cd0e7d6",
   "metadata": {},
   "outputs": [],
   "source": [
    "# Compare number of English-speaking homes and non-English-speaking homes\n",
    "\n",
    "non_english_2007 = langs_2007[\"Student Count\"].sum()\n",
    "\n",
    "eng_2007 = complete_language_summary.loc[complete_language_summary[\"School Year\"] == \"06-07\"]\n",
    "\n",
    "eng_sum_2007 = eng_2007.loc[eng_2007[\"Language Name\"] == \"ENGLISH\"][\"Student Count\"].sum()"
   ]
  },
  {
   "cell_type": "code",
   "execution_count": null,
   "id": "780658c3",
   "metadata": {},
   "outputs": [],
   "source": [
    "eng_ne_2007 = []\n",
    "\n",
    "eng_ne_2007.append(non_english_2007)\n",
    "eng_ne_2007.append(eng_sum_2007)\n",
    "ne_labels = [\"Non-English Languages\", \"English\"]\n",
    "\n",
    "plt.pie(eng_ne_2007, labels = ne_labels, autopct='%.2f%%')\n",
    "plt.title(\"Proportion of Students Speaking English at Home, 2007\")\n",
    "\n",
    "plt.show()"
   ]
  },
  {
   "cell_type": "code",
   "execution_count": null,
   "id": "c048437e",
   "metadata": {},
   "outputs": [],
   "source": [
    "# 2022\n",
    "\n",
    "langs_2022 = complete_language_summary.loc[complete_language_summary[\"School Year\"] == \"21-22\"]\n",
    "\n",
    "# Find index of English line(s), remove them\n",
    "eng_2022_index = langs_2022.loc[langs_2022[\"Language Name\"] == \"ENGLISH\"].index\n",
    "\n",
    "langs_2022.drop(eng_2022_index, inplace = True)\n",
    "\n",
    "langs_2022"
   ]
  },
  {
   "cell_type": "code",
   "execution_count": null,
   "id": "3db3127b",
   "metadata": {},
   "outputs": [],
   "source": [
    "# Find the top 15 non-English languages\n",
    "\n",
    "langs_2022_sort = langs_2022.sort_values(by=[\"Student Count\"], ascending = False)\n",
    "langs_2022_top15 = langs_2022_sort.head(15)\n",
    "\n",
    "langs_2022_top15.reset_index(inplace = True)\n",
    "\n",
    "langs_2022_top15"
   ]
  },
  {
   "cell_type": "code",
   "execution_count": null,
   "id": "49bf8133",
   "metadata": {},
   "outputs": [],
   "source": [
    "# Make a bar chart of the top 15 non-English languages\n",
    "\n",
    "plt.bar(lang_ticks, langs_2022_top15[\"Student Count\"])\n",
    "plt.title(\"Top 15 Non-English Languages, 2022\")\n",
    "plt.xticks(langs_2022_top15.index, langs_2022_top15[\"Language Name\"], rotation = 45)\n",
    "plt.ylabel(\"Number of Students Speaking Language at Home\")\n",
    "plt.xlabel(\"Language\")\n",
    "\n",
    "add_value_labels1(langs_2022_top15[\"Language Name\"], langs_2022_top15[\"Student Count\"])\n",
    "\n",
    "plt.show()"
   ]
  },
  {
   "cell_type": "code",
   "execution_count": null,
   "id": "15c2d7ca",
   "metadata": {},
   "outputs": [],
   "source": [
    "# Compare number of English-speaking students and non-English-speaking students\n",
    "\n",
    "non_english_2022 = langs_2022[\"Student Count\"].sum()\n",
    "\n",
    "eng_2022 = complete_language_summary.loc[complete_language_summary[\"School Year\"] == \"21-22\"]\n",
    "\n",
    "eng_sum_2022 = eng_2022.loc[eng_2022[\"Language Name\"] == \"ENGLISH\"][\"Student Count\"].sum()"
   ]
  },
  {
   "cell_type": "code",
   "execution_count": null,
   "id": "1761b579",
   "metadata": {},
   "outputs": [],
   "source": [
    "# Make a pie chart comparing English-speaking and non-English speaking students\n",
    "\n",
    "eng_ne_2022 = []\n",
    "\n",
    "eng_ne_2022.append(non_english_2022)\n",
    "eng_ne_2022.append(eng_sum_2022)\n",
    "ne_labels = [\"Non-English Languages\", \"English\"]\n",
    "\n",
    "plt.pie(eng_ne_2022, labels = ne_labels, autopct='%.2f%%')\n",
    "plt.title(\"Proportion of Students Speaking English at Home, 2022\")\n",
    "\n",
    "plt.show()"
   ]
  },
  {
   "cell_type": "markdown",
   "id": "f7403c60",
   "metadata": {},
   "source": [
    "## ANOVA Hypothesis Test"
   ]
  },
  {
   "cell_type": "markdown",
   "id": "d2f21728",
   "metadata": {},
   "source": [
    "Our Hypothesis is ___________"
   ]
  },
  {
   "cell_type": "markdown",
   "id": "0c2dd331",
   "metadata": {},
   "source": [
    "This is how we did the test"
   ]
  },
  {
   "cell_type": "code",
   "execution_count": null,
   "id": "020c87ba",
   "metadata": {},
   "outputs": [],
   "source": [
    "eng_index = complete_primary_home_language[complete_primary_home_language[\"Language Name\"] == \"ENGLISH\"].index\n",
    "complete_primary_home_language_without_english = complete_primary_home_language.drop(eng_index, inplace = False)\n",
    "complete_primary_home_language_without_english"
   ]
  },
  {
   "cell_type": "code",
   "execution_count": null,
   "id": "2f32e3c1",
   "metadata": {},
   "outputs": [],
   "source": [
    "# One way ANOVA hypothesis test\n",
    "strata_dict = {\"MSP\" : [], \"7 County Metro\" : [], \"Outstate\" : []}\n",
    "complete_primary_home_language_without_english.loc[complete_primary_home_language_without_english[\"Strata Name\"] == \"Outstate - Enrollment 2000 or more\", \"Strata Name\"] = \"All Outstate Strata\"\n",
    "complete_primary_home_language_without_english.loc[complete_primary_home_language_without_english[\"Strata Name\"] == \"Outstate - Enrollment between 1000 and 1999\", \"Strata Name\"] = \"All Outstate Strata\"\n",
    "complete_primary_home_language_without_english.loc[complete_primary_home_language_without_english[\"Strata Name\"] == \"Outstate - Enrollment between 500 and 999\", \"Strata Name\"] = \"All Outstate Strata\"\n",
    "complete_primary_home_language_without_english.loc[complete_primary_home_language_without_english[\"Strata Name\"] == \"Outstate - Enrollment less than 500\", \"Strata Name\"] = \"All Outstate Strata\"\n",
    "strata_dict[\"7 County Metro\"] = complete_primary_home_language_without_english.loc[complete_primary_home_language_without_english[\"Strata Name\"] == \"7 County Metro Area excluding MPLS/STP\"][\"Student Count\"].tolist()\n",
    "strata_dict[\"Outstate\"] = complete_primary_home_language_without_english.loc[complete_primary_home_language_without_english[\"Strata Name\"] == \"All Outstate Strata\"][\"Student Count\"].tolist()\n",
    "strata_dict[\"MSP\"] = complete_primary_home_language_without_english.loc[complete_primary_home_language_without_english[\"Strata Name\"] == \"Minneapolis and Saint Paul\"][\"Student Count\"].tolist()\n",
    "strata_dict"
   ]
  },
  {
   "cell_type": "code",
   "execution_count": null,
   "id": "3bad1f79",
   "metadata": {},
   "outputs": [],
   "source": [
    "st.f_oneway(strata_dict[\"MSP\"],strata_dict[\"7 County Metro\"],strata_dict[\"Outstate\"])"
   ]
  },
  {
   "cell_type": "code",
   "execution_count": null,
   "id": "d78d4c74",
   "metadata": {},
   "outputs": [],
   "source": [
    "st.f_oneway(strata_dict[\"7 County Metro\"],strata_dict[\"Outstate\"])"
   ]
  },
  {
   "cell_type": "code",
   "execution_count": null,
   "id": "70e1092c",
   "metadata": {},
   "outputs": [],
   "source": [
    "st.f_oneway(strata_dict[\"MSP\"],strata_dict[\"Outstate\"])"
   ]
  },
  {
   "cell_type": "code",
   "execution_count": null,
   "id": "19143ce3",
   "metadata": {},
   "outputs": [],
   "source": [
    "st.f_oneway(strata_dict[\"7 County Metro\"],strata_dict[\"MSP\"])"
   ]
  },
  {
   "cell_type": "code",
   "execution_count": null,
   "id": "83ae3125",
   "metadata": {},
   "outputs": [],
   "source": [
    "fig, ax = plt.subplots()\n",
    "ax.boxplot(strata_dict.values(),flierprops={'marker': 'o', 'markersize': 13, 'markerfacecolor': 'fuchsia'})\n",
    "ax.set_ylim(0,50)\n",
    "ax.set_xticklabels(strata_dict.keys())\n",
    "ax.set_ylabel(\"Number of Students that speak non-English languages\")\n",
    "ax.set_title(\"Boxplots for each strata\")\n",
    "plt.show()"
   ]
  },
  {
   "cell_type": "code",
   "execution_count": null,
   "id": "771f3bcf",
   "metadata": {},
   "outputs": [],
   "source": [
    "fig, ax = plt.subplots()\n",
    "ax.boxplot(strata_dict.values(),flierprops={'marker': 'o', 'markersize': 13, 'markerfacecolor': 'fuchsia'})\n",
    "ax.set_ylim(0,5000)\n",
    "ax.set_xticklabels(strata_dict.keys())\n",
    "ax.set_ylabel(\"Number of Students that speak non-English languages\")\n",
    "ax.set_title(\"Boxplots for each strata\")\n",
    "plt.show()"
   ]
  },
  {
   "cell_type": "markdown",
   "id": "90644f66",
   "metadata": {},
   "source": [
    "### Linear Regression to Predict Proportion of Households that Speak Non-English Languages¶"
   ]
  },
  {
   "cell_type": "code",
   "execution_count": null,
   "id": "e8e9c5c6",
   "metadata": {},
   "outputs": [],
   "source": [
    "#Using groupby to calculate number of students per school year per language\n",
    "GroupbyLang = complete_primary_home_language.groupby([\"School Year\",\"Language Name\"], as_index=False)\n",
    "Unique_lang_df = GroupbyLang[\"Student Count\"].sum()\n",
    "Unique_lang_df.head()"
   ]
  },
  {
   "cell_type": "code",
   "execution_count": null,
   "id": "959f3b5e",
   "metadata": {},
   "outputs": [],
   "source": [
    "# Grouping the school years together and finding the sum of students for each year\n",
    "groupby_yearly_total = Unique_lang_df.groupby(\"School Year\", as_index = False).sum()\n",
    "\n",
    "# Dropping English speakers and make a new dataframe\n",
    "english_index = Unique_lang_df[Unique_lang_df[\"Language Name\"] == \"ENGLISH\"].index\n",
    "unique_lang_without_english = Unique_lang_df.drop(english_index, inplace = False)\n",
    "\n",
    "# Combining all the non-english languages into one category and finding the yearly total number of speakers\n",
    "combined_non_english_df = unique_lang_without_english.groupby(\"School Year\", as_index = False).agg({\"Language Name\": \"-\".join, \"Student Count\" : \"sum\" }).rename(columns = {\"Language Name\" : \"Combined Non-English Languages\"})\n"
   ]
  },
  {
   "cell_type": "code",
   "execution_count": null,
   "id": "a91198ab",
   "metadata": {
    "scrolled": true
   },
   "outputs": [],
   "source": [
    "# Finding the yearly proportion of non-English speakers\n",
    "non_english_proportion_df = combined_non_english_df[\"Student Count\"]/groupby_yearly_total[\"Student Count\"]\n",
    "non_english_proportion_df"
   ]
  },
  {
   "cell_type": "code",
   "execution_count": null,
   "id": "00771438",
   "metadata": {},
   "outputs": [],
   "source": [
    "# Finding r value and p value\n",
    "year_arr = np.array(groupby_yearly_total[\"School Year\"])\n",
    "placeholder = np.arange(0,len(groupby_yearly_total))\n",
    "tick_locations = []\n",
    "for i in placeholder:\n",
    "    tick_locations.append(i)\n",
    "proportion_arr = np.array(non_english_proportion_df)\n",
    "correlation = st.pearsonr(placeholder  ,proportion_arr)\n",
    "correlation"
   ]
  },
  {
   "cell_type": "code",
   "execution_count": null,
   "id": "0c0ce78b",
   "metadata": {},
   "outputs": [],
   "source": [
    "# Calculating the regression equation \n",
    "x_values = placeholder\n",
    "y_values = proportion_arr\n",
    "(slope, intercept, rvalue, pvalue, stderr) = linregress(x_values, y_values)\n",
    "regress_values = x_values * slope + intercept \n",
    "line_eq = f' y = {round(slope,5)} x + {round(intercept,5)}'"
   ]
  },
  {
   "cell_type": "code",
   "execution_count": null,
   "id": "a5b0f74e",
   "metadata": {},
   "outputs": [],
   "source": [
    "# Plot\n",
    "plt.scatter(x_values, y_values, marker = \"o\", s = 30, color = \"orangered\", label = \"Proportion of non-English speakers\" )\n",
    "plt.plot(x_values,regress_values,\"green\")\n",
    "plt.xticks(tick_locations, year_arr, rotation = 45)\n",
    "plt.annotate(line_eq, (6,0.12), fontsize = 15, color = \"green\")\n",
    "plt.title(\"Yearly data of proportion of non-English speakers (2007-2022)\")\n",
    "plt.xlabel(\"School Year\")\n",
    "plt.ylabel(\"Proportion of non-English speakers \")\n",
    "plt.legend(loc = \"best\")\n",
    "plt.show()"
   ]
  },
  {
   "cell_type": "markdown",
   "id": "2176092c",
   "metadata": {},
   "source": [
    "## Conclusions"
   ]
  },
  {
   "cell_type": "markdown",
   "id": "36a12beb",
   "metadata": {},
   "source": []
  }
 ],
 "metadata": {
  "kernelspec": {
   "display_name": "Python 3 (ipykernel)",
   "language": "python",
   "name": "python3"
  },
  "language_info": {
   "codemirror_mode": {
    "name": "ipython",
    "version": 3
   },
   "file_extension": ".py",
   "mimetype": "text/x-python",
   "name": "python",
   "nbconvert_exporter": "python",
   "pygments_lexer": "ipython3",
   "version": "3.8.13"
  }
 },
 "nbformat": 4,
 "nbformat_minor": 5
}
